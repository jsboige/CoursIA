{
 "cells": [
  {
   "cell_type": "markdown",
   "metadata": {},
   "source": [
    "# Générateur de Recettes PDF\n",
    "\n",
    "Ce notebook orchestre une collaboration multi-agents pour :\n",
    "1. Collecter des contraintes utilisateur\n",
    "2. Générer une recette personnalisée\n",
    "3. Produire un PDF stylisé\n",
    "\n",
    "**Agents** :  \n",
    "- `InputCollector` → Collecte des préférences  \n",
    "- `RecipeGenerator` → Crée la recette via LLM  \n",
    "- `PDFGenerator` → Génère le document final\n",
    "\n",
    "---"
   ]
  },
  {
   "cell_type": "markdown",
   "metadata": {},
   "source": [
    "### Installation des bibliothèques"
   ]
  },
  {
   "cell_type": "code",
   "execution_count": 28,
   "metadata": {},
   "outputs": [
    {
     "name": "stdout",
     "output_type": "stream",
     "text": [
      "Note: you may need to restart the kernel to use updated packages.\n"
     ]
    }
   ],
   "source": [
    "# Cell 1 - Installation\n",
    "%pip install semantic-kernel python-dotenv reportlab --quiet"
   ]
  },
  {
   "cell_type": "markdown",
   "metadata": {},
   "source": [
    "## État Global & Configuration"
   ]
  },
  {
   "cell_type": "code",
   "execution_count": 29,
   "metadata": {},
   "outputs": [],
   "source": [
    "class RecipeState:\n",
    "    def __init__(self):\n",
    "        self.diet: str = \"\"\n",
    "        self.excluded_ingredients: list[str] = []\n",
    "        self.guests: int = 4\n",
    "        self.ingredients: list[str] = []\n",
    "        self.steps: list[str] = []\n",
    "        self.cooking_time: float = 0.0\n",
    "        self.ready_to_generate: bool = False\n",
    "        self.pdf_path: str = \"\"\n"
   ]
  },
  {
   "cell_type": "markdown",
   "metadata": {},
   "source": [
    "### Plugins d'agents et fonctions de modification d'état"
   ]
  },
  {
   "cell_type": "code",
   "execution_count": 30,
   "metadata": {},
   "outputs": [],
   "source": [
    "from semantic_kernel.functions import kernel_function\n",
    "from reportlab.pdfgen import canvas\n",
    "\n",
    "class InputCollectorPlugin:\n",
    "    def __init__(self, state: RecipeState):\n",
    "        self.state = state\n",
    "    \n",
    "    @kernel_function(name=\"set_diet\", description=\"Définit le régime alimentaire\")\n",
    "    def set_diet(self, diet: str) -> str:\n",
    "        self.state.diet = diet\n",
    "        return f\"Régime {diet} enregistré\"\n",
    "\n",
    "    @kernel_function(name=\"exclude_ingredient\", description=\"Ajoute un ingrédient à exclure\")\n",
    "    def exclude_ingredient(self, ingredient: str) -> str:\n",
    "        self.state.excluded_ingredients.append(ingredient)\n",
    "        return f\"Ingrédient {ingredient} exclu\"\n",
    "\n",
    "    @kernel_function(name=\"set_guests\", description=\"Définit le nombre de convives\")\n",
    "    def set_guests(self, guests: int) -> str:\n",
    "        self.state.guests = guests\n",
    "        return f\"{guests} convives prévus\"\n",
    "\n",
    "class RecipeGeneratorPlugin:\n",
    "    def __init__(self, state: RecipeState):\n",
    "        self.state = state\n",
    "\n",
    "    @kernel_function(name=\"submit_recipe\", description=\"Valide la recette générée\")\n",
    "    def submit_recipe(self, ingredients: list[str], steps: list[str], cooking_time: float) -> str:\n",
    "        self.state.ingredients = ingredients\n",
    "        self.state.steps = steps\n",
    "        self.state.cooking_time = cooking_time\n",
    "        self.state.ready_to_generate = True\n",
    "        return \"Recette validée et prête pour la génération PDF\"\n",
    "\n",
    "\n",
    "\n",
    "class PDFGeneratorPlugin:\n",
    "    def __init__(self, state: RecipeState):\n",
    "        self.state = state\n",
    "    \n",
    "    @kernel_function(name=\"generate_pdf\", description=\"Génère le PDF final\")\n",
    "    def generate_pdf(self, output_path: str) -> str:\n",
    "        c = canvas.Canvas(output_path)\n",
    "        c.drawString(100, 800, \"Recette personnalisée\")\n",
    "        c.drawString(100, 780, f\"Pour {self.state.guests} personnes\")\n",
    "        c.save()\n",
    "        self.state.pdf_path = output_path\n",
    "        return f\"PDF généré : {output_path}\"\n"
   ]
  },
  {
   "cell_type": "markdown",
   "metadata": {},
   "source": [
    "### Création des agents"
   ]
  },
  {
   "cell_type": "code",
   "execution_count": 31,
   "metadata": {},
   "outputs": [],
   "source": [
    "from semantic_kernel import Kernel\n",
    "from semantic_kernel.agents import ChatCompletionAgent\n",
    "\n",
    "shared_state = RecipeState()\n",
    "\n",
    "# InputCollector\n",
    "input_kernel = Kernel()\n",
    "input_kernel.add_plugin(InputCollectorPlugin(shared_state), \"input_plugin\")\n",
    "input_agent = ChatCompletionAgent(\n",
    "    kernel=input_kernel,\n",
    "    name=\"InputCollector\",\n",
    "    instructions=\"\"\"Collectez les informations utilisateur de manière structurée.\n",
    "    - Demandez d'abord le régime alimentaire\n",
    "    - Puis les ingrédients à exclure\n",
    "    - Enfin le nombre de convives\"\"\"\n",
    ")\n",
    "\n",
    "# RecipeGenerator avec son plugin\n",
    "recipe_kernel = Kernel()\n",
    "recipe_kernel.add_plugin(RecipeGeneratorPlugin(shared_state), \"recipe_plugin\")\n",
    "recipe_agent = ChatCompletionAgent(\n",
    "    kernel=recipe_kernel,\n",
    "    name=\"RecipeGenerator\",\n",
    "    instructions=\"\"\"Générez des recettes en respectant les contraintes.\n",
    "    - Convertir les ingrédients en liste Python\n",
    "    - Structurer les étapes de préparation\n",
    "    - Calculer le temps de cuisson\"\"\"\n",
    ")\n",
    "\n",
    "\n",
    "# PDFGenerator\n",
    "pdf_kernel = Kernel()\n",
    "pdf_kernel.add_plugin(PDFGeneratorPlugin(shared_state), \"pdf_plugin\")\n",
    "pdf_agent = ChatCompletionAgent(\n",
    "    kernel=pdf_kernel,\n",
    "    name=\"PDFGenerator\",\n",
    "    instructions=\"\"\"Générez un PDF professionnel:\n",
    "    - Structurez en sections claires\n",
    "    - Utilisez une mise en page aérée\"\"\"\n",
    ")\n"
   ]
  },
  {
   "cell_type": "markdown",
   "metadata": {},
   "source": [
    "### création de la conversation avec critères de terminaison et/ou de sélection"
   ]
  },
  {
   "cell_type": "code",
   "execution_count": 34,
   "metadata": {},
   "outputs": [
    {
     "ename": "AttributeError",
     "evalue": "'ReadyTerminationStrategy' object has no attribute '__pydantic_private__'",
     "output_type": "error",
     "traceback": [
      "\u001b[1;31m---------------------------------------------------------------------------\u001b[0m",
      "\u001b[1;31mAttributeError\u001b[0m                            Traceback (most recent call last)",
      "Cell \u001b[1;32mIn[34], line 16\u001b[0m\n\u001b[0;32m     10\u001b[0m     \u001b[38;5;28;01masync\u001b[39;00m \u001b[38;5;28;01mdef\u001b[39;00m \u001b[38;5;21mshould_agent_terminate\u001b[39m(\u001b[38;5;28mself\u001b[39m, agent, history):\n\u001b[0;32m     11\u001b[0m         \u001b[38;5;28;01mreturn\u001b[39;00m \u001b[38;5;28mself\u001b[39m\u001b[38;5;241m.\u001b[39m_state\u001b[38;5;241m.\u001b[39mready_to_generate\n\u001b[0;32m     14\u001b[0m group_chat \u001b[38;5;241m=\u001b[39m AgentGroupChat(\n\u001b[0;32m     15\u001b[0m     agents\u001b[38;5;241m=\u001b[39m[input_agent, recipe_agent, pdf_agent],\n\u001b[1;32m---> 16\u001b[0m     termination_strategy\u001b[38;5;241m=\u001b[39m\u001b[43mReadyTerminationStrategy\u001b[49m\u001b[43m(\u001b[49m\u001b[43mshared_state\u001b[49m\u001b[43m)\u001b[49m,\n\u001b[0;32m     17\u001b[0m     maximum_iterations\u001b[38;5;241m=\u001b[39m\u001b[38;5;241m10\u001b[39m\n\u001b[0;32m     18\u001b[0m )\n",
      "Cell \u001b[1;32mIn[34], line 8\u001b[0m, in \u001b[0;36mReadyTerminationStrategy.__init__\u001b[1;34m(self, state)\u001b[0m\n\u001b[0;32m      7\u001b[0m \u001b[38;5;28;01mdef\u001b[39;00m \u001b[38;5;21m__init__\u001b[39m(\u001b[38;5;28mself\u001b[39m, state: RecipeState):\n\u001b[1;32m----> 8\u001b[0m     \u001b[38;5;28;43mself\u001b[39;49m\u001b[38;5;241;43m.\u001b[39;49m\u001b[43m_state\u001b[49m \u001b[38;5;241m=\u001b[39m state\n",
      "File \u001b[1;32mc:\\Users\\Administrateur.000\\AppData\\Local\\Programs\\Python\\Python311\\Lib\\site-packages\\pydantic\\main.py:865\u001b[0m, in \u001b[0;36mBaseModel.__setattr__\u001b[1;34m(self, name, value)\u001b[0m\n\u001b[0;32m    860\u001b[0m     \u001b[38;5;28;01mraise\u001b[39;00m \u001b[38;5;167;01mAttributeError\u001b[39;00m(\n\u001b[0;32m    861\u001b[0m         \u001b[38;5;124mf\u001b[39m\u001b[38;5;124m'\u001b[39m\u001b[38;5;132;01m{\u001b[39;00mname\u001b[38;5;132;01m!r}\u001b[39;00m\u001b[38;5;124m is a ClassVar of `\u001b[39m\u001b[38;5;132;01m{\u001b[39;00m\u001b[38;5;28mself\u001b[39m\u001b[38;5;241m.\u001b[39m\u001b[38;5;18m__class__\u001b[39m\u001b[38;5;241m.\u001b[39m\u001b[38;5;18m__name__\u001b[39m\u001b[38;5;132;01m}\u001b[39;00m\u001b[38;5;124m` and cannot be set on an instance. \u001b[39m\u001b[38;5;124m'\u001b[39m\n\u001b[0;32m    862\u001b[0m         \u001b[38;5;124mf\u001b[39m\u001b[38;5;124m'\u001b[39m\u001b[38;5;124mIf you want to set a value on the class, use `\u001b[39m\u001b[38;5;132;01m{\u001b[39;00m\u001b[38;5;28mself\u001b[39m\u001b[38;5;241m.\u001b[39m\u001b[38;5;18m__class__\u001b[39m\u001b[38;5;241m.\u001b[39m\u001b[38;5;18m__name__\u001b[39m\u001b[38;5;132;01m}\u001b[39;00m\u001b[38;5;124m.\u001b[39m\u001b[38;5;132;01m{\u001b[39;00mname\u001b[38;5;132;01m}\u001b[39;00m\u001b[38;5;124m = value`.\u001b[39m\u001b[38;5;124m'\u001b[39m\n\u001b[0;32m    863\u001b[0m     )\n\u001b[0;32m    864\u001b[0m \u001b[38;5;28;01melif\u001b[39;00m \u001b[38;5;129;01mnot\u001b[39;00m _fields\u001b[38;5;241m.\u001b[39mis_valid_field_name(name):\n\u001b[1;32m--> 865\u001b[0m     \u001b[38;5;28;01mif\u001b[39;00m \u001b[38;5;28;43mself\u001b[39;49m\u001b[38;5;241;43m.\u001b[39;49m\u001b[43m__pydantic_private__\u001b[49m \u001b[38;5;129;01mis\u001b[39;00m \u001b[38;5;28;01mNone\u001b[39;00m \u001b[38;5;129;01mor\u001b[39;00m name \u001b[38;5;129;01mnot\u001b[39;00m \u001b[38;5;129;01min\u001b[39;00m \u001b[38;5;28mself\u001b[39m\u001b[38;5;241m.\u001b[39m__private_attributes__:\n\u001b[0;32m    866\u001b[0m         _object_setattr(\u001b[38;5;28mself\u001b[39m, name, value)\n\u001b[0;32m    867\u001b[0m     \u001b[38;5;28;01melse\u001b[39;00m:\n",
      "File \u001b[1;32mc:\\Users\\Administrateur.000\\AppData\\Local\\Programs\\Python\\Python311\\Lib\\site-packages\\pydantic\\main.py:853\u001b[0m, in \u001b[0;36mBaseModel.__getattr__\u001b[1;34m(self, item)\u001b[0m\n\u001b[0;32m    851\u001b[0m \u001b[38;5;28;01melse\u001b[39;00m:\n\u001b[0;32m    852\u001b[0m     \u001b[38;5;28;01mif\u001b[39;00m \u001b[38;5;28mhasattr\u001b[39m(\u001b[38;5;28mself\u001b[39m\u001b[38;5;241m.\u001b[39m\u001b[38;5;18m__class__\u001b[39m, item):\n\u001b[1;32m--> 853\u001b[0m         \u001b[38;5;28;01mreturn\u001b[39;00m \u001b[38;5;28;43msuper\u001b[39;49m\u001b[43m(\u001b[49m\u001b[43m)\u001b[49m\u001b[38;5;241;43m.\u001b[39;49m\u001b[38;5;21;43m__getattribute__\u001b[39;49m\u001b[43m(\u001b[49m\u001b[43mitem\u001b[49m\u001b[43m)\u001b[49m  \u001b[38;5;66;03m# Raises AttributeError if appropriate\u001b[39;00m\n\u001b[0;32m    854\u001b[0m     \u001b[38;5;28;01melse\u001b[39;00m:\n\u001b[0;32m    855\u001b[0m         \u001b[38;5;66;03m# this is the current error\u001b[39;00m\n\u001b[0;32m    856\u001b[0m         \u001b[38;5;28;01mraise\u001b[39;00m \u001b[38;5;167;01mAttributeError\u001b[39;00m(\u001b[38;5;124mf\u001b[39m\u001b[38;5;124m'\u001b[39m\u001b[38;5;132;01m{\u001b[39;00m\u001b[38;5;28mtype\u001b[39m(\u001b[38;5;28mself\u001b[39m)\u001b[38;5;241m.\u001b[39m\u001b[38;5;18m__name__\u001b[39m\u001b[38;5;132;01m!r}\u001b[39;00m\u001b[38;5;124m object has no attribute \u001b[39m\u001b[38;5;132;01m{\u001b[39;00mitem\u001b[38;5;132;01m!r}\u001b[39;00m\u001b[38;5;124m'\u001b[39m)\n",
      "\u001b[1;31mAttributeError\u001b[0m: 'ReadyTerminationStrategy' object has no attribute '__pydantic_private__'"
     ]
    }
   ],
   "source": [
    "from semantic_kernel.agents import AgentGroupChat\n",
    "from pydantic import PrivateAttr\n",
    "\n",
    "from semantic_kernel.agents.strategies import TerminationStrategy\n",
    "\n",
    "class ReadyTerminationStrategy(TerminationStrategy):\n",
    "    def __init__(self, state: RecipeState):\n",
    "        self._state = state\n",
    "\n",
    "    async def should_agent_terminate(self, agent, history):\n",
    "        return self._state.ready_to_generate\n",
    "\n",
    "\n",
    "group_chat = AgentGroupChat(\n",
    "    agents=[input_agent, recipe_agent, pdf_agent],\n",
    "    termination_strategy=ReadyTerminationStrategy(shared_state),\n",
    "    maximum_iterations=10\n",
    ")\n"
   ]
  },
  {
   "cell_type": "markdown",
   "metadata": {},
   "source": [
    "### Boucle principale"
   ]
  },
  {
   "cell_type": "code",
   "execution_count": null,
   "metadata": {},
   "outputs": [
    {
     "ename": "NameError",
     "evalue": "name 'group_chat' is not defined",
     "output_type": "error",
     "traceback": [
      "\u001b[1;31m---------------------------------------------------------------------------\u001b[0m",
      "\u001b[1;31mNameError\u001b[0m                                 Traceback (most recent call last)",
      "Cell \u001b[1;32mIn[9], line 13\u001b[0m\n\u001b[0;32m      9\u001b[0m         \u001b[38;5;28mprint\u001b[39m(\u001b[38;5;124mf\u001b[39m\u001b[38;5;124m\"\u001b[39m\u001b[38;5;124m[\u001b[39m\u001b[38;5;132;01m{\u001b[39;00mmessage\u001b[38;5;241m.\u001b[39mname\u001b[38;5;132;01m}\u001b[39;00m\u001b[38;5;124m] \u001b[39m\u001b[38;5;132;01m{\u001b[39;00mmessage\u001b[38;5;241m.\u001b[39mcontent\u001b[38;5;132;01m}\u001b[39;00m\u001b[38;5;124m\"\u001b[39m)\n\u001b[0;32m     11\u001b[0m     \u001b[38;5;28mprint\u001b[39m(\u001b[38;5;124m\"\u001b[39m\u001b[38;5;130;01m\\n\u001b[39;00m\u001b[38;5;124mProcessus terminé\u001b[39m\u001b[38;5;124m\"\u001b[39m)\n\u001b[1;32m---> 13\u001b[0m \u001b[38;5;28;01mawait\u001b[39;00m recipe_workflow()\n",
      "Cell \u001b[1;32mIn[9], line 4\u001b[0m, in \u001b[0;36mrecipe_workflow\u001b[1;34m()\u001b[0m\n\u001b[0;32m      3\u001b[0m \u001b[38;5;28;01masync\u001b[39;00m \u001b[38;5;28;01mdef\u001b[39;00m \u001b[38;5;21mrecipe_workflow\u001b[39m():\n\u001b[1;32m----> 4\u001b[0m     \u001b[43mgroup_chat\u001b[49m\u001b[38;5;241m.\u001b[39mhistory\u001b[38;5;241m.\u001b[39madd_user_message(\n\u001b[0;32m      5\u001b[0m         \u001b[38;5;124m\"\u001b[39m\u001b[38;5;124mJe souhaite une recette végétarienne pour 6 personnes, sans champignons.\u001b[39m\u001b[38;5;124m\"\u001b[39m\n\u001b[0;32m      6\u001b[0m     )\n\u001b[0;32m      8\u001b[0m     \u001b[38;5;28;01masync\u001b[39;00m \u001b[38;5;28;01mfor\u001b[39;00m message \u001b[38;5;129;01min\u001b[39;00m group_chat\u001b[38;5;241m.\u001b[39minvoke():\n\u001b[0;32m      9\u001b[0m         \u001b[38;5;28mprint\u001b[39m(\u001b[38;5;124mf\u001b[39m\u001b[38;5;124m\"\u001b[39m\u001b[38;5;124m[\u001b[39m\u001b[38;5;132;01m{\u001b[39;00mmessage\u001b[38;5;241m.\u001b[39mname\u001b[38;5;132;01m}\u001b[39;00m\u001b[38;5;124m] \u001b[39m\u001b[38;5;132;01m{\u001b[39;00mmessage\u001b[38;5;241m.\u001b[39mcontent\u001b[38;5;132;01m}\u001b[39;00m\u001b[38;5;124m\"\u001b[39m)\n",
      "\u001b[1;31mNameError\u001b[0m: name 'group_chat' is not defined"
     ]
    }
   ],
   "source": [
    "async def recipe_workflow():\n",
    "    recipe_query = (\n",
    "        \"Je souhaite une recette végétarienne pour 6 personnes, \"\n",
    "        \"sans champignons ni produits laitiers.\"\n",
    "    )\n",
    "    \n",
    "    group_chat.history.add_user_message(recipe_query)\n",
    "    \n",
    "    try:\n",
    "        async for message in group_chat.invoke():\n",
    "            print(f\"[{message.name}] {message.content}\")\n",
    "            \n",
    "            if shared_state.ready_to_generate:\n",
    "                print(\"\\\\nTransition vers la génération PDF...\")\n",
    "                break\n",
    "                \n",
    "    except Exception as e:\n",
    "        print(f\"Erreur lors de la génération: {str(e)}\")\n",
    "    \n",
    "    print(\"\\\\nProcessus terminé\")\n",
    "\n",
    "await recipe_workflow()\n"
   ]
  },
  {
   "cell_type": "markdown",
   "metadata": {},
   "source": [
    "### Génération de pdf"
   ]
  },
  {
   "cell_type": "code",
   "execution_count": null,
   "metadata": {},
   "outputs": [],
   "source": []
  },
  {
   "cell_type": "code",
   "execution_count": null,
   "metadata": {},
   "outputs": [],
   "source": [
    "if shared_state.pdf_path:\n",
    "    print(f\"PDF généré avec succès: {shared_state.pdf_path}\")\n",
    "    print(\"Contenu de la recette:\")\n",
    "    print(f\"- Régime: {shared_state.diet}\")\n",
    "    print(f\"- Ingrédients: {', '.join(shared_state.ingredients)}\")\n",
    "else:\n",
    "    print(\"Échec de la génération:\", \n",
    "          \"Aucun PDF produit malgré les tentatives\")\n"
   ]
  }
 ],
 "metadata": {
  "kernelspec": {
   "display_name": "Python 3",
   "language": "python",
   "name": "python3"
  },
  "language_info": {
   "codemirror_mode": {
    "name": "ipython",
    "version": 3
   },
   "file_extension": ".py",
   "mimetype": "text/x-python",
   "name": "python",
   "nbconvert_exporter": "python",
   "pygments_lexer": "ipython3",
   "version": "3.11.9"
  }
 },
 "nbformat": 4,
 "nbformat_minor": 2
}
