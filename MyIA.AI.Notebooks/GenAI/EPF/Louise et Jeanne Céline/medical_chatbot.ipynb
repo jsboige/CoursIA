{
 "cells": [
  {
   "cell_type": "markdown",
   "metadata": {},
   "source": [
    "# Docteur vs ChatGPT: Chatbot médical"
   ]
  },
  {
   "cell_type": "code",
   "execution_count": 15,
   "metadata": {},
   "outputs": [
    {
     "name": "stdout",
     "output_type": "stream",
     "text": [
      "Note: you may need to restart the kernel to use updated packages.\n"
     ]
    }
   ],
   "source": [
    "%pip install semantic-kernel openai python-dotenv --quiet\n"
   ]
  },
  {
   "cell_type": "markdown",
   "metadata": {},
   "source": [
    "## Import des bibliothèques\n"
   ]
  },
  {
   "cell_type": "code",
   "execution_count": 16,
   "metadata": {},
   "outputs": [],
   "source": [
    "import os\n",
    "import logging\n",
    "import asyncio\n",
    "from dotenv import load_dotenv\n",
    "from semantic_kernel import Kernel\n",
    "from semantic_kernel.agents import ChatCompletionAgent, AgentGroupChat\n",
    "from semantic_kernel.agents.strategies import TerminationStrategy\n",
    "from semantic_kernel.connectors.ai.open_ai import OpenAIChatCompletion\n",
    "from semantic_kernel.contents import ChatHistory\n",
    "from semantic_kernel.functions import kernel_function, KernelArguments\n",
    "from semantic_kernel.connectors.ai import FunctionChoiceBehavior\n",
    "from typing import Annotated"
   ]
  },
  {
   "cell_type": "code",
   "execution_count": 17,
   "metadata": {},
   "outputs": [
    {
     "data": {
      "text/plain": [
       "True"
      ]
     },
     "execution_count": 17,
     "metadata": {},
     "output_type": "execute_result"
    }
   ],
   "source": [
    "# Charger les variables d'environnement\n",
    "load_dotenv()"
   ]
  },
  {
   "cell_type": "markdown",
   "metadata": {},
   "source": [
    "## Configuration des logs"
   ]
  },
  {
   "cell_type": "code",
   "execution_count": 18,
   "metadata": {},
   "outputs": [],
   "source": [
    "# Configuration des logs\n",
    "logging.basicConfig(\n",
    "    level=logging.INFO,\n",
    "    format='%(asctime)s [%(levelname)s] %(message)s',\n",
    "    handlers=[logging.StreamHandler()]\n",
    ")\n",
    "logger = logging.getLogger('MedicalAI')"
   ]
  },
  {
   "cell_type": "markdown",
   "metadata": {},
   "source": [
    "## Création du kernel Semantic Kernel"
   ]
  },
  {
   "cell_type": "code",
   "execution_count": 19,
   "metadata": {},
   "outputs": [],
   "source": [
    "# Création du kernel Semantic Kernel\n",
    "def create_kernel():\n",
    "    kernel = Kernel()\n",
    "    kernel.add_service(OpenAIChatCompletion(\n",
    "        service_id=\"openai\",\n",
    "        ai_model_id=\"gpt-4o-mini\",  # Modifier si besoin\n",
    "        api_key=os.getenv(\"OPENAI_API_KEY\")\n",
    "    ))\n",
    "    return kernel"
   ]
  },
  {
   "cell_type": "markdown",
   "metadata": {},
   "source": [
    "## Définition des plugins à chaque agent"
   ]
  },
  {
   "cell_type": "code",
   "execution_count": 20,
   "metadata": {},
   "outputs": [],
   "source": [
    "class DoctorPlugin:\n",
    "    \"\"\"Plugin permettant au médecin de poser des questions complémentaires sur les symptômes.\"\"\"\n",
    "    @kernel_function(description=\"Pose des questions supplémentaires pour affiner le diagnostic.\")\n",
    "    def ask_followup_questions(self, symptom: Annotated[str, \"Symptôme décrit par l'utilisateur\"]) -> str:\n",
    "        \"\"\"Retourne une question en fonction du symptôme mentionné.\"\"\"\n",
    "        questions_map = {\n",
    "            \"fièvre\": \"Depuis combien de temps avez-vous de la fièvre ?\",\n",
    "            \"maux de tête\": \"Avez-vous une sensibilité à la lumière ou au bruit ?\",\n",
    "            \"douleur thoracique\": \"La douleur est-elle aiguë ou diffuse ?\",\n",
    "        }\n",
    "        return questions_map.get(symptom.lower(), \"Pouvez-vous donner plus de détails sur vos symptômes ?\")\n",
    "\n",
    "class MedicalAIPlugin:\n",
    "    \"\"\"Plugin qui analyse la gravité des symptômes.\"\"\"\n",
    "    @kernel_function(description=\"Vérifie la gravité d'un symptôme médical.\")\n",
    "    def check_symptom_severity(self, symptom: Annotated[str, \"Symptôme décrit par l'utilisateur\"]) -> str:\n",
    "        \"\"\"Retourne une évaluation de la gravité du symptôme.\"\"\"\n",
    "        severity_map = {\n",
    "            \"fièvre\": \"Modérée\",\n",
    "            \"maux de tête\": \"Léger\",\n",
    "            \"douleur thoracique\": \"Sévère\",\n",
    "            \"perte de connaissance\": \"Critique\"\n",
    "        }\n",
    "        return severity_map.get(symptom.lower(), \"Inconnu - consultez un médecin.\")\n",
    "\n",
    "class PharmacistPlugin:\n",
    "    \"\"\"Plugin qui recommande des médicaments en fonction du diagnostic.\"\"\"\n",
    "    @kernel_function(description=\"Recommande un médicament adapté à un symptôme.\")\n",
    "    def recommend_medication(self, symptom: Annotated[str, \"Symptôme décrit par l'utilisateur\"]) -> str:\n",
    "        \"\"\"Retourne une suggestion de médicament (avec précautions).\"\"\"\n",
    "        medication_map = {\n",
    "            \"fièvre\": \"Paracétamol (500mg, toutes les 6h, max 3 jours)\",\n",
    "            \"maux de tête\": \"Ibuprofène (200mg, toutes les 8h, avec précaution si problème gastrique)\",\n",
    "            \"douleur thoracique\": \"Aucun médicament recommandé - Consultez un médecin immédiatement\",\n",
    "        }\n",
    "        return medication_map.get(symptom.lower(), \"Aucun médicament recommandé - Consultez un pharmacien.\")\n"
   ]
  },
  {
   "cell_type": "markdown",
   "metadata": {},
   "source": [
    "## Création du Kernel"
   ]
  },
  {
   "cell_type": "code",
   "execution_count": 21,
   "metadata": {},
   "outputs": [],
   "source": [
    "# Création du kernel\n",
    "kernel = create_kernel()\n"
   ]
  },
  {
   "cell_type": "markdown",
   "metadata": {},
   "source": [
    "# Ajout des plugins pour chaque agent"
   ]
  },
  {
   "cell_type": "code",
   "execution_count": 22,
   "metadata": {},
   "outputs": [
    {
     "data": {
      "text/plain": [
       "KernelPlugin(name='pharmacist', description=None, functions={'recommend_medication': KernelFunctionFromMethod(metadata=KernelFunctionMetadata(name='recommend_medication', plugin_name='pharmacist', description='Recommande un médicament adapté à un symptôme.', parameters=[KernelParameterMetadata(name='symptom', description=\"Symptôme décrit par l'utilisateur\", default_value=None, type_='str', is_required=True, type_object=<class 'str'>, schema_data={'type': 'string', 'description': \"Symptôme décrit par l'utilisateur\"}, include_in_function_choices=True)], is_prompt=False, is_asynchronous=False, return_parameter=KernelParameterMetadata(name='return', description='', default_value=None, type_='str', is_required=True, type_object=<class 'str'>, schema_data={'type': 'string'}, include_in_function_choices=True), additional_properties={}), invocation_duration_histogram=<opentelemetry.metrics._internal.instrument._ProxyHistogram object at 0x116ecd460>, streaming_duration_histogram=<opentelemetry.metrics._internal.instrument._ProxyHistogram object at 0x116ecc950>, method=<bound method PharmacistPlugin.recommend_medication of <__main__.PharmacistPlugin object at 0x10f4b8a40>>, stream_method=None)})"
      ]
     },
     "execution_count": 22,
     "metadata": {},
     "output_type": "execute_result"
    }
   ],
   "source": [
    "# Ajout des plugins pour chaque agent\n",
    "kernel.add_plugin(DoctorPlugin(), plugin_name=\"doctor\")\n",
    "kernel.add_plugin(MedicalAIPlugin(), plugin_name=\"medical\")\n",
    "kernel.add_plugin(PharmacistPlugin(), plugin_name=\"pharmacist\")\n"
   ]
  },
  {
   "cell_type": "markdown",
   "metadata": {},
   "source": [
    "## Définition des prompts "
   ]
  },
  {
   "cell_type": "code",
   "execution_count": 23,
   "metadata": {},
   "outputs": [],
   "source": [
    "DOCTOR_PROMPT = \"\"\"\n",
    "Vous êtes un médecin généraliste. Vous posez d'abord des questions pour mieux comprendre les symptômes de l'utilisateur,\n",
    "puis vous donnez un diagnostic probable basé sur votre expertise médicale. \n",
    "Ne donnez jamais de diagnostic sans avoir recueilli assez d'informations.\n",
    "\"\"\"\n",
    "\n",
    "AI_MEDICAL_PROMPT = \"\"\"\n",
    "Vous êtes une IA médicale spécialisée en diagnostic. Analysez les symptômes fournis et proposez un diagnostic basé sur des statistiques et des études médicales. \n",
    "Soyez clair et donnez plusieurs hypothèses si nécessaire.\n",
    "\"\"\"\n",
    "\n",
    "PHARMACIST_PROMPT = \"\"\"\n",
    "Vous êtes un pharmacien qualifié. En fonction du diagnostic fourni, vous recommandez les médicaments appropriés. \n",
    "Mentionnez toujours les précautions d'utilisation et la nécessité d'une consultation médicale avant la prise de médicaments.\n",
    "\"\"\"\n"
   ]
  },
  {
   "cell_type": "markdown",
   "metadata": {},
   "source": [
    "## Création des agents"
   ]
  },
  {
   "cell_type": "code",
   "execution_count": 24,
   "metadata": {},
   "outputs": [],
   "source": [
    "# Création des agents\n",
    "doctor_agent = ChatCompletionAgent(\n",
    "    kernel=kernel,\n",
    "    service_id=\"openai\",\n",
    "    name=\"Docteur_Humain\",\n",
    "    instructions=DOCTOR_PROMPT,\n",
    ")\n",
    "\n",
    "ai_medical_agent = ChatCompletionAgent(\n",
    "    kernel=kernel,\n",
    "    service_id=\"openai\",\n",
    "    name=\"IA_Medicale\",\n",
    "    instructions=AI_MEDICAL_PROMPT,\n",
    ")"
   ]
  },
  {
   "cell_type": "markdown",
   "metadata": {},
   "source": [
    "## Configuration pour que l'agent médical appelle automatiquement les plugins\n"
   ]
  },
  {
   "cell_type": "code",
   "execution_count": 25,
   "metadata": {},
   "outputs": [],
   "source": [
    "settings = kernel.get_prompt_execution_settings_from_service_id(\"openai\")\n",
    "settings.function_choice_behavior = FunctionChoiceBehavior.Auto()\n",
    "ai_medical_agent.arguments = KernelArguments(settings=settings)\n",
    "\n",
    "pharmacist_agent = ChatCompletionAgent(\n",
    "    kernel=kernel,\n",
    "    service_id=\"openai\",\n",
    "    name=\"Pharmacien\",\n",
    "    instructions=PHARMACIST_PROMPT,\n",
    ")\n"
   ]
  },
  {
   "cell_type": "markdown",
   "metadata": {},
   "source": [
    "## Définition d'une stratégie de terminaison"
   ]
  },
  {
   "cell_type": "code",
   "execution_count": 26,
   "metadata": {},
   "outputs": [],
   "source": [
    "class MedicalTerminationStrategy(TerminationStrategy):\n",
    "    async def should_terminate(self, agent, history):\n",
    "        return len(history) >= 6  # On limite à 6 échanges\n"
   ]
  },
  {
   "cell_type": "markdown",
   "metadata": {},
   "source": [
    "## Création du chat groupé avec stratégie de terminaison"
   ]
  },
  {
   "cell_type": "code",
   "execution_count": 27,
   "metadata": {},
   "outputs": [],
   "source": [
    "chat = AgentGroupChat(\n",
    "    agents=[doctor_agent, ai_medical_agent, pharmacist_agent],\n",
    "    termination_strategy=MedicalTerminationStrategy()  # Ajout de la stratégie\n",
    ")"
   ]
  },
  {
   "cell_type": "markdown",
   "metadata": {},
   "source": [
    "## Fonction pour exécuter le dialogue"
   ]
  },
  {
   "cell_type": "code",
   "execution_count": 28,
   "metadata": {},
   "outputs": [],
   "source": [
    "async def run_medical_chat():\n",
    "    logger.info(\"🚀 Début de la consultation médicale IA\")\n",
    "    chat_history = ChatHistory()\n",
    "    \n",
    "    symptoms = input(\"Décrivez vos symptômes : \")\n",
    "    chat_history.add_user_message(symptoms)\n",
    "    \n",
    "    while True:\n",
    "        async for message in chat.invoke():\n",
    "            logger.info(f\"[{message.role}] {message.name}: {message.content}\")\n",
    "            print(f\"{message.name}: {message.content}\")\n",
    "            \n",
    "            if message.name not in [\"Pharmacien\"]:\n",
    "                user_response = input(\"👉 Votre réponse : \")\n",
    "                chat_history.add_user_message(user_response)\n",
    "        \n",
    "        if chat.is_complete:\n",
    "            break\n",
    "    \n",
    "    logger.info(\"🏥 Consultation terminée.\")\n"
   ]
  },
  {
   "cell_type": "code",
   "execution_count": null,
   "metadata": {},
   "outputs": [
    {
     "name": "stderr",
     "output_type": "stream",
     "text": [
      "2025-02-14 09:38:10,977 [INFO] 🚀 Début de la consultation médicale IA\n"
     ]
    }
   ],
   "source": [
    "await run_medical_chat()"
   ]
  }
 ],
 "metadata": {
  "kernelspec": {
   "display_name": "base",
   "language": "python",
   "name": "python3"
  },
  "language_info": {
   "codemirror_mode": {
    "name": "ipython",
    "version": 3
   },
   "file_extension": ".py",
   "mimetype": "text/x-python",
   "name": "python",
   "nbconvert_exporter": "python",
   "pygments_lexer": "ipython3",
   "version": "3.12.7"
  }
 },
 "nbformat": 4,
 "nbformat_minor": 2
}
