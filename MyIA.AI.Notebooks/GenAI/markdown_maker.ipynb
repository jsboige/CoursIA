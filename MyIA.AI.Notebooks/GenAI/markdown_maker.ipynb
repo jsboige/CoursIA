{
 "cells": [
  {
   "cell_type": "markdown",
   "metadata": {},
   "source": [
    "# Markdown maker\n",
    "\n",
    "Ce notebook illustre différentes méthodes pour transformer des documents existants de divers formats en Markdown facilement compréhensible par les LLMs\n"
   ]
  },
  {
   "cell_type": "markdown",
   "metadata": {},
   "source": [
    "## Transformation d'un document PowerPoint\n",
    "\n",
    "On utilise la bibliothèque pptx2md.\n",
    "On commence par installer le package pip correspondant.\n"
   ]
  },
  {
   "cell_type": "code",
   "execution_count": null,
   "metadata": {},
   "outputs": [],
   "source": [
    "%pip install pptx2md"
   ]
  },
  {
   "cell_type": "markdown",
   "metadata": {},
   "source": [
    "Puis ont utilise la bibliothèque pour produire le document cible."
   ]
  },
  {
   "cell_type": "code",
   "execution_count": null,
   "metadata": {},
   "outputs": [],
   "source": [
    "from pptx2md import convert, ConversionConfig\n",
    "from pathlib import Path\n",
    "\n",
    "working_dir = r\"E:\\Dropbox\\IA101\\Slides\\Français\\\\\"\n",
    "input_path = working_dir + \"MyIA - Trading algorithmique.pptx\"\n",
    "output_path = working_dir + \"MyIA - Trading algorithmique.md\"\n",
    "\n",
    "# Basic usage\n",
    "convert(\n",
    "    ConversionConfig(\n",
    "        pptx_path=Path(input_path),\n",
    "        output_path=Path(output_path),\n",
    "        image_dir=Path('img'),\n",
    "        disable_notes=True,\n",
    "        disable_image=True,\n",
    "        \n",
    "        \n",
    "    )\n",
    ")"
   ]
  }
 ],
 "metadata": {
  "kernelspec": {
   "display_name": "Python 3",
   "language": "python",
   "name": "python3"
  },
  "language_info": {
   "codemirror_mode": {
    "name": "ipython",
    "version": 3
   },
   "file_extension": ".py",
   "mimetype": "text/x-python",
   "name": "python",
   "nbconvert_exporter": "python",
   "pygments_lexer": "ipython3",
   "version": "3.11.9"
  }
 },
 "nbformat": 4,
 "nbformat_minor": 2
}
