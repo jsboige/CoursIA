{
 "cells": [
  {
   "cell_type": "markdown",
   "metadata": {},
   "source": [
    "# 00-5: ComfyUI Local - Test Rapide\n",
    "\n",
    "**Objectif**: Valider connexion et génération basique ComfyUI local\n",
    "\n",
    "**Prérequis**:\n",
    "- ComfyUI démarré sur port 8188\n",
    "- Modèle Qwen-Image-Edit-2509-FP8 chargé\n",
    "- Custom nodes Qwen installés\n",
    "\n",
    "**Durée**: ~2-3 minutes"
   ]
  },
  {
   "cell_type": "markdown",
   "metadata": {},
   "source": [
    "## Cell 1: Import et Configuration"
   ]
  },
  {
   "cell_type": "code",
   "execution_count": null,
   "metadata": {},
   "outputs": [],
   "source": [
    "# Imports\n",
    "import sys\n",
    "import os\n",
    "\n",
    "# Ajouter shared helpers au path\n",
    "sys.path.insert(0, os.path.join(os.path.dirname(os.getcwd()), 'shared'))\n",
    "\n",
    "from helpers.comfyui_client import create_client, ComfyUIConfig\n",
    "\n",
    "print(\"✅ Imports réussis\")"
   ]
  },
  {
   "cell_type": "markdown",
   "metadata": {},
   "source": [
    "## Cell 2: Test Connexion ComfyUI"
   ]
  },
  {
   "cell_type": "code",
   "execution_count": null,
   "metadata": {},
   "outputs": [],
   "source": [
    "# Configuration\n",
    "config = ComfyUIConfig(\n",
    "    base_url=\"http://localhost:8188\",\n",
    "    timeout=120,\n",
    "    poll_interval=2\n",
    ")\n",
    "\n",
    "# Test connexion\n",
    "print(\"🔍 Test connexion ComfyUI...\")\n",
    "is_connected = config.test_connection()\n",
    "\n",
    "if is_connected:\n",
    "    print(\"\\n✅ ComfyUI accessible!\")\n",
    "    \n",
    "    # Afficher stats système\n",
    "    stats = config.get_system_stats()\n",
    "    if stats:\n",
    "        system = stats.get('system', {})\n",
    "        print(f\"\\n📊 Statistiques Système:\")\n",
    "        print(f\"   - PyTorch: {system.get('pytorch_version', 'N/A')}\")\n",
    "        print(f\"   - CUDA: {system.get('cuda', 'N/A')}\")\n",
    "        print(f\"   - ComfyUI: {system.get('comfyui_version', 'N/A')}\")\n",
    "        print(f\"   - Python: {system.get('python_version', 'N/A')}\")\n",
    "else:\n",
    "    print(\"\\n❌ ComfyUI non accessible!\")\n",
    "    print(\"   Vérifier que le service est démarré sur port 8188\")"
   ]
  },
  {
   "cell_type": "markdown",
   "metadata": {},
   "source": [
    "## Cell 3: Créer Client ComfyUI"
   ]
  },
  {
   "cell_type": "code",
   "execution_count": null,
   "metadata": {},
   "outputs": [],
   "source": [
    "# Créer client\n",
    "try:\n",
    "    client = create_client()\n",
    "    print(\"✅ Client ComfyUI créé avec succès\")\n",
    "except ConnectionError as e:\n",
    "    print(f\"❌ Erreur connexion: {e}\")\n",
    "    client = None"
   ]
  },
  {
   "cell_type": "markdown",
   "metadata": {},
   "source": [
    "## Cell 4: Génération Text-to-Image Simple"
   ]
  },
  {
   "cell_type": "code",
   "execution_count": null,
   "metadata": {},
   "outputs": [],
   "source": [
    "# Génération image test\n",
    "if client:\n",
    "    print(\"🎨 Lancement génération...\")\n",
    "    print(\"   Prompt: 'A beautiful sunset over mountains'\")\n",
    "    print(\"   Résolution: 512x512\")\n",
    "    print(\"   Steps: 20\")\n",
    "    print(\"\\n⏳ Génération en cours (5-10 secondes)...\\n\")\n",
    "    \n",
    "    prompt_id = client.generate_text2image(\n",
    "        prompt=\"A beautiful sunset over mountains\",\n",
    "        negative_prompt=\"blurry, low quality, distorted\",\n",
    "        width=512,\n",
    "        height=512,\n",
    "        steps=20,\n",
    "        cfg=7.0,\n",
    "        seed=42,  # Reproductible\n",
    "        save_prefix=\"test_phase13a\"\n",
    "    )\n",
    "    \n",
    "    if prompt_id:\n",
    "        print(f\"\\n✅ Génération réussie!\")\n",
    "        print(f\"   Prompt ID: {prompt_id}\")\n",
    "        print(f\"\\n💾 Image sauvegardée dans ComfyUI output/\")\n",
    "    else:\n",
    "        print(\"\\n❌ Génération échouée\")\n",
    "        print(\"   Vérifier logs ComfyUI pour détails\")\n",
    "else:\n",
    "    print(\"❌ Client non initialisé\")"
   ]
  },
  {
   "cell_type": "markdown",
   "metadata": {},
   "source": [
    "## Cell 5: Résumé Test"
   ]
  },
  {
   "cell_type": "code",
   "execution_count": null,
   "metadata": {},
   "outputs": [],
   "source": [
    "# Résumé\n",
    "print(\"=\"*60)\n",
    "print(\"📋 RÉSUMÉ TEST PHASE 13A\")\n",
    "print(\"=\"*60)\n",
    "\n",
    "if client and prompt_id:\n",
    "    print(\"\\n✅ Status: SUCCESS\")\n",
    "    print(\"\\n🎯 Accomplissements:\")\n",
    "    print(\"   ✅ ComfyUI accessible\")\n",
    "    print(\"   ✅ Client Python opérationnel\")\n",
    "    print(\"   ✅ Génération text-to-image validée\")\n",
    "    print(\"   ✅ Bridge ComfyUI fonctionnel\")\n",
    "    \n",
    "    print(\"\\n🚀 Prêt pour Phase 13B:\")\n",
    "    print(\"   - Implémentation notebook 02-1 complet\")\n",
    "    print(\"   - Workflows avancés (image-to-image, etc.)\")\n",
    "    print(\"   - Intégration pédagogique complète\")\n",
    "else:\n",
    "    print(\"\\n⚠️ Status: PARTIAL\")\n",
    "    print(\"\\n❌ Problèmes détectés:\")\n",
    "    if not client:\n",
    "        print(\"   - Connexion ComfyUI échouée\")\n",
    "    if client and not prompt_id:\n",
    "        print(\"   - Génération échouée (workflow incompatible?)\")\n",
    "    \n",
    "    print(\"\\n📚 Troubleshooting:\")\n",
    "    print(\"   1. Vérifier ComfyUI démarré: http://localhost:8188\")\n",
    "    print(\"   2. Vérifier modèle Qwen chargé\")\n",
    "    print(\"   3. Consulter logs ComfyUI\")\n",
    "    print(\"   4. Voir: TROUBLESHOOTING.md\")\n",
    "\n",
    "print(\"\\n\" + \"=\"*60)"
   ]
  }
 ],
 "metadata": {
  "kernelspec": {
   "display_name": "Python 3",
   "language": "python",
   "name": "python3"
  },
  "language_info": {
   "codemirror_mode": {
    "name": "ipython",
    "version": 3
   },
   "file_extension": ".py",
   "mimetype": "text/x-python",
   "name": "python",
   "nbconvert_exporter": "python",
   "pygments_lexer": "ipython3",
   "version": "3.11.0"
  }
 },
 "nbformat": 4,
 "nbformat_minor": 4
}