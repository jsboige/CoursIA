{
  "nbformat": 4,
  "nbformat_minor": 4,
  "metadata": {
    "kernelspec": {
      "display_name": "Python 3 (ipykernel)",
      "language": "python",
      "name": "python3"
    },
    "language_info": {
      "codemirror_mode": {
        "name": "ipython",
        "version": 3
      },
      "file_extension": ".py",
      "mimetype": "text/x-python",
      "name": "python",
      "nbconvert_exporter": "python3",
      "version": "3.11.0"
    },
    "genai": {
      "enabled": true,
      "level": "examples",
      "module": "examples",
      "dependencies": [
        "openai",
        "requests",
        "pillow",
        "matplotlib"
      ],
      "estimated_duration_minutes": 30,
      "difficulty": "intermediate",
      "learning_outcomes": [
        "Créer des cartes historiques interactives",
        "Générer des reconstructions de sites historiques",
        "Produire des visualisations géographiques",
        "Concevoir des timelines illustrées"
      ]
    }
  },
  "cells": [
    {
      "cell_type": "markdown",
      "source": "# 🗺️ Histoire-Géographie avec GenAI\n\n**Module :** Examples Sectoriels - Histoire-Géographie  \n**Niveau :** 🟡 Intermédiaire  \n**Technologies :** DALL-E 3, GPT-5 Vision  \n**Durée estimée :** 30 minutes  \n\n## 🎯 Objectifs d'Apprentissage\n\n- [ ] Générer des cartes historiques avec contexte\n- [ ] Créer des reconstructions visuelles de sites historiques\n- [ ] Produire des visualisations géographiques thématiques\n- [ ] Concevoir des timelines historiques illustrées\n- [ ] Adapter le contenu visuel au niveau éducatif\n\n## 📚 Prérequis\n\n- Notebooks Foundation (01-1, 01-2) complétés\n- Connaissances historiques et géographiques de base",
      "metadata": {}
    },
    {
      "cell_type": "code",
      "source": "# Paramètres Papermill - JAMAIS modifier ce commentaire\n\nnotebook_mode = \"interactive\"\nskip_widgets = False\ndebug_level = \"INFO\"\n\n# Configuration contenu\nhistory_period = \"all\"  # \"ancient\", \"medieval\", \"modern\", \"contemporary\", \"all\"\ngeography_focus = \"world\"  # \"world\", \"europe\", \"france\", \"local\"\nimage_style = \"educational\"  # \"educational\", \"artistic\", \"documentary\"\nimage_quality = \"hd\"\n\n# Sujets\nhistory_topics = [\"roman_empire\", \"french_revolution\", \"world_war_1\"]\ngeography_topics = [\"world_map\", \"climate_zones\", \"mountain_ranges\"]\n\nsave_resources = True\nexport_lesson_pack = True",
      "metadata": {
        "tags": [
          "parameters"
        ]
      },
      "execution_count": null,
      "outputs": []
    },
    {
      "cell_type": "code",
      "source": "# Setup environnement\nimport os\nimport sys\nimport json\nimport requests\nfrom pathlib import Path\nfrom datetime import datetime\nfrom typing import Dict, List, Any, Optional\nfrom io import BytesIO\nfrom PIL import Image\nimport matplotlib.pyplot as plt\nimport logging\n\nGENAI_ROOT = Path.cwd()\nwhile GENAI_ROOT.name != 'GenAI' and len(GENAI_ROOT.parts) > 1:\n    GENAI_ROOT = GENAI_ROOT.parent\n\nOUTPUT_DIR = GENAI_ROOT / 'outputs' / 'history_geography'\nOUTPUT_DIR.mkdir(parents=True, exist_ok=True)\n\nlogging.basicConfig(level=getattr(logging, debug_level))\nlogger = logging.getLogger('history_geography')\n\nopenrouter_key = os.getenv('OPENROUTER_API_KEY')\nif not openrouter_key:\n    raise ValueError(\"❌ OPENROUTER_API_KEY manquante\")\n\napi_base_url = \"https://openrouter.ai/api/v1\"\nheaders = {\n    \"Authorization\": f\"Bearer {openrouter_key}\",\n    \"HTTP-Referer\": \"https://coursia.myia.io\",\n    \"X-Title\": \"CoursIA History Geography\",\n    \"Content-Type\": \"application/json\"\n}\n\nprint(f\"🗺️  Histoire-Géographie avec GenAI\")\nprint(f\"📅 {datetime.now().strftime('%Y-%m-%d %H:%M:%S')}\")\nprint(f\"🔧 Période: {history_period}, Focus: {geography_focus}\")\nprint(f\"✅ Environnement configuré\")",
      "metadata": {},
      "execution_count": null,
      "outputs": []
    },
    {
      "cell_type": "markdown",
      "source": "## 🏛️ Section 1: Cartes Historiques\n\nGénération de cartes avec contexte historique et évolutions territoriales.",
      "metadata": {}
    },
    {
      "cell_type": "code",
      "source": "# Templates cartes historiques\nhistorical_maps = {\n    \"roman_empire\": {\n        \"title\": \"🏛️ Empire Romain (117 ap. J-C)\",\n        \"prompt\": \"\"\"Create an educational historical map of the Roman Empire at its peak (117 AD):\n- Europe, North Africa, Middle East visible\n- Roman territory clearly marked in distinct color (red/pink)\n- Major provinces labeled (Britannia, Gallia, Hispania, Italia, etc.)\n- Important cities: Rome, Constantinople, Alexandria, Carthage\n- Major roads (Via Appia, etc.) as thin lines\n- Borders with neighboring peoples (Germania, Parthia, etc.)\n- Legend showing provinces, cities, roads\n- Compass rose\n- Scale bar\n\nStyle: Clean educational map. Roman territory in red, seas in blue, land in beige.\nClear labels in readable font. Professional history textbook quality.\"\"\",\n        \"period\": \"Antiquité\",\n        \"grade_level\": \"6ème\"\n    },\n    \"french_revolution_map\": {\n        \"title\": \"⚔️ France Révolutionnaire (1789-1799)\",\n        \"prompt\": \"\"\"Create an educational map of France during the Revolutionary period (1789-1799):\n- France's borders clearly defined\n- Major revolutionary departments marked\n- Important cities of revolutionary events (Paris, Lyon, Marseille, Bordeaux)\n- Areas of counter-revolutionary activity (Vendée) in different color\n- Routes of revolutionary armies\n- Neighboring countries and their stance\n- Legend explaining symbols and colors\n\nStyle: Historical educational map. Use revolutionary colors (blue, white, red accents).\nClear labels. White background. Professional history textbook style.\"\"\",\n        \"period\": \"Époque Moderne\",\n        \"grade_level\": \"4ème\"\n    },\n    \"world_exploration\": {\n        \"title\": \"🌍 Grandes Découvertes (XV-XVIe siècles)\",\n        \"prompt\": \"\"\"Create an educational map showing major exploration routes (15th-16th centuries):\n- World map with continents\n- Major exploration routes marked with different colored lines:\n  * Columbus (1492) - red line\n  * Vasco da Gama (1498) - blue line\n  * Magellan (1519-1522) - green line\n- Starting points (Spain, Portugal) and destinations\n- Trade routes and colonies established\n- Compass rose\n- Legend with explorer names and dates\n\nStyle: Vintage map aesthetic. Aged parchment background. Clear colored routes.\nProfessional historical atlas quality.\"\"\",\n        \"period\": \"Renaissance\",\n        \"grade_level\": \"5ème\"\n    }\n}\n\nprint(\"\\n🏛️ CARTES HISTORIQUES\")\nprint(\"=\" * 50)\nfor key, map_data in historical_maps.items():\n    print(f\"\\n{map_data['title']}\")\n    print(f\"   📅 Période: {map_data['period']}\")\n    print(f\"   🎓 Niveau: {map_data['grade_level']}\")",
      "metadata": {},
      "execution_count": null,
      "outputs": []
    },
    {
      "cell_type": "code",
      "source": "# Fonction génération cartes\ndef generate_historical_visual(prompt: str,\n                              title: str,\n                              category: str,\n                              quality: str = \"hd\") -> Dict[str, Any]:\n    \"\"\"Génère une visualisation historique/géographique.\"\"\"\n    \n    payload = {\n        \"model\": \"openai/dall-e-3\",\n        \"prompt\": prompt,\n        \"n\": 1,\n        \"size\": \"1792x1024\",\n        \"quality\": quality,\n        \"style\": \"natural\",\n        \"response_format\": \"url\"\n    }\n    \n    try:\n        print(f\"\\n🎨 Génération: {title}\")\n        response = requests.post(\n            f\"{api_base_url}/images/generations\",\n            headers=headers,\n            json=payload,\n            timeout=90\n        )\n        \n        if response.status_code == 200:\n            result = response.json()\n            print(f\"   ✅ Généré en {response.elapsed.total_seconds():.1f}s\")\n            \n            return {\n                \"success\": True,\n                \"image_url\": result[\"data\"][0][\"url\"],\n                \"title\": title,\n                \"category\": category,\n                \"revised_prompt\": result[\"data\"][0].get(\"revised_prompt\", prompt),\n                \"timestamp\": datetime.now().isoformat()\n            }\n        else:\n            return {\"success\": False, \"error\": response.json().get(\"error\", {}).get(\"message\")}\n    except Exception as e:\n        return {\"success\": False, \"error\": str(e)}\n\ndef save_and_display(result: Dict[str, Any]) -> Optional[Image.Image]:\n    \"\"\"Télécharge, affiche et sauvegarde.\"\"\"\n    if not result.get('success'):\n        print(f\"   ❌ Échec: {result.get('error')}\")\n        return None\n    \n    try:\n        img_response = requests.get(result['image_url'], timeout=30)\n        if img_response.status_code == 200:\n            image = Image.open(BytesIO(img_response.content))\n            \n            plt.figure(figsize=(16, 9))\n            plt.imshow(image)\n            plt.title(result['title'], fontsize=14, fontweight='bold', pad=20)\n            plt.axis('off')\n            plt.tight_layout()\n            plt.show()\n            \n            if save_resources:\n                cat_dir = OUTPUT_DIR / result['category']\n                cat_dir.mkdir(exist_ok=True)\n                \n                timestamp = datetime.now().strftime('%Y%m%d_%H%M%S')\n                safe_title = result['title'].replace(' ', '_')[:50]\n                filename = f\"{safe_title}_{timestamp}.png\"\n                \n                image.save(cat_dir / filename)\n                print(f\"   💾 Sauvegardé: {filename}\")\n            \n            return image\n    except Exception as e:\n        print(f\"   ❌ Erreur: {str(e)[:100]}\")\n    \n    return None\n\n# Génération: Empire Romain\nif history_period in [\"ancient\", \"all\"]:\n    print(\"\\n\" + \"=\" * 60)\n    print(\"🏛️ GÉNÉRATION: EMPIRE ROMAIN\")\n    print(\"=\" * 60)\n    \n    roman_map = historical_maps[\"roman_empire\"]\n    roman_result = generate_historical_visual(\n        prompt=roman_map[\"prompt\"],\n        title=roman_map[\"title\"],\n        category=\"history_maps\",\n        quality=image_quality\n    )\n    \n    if roman_result['success']:\n        roman_image = save_and_display(roman_result)\n        print(f\"\\n💡 Usages pédagogiques:\")\n        print(f\"   • Cours d'Histoire {roman_map['grade_level']}\")\n        print(f\"   • Étude expansion romaine\")\n        print(f\"   • Exercices de localisation\")\n        print(f\"   • Comparaison avec l'Europe actuelle\")",
      "metadata": {},
      "execution_count": null,
      "outputs": []
    },
    {
      "cell_type": "markdown",
      "source": "## 🏰 Section 2: Reconstructions Historiques\n\nVisualisation de sites et monuments historiques tels qu'ils étaient.",
      "metadata": {}
    },
    {
      "cell_type": "code",
      "source": "# Templates reconstructions\nhistorical_reconstructions = {\n    \"colosseum\": {\n        \"title\": \"🏛️ Colisée de Rome (Ier siècle)\",\n        \"prompt\": \"\"\"Create a historically accurate reconstruction of the Colosseum in ancient Rome (1st century AD):\n- Exterior view showing the complete amphitheater\n- Original white marble and travertine stone\n- All levels intact (ground, first, second, third floors)\n- Awning system (velarium) visible\n- Crowds of people in Roman togas\n- Surrounding Roman architecture visible\n- Clear blue sky\n- Vibrant, lived-in appearance\n\nStyle: Historical reconstruction, photorealistic. Show the building in its prime.\nBright daylight. Educational history documentary quality.\"\"\",\n        \"period\": \"Antiquité\",\n        \"educational_value\": \"Comprendre l'architecture romaine et les loisirs\"\n    },\n    \"versailles_construction\": {\n        \"title\": \"👑 Château de Versailles (XVIIe siècle)\",\n        \"prompt\": \"\"\"Create a historical reconstruction of the Palace of Versailles during Louis XIV's reign (17th century):\n- Main palace facade with its distinctive architecture\n- Elaborate gardens with fountains active\n- Courtiers in period clothing (elaborate dresses, wigs)\n- Carriages arriving at the palace\n- Golden details and decorations prominent\n- Formal French garden layout visible\n- Sunny day showing the palace in its glory\n\nStyle: Historical accuracy. Baroque opulence. Rich colors and gold accents.\nEducational documentary quality showing royal life.\"\"\",\n        \"period\": \"Ancien Régime\",\n        \"educational_value\": \"Visualiser le mode de vie de la monarchie absolue\"\n    },\n    \"medieval_castle\": {\n        \"title\": \"🏰 Château-Fort Médiéval (XIIIe siècle)\",\n        \"prompt\": \"\"\"Create a historically accurate medieval castle (13th century):\n- Stone castle with multiple towers and battlements\n- Moat with water surrounding the castle\n- Drawbridge in raised position\n- Banners flying from towers\n- Medieval village visible nearby\n- People in medieval clothing around the castle\n- Guards on the walls\n- Countryside landscape\n\nStyle: Medieval period accuracy. Stone textures realistic.\nDaylight showing defensive architecture clearly. Educational medieval history quality.\"\"\",\n        \"period\": \"Moyen-Âge\",\n        \"educational_value\": \"Comprendre l'architecture défensive médiévale\"\n    }\n}\n\nprint(\"\\n🏰 RECONSTRUCTIONS HISTORIQUES\")\nprint(\"=\" * 50)\nfor key, recon in historical_reconstructions.items():\n    print(f\"\\n{recon['title']}\")\n    print(f\"   📅 Période: {recon['period']}\")\n    print(f\"   🎯 Valeur: {recon['educational_value']}\")\n\n# Génération: Colisée\nif history_period in [\"ancient\", \"all\"]:\n    print(\"\\n\" + \"=\" * 60)\n    print(\"🏛️ GÉNÉRATION: COLISÉE DE ROME\")\n    print(\"=\" * 60)\n    \n    colosseum = historical_reconstructions[\"colosseum\"]\n    colosseum_result = generate_historical_visual(\n        prompt=colosseum[\"prompt\"],\n        title=colosseum[\"title\"],\n        category=\"historical_reconstructions\",\n        quality=image_quality\n    )\n    \n    if colosseum_result['success']:\n        colosseum_image = save_and_display(colosseum_result)\n        print(f\"\\n💡 Applications:\")\n        print(f\"   • Cours sur la civilisation romaine\")\n        print(f\"   • Comparaison passé/présent\")\n        print(f\"   • Étude architecture antique\")",
      "metadata": {},
      "execution_count": null,
      "outputs": []
    },
    {
      "cell_type": "markdown",
      "source": "## 🌍 Section 3: Géographie Thématique\n\nCartes et visualisations géographiques (relief, climat, ressources).",
      "metadata": {}
    },
    {
      "cell_type": "code",
      "source": "# Templates géographie\ngeography_visuals = {\n    \"world_climate\": {\n        \"title\": \"🌡️ Zones Climatiques Mondiales\",\n        \"prompt\": \"\"\"Create an educational world map showing climate zones:\n- World map with all continents clearly visible\n- Climate zones color-coded:\n  * Tropical (red/orange)\n  * Dry/Desert (yellow/brown)\n  * Temperate (green)\n  * Continental (light blue)\n  * Polar (white/ice blue)\n- Clear legend explaining each climate zone\n- Major ocean currents (arrows)\n- Equator, Tropics, and Polar circles marked\n- Labels for major geographic features\n\nStyle: Educational geography textbook. Clear colors. White background.\nProfessional cartographic quality.\"\"\",\n        \"theme\": \"Climat\",\n        \"grade_level\": \"5ème/2nde\"\n    },\n    \"mountain_ranges\": {\n        \"title\": \"⛰️ Grandes Chaînes de Montagnes\",\n        \"prompt\": \"\"\"Create an educational 3D relief map showing major mountain ranges:\n- World view highlighting mountain systems:\n  * Himalayas (highest, snow-capped)\n  * Andes (long chain)\n  * Rocky Mountains\n  * Alps\n  * Atlas Mountains\n- Relief shading showing elevation\n- Color gradient from low (green) to high (brown to white)\n- Labels for major peaks (Everest, K2, Mont Blanc, etc.)\n- Scale showing elevation\n- Oceans in blue\n\nStyle: 3D relief map. Physical geography style. Clear elevation coloring.\nEducational atlas quality.\"\"\",\n        \"theme\": \"Relief\",\n        \"grade_level\": \"6ème/5ème\"\n    },\n    \"france_regions\": {\n        \"title\": \"🇫🇷 Régions de France\",\n        \"prompt\": \"\"\"Create an educational map of France showing all regions:\n- France with clear borders\n- All 13 metropolitan regions distinctly colored\n- Regional capitals marked with stars\n- Major cities labeled (Paris, Lyon, Marseille, etc.)\n- Neighboring countries labeled\n- Seas and ocean labeled (Manche, Atlantique, Méditerranée)\n- Rivers (Loire, Seine, Rhône, Garonne)\n- Legend with region names\n- Compass rose and scale\n\nStyle: Clean administrative map. Pastel colors for regions.\nWhite background. Professional French geography textbook quality.\"\"\",\n        \"theme\": \"Administration\",\n        \"grade_level\": \"CM1/CM2\"\n    }\n}\n\nprint(\"\\n🌍 GÉOGRAPHIE THÉMATIQUE\")\nprint(\"=\" * 50)\nfor key, geo in geography_visuals.items():\n    print(f\"\\n{geo['title']}\")\n    print(f\"   🗺️  Thème: {geo['theme']}\")\n    print(f\"   🎓 Niveau: {geo['grade_level']}\")\n\n# Génération: Zones Climatiques\nif geography_focus in [\"world\", \"all\"]:\n    print(\"\\n\" + \"=\" * 60)\n    print(\"🌡️ GÉNÉRATION: ZONES CLIMATIQUES\")\n    print(\"=\" * 60)\n    \n    climate = geography_visuals[\"world_climate\"]\n    climate_result = generate_historical_visual(\n        prompt=climate[\"prompt\"],\n        title=climate[\"title\"],\n        category=\"geography\",\n        quality=image_quality\n    )\n    \n    if climate_result['success']:\n        climate_image = save_and_display(climate_result)\n        print(f\"\\n💡 Usages:\")\n        print(f\"   • Cours de géographie {climate['grade_level']}\")\n        print(f\"   • Étude climats et biomes\")\n        print(f\"   • Lien avec écosystèmes\")",
      "metadata": {},
      "execution_count": null,
      "outputs": []
    },
    {
      "cell_type": "markdown",
      "source": "## 📅 Section 4: Timelines Historiques Illustrées\n\nCréation de frises chronologiques visuelles avec événements clés.",
      "metadata": {}
    },
    {
      "cell_type": "code",
      "source": "# Template timeline\ntimeline_prompt = \"\"\"Create an educational illustrated timeline of the French Revolution (1789-1799):\n\nStructure:\n- Horizontal timeline from left (1789) to right (1799)\n- Major events marked with dates and small illustrations:\n  * 1789: Storming of Bastille (fortress image)\n  * 1791: Constitutional Monarchy (document)\n  * 1792: First Republic (tricolor flag)\n  * 1793: Reign of Terror (guillotine silhouette)\n  * 1794: Fall of Robespierre\n  * 1799: Napoleon's coup (Napoleon figure)\n\n- Timeline bar in blue-white-red (French colors)\n- Each event has:\n  * Date clearly marked\n  * Small iconic illustration\n  * Brief label\n- Clean, organized layout\n- Educational poster style\n\nStyle: Infographic quality. Clear, colorful, educational.\nWhite background. Professional history education poster.\"\"\"\n\nprint(\"\\n📅 TIMELINE ILLUSTRÉE\")\nprint(\"=\" * 50)\nprint(\"\\n🎨 Génération: Révolution Française (1789-1799)\")\n\ntimeline_result = generate_historical_visual(\n    prompt=timeline_prompt,\n    title=\"📅 Timeline Révolution Française\",\n    category=\"timelines\",\n    quality=image_quality\n)\n\nif timeline_result['success']:\n    timeline_image = save_and_display(timeline_result)\n    print(f\"\\n✅ Timeline générée\")\n    print(f\"\\n💡 Applications pédagogiques:\")\n    print(f\"   • Support visuel cours d'histoire\")\n    print(f\"   • Affichage classe\")\n    print(f\"   • Révisions chronologie\")\n    print(f\"   • Exercices de datation\")\n    print(f\"   • Compréhension enchainement événements\")",
      "metadata": {},
      "execution_count": null,
      "outputs": []
    },
    {
      "cell_type": "markdown",
      "source": "## 📦 Section 5: Pack Pédagogique Histoire-Géo\n\nExport complet pour enseignants.",
      "metadata": {}
    },
    {
      "cell_type": "code",
      "source": "if export_lesson_pack:\n    print(\"\\n📦 EXPORT PACK PÉDAGOGIQUE\")\n    print(\"=\" * 50)\n    \n    pack_dir = OUTPUT_DIR / f\"history_geo_pack_{datetime.now().strftime('%Y%m%d_%H%M%S')}\"\n    pack_dir.mkdir(exist_ok=True)\n    \n    (pack_dir / 'maps').mkdir(exist_ok=True)\n    (pack_dir / 'reconstructions').mkdir(exist_ok=True)\n    (pack_dir / 'geography').mkdir(exist_ok=True)\n    (pack_dir / 'timelines').mkdir(exist_ok=True)\n    (pack_dir / 'lesson_plans').mkdir(exist_ok=True)\n    \n    print(f\"\\n📁 Structure créée: {pack_dir.name}\")\n    \n    # Collecte ressources générées\n    resources = []\n    if 'roman_result' in locals() and roman_result.get('success'):\n        resources.append(('roman', roman_result, historical_maps['roman_empire']))\n    if 'colosseum_result' in locals() and colosseum_result.get('success'):\n        resources.append(('colosseum', colosseum_result, historical_reconstructions['colosseum']))\n    if 'climate_result' in locals() and climate_result.get('success'):\n        resources.append(('climate', climate_result, geography_visuals['world_climate']))\n    if 'timeline_result' in locals() and timeline_result.get('success'):\n        resources.append(('timeline', timeline_result, {'period': 'Révolution', 'educational_value': 'Chronologie'}))\n    \n    print(f\"\\n📊 {len(resources)} ressources à exporter\")\n    \n    # Export\n    pack_index = {\n        \"title\": \"Pack Pédagogique Histoire-Géographie\",\n        \"created\": datetime.now().isoformat(),\n        \"period\": history_period,\n        \"focus\": geography_focus,\n        \"resources\": []\n    }\n    \n    for key, result, template in resources:\n        img_response = requests.get(result['image_url'], timeout=30)\n        if img_response.status_code == 200:\n            image = Image.open(BytesIO(img_response.content))\n            \n            # Déterminer le sous-dossier\n            subfolder = result['category']\n            img_file = pack_dir / subfolder / f\"{key}.png\"\n            image.save(img_file)\n            \n            pack_index['resources'].append({\n                \"id\": key,\n                \"title\": result['title'],\n                \"category\": result['category'],\n                \"file\": f\"{subfolder}/{key}.png\",\n                \"period\": template.get('period', 'N/A'),\n                \"value\": template.get('educational_value', template.get('theme', 'N/A'))\n            })\n            \n            print(f\"   ✅ {result['title']}\")\n    \n    # README\n    readme = f\"\"\"# Pack Pédagogique Histoire-Géographie\n\n**Créé:** {datetime.now().strftime('%Y-%m-%d')}\n**Période:** {history_period}\n**Focus:** {geography_focus}\n\n## 📚 Contenu\n\n### Cartes Historiques\nCartes montrant évolutions territoriales et événements géographiques.\n\n### Reconstructions\nVisualisations de sites historiques dans leur état d'origine.\n\n### Géographie Thématique\nCartes thématiques (climat, relief, régions).\n\n### Timelines\nFrises chronologiques illustrées.\n\n## 💡 Utilisation\nCes ressources sont conçues pour l'enseignement collège/lycée.\nAdaptez selon le niveau de vos élèves.\n\"\"\"\n    \n    with open(pack_dir / 'README.md', 'w', encoding='utf-8') as f:\n        f.write(readme)\n    \n    with open(pack_dir / 'pack_index.json', 'w', encoding='utf-8') as f:\n        json.dump(pack_index, f, indent=2, ensure_ascii=False)\n    \n    print(f\"\\n✅ Pack exporté: {pack_dir.name}\")\n    print(f\"📁 {len(pack_index['resources'])} ressources incluses\")\nelse:\n    print(\"\\n⏭️  Export désactivé\")\n\nprint(\"\\n\" + \"=\" * 50)\nprint(\"✅ Notebook Histoire-Géographie terminé!\")\nprint(\"🗺️  Ressources pédagogiques prêtes à l'emploi\")\nprint(\"=\" * 50)",
      "metadata": {},
      "execution_count": null,
      "outputs": []
    }
  ]
}