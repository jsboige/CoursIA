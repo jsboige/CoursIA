{
 "cells": [
  {
   "cell_type": "markdown",
   "metadata": {},
   "source": [
    "# Notebook de travail\n",
    "\n",
    "Ce notebook est généré de façon incrémentale pour accomplir la tâche décrite dans la partie suivante."
   ]
  },
  {
   "cell_type": "markdown",
   "metadata": {},
   "source": [
    "## 1. Objectif du Notebook\n",
    "\n",
    "Dans cette partie, nous décrivons l'objectif du notebook, sa fonction, les outils qu'il doit utiliser, les buts qu'il cherche à atteindre.\n",
    "\n",
    "### Tache originale\n",
    "\n",
    "Voilà la tâche telle qu'elle a été initialement formulée.\n",
    "\n",
    "{{TASK_DESCRIPTION}}\n",
    "\n",
    "### Interprétation et sous-objectifs\n",
    "\n",
    "Dans cette partie, on explicite l'interprétation de la tâche originale, et le détail de la méthode mise en oeuvre pour la réaliser."
   ]
  },
  {
   "cell_type": "markdown",
   "metadata": {},
   "source": [
    "## 2. Préparation de l'environnement\n",
    "Nous allons d'abord installer et importer les composants nécessaires. \n",
    "\n",
    "### Installation des bibliothèques Nuget\n",
    "\n",
    "Dans la cellule de code suivante, nous installons l'ensemble des bibliothèques Nuget utilisées dans le Notebook."
   ]
  },
  {
   "cell_type": "code",
   "execution_count": null,
   "metadata": {
    "dotnet_interactive": {
     "language": "csharp"
    },
    "polyglot_notebook": {
     "kernelName": "csharp"
    }
   },
   "outputs": [],
   "source": [
    "// Cell 1\n"
   ]
  },
  {
   "cell_type": "markdown",
   "metadata": {},
   "source": [
    "### Importation des espaces de noms utiles\n",
    "Dans la cellule de code suivante, on regroupe l'ensemble des usings utiles pour les cellules de code des parties suivantes."
   ]
  },
  {
   "cell_type": "code",
   "execution_count": null,
   "metadata": {
    "dotnet_interactive": {
     "language": "csharp"
    },
    "polyglot_notebook": {
     "kernelName": "csharp"
    }
   },
   "outputs": [],
   "source": [
    "// Cell 2\n"
   ]
  },
  {
   "cell_type": "markdown",
   "metadata": {},
   "source": [
    "## 3. Initialisation\n",
    "\n",
    "Dans cette partie, nous créons les objets dont la manipulation permettra d'atteindre l'objectif fixé. "
   ]
  },
  {
   "cell_type": "code",
   "execution_count": null,
   "metadata": {
    "dotnet_interactive": {
     "language": "csharp"
    },
    "polyglot_notebook": {
     "kernelName": "csharp"
    }
   },
   "outputs": [],
   "source": [
    "// Cell 3\n",
    "\n"
   ]
  },
  {
   "cell_type": "markdown",
   "metadata": {},
   "source": [
    "## 4. Traitement\n",
    "\n",
    "Nous effectuons les manipulations et traitements nous permettant d'obtenir les résultats escomptés. On génère autant que possible des sorties d'affichage pour s'assurer de la bonne exécution."
   ]
  },
  {
   "cell_type": "code",
   "execution_count": null,
   "metadata": {
    "dotnet_interactive": {
     "language": "csharp"
    },
    "polyglot_notebook": {
     "kernelName": "csharp"
    }
   },
   "outputs": [],
   "source": [
    "// Cell 4\n",
    "\n"
   ]
  },
  {
   "cell_type": "markdown",
   "metadata": {},
   "source": [
    "## 5. Analyse\n",
    "\n",
    "Nous effectuons les vérifications, les aggrégats et les visualisations nécessaires pour valider et rendre compte des résultats."
   ]
  },
  {
   "cell_type": "code",
   "execution_count": null,
   "metadata": {
    "dotnet_interactive": {
     "language": "csharp"
    },
    "polyglot_notebook": {
     "kernelName": "csharp"
    }
   },
   "outputs": [],
   "source": [
    "// Cell 5\n",
    "\n"
   ]
  },
  {
   "cell_type": "markdown",
   "metadata": {},
   "source": [
    "## 6. Conclusion\n",
    "\n",
    "Conclusion Markdown issue de l'exécution du notebook, constatant la conformité des sorties des cellules de code et explicitant la réalisation de la tâche et son résultat."
   ]
  }
 ],
 "metadata": {
  "kernelspec": {
   "display_name": ".NET (C#)",
   "language": "C#",
   "name": ".net-csharp"
  },
  "polyglot_notebook": {
   "kernelInfo": {
    "defaultKernelName": "csharp",
    "items": [
     {
      "aliases": [],
      "languageName": "csharp",
      "name": "csharp"
     }
    ]
   }
  }
 },
 "nbformat": 4,
 "nbformat_minor": 2
}
