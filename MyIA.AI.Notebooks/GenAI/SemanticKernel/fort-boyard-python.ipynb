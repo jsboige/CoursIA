{
 "cells": [
  {
   "cell_type": "markdown",
   "metadata": {},
   "source": [
    "# Jeu de devinette : Père Fouras vs Laurent Jalabert\n",
    "\n",
    "Dans ce notebook, nous allons simuler le duel légendaire entre le Père Fouras et Laurent Jalabert en utilisant Semantic Kernel avec des agents conversationnels."
   ]
  },
  {
   "cell_type": "code",
   "execution_count": null,
   "metadata": {},
   "outputs": [],
   "source": [
    "# Bloc 1 - Installation et imports\n",
    "%pip install semantic-kernel python-dotenv --quiet\n",
    "import os\n",
    "import logging\n",
    "from dotenv import load_dotenv\n",
    "from semantic_kernel import Kernel\n",
    "from semantic_kernel.agents import ChatCompletionAgent, AgentGroupChat\n",
    "from semantic_kernel.agents.strategies import KernelFunctionTerminationStrategy\n",
    "from semantic_kernel.connectors.ai.open_ai import OpenAIChatCompletion\n",
    "from semantic_kernel.contents import ChatHistory\n",
    "from semantic_kernel.functions import KernelArguments\n",
    "\n",
    "# Configuration des logs\n",
    "logging.basicConfig(\n",
    "    level=logging.INFO,\n",
    "    format='%(asctime)s [%(levelname)s] %(message)s',\n",
    "    handlers=[logging.StreamHandler()]\n",
    ")\n",
    "logger = logging.getLogger('FortBoyard')\n",
    "\n",
    "# Chargement des variables d'environnement\n",
    "load_dotenv()\n"
   ]
  },
  {
   "cell_type": "markdown",
   "metadata": {},
   "source": [
    "## Configuration des agents"
   ]
  },
  {
   "cell_type": "code",
   "execution_count": null,
   "metadata": {},
   "outputs": [],
   "source": [
    "# Bloc 2 - Création du kernel\n",
    "MOT_A_DEVINER = \"anticonstitutionnellement\"\n",
    "\n",
    "def create_kernel():\n",
    "    kernel = Kernel()\n",
    "    kernel.add_service(OpenAIChatCompletion(\n",
    "        service_id=\"openai\",\n",
    "        ai_model_id=\"gpt-4o-mini\",\n",
    "        api_key=os.getenv(\"OPENAI_API_KEY\")\n",
    "    ))\n",
    "    return kernel\n"
   ]
  },
  {
   "cell_type": "markdown",
   "metadata": {},
   "source": [
    "## Définition des prompts"
   ]
  },
  {
   "cell_type": "code",
   "execution_count": null,
   "metadata": {},
   "outputs": [],
   "source": [
    "# Bloc 3 - Prompts des agents\n",
    "PERE_FOURAS_PROMPT = f\"\"\"\n",
    "Tu es le Père Fouras de Fort Boyard. \n",
    "Tu dois faire deviner le mot '{MOT_A_DEVINER}'. \n",
    "Utilise des charades et réponses énigmatiques. \n",
    "Ne révèle jamais directement le mot !\n",
    "\"\"\"\n",
    "\n",
    "LAURENT_JALABERT_PROMPT = \"\"\"\n",
    "Tu es Laurent Jalabert. \n",
    "Tu dois deviner le mot en posant des questions fermées (Oui/Non).\n",
    "Sois perspicace et stratégique dans tes questions.\n",
    "\"\"\""
   ]
  },
  {
   "cell_type": "markdown",
   "metadata": {},
   "source": [
    "## Création des agents avec stratégies personnalisées"
   ]
  },
  {
   "cell_type": "code",
   "execution_count": null,
   "metadata": {},
   "outputs": [],
   "source": [
    "# Bloc 4 - Définition des agents\n",
    "pere_fouras = ChatCompletionAgent(\n",
    "    kernel=create_kernel(),\n",
    "    # service_id=\"openai\",\n",
    "    name=\"Pere_Fouras\",\n",
    "    instructions=PERE_FOURAS_PROMPT,\n",
    ")\n",
    "\n",
    "laurent_jalabert = ChatCompletionAgent(\n",
    "    kernel=create_kernel(),\n",
    "    # service_id=\"openai\",\n",
    "    name=\"Laurent_Jalabert\",\n",
    "    instructions=LAURENT_JALABERT_PROMPT,\n",
    ")"
   ]
  },
  {
   "cell_type": "markdown",
   "metadata": {},
   "source": [
    "## Stratégie de terminaison personnalisée"
   ]
  },
  {
   "cell_type": "code",
   "execution_count": null,
   "metadata": {},
   "outputs": [],
   "source": [
    "from semantic_kernel.agents.strategies.termination.termination_strategy import TerminationStrategy\n",
    "from semantic_kernel.contents.chat_message_content import ChatMessageContent\n",
    "\n",
    "# Bloc 5 - Logique de terminaison\n",
    "class FortBoyardTerminationStrategy(TerminationStrategy):\n",
    "    \"\"\"Arrête la partie si le mot est deviné\"\"\"\n",
    "    \n",
    "    async def should_terminate(\n",
    "        self, \n",
    "        agent: ChatCompletionAgent, \n",
    "        history: list[ChatMessageContent], \n",
    "        cancellation_token = None\n",
    "    ) -> bool:\n",
    "        if not history:\n",
    "            return False\n",
    "        \n",
    "        last_message = str(history[-1].content).lower()\n",
    "        return MOT_A_DEVINER in last_message"
   ]
  },
  {
   "cell_type": "markdown",
   "metadata": {},
   "source": [
    "## Configuration du groupe de discussion"
   ]
  },
  {
   "cell_type": "code",
   "execution_count": null,
   "metadata": {},
   "outputs": [],
   "source": [
    "# Bloc 6 - Configuration corrigée\n",
    "chat = AgentGroupChat(\n",
    "    agents=[pere_fouras, laurent_jalabert],\n",
    "    termination_strategy=FortBoyardTerminationStrategy(\n",
    "        agents=[laurent_jalabert],  # Définit explicitement les agents\n",
    "        maximum_iterations=20       # Définit le nombre max d'itérations\n",
    "    )\n",
    ")\n"
   ]
  },
  {
   "cell_type": "markdown",
   "metadata": {},
   "source": [
    "## Lancement de la partie !"
   ]
  },
  {
   "cell_type": "code",
   "execution_count": null,
   "metadata": {},
   "outputs": [],
   "source": [
    "from semantic_kernel.contents import AuthorRole, ChatMessageContent\n",
    "\n",
    "# Bloc 7 - Exécution du jeu\n",
    "async def jouer_partie():\n",
    "    logger.info(\"🚀 Départ du duel Père Fouras vs Laurent Jalabert !\")\n",
    "    logger.info(f\"Mot à deviner : {MOT_A_DEVINER.upper()}\")\n",
    "    \n",
    "    # Ajout du message système directement dans l'historique du chat\n",
    "    # await chat.add_chat_message(ChatMessageContent(role=AuthorRole.DEVELOPER, content=\"Nouvelle partie commencée !\"))\n",
    "\n",
    "    \n",
    "    async for message in chat.invoke():\n",
    "        role = message.role\n",
    "        # name = message.author_name or \"System\"\n",
    "        logger.info(f\"[{role}] : {message.content}\")\n",
    "    \n",
    "    logger.info(\"🎉 Partie terminée !\")\n",
    "\n",
    "await jouer_partie()\n"
   ]
  }
 ],
 "metadata": {
  "kernelspec": {
   "display_name": "coursIA",
   "language": "python",
   "name": "python3"
  },
  "language_info": {
   "codemirror_mode": {
    "name": "ipython",
    "version": 3
   },
   "file_extension": ".py",
   "mimetype": "text/x-python",
   "name": "python",
   "nbconvert_exporter": "python",
   "pygments_lexer": "ipython3",
   "version": "3.10.16"
  }
 },
 "nbformat": 4,
 "nbformat_minor": 2
}
