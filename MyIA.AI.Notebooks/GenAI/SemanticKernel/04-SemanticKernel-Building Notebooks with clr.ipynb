{
 "cells": [
  {
   "cell_type": "markdown",
   "metadata": {},
   "source": [
    "# Utilisation d'Agents C# (Semantic Kernel) depuis Python via pythonnet\n",
    "\n",
    "Ce **troisième notebook** illustre comment, en Python, on peut :\n",
    "\n",
    "1. **Installer et configurer** `pythonnet`  \n",
    "2. **Charger** la DLL .NET (compilée en C#) qui contient notre code d’agent (`AutoInvokeSKAgentsNotebookUpdater` et consorts)  \n",
    "3. **Instancier** et **appeler** ces classes depuis Python  \n",
    "\n",
    "**Prérequis** :  \n",
    "- Avoir le fichier `MyIA.AI.Notebooks.dll` déjà compilé (typiquement dans `..\\..\\bin\\Debug\\net9.0\\MyIA.AI.Notebooks.dll`).  \n",
    "- Disposer d’un environnement Python (3.x) qui peut installer `pythonnet`.  \n",
    "\n"
   ]
  },
  {
   "cell_type": "code",
   "execution_count": 1,
   "metadata": {},
   "outputs": [
    {
     "name": "stdout",
     "output_type": "stream",
     "text": [
      "Defaulting to user installation because normal site-packages is not writeable\n",
      "Requirement already satisfied: pythonnet in c:\\users\\jsboi\\appdata\\roaming\\python\\python313\\site-packages (3.0.5)\n",
      "Requirement already satisfied: clr_loader<0.3.0,>=0.2.7 in c:\\users\\jsboi\\appdata\\roaming\\python\\python313\\site-packages (from pythonnet) (0.2.7.post0)\n",
      "Requirement already satisfied: cffi>=1.17 in c:\\programdata\\miniconda3\\lib\\site-packages (from clr_loader<0.3.0,>=0.2.7->pythonnet) (1.17.1)\n",
      "Requirement already satisfied: pycparser in c:\\programdata\\miniconda3\\lib\\site-packages (from cffi>=1.17->clr_loader<0.3.0,>=0.2.7->pythonnet) (2.21)\n",
      "Note: you may need to restart the kernel to use updated packages.\n",
      "pythonnet version : 3.0.5\n",
      "Installation pythonnet : OK\n"
     ]
    },
    {
     "name": "stderr",
     "output_type": "stream",
     "text": [
      "C:\\Users\\jsboi\\AppData\\Local\\Temp\\ipykernel_16028\\2218308313.py:9: DeprecationWarning: pkg_resources is deprecated as an API. See https://setuptools.pypa.io/en/latest/pkg_resources.html\n",
      "  import pkg_resources\n"
     ]
    }
   ],
   "source": [
    "# ============================\n",
    "# Bloc 1 : Installation pythonnet & configuration\n",
    "# ============================\n",
    "\n",
    "# Installe pythonnet. À n’exécuter qu’une seule fois (enlevez --quiet si besoin)\n",
    "%pip install pythonnet\n",
    "\n",
    "# On peut vérifier la version\n",
    "import pkg_resources\n",
    "print(\"pythonnet version :\", pkg_resources.get_distribution(\"pythonnet\").version)\n",
    "\n",
    "print(\"Installation pythonnet : OK\")\n"
   ]
  },
  {
   "cell_type": "markdown",
   "metadata": {},
   "source": [
    "## Bloc 2 : Importation de la DLL .NET\n",
    "\n",
    "Nous allons :  \n",
    "1. **Modifier** le chemin Python (`sys.path`) pour inclure le dossier où se trouve la DLL .NET.  \n",
    "2. **Charger** la DLL (`clr.AddReference`)  \n",
    "3. **Importer** les namespaces/classes C# (ex. `MyIA.AI.Notebooks`).\n",
    "\n",
    "Note : Adaptez `dll_path` si nécessaire.\n"
   ]
  },
  {
   "cell_type": "code",
   "execution_count": 2,
   "metadata": {},
   "outputs": [
    {
     "name": "stdout",
     "output_type": "stream",
     "text": [
      "Référence à 'MyIA.AI.Notebooks.dll' ajoutée avec succès.\n"
     ]
    }
   ],
   "source": [
    "# ============================\n",
    "# Bloc 2 : Charger la DLL .NET dans Python\n",
    "# ============================\n",
    "\n",
    "import sys\n",
    "import clr\n",
    "\n",
    "# <-- Ajustez ce chemin vers le dossier contenant MyIA.AI.Notebooks.dll\n",
    "dll_path = r\"..\\..\\bin\\Release\\net9.0\"\n",
    "\n",
    "# On ajoute ce dossier dans sys.path\n",
    "if dll_path not in sys.path:\n",
    "    sys.path.append(dll_path)\n",
    "\n",
    "# On charge la DLL (sans l'extension .dll)\n",
    "clr.AddReference(\"MyIA.AI.Notebooks\")\n",
    "\n",
    "print(\"Référence à 'MyIA.AI.Notebooks.dll' ajoutée avec succès.\")\n"
   ]
  },
  {
   "cell_type": "markdown",
   "metadata": {},
   "source": [
    "# ============================\n",
    "# Bloc 3 : Import des classes du namespace\n",
    "# ============================\n",
    "\n",
    "# On importe le namespace racine\n",
    "from MyNotebookLib import AutoInvokeSKAgentsNotebookUpdater\n",
    "\n",
    "\n",
    "\n",
    "# S'il y a d'autres classes à importer, faites:\n",
    "# from MyNotebookLib import DisplayLogger, DisplayLoggerProvider, NotebookUpdaterBase, ...\n",
    "\n",
    "print(\"Import des classes C# terminé.\")\n"
   ]
  },
  {
   "cell_type": "code",
   "execution_count": 3,
   "metadata": {},
   "outputs": [
    {
     "name": "stdout",
     "output_type": "stream",
     "text": [
      "\n",
      "Assembly: MyIA.AI.Notebooks\n",
      "  -> SkiaUtils\n",
      "  -> MyNotebookLib.AutoGenNotebookUpdater\n",
      "  -> MyNotebookLib.AutoInvokeSKAgentsNotebookUpdater\n",
      "  -> MyNotebookLib.DisplayLogger\n",
      "  -> MyNotebookLib.DisplayLoggerProvider\n",
      "  -> MyNotebookLib.GuessingGame\n",
      "  -> MyNotebookLib.NotebookExecutor\n",
      "  -> MyNotebookLib.NotebookPlannerUpdater\n",
      "  -> MyNotebookLib.NotebookUpdaterBase\n",
      "  -> MyNotebookLib.WorkbookInteractionBase\n",
      "  -> MyNotebookLib.WorkbookUpdateInteraction\n",
      "  -> MyNotebookLib.WorkbookValidation\n",
      "  -> MyIA.AI.Notebooks.Config.Settings\n",
      "  -> MyIA.AI.Notebooks.Config.Utils\n"
     ]
    }
   ],
   "source": [
    "import clr\n",
    "from System import AppDomain\n",
    "\n",
    "for asm in AppDomain.CurrentDomain.GetAssemblies():\n",
    "    if asm.GetName().Name == \"MyIA.AI.Notebooks\":\n",
    "        print(f\"\\nAssembly: {asm.GetName().Name}\")\n",
    "        try:\n",
    "            for t in asm.GetExportedTypes():\n",
    "                print(\"  ->\", t.FullName)\n",
    "        except:\n",
    "            pass\n"
   ]
  },
  {
   "cell_type": "markdown",
   "metadata": {},
   "source": [
    "## Bloc 3 : Import des classes C# du namespace `MyIA.AI.Notebooks`\n",
    "\n",
    "On suppose que les classes suivantes sont exposées :  \n",
    "- **`AutoInvokeSKAgentsNotebookUpdater`**  \n",
    "- **`DisplayLogger`** (et son provider)  \n",
    "- etc.\n",
    "\n",
    "Ensuite, on pourra instancier et exécuter du code C# directement depuis Python.\n"
   ]
  },
  {
   "cell_type": "code",
   "execution_count": 4,
   "metadata": {},
   "outputs": [
    {
     "ename": "ModuleNotFoundError",
     "evalue": "No module named 'MyIA'",
     "output_type": "error",
     "traceback": [
      "\u001b[31m---------------------------------------------------------------------------\u001b[39m",
      "\u001b[31mModuleNotFoundError\u001b[39m                       Traceback (most recent call last)",
      "\u001b[36mCell\u001b[39m\u001b[36m \u001b[39m\u001b[32mIn[4]\u001b[39m\u001b[32m, line 6\u001b[39m\n\u001b[32m      1\u001b[39m \u001b[38;5;66;03m# ============================\u001b[39;00m\n\u001b[32m      2\u001b[39m \u001b[38;5;66;03m# Bloc 3 : Import des classes du namespace\u001b[39;00m\n\u001b[32m      3\u001b[39m \u001b[38;5;66;03m# ============================\u001b[39;00m\n\u001b[32m      4\u001b[39m \n\u001b[32m      5\u001b[39m \u001b[38;5;66;03m# On importe le namespace racine\u001b[39;00m\n\u001b[32m----> \u001b[39m\u001b[32m6\u001b[39m \u001b[38;5;28;01mfrom\u001b[39;00m\u001b[38;5;250m \u001b[39m\u001b[34;01mMyIA\u001b[39;00m\u001b[34;01m.\u001b[39;00m\u001b[34;01mAI\u001b[39;00m\u001b[34;01m.\u001b[39;00m\u001b[34;01mNotebooks\u001b[39;00m\u001b[38;5;250m \u001b[39m\u001b[38;5;28;01mimport\u001b[39;00m AutoInvokeSKAgentsNotebookUpdater\n\u001b[32m     10\u001b[39m \u001b[38;5;66;03m# S'il y a d'autres classes à importer, faites:\u001b[39;00m\n\u001b[32m     11\u001b[39m \u001b[38;5;66;03m# from MyIA.AI.Notebooks import DisplayLogger, DisplayLoggerProvider, NotebookUpdaterBase, ...\u001b[39;00m\n\u001b[32m     13\u001b[39m \u001b[38;5;28mprint\u001b[39m(\u001b[33m\"\u001b[39m\u001b[33mImport des classes C# terminé.\u001b[39m\u001b[33m\"\u001b[39m)\n",
      "\u001b[31mModuleNotFoundError\u001b[39m: No module named 'MyIA'"
     ]
    }
   ],
   "source": [
    "# ============================\n",
    "# Bloc 3 : Import des classes du namespace\n",
    "# ============================\n",
    "\n",
    "# Import correct pour pythonnet\n",
    "import clr\n",
    "from System.Reflection import Assembly\n",
    "from System import AppDomain\n",
    "\n",
    "# 1. Récupérer l'assembly déjà chargé\n",
    "assembly = None\n",
    "for asm in AppDomain.CurrentDomain.GetAssemblies():\n",
    "    if asm.GetName().Name == \"MyIA.AI.Notebooks\":\n",
    "        assembly = asm\n",
    "        break\n",
    "\n",
    "if assembly:\n",
    "    print(f\"✅ Assembly trouvé: {assembly.GetName().Name}\")\n",
    "    \n",
    "    # 2. Lister tous les types pour debug\n",
    "    print(\"Types disponibles dans l'assembly:\")\n",
    "    for t in assembly.GetTypes():\n",
    "        print(f\"  - {t.FullName}\")\n",
    "    \n",
    "    # 3. Essayer plusieurs variantes du nom de classe\n",
    "    type_names = [\n",
    "        \"MyNotebookLib.AutoInvokeSKAgentsNotebookUpdater\",\n",
    "        \"MyIA.AI.Notebooks.AutoInvokeSKAgentsNotebookUpdater\",\n",
    "        \"AutoInvokeSKAgentsNotebookUpdater\"\n",
    "    ]\n",
    "    \n",
    "    AutoInvokeSKAgentsNotebookUpdater = None\n",
    "    \n",
    "    for type_name in type_names:\n",
    "        updater_type = assembly.GetType(type_name)\n",
    "        if updater_type:\n",
    "            AutoInvokeSKAgentsNotebookUpdater = updater_type\n",
    "            print(f\"✅ Classe importée: {type_name}\")\n",
    "            print(f\"   - Type: {AutoInvokeSKAgentsNotebookUpdater}\")\n",
    "            print(f\"   - Nom complet: {AutoInvokeSKAgentsNotebookUpdater.FullName}\")\n",
    "            break\n",
    "    \n",
    "    if AutoInvokeSKAgentsNotebookUpdater is None:\n",
    "        print(\"❌ Aucun type trouvé avec les noms testés\")\n",
    "        \n",
    "else:\n",
    "    print(\"❌ Assembly 'MyIA.AI.Notebooks' non trouvé\")\n",
    "    \n",
    "    # Debug: lister toutes les assemblies chargées\n",
    "    print(\"Assemblies chargées:\")\n",
    "    for asm in AppDomain.CurrentDomain.GetAssemblies():\n",
    "        print(f\"  - {asm.GetName().Name}\")\n",
    "    \n",
    "    AutoInvokeSKAgentsNotebookUpdater = None\n",
    "\n",
    "print(\"\\n=== RÉSUMÉ IMPORT ===\")\n",
    "print(f\"AutoInvokeSKAgentsNotebookUpdater = {AutoInvokeSKAgentsNotebookUpdater}\")\n",
    "print(f\"Type: {type(AutoInvokeSKAgentsNotebookUpdater)}\")\n",
    "\n",
    "if AutoInvokeSKAgentsNotebookUpdater is not None:\n",
    "    print(\"🎉 IMPORT .NET RÉUSSI !\")\n",
    "else:\n",
    "    print(\"❌ Import .NET échoué - variable = None\")"
   ]
  },
  {
   "cell_type": "markdown",
   "metadata": {},
   "source": [
    "## Bloc 4 : Exemple d'utilisation\n",
    "\n",
    "- On va créer une instance de `AutoInvokeSKAgentsNotebookUpdater`.\n",
    "- On va définir un logger factice ou inexistant (selon la configuration).\n",
    "- On va lancer la méthode `UpdateNotebookAsync()` pour lancer l'agent.\n",
    "\n",
    "Note : Comme la méthode est asynchrone en C#, on l'appelle via `await` dans un contexte `asyncio` Python.\n"
   ]
  },
  {
   "cell_type": "code",
   "execution_count": null,
   "metadata": {},
   "outputs": [],
   "source": [
    "# ============================\n",
    "# Bloc 4 : Exemple d'appel d'agent\n",
    "# ============================\n",
    "import nest_asyncio\n",
    "nest_asyncio.apply()\n",
    "\n",
    "import asyncio\n",
    "\n",
    "\n",
    "\n",
    "# Facultatif si vous avez un logger C# \n",
    "# from Microsoft.Extensions.Logging import LogLevel\n",
    "# from MyIA.AI.Notebooks import DisplayLogger\n",
    "\n",
    "async def run_agent_example():\n",
    "    # logger = DisplayLogger(\"PyNotebookUpdater\", LogLevel.Debug)  # Si vous avez un logger\n",
    "    logger = None  # ou passer None si le constructeur l'accepte\n",
    "\n",
    "    # Chemin où sera généré le notebook \"cible\" à manipuler\n",
    "    notebook_path = r\".\\Workbook-Template-Python.ipynb\"\n",
    "\n",
    "    # On crée l'updater\n",
    "    updater = AutoInvokeSKAgentsNotebookUpdater(notebook_path, logger)\n",
    "\n",
    "    # On définit un template ou une instruction initiale\n",
    "    # (Équivalent de: autoInvokeUpdater.SetStartingNotebookFromTemplate(...))\n",
    "    # La méthode correspondante est \"SetStartingNotebookFromTemplate\" :\n",
    "    updater.SetStartingNotebookFromTemplate(\"\"\"\n",
    "Créer un notebook Python, capable de requêter DBpedia via SPARQL, \n",
    "puis tracer un graphique Plotly. \n",
    "Ensuite, \n",
    "1) corriger d'éventuels bugs \n",
    "2) valider la sortie\n",
    "\"\"\")\n",
    "\n",
    "    # On exécute l'agent => C# : await autoInvokeUpdater.UpdateNotebookAsync()\n",
    "    await updater.UpdateNotebookAsync()\n",
    "\n",
    "    print(\"Agent SK terminé avec succès !\")\n",
    "\n",
    "\n",
    "# Lancement\n",
    "asyncio.run(run_agent_example())\n"
   ]
  },
  {
   "cell_type": "markdown",
   "metadata": {},
   "source": [
    "## Explications\n",
    "\n",
    "1. **`NotebookPath`** : Le fichier `.ipynb` que vous souhaitez générer / mettre à jour.\n",
    "2. **`updater.SetStartingNotebookFromTemplate(...)`** : Injecte la consigne ou le template initial dans le notebook cible.\n",
    "3. **`await updater.UpdateNotebookAsync()`** : Lance l'agent C# (AutoInvokeSKAgentsNotebookUpdater) qui va orchestrer Semantic Kernel pour incrémenter / améliorer le notebook.\n",
    "\n",
    "Vous pouvez ensuite rouvrir le fichier `.ipynb` généré (dans un Jupyter Lab/VS Code) pour voir le résultat.\n"
   ]
  },
  {
   "cell_type": "markdown",
   "metadata": {},
   "source": [
    "## Conclusion\n",
    "\n",
    "Grâce à `pythonnet`, on peut :\n",
    "- **Charger** des DLL C# (compilées .NET).\n",
    "- **Importer** leurs classes.\n",
    "- **Instancier** et **appeler** leurs méthodes asynchrones ou synchrones, y compris du code Semantic Kernel.\n",
    "- **Exploiter** des agents SK pour générer ou manipuler des notebooks interactifs, directement depuis un script/notebook Python.\n",
    "\n",
    "Cela permet de **mélanger** l’écosystème Python avec des composants .NET plus sophistiqués, comme vos agents d’orchestration.\n"
   ]
  }
 ],
 "metadata": {
  "kernelspec": {
   "display_name": "base",
   "language": "python",
   "name": "python3"
  },
  "language_info": {
   "codemirror_mode": {
    "name": "ipython",
    "version": 3
   },
   "file_extension": ".py",
   "mimetype": "text/x-python",
   "name": "python",
   "nbconvert_exporter": "python",
   "pygments_lexer": "ipython3",
   "version": "3.13.5"
  },
  "polyglot_notebook": {
   "kernelInfo": {
    "defaultKernelName": "csharp",
    "items": [
     {
      "aliases": [],
      "name": "csharp"
     }
    ]
   }
  }
 },
 "nbformat": 4,
 "nbformat_minor": 2
}
