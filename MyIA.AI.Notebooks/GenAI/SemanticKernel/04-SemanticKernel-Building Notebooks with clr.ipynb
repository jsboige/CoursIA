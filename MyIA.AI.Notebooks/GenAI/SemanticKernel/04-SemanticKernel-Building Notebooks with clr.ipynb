{
 "cells": [
  {
   "cell_type": "markdown",
   "metadata": {},
   "source": [
    "# Utilisation d'Agents C# (Semantic Kernel) depuis Python via pythonnet\n",
    "\n",
    "Ce **troisième notebook** illustre comment, en Python, on peut :\n",
    "\n",
    "1. **Installer et configurer** `pythonnet`  \n",
    "2. **Charger** la DLL .NET (compilée en C#) qui contient notre code d'agent (`AutoInvokeSKAgentsNotebookUpdater` et consorts)  \n",
    "3. **Instancier** et **appeler** ces classes depuis Python  \n",
    "\n",
    "**Prérequis** :  \n",
    "- Avoir le fichier `MyIA.AI.Notebooks.dll` déjà compilé (typiquement dans `..\\..\\bin\\Debug\\net9.0\\MyIA.AI.Notebooks.dll`).  \n",
    "- Disposer d'un environnement Python (3.x) qui peut installer `pythonnet`."
   ]
  },
  {
   "cell_type": "markdown",
   "metadata": {},
   "source": [
    "## Bloc 1 : Installation pythonnet & configuration"
   ]
  },
  {
   "cell_type": "code",
   "execution_count": null,
   "metadata": {},
   "outputs": [],
   "source": [
    "# Installe pythonnet. À n'exécuter qu'une seule fois (enlevez --quiet si besoin)\n",
    "%pip install pythonnet"
   ]
  },
  {
   "cell_type": "code",
   "execution_count": null,
   "metadata": {},
   "outputs": [],
   "source": [
    "# On peut vérifier la version\n",
    "import pkg_resources\n",
    "print(\"pythonnet version :\", pkg_resources.get_distribution(\"pythonnet\").version)\n",
    "print(\"Installation pythonnet : OK\")"
   ]
  },
  {
   "cell_type": "markdown",
   "metadata": {},
   "source": [
    "## Bloc 2 : Importation de la DLL .NET\n",
    "\n",
    "Nous allons :  \n",
    "1. **Modifier** le chemin Python (`sys.path`) pour inclure le dossier où se trouve la DLL .NET.  \n",
    "2. **Charger** la DLL (`clr.AddReference`)  \n",
    "3. **Importer** les namespaces/classes C# (ex. `MyIA.AI.Notebooks`).\n",
    "\n",
    "Note : Adaptez `dll_path` si nécessaire."
   ]
  },
  {
   "cell_type": "code",
   "execution_count": null,
   "metadata": {},
   "outputs": [],
   "source": [
    "import sys\n",
    "import clr\n",
    "import os\n",
    "\n",
    "# CORRECTION : Chemin absolu vers la DLL compilée\n",
    "dll_path = os.path.abspath(os.path.join(os.getcwd(), \"..\", \"..\", \"bin\", \"Release\", \"net9.0\"))\n",
    "print(f\"Chemin DLL calculé : {dll_path}\")\n",
    "\n",
    "# Vérification de l'existence du chemin\n",
    "if not os.path.exists(dll_path):\n",
    "    # Essayer le chemin Debug si Release n'existe pas\n",
    "    dll_path_debug = os.path.abspath(os.path.join(os.getcwd(), \"..\", \"..\", \"bin\", \"Debug\", \"net9.0\"))\n",
    "    if os.path.exists(dll_path_debug):\n",
    "        dll_path = dll_path_debug\n",
    "        print(f\"Utilisation du chemin Debug : {dll_path}\")\n",
    "    else:\n",
    "        print(f\"❌ Erreur : Aucun chemin DLL trouvé!\")\n",
    "        print(f\"   - Testé Release : {dll_path}\")\n",
    "        print(f\"   - Testé Debug : {dll_path_debug}\")\n",
    "        raise FileNotFoundError(\"DLL MyIA.AI.Notebooks.dll introuvable\")\n",
    "\n",
    "# On ajoute ce dossier dans sys.path\n",
    "if dll_path not in sys.path:\n",
    "    sys.path.append(dll_path)\n",
    "\n",
    "print(f\"✅ Chemin ajouté au sys.path : {dll_path}\")"
   ]
  },
  {
   "cell_type": "code",
   "execution_count": null,
   "metadata": {},
   "outputs": [],
   "source": [
    "# On charge la DLL (sans l'extension .dll)\n",
    "try:\n",
    "    clr.AddReference(\"MyIA.AI.Notebooks\")\n",
    "    print(\"✅ Référence à 'MyIA.AI.Notebooks.dll' ajoutée avec succès.\")\n",
    "except Exception as e:\n",
    "    print(f\"❌ Erreur lors du chargement de la DLL : {e}\")\n",
    "    # Lister les fichiers disponibles pour debug\n",
    "    import os\n",
    "    files = [f for f in os.listdir(dll_path) if f.endswith('.dll')]\n",
    "    print(f\"Fichiers .dll disponibles : {files}\")\n",
    "    raise"
   ]
  },
  {
   "cell_type": "markdown",
   "metadata": {},
   "source": [
    "## Bloc 3 : Import des classes C# du namespace `MyIA.AI.Notebooks`\n",
    "\n",
    "On suppose que les classes suivantes sont exposées :\n",
    "- **`AutoInvokeSKAgentsNotebookUpdater`**  \n",
    "- **`DisplayLogger`** (et son provider)  \n",
    "- etc.\n",
    "\n",
    "Ensuite, on pourra instancier et exécuter du code C# directement depuis Python."
   ]
  },
  {
   "cell_type": "code",
   "execution_count": null,
   "metadata": {},
   "outputs": [],
   "source": [
    "# Debug des assemblies chargées\n",
    "import clr\n",
    "from System import AppDomain\n",
    "\n",
    "for asm in AppDomain.CurrentDomain.GetAssemblies():\n",
    "    if asm.GetName().Name == \"MyIA.AI.Notebooks\":\n",
    "        print(f\"\\n✅ Assembly trouvé: {asm.GetName().Name}\")\n",
    "        try:\n",
    "            for t in asm.GetExportedTypes():\n",
    "                print(f\"  -> {t.FullName}\")\n",
    "        except Exception as e:\n",
    "            print(f\"  Erreur lors de l'énumération des types : {e}\")\n",
    "        break\n",
    "else:\n",
    "    print(\"❌ Assembly 'MyIA.AI.Notebooks' non trouvé\")"
   ]
  },
  {
   "cell_type": "code",
   "execution_count": null,
   "metadata": {},
   "outputs": [],
   "source": [
    "# Import correct pour pythonnet\n",
    "import clr\n",
    "from System.Reflection import Assembly\n",
    "from System import AppDomain\n",
    "\n",
    "# 1. Récupérer l'assembly déjà chargé\n",
    "assembly = None\n",
    "for asm in AppDomain.CurrentDomain.GetAssemblies():\n",
    "    if asm.GetName().Name == \"MyIA.AI.Notebooks\":\n",
    "        assembly = asm\n",
    "        break\n",
    "\n",
    "if assembly:\n",
    "    print(f\"✅ Assembly trouvé: {assembly.GetName().Name}\")\n",
    "    \n",
    "    # 2. Lister tous les types pour debug (avec gestion d'erreur)\n",
    "    print(\"Types disponibles dans l'assembly:\")\n",
    "    try:\n",
    "        for t in assembly.GetTypes():\n",
    "            print(f\"  - {t.FullName}\")\n",
    "    except Exception as e:\n",
    "        print(f\"  ⚠️ Erreur lors de l'énumération des types: {e}\")\n",
    "        print(f\"  ⚠️ Cela peut indiquer des dépendances .NET manquantes\")\n",
    "        print(f\"  → Continuons avec la recherche de classes spécifiques...\")\n",
    "    \n",
    "    # 3. Essayer plusieurs variantes du nom de classe\n",
    "    type_names = [\n",
    "        \"MyIA.AI.Notebooks.GenAI.SemanticKernel.AutoInvokeSKAgentsNotebookUpdater\",\n",
    "        \"MyIA.AI.Notebooks.AutoInvokeSKAgentsNotebookUpdater\", \n",
    "        \"AutoInvokeSKAgentsNotebookUpdater\"\n",
    "    ]\n",
    "    \n",
    "    AutoInvokeSKAgentsNotebookUpdater = None\n",
    "    \n",
    "    for type_name in type_names:\n",
    "        updater_type = assembly.GetType(type_name)\n",
    "        if updater_type:\n",
    "            AutoInvokeSKAgentsNotebookUpdater = updater_type\n",
    "            print(f\"✅ Classe importée: {type_name}\")\n",
    "            print(f\"   - Type: {AutoInvokeSKAgentsNotebookUpdater}\")\n",
    "            print(f\"   - Nom complet: {AutoInvokeSKAgentsNotebookUpdater.FullName}\")\n",
    "            break\n",
    "    \n",
    "    if AutoInvokeSKAgentsNotebookUpdater is None:\n",
    "        print(\"❌ Aucun type trouvé avec les noms testés\")\n",
    "        \n",
    "else:\n",
    "    print(\"❌ Assembly 'MyIA.AI.Notebooks' non trouvé\")\n",
    "    \n",
    "    # Debug: lister toutes les assemblies chargées\n",
    "    print(\"Assemblies chargées:\")\n",
    "    for asm in AppDomain.CurrentDomain.GetAssemblies():\n",
    "        print(f\"  - {asm.GetName().Name}\")\n",
    "    \n",
    "    AutoInvokeSKAgentsNotebookUpdater = None\n",
    "\n",
    "print(\"\\n=== RÉSUMÉ IMPORT ===\")\n",
    "print(f\"AutoInvokeSKAgentsNotebookUpdater = {AutoInvokeSKAgentsNotebookUpdater}\")\n",
    "print(f\"Type: {type(AutoInvokeSKAgentsNotebookUpdater)}\")\n",
    "\n",
    "if AutoInvokeSKAgentsNotebookUpdater is not None:\n",
    "    print(\"🎉 IMPORT .NET RÉUSSI !\")\n",
    "else:\n",
    "    print(\"❌ Import .NET échoué - variable = None\")"
   ]
  },
  {
   "cell_type": "markdown",
   "metadata": {},
   "source": [
    "## Bloc 4 : Exemple d'utilisation\n",
    "\n",
    "- On va créer une instance de `AutoInvokeSKAgentsNotebookUpdater`.\n",
    "- On va définir un logger factice ou inexistant (selon la configuration).\n",
    "- On va lancer la méthode `UpdateNotebookAsync()` pour lancer l'agent.\n",
    "\n",
    "Note : Comme la méthode est asynchrone en C#, on l'appelle via `await` dans un contexte `asyncio` Python."
   ]
  },
  {
   "cell_type": "code",
   "execution_count": null,
   "metadata": {},
   "outputs": [],
   "source": [
    "import nest_asyncio\n",
    "nest_asyncio.apply()\n",
    "\n",
    "import asyncio\n",
    "\n",
    "# Facultatif si vous avez un logger C# \n",
    "# from Microsoft.Extensions.Logging import LogLevel\n",
    "# from MyIA.AI.Notebooks import DisplayLogger\n",
    "\n",
    "async def run_agent_example():\n",
    "    if AutoInvokeSKAgentsNotebookUpdater is None:\n",
    "        print(\"❌ Classe AutoInvokeSKAgentsNotebookUpdater non disponible\")\n",
    "        return\n",
    "    \n",
    "    try:\n",
    "        # logger = DisplayLogger(\"PyNotebookUpdater\", LogLevel.Debug)  # Si vous avez un logger\n",
    "        logger = None  # ou passer None si le constructeur l'accepte\n",
    "\n",
    "        # Chemin où sera généré le notebook \"cible\" à manipuler\n",
    "        notebook_path = r\".\\Workbook-Template-Python.ipynb\"\n",
    "\n",
    "        # On crée l'updater\n",
    "        updater = AutoInvokeSKAgentsNotebookUpdater(notebook_path, logger)\n",
    "\n",
    "        # On définit un template ou une instruction initiale\n",
    "        # (Équivalent de: autoInvokeUpdater.SetStartingNotebookFromTemplate(...))\n",
    "        # La méthode correspondante est \"SetStartingNotebookFromTemplate\" :\n",
    "        updater.SetStartingNotebookFromTemplate(\"\"\"\n",
    "Créer un notebook Python, capable de requêter DBpedia via SPARQL, \n",
    "puis tracer un graphique Plotly. \n",
    "Ensuite, \n",
    "1) corriger d'éventuels bugs \n",
    "2) valider la sortie\n",
    "\"\"\")\n",
    "\n",
    "        # On exécute l'agent => C# : await autoInvokeUpdater.UpdateNotebookAsync()\n",
    "        await updater.UpdateNotebookAsync()\n",
    "\n",
    "        print(\"🎉 Agent SK terminé avec succès !\")\n",
    "        \n",
    "    except Exception as e:\n",
    "        print(f\"❌ Erreur lors de l'exécution de l'agent : {e}\")\n",
    "        import traceback\n",
    "        traceback.print_exc()\n",
    "\n",
    "# Lancement\n",
    "if AutoInvokeSKAgentsNotebookUpdater is not None:\n",
    "    await run_agent_example()\n",
    "else:\n",
    "    print(\"❌ Impossible de lancer l'agent - classe non disponible\")"
   ]
  },
  {
   "cell_type": "markdown",
   "metadata": {},
   "source": [
    "## Explications\n",
    "\n",
    "1. **`NotebookPath`** : Le fichier `.ipynb` que vous souhaitez générer / mettre à jour.\n",
    "2. **`updater.SetStartingNotebookFromTemplate(...)`** : Injecte la consigne ou le template initial dans le notebook cible.\n",
    "3. **`await updater.UpdateNotebookAsync()`** : Lance l'agent C# (AutoInvokeSKAgentsNotebookUpdater) qui va orchestrer Semantic Kernel pour incrémenter / améliorer le notebook.\n",
    "\n",
    "Vous pouvez ensuite rouvrir le fichier `.ipynb` généré (dans un Jupyter Lab/VS Code) pour voir le résultat."
   ]
  },
  {
   "cell_type": "markdown",
   "metadata": {},
   "source": [
    "## Conclusion\n",
    "\n",
    "Grâce à `pythonnet`, on peut :\n",
    "- **Charger** des DLL C# (compilées .NET).\n",
    "- **Importer** leurs classes.\n",
    "- **Instancier** et **appeler** leurs méthodes asynchrones ou synchrones, y compris du code Semantic Kernel.\n",
    "- **Exploiter** des agents SK pour générer ou manipuler des notebooks interactifs, directement depuis un script/notebook Python.\n",
    "\n",
    "Cela permet de **mélanger** l'écosystème Python avec des composants .NET plus sophistiqués, comme vos agents d'orchestration."
   ]
  }
 ],
 "metadata": {
  "kernelspec": {
   "display_name": "base",
   "language": "python",
   "name": "python3"
  },
  "language_info": {
   "codemirror_mode": {
    "name": "ipython",
    "version": 3
   },
   "file_extension": ".py",
   "mimetype": "text/x-python",
   "name": "python",
   "nbconvert_exporter": "python",
   "pygments_lexer": "ipython3",
   "version": "3.13.5"
  }
 },
 "nbformat": 4,
 "nbformat_minor": 4
}
