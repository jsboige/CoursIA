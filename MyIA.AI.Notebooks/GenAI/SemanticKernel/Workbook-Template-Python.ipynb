{
  "cells": [
    {
      "cell_type": "markdown",
      "metadata": {},
      "source": [
        "# Notebook de travail\n",
        "\n",
        "Ce notebook est généré de façon incrémentale pour accomplir la tâche décrite dans la partie suivante."
      ]
    },
    {
      "cell_type": "markdown",
      "metadata": {},
      "source": [
        "## 1. Objectif du Notebook\n",
        "\n",
        "Dans cette partie, nous décrivons l'objectif du notebook, sa fonction, les outils qu'il doit utiliser, les buts qu'il cherche à atteindre.\n",
        "\n",
        "### Tache originale\n",
        "\n",
        "Voilà la tâche telle qu'elle a été initialement formulée.\n",
        "\n",
        "{{TASK_DESCRIPTION}}\n",
        "\n",
        "### Interprétation et sous-objectifs\n",
        "\n",
        "Dans cette partie, on explicite l'interprétation de la tâche originale, et le détail de la méthode mise en oeuvre pour la réaliser."
      ]
    },
    {
      "cell_type": "markdown",
      "metadata": {},
      "source": [
        "## 2. Préparation de l'environnement\n",
        "Nous allons d'abord installer et importer les composants nécessaires. \n",
        "\n",
        "### Initialisation du kernel Jupyter\n",
        "\n",
        "Dans la cellule de code suivante, nous importons un kernel jupyter au sein de l'environnement .Net Interactive"
      ]
    },
    {
      "cell_type": "code",
      "execution_count": null,
      "metadata": {
        "dotnet_interactive": {
          "language": "csharp"
        },
        "polyglot_notebook": {
          "kernelName": "csharp"
        }
      },
      "outputs": [],
      "source": [
        "#!connect jupyter --kernel-name pythonkernel --kernel-spec python3"
      ]
    },
    {
      "cell_type": "markdown",
      "metadata": {},
      "source": [
        "#### Test de l'environnement Python\n",
        "\n",
        "Dans la cellule de code suivante, nous nous assurons que le kernel importé est fonctionnel"
      ]
    },
    {
      "cell_type": "code",
      "execution_count": 3,
      "metadata": {
        "dotnet_interactive": {
          "language": "pythonkernel"
        },
        "polyglot_notebook": {
          "kernelName": "pythonkernel"
        }
      },
      "outputs": [
        {
          "name": "stdout",
          "output_type": "stream",
          "text": [
            "Python version: 3.11.9 (tags/v3.11.9:de54cf5, Apr  2 2024, 10:12:12) [MSC v.1938 64 bit (AMD64)]\n"
          ]
        }
      ],
      "source": [
        "# Vérifions si le kernel Python fonctionne\n",
        "import sys\n",
        "print(f\"Python version: {sys.version}\")"
      ]
    },
    {
      "cell_type": "markdown",
      "metadata": {},
      "source": [
        "### Installation des packages Python\n",
        "\n",
        "Dans la cellule de code suivante, nous installons l'ensemble des bibliothèques Python utilisées dans le Notebook."
      ]
    },
    {
      "cell_type": "code",
      "execution_count": 6,
      "metadata": {
        "dotnet_interactive": {
          "language": "pythonkernel"
        },
        "polyglot_notebook": {
          "kernelName": "pythonkernel"
        }
      },
      "outputs": [],
      "source": [
        "# Cell 1\n",
        "# (Exemple : !pip install semantic-kernel)\n"
      ]
    },
    {
      "cell_type": "markdown",
      "metadata": {},
      "source": [
        "### Importation des espaces de noms (modules) utiles\n",
        "Dans la cellule de code suivante, on regroupe l'ensemble des imports utiles pour les cellules de code des parties suivantes."
      ]
    },
    {
      "cell_type": "code",
      "execution_count": null,
      "metadata": {
        "dotnet_interactive": {
          "language": "pythonkernel"
        },
        "polyglot_notebook": {
          "kernelName": "pythonkernel"
        }
      },
      "outputs": [],
      "source": [
        "# Cell 2\n",
        "# (Exemple : import semantic_kernel as sk)"
      ]
    },
    {
      "cell_type": "markdown",
      "metadata": {},
      "source": [
        "## 3. Initialisation\n",
        "\n",
        "Dans cette partie, nous créons les objets dont la manipulation permettra d'atteindre l'objectif fixé."
      ]
    },
    {
      "cell_type": "code",
      "execution_count": null,
      "metadata": {
        "dotnet_interactive": {
          "language": "pythonkernel"
        },
        "polyglot_notebook": {
          "kernelName": "pythonkernel"
        }
      },
      "outputs": [],
      "source": [
        "# Cell 3\n",
        "# Exemple : sk.add_plugin(parent_directory=plugins_directory, plugin_name=\"FunPlugin\")\n",
        "\n"
      ]
    },
    {
      "cell_type": "markdown",
      "metadata": {},
      "source": [
        "## 4. Traitement\n",
        "\n",
        "Nous effectuons les manipulations et traitements nous permettant d'obtenir les résultats escomptés. On génère autant que possible des sorties d'affichage pour s'assurer de la bonne exécution."
      ]
    },
    {
      "cell_type": "code",
      "execution_count": null,
      "metadata": {
        "dotnet_interactive": {
          "language": "pythonkernel"
        },
        "polyglot_notebook": {
          "kernelName": "pythonkernel"
        }
      },
      "outputs": [],
      "source": [
        "# Cell 4\n",
        "# (Exemple : result = await sk.invoke(jokeFunction, input=\"travel to dinosaur age\", style=\"silly\"))"
      ]
    },
    {
      "cell_type": "markdown",
      "metadata": {},
      "source": [
        "## 5. Analyse\n",
        "\n",
        "Nous effectuons les vérifications, les aggrégats et les visualisations nécessaires pour valider et rendre compte des résultats."
      ]
    },
    {
      "cell_type": "code",
      "execution_count": null,
      "metadata": {
        "dotnet_interactive": {
          "language": "pythonkernel"
        },
        "polyglot_notebook": {
          "kernelName": "pythonkernel"
        }
      },
      "outputs": [],
      "source": [
        "# Cell 5\n",
        "# (Exemple : plot(result))\n",
        "\n"
      ]
    },
    {
      "cell_type": "markdown",
      "metadata": {},
      "source": [
        "## 6. Conclusion\n",
        "\n",
        "Conclusion Markdown issue de l'exécution du notebook, constatant la conformité des sorties des cellules de code et explicitant la réalisation de la tâche et son résultat."
      ]
    }
  ],
  "metadata": {
    "kernelspec": {
      "display_name": ".NET (C#)",
      "language": "C#",
      "name": ".net-csharp"
    },
    "language_info": {
      "codemirror_mode": {
        "name": "ipython",
        "version": 3
      },
      "file_extension": ".py",
      "mimetype": "text/x-python",
      "name": "polyglot-notebook",
      "nbconvert_exporter": "python",
      "pygments_lexer": "ipython3",
      "version": "3.11.9"
    },
    "polyglot_notebook": {
      "kernelInfo": {
        "defaultKernelName": "csharp",
        "items": [
          {
            "aliases": [],
            "name": "csharp"
          },
          {
            "aliases": [],
            "languageName": "python",
            "name": "pythonkernel"
          }
        ]
      }
    }
  },
  "nbformat": 4,
  "nbformat_minor": 2
}
