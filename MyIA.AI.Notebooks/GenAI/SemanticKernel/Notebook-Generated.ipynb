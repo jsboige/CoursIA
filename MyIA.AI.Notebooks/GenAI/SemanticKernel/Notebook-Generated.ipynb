{
 "cells": [
  {
   "cell_type": "markdown",
   "id": "516d2854",
   "metadata": {
    "papermill": {
     "duration": 0.00261,
     "end_time": "2025-10-02T17:39:40.853395",
     "exception": false,
     "start_time": "2025-10-02T17:39:40.850785",
     "status": "completed"
    },
    "tags": []
   },
   "source": [
    "# Notebook de travail\n",
    "\n",
    "Ce notebook est généré de façon incrémentale pour accomplir la tâche décrite ci-dessous.\n",
    "\n",
    "## Objectif du Notebook\n",
    "\n",
    "L'objectif principal de ce notebook est de simuler et analyser des données de tweets concernant l'intelligence artificielle (IA) en utilisant des outils d'analyse de sentiment. Le but ultime est de comprendre les émotions sous-jacentes exprimées dans les tweets fictifs analysés.\n",
    "\n",
    "### Tâche originale\n",
    "\n",
    "Créer un notebook Python qui génère un dataset de 100 tweets fictifs sur l'IA, analyse le sentiment de chaque tweet avec TextBlob, stocke les résultats dans un DataFrame pandas avec des colonnes pour le tweet, le sentiment, et le score, exporte ces données au format CSV, et crée un graphique en barres montrant la répartition des sentiments (positif, négatif, neutre).\n",
    "\n",
    "### Interprétation et sous-objectifs\n",
    "\n",
    "Pour accomplir cette tâche, nous décomposons le travail en plusieurs étapes :\n",
    "\n",
    "1. **Prérequis et Installation des dépendances**: Vérifier l'environnement et s'assurer que les bibliothèques nécessaires - TextBlob pour l'analyse de sentiment et Pandas pour la gestion des données - sont installées.\n",
    "   - Utiliser la commande `%pip install --quiet` pour installer les packages.\n",
    "\n",
    "2. **Préparation de l'environnement**: Configurer l'environnement en important les bibliothèques essentielles et en préparant le contexte d'exécution.\n",
    "\n",
    "3. **Génération des données**: Simuler un ensemble de données de 100 tweets fictifs traitant de l'IA.\n",
    "\n",
    "4. **Analyse du sentiment**: Utiliser TextBlob pour analyser le sentiment de chaque tweet et attribuer un score de polarité.\n",
    "\n",
    "5. **Stockage des résultats**: Collecter les tweets, les sentiments et les scores dans un DataFrame Pandas.\n",
    "   - Préparer les colonnes nécessaires : Tweet, Sentiment (Positif, Négatif, Neutre), et Score.\n",
    "   - Exporter ces données dans un fichier CSV pour des utilisations futures.\n",
    "\n",
    "6. **Visualisation**: Créer un graphique en barres pour visualiser la répartition des sentiments parmi les 100 tweets générés.\n",
    "\n",
    "Avec ces étapes claires, nous pouvons permettre une organisation méthodique du code et garantir une compréhension cohérente pour tous les développeurs ou analystes exécutant ce notebook."
   ]
  },
  {
   "cell_type": "code",
   "execution_count": 1,
   "id": "10e85dc0",
   "metadata": {
    "execution": {
     "iopub.execute_input": "2025-10-02T17:39:40.858519Z",
     "iopub.status.busy": "2025-10-02T17:39:40.858519Z",
     "iopub.status.idle": "2025-10-02T17:39:56.566040Z",
     "shell.execute_reply": "2025-10-02T17:39:56.566040Z"
    },
    "papermill": {
     "duration": 15.71264,
     "end_time": "2025-10-02T17:39:56.568166",
     "exception": false,
     "start_time": "2025-10-02T17:39:40.855526",
     "status": "completed"
    },
    "tags": []
   },
   "outputs": [
    {
     "name": "stderr",
     "output_type": "stream",
     "text": [
      "[nltk_data] Downloading package punkt to\n",
      "[nltk_data]     C:\\Users\\jsboi\\AppData\\Roaming\\nltk_data...\n"
     ]
    },
    {
     "name": "stderr",
     "output_type": "stream",
     "text": [
      "[nltk_data]   Unzipping tokenizers\\punkt.zip.\n"
     ]
    },
    {
     "data": {
      "text/plain": [
       "True"
      ]
     },
     "execution_count": 1,
     "metadata": {},
     "output_type": "execute_result"
    }
   ],
   "source": [
    "# Cellule 0\n",
    "!pip install --quiet textblob pandas matplotlib\n",
    "import nltk\n",
    "nltk.download('punkt')"
   ]
  },
  {
   "cell_type": "markdown",
   "id": "df046193",
   "metadata": {
    "papermill": {
     "duration": 0.002071,
     "end_time": "2025-10-02T17:39:56.572896",
     "exception": false,
     "start_time": "2025-10-02T17:39:56.570825",
     "status": "completed"
    },
    "tags": []
   },
   "source": [
    "## 1. Préparation de l'environnement\n",
    "\n",
    "Dans cette étape, nous allons préparer l'environnement Python en important les modules nécessaires pour l'analyse de données et les calculs de sentiment. Cela inclut l'importation de TextBlob pour l'analyse de sentiment des tweets, Pandas pour la gestion des structures de données, et d'autres bibliothèques demandées au fil du développement, telles que Matplotlib pour la visualisation.\n",
    "\n",
    "### Objectifs :\n",
    "\n",
    "1. **Importation des Bibliothèques**: Importer toutes les bibliothèques essentielles au fonctionnement du reste du notebook dans la cellule de code. Nous importerons `TextBlob`, `pandas`, et potentiellement des modules supplémentaires comme `matplotlib.pyplot` pour les visualisations.\n",
    "\n",
    "2. **Configuration de l'environnement**: Si nécessaire, configurer les options générales pour la journalisation des données et les warnings. Cela pourrait inclure des options d'affichages pour Pandas ou la configuration de Matplotlib pour que les graphiques s'affichent inline.\n",
    "\n",
    "3. **Vérification des Imports**: Exécuter la cellule pour valider que tous les imports fonctionnent correctement et que l'environnement est prêt pour le développement ultérieur. \n",
    "\n",
    "Proceed by executing your import setup code in the next code cell."
   ]
  },
  {
   "cell_type": "code",
   "execution_count": 2,
   "id": "a22abc06",
   "metadata": {
    "execution": {
     "iopub.execute_input": "2025-10-02T17:39:56.580599Z",
     "iopub.status.busy": "2025-10-02T17:39:56.579644Z",
     "iopub.status.idle": "2025-10-02T17:39:57.406155Z",
     "shell.execute_reply": "2025-10-02T17:39:57.405156Z"
    },
    "papermill": {
     "duration": 0.830618,
     "end_time": "2025-10-02T17:39:57.407160",
     "exception": false,
     "start_time": "2025-10-02T17:39:56.576542",
     "status": "completed"
    },
    "tags": []
   },
   "outputs": [],
   "source": [
    "# Cellule 1\n",
    "import pandas as pd\n",
    "from textblob import TextBlob\n",
    "import matplotlib.pyplot as plt"
   ]
  },
  {
   "cell_type": "markdown",
   "id": "4f066e84",
   "metadata": {
    "papermill": {
     "duration": 0.002019,
     "end_time": "2025-10-02T17:39:57.414212",
     "exception": false,
     "start_time": "2025-10-02T17:39:57.412193",
     "status": "completed"
    },
    "tags": []
   },
   "source": [
    "## 2. Initialisation\n",
    "\n",
    "Dans cette partie, nous créons les composants et importons les données nécessaires pour réaliser la tâche.\n",
    "\n"
   ]
  },
  {
   "cell_type": "code",
   "execution_count": 3,
   "id": "33440af5",
   "metadata": {
    "execution": {
     "iopub.execute_input": "2025-10-02T17:39:57.421294Z",
     "iopub.status.busy": "2025-10-02T17:39:57.421294Z",
     "iopub.status.idle": "2025-10-02T17:39:57.436871Z",
     "shell.execute_reply": "2025-10-02T17:39:57.435871Z"
    },
    "papermill": {
     "duration": 0.019544,
     "end_time": "2025-10-02T17:39:57.437872",
     "exception": false,
     "start_time": "2025-10-02T17:39:57.418328",
     "status": "completed"
    },
    "tags": []
   },
   "outputs": [],
   "source": [
    "# Cellule 2\n",
    "# Step: Generating a dataset with 100 fictitious tweets\n",
    "\n",
    "tweets = [f\"This is tweet number {i} about AI.\" for i in range(1, 101)]\n",
    "\n",
    "# Create a DataFrame to handle tweets\n",
    "df = pd.DataFrame(tweets, columns=['tweet'])"
   ]
  },
  {
   "cell_type": "markdown",
   "id": "8bca0c51",
   "metadata": {
    "papermill": {
     "duration": 0.002025,
     "end_time": "2025-10-02T17:39:57.443914",
     "exception": false,
     "start_time": "2025-10-02T17:39:57.441889",
     "status": "completed"
    },
    "tags": []
   },
   "source": [
    "## 3. Traitement\n",
    "\n",
    "Ici, nous effectuons les manipulations et traitements nécessaires pour atteindre les résultats escomptés."
   ]
  },
  {
   "cell_type": "code",
   "execution_count": 4,
   "id": "bcee28ce",
   "metadata": {
    "execution": {
     "iopub.execute_input": "2025-10-02T17:39:57.452607Z",
     "iopub.status.busy": "2025-10-02T17:39:57.452607Z",
     "iopub.status.idle": "2025-10-02T17:39:57.513236Z",
     "shell.execute_reply": "2025-10-02T17:39:57.513236Z"
    },
    "papermill": {
     "duration": 0.066327,
     "end_time": "2025-10-02T17:39:57.515242",
     "exception": false,
     "start_time": "2025-10-02T17:39:57.448915",
     "status": "completed"
    },
    "tags": []
   },
   "outputs": [],
   "source": [
    "# Cellule 3\n",
    "# Step: Analyzing sentiment for each tweet\n",
    "\n",
    "def analyze_sentiment(tweet):\n",
    "    analysis = TextBlob(tweet)\n",
    "    # Determine sentiment polarity\n",
    "    # We will categorize based on polarity score\n",
    "    if analysis.sentiment.polarity > 0:\n",
    "        return 'positive', analysis.sentiment.polarity\n",
    "    elif analysis.sentiment.polarity == 0:\n",
    "        return 'neutral', analysis.sentiment.polarity\n",
    "    else:\n",
    "        return 'negative', analysis.sentiment.polarity\n",
    "\n",
    "# Apply sentiment analysis to each tweet\n",
    "df['sentiment'], df['score'] = zip(*df['tweet'].apply(analyze_sentiment))"
   ]
  },
  {
   "cell_type": "markdown",
   "id": "5957b743",
   "metadata": {
    "papermill": {
     "duration": 0.00258,
     "end_time": "2025-10-02T17:39:57.520672",
     "exception": false,
     "start_time": "2025-10-02T17:39:57.518092",
     "status": "completed"
    },
    "tags": []
   },
   "source": [
    "## 4. Analyse\n",
    "\n",
    "Nous effectuons ici les vérifications, agrégats et visualisations nécessaires pour valider les résultats obtenus."
   ]
  },
  {
   "cell_type": "code",
   "execution_count": 5,
   "id": "9dfda7dc",
   "metadata": {
    "execution": {
     "iopub.execute_input": "2025-10-02T17:39:57.527188Z",
     "iopub.status.busy": "2025-10-02T17:39:57.526185Z",
     "iopub.status.idle": "2025-10-02T17:39:57.641192Z",
     "shell.execute_reply": "2025-10-02T17:39:57.640192Z"
    },
    "papermill": {
     "duration": 0.120009,
     "end_time": "2025-10-02T17:39:57.642190",
     "exception": false,
     "start_time": "2025-10-02T17:39:57.522181",
     "status": "completed"
    },
    "tags": []
   },
   "outputs": [
    {
     "data": {
      "image/png": "[encoded data removed]",
      "text/plain": [
       "<Figure size 800x600 with 1 Axes>"
      ]
     },
     "metadata": {},
     "output_type": "display_data"
    }
   ],
   "source": [
    "# Cellule 4\n",
    "# Step: Storing results into a CSV file\n",
    "\n",
    "df.to_csv('tweets_sentiment_analysis.csv', index=False)\n",
    "\n",
    "# Visualize the sentiment analysis results\n",
    "sentiment_counts = df['sentiment'].value_counts()\n",
    "\n",
    "plt.figure(figsize=(8, 6))\n",
    "sentiment_counts.plot(kind='bar')\n",
    "plt.title('Sentiment Analysis of AI-related Tweets')\n",
    "plt.xlabel('Sentiment')\n",
    "plt.ylabel('Number of Tweets')\n",
    "plt.xticks(rotation=45)\n",
    "plt.show()"
   ]
  },
  {
   "cell_type": "markdown",
   "id": "332d027e",
   "metadata": {
    "papermill": {
     "duration": 0.004022,
     "end_time": "2025-10-02T17:39:57.651212",
     "exception": false,
     "start_time": "2025-10-02T17:39:57.647190",
     "status": "completed"
    },
    "tags": []
   },
   "source": [
    "## 5. Conclusion\n",
    "\n",
    "Concluons ici l'exécution et la validation de la tâche.\n",
    "Récapitulons les résultats obtenus. La cellule suivante peut servir de synthèse."
   ]
  },
  {
   "cell_type": "code",
   "execution_count": 6,
   "id": "fc01300b",
   "metadata": {
    "execution": {
     "iopub.execute_input": "2025-10-02T17:39:57.661215Z",
     "iopub.status.busy": "2025-10-02T17:39:57.661215Z",
     "iopub.status.idle": "2025-10-02T17:39:57.673287Z",
     "shell.execute_reply": "2025-10-02T17:39:57.672284Z"
    },
    "papermill": {
     "duration": 0.019075,
     "end_time": "2025-10-02T17:39:57.675287",
     "exception": false,
     "start_time": "2025-10-02T17:39:57.656212",
     "status": "completed"
    },
    "tags": []
   },
   "outputs": [
    {
     "name": "stdout",
     "output_type": "stream",
     "text": [
      "Sentiment analysis completed and results stored and visualized.\n",
      "Dataset saved to 'tweets_sentiment_analysis.csv'.\n"
     ]
    }
   ],
   "source": [
    "# Cellule 5\n",
    "# Conclusion Step\n",
    "\n",
    "print(\"Sentiment analysis completed and results stored and visualized.\")\n",
    "print(\"Dataset saved to 'tweets_sentiment_analysis.csv'.\")"
   ]
  }
 ],
 "metadata": {
  "kernelspec": {
   "display_name": "Python 3",
   "language": "python",
   "name": "python3"
  },
  "language_info": {
   "codemirror_mode": {
    "name": "ipython",
    "version": 3
   },
   "file_extension": ".py",
   "mimetype": "text/x-python",
   "name": "python",
   "nbconvert_exporter": "python",
   "pygments_lexer": "ipython3",
   "version": "3.10.18"
  },
  "papermill": {
   "default_parameters": {},
   "duration": 18.474816,
   "end_time": "2025-10-02T17:39:58.018321",
   "environment_variables": {},
   "exception": null,
   "input_path": "Notebook-Generated.ipynb",
   "output_path": "Notebook-Generated.ipynb",
   "parameters": {},
   "start_time": "2025-10-02T17:39:39.543505",
   "version": "2.6.0"
  },
  "polyglot_notebook": {
   "kernelInfo": {
    "defaultKernelName": "csharp",
    "items": [
     {
      "aliases": [],
      "name": "csharp"
     }
    ]
   }
  }
 },
 "nbformat": 4,
 "nbformat_minor": 5
}
