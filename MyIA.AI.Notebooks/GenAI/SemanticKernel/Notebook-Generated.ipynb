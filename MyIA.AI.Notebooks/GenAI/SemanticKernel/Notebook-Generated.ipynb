{
 "cells": [
  {
   "cell_type": "markdown",
   "id": "516d2854",
   "metadata": {
    "papermill": {
     "duration": 0.005954,
     "end_time": "2025-04-25T11:34:15.240281",
     "exception": false,
     "start_time": "2025-04-25T11:34:15.234327",
     "status": "completed"
    },
    "tags": []
   },
   "source": [
    "## 0. Installation des dépendances\n",
    "\n",
    "Dans cette section, nous allons nous assurer que toutes les bibliothèques nécessaires sont installées pour interagir avec DBpedia en utilisant SPARQL et pour effectuer des visualisations graphiques avec Plotly. Utilisez la commande spéciale `%pip install --quiet <package_name>` pour installer `SPARQLWrapper` et `Plotly` directement à partir de cette cellule. Cela évitera les messages de log excessifs et se concentrera sur l'installation propre."
   ]
  },
  {
   "cell_type": "code",
   "execution_count": 1,
   "id": "10e85dc0",
   "metadata": {
    "execution": {
     "iopub.execute_input": "2025-04-25T11:34:15.250924Z",
     "iopub.status.busy": "2025-04-25T11:34:15.250643Z",
     "iopub.status.idle": "2025-04-25T11:34:16.838295Z",
     "shell.execute_reply": "2025-04-25T11:34:16.836179Z"
    },
    "papermill": {
     "duration": 1.593279,
     "end_time": "2025-04-25T11:34:16.839771",
     "exception": false,
     "start_time": "2025-04-25T11:34:15.246492",
     "status": "completed"
    },
    "tags": []
   },
   "outputs": [
    {
     "name": "stdout",
     "output_type": "stream",
     "text": [
      "Note: you may need to restart the kernel to use updated packages.\n"
     ]
    }
   ],
   "source": [
    "# Installation des packages nécessaires\n",
    "%pip install --quiet SPARQLWrapper plotly"
   ]
  },
  {
   "cell_type": "markdown",
   "id": "df046193",
   "metadata": {
    "papermill": {
     "duration": 0.001872,
     "end_time": "2025-04-25T11:34:16.847684",
     "exception": false,
     "start_time": "2025-04-25T11:34:16.845812",
     "status": "completed"
    },
    "tags": []
   },
   "source": [
    "## 1. Préparation de l'environnement\n",
    "\n",
    "Pour cette étape, commencez par importer toutes les bibliothèques nécessaires que vous avez installées précédemment. Cela inclut les bibliothèques de requête SPARQL, et de visualisation. Configurez également la journalisation pour suivre facilement l'évolution des tâches et résoudre les problèmes potentiels. Assurez-vous que toutes les configurations globales telles que les chemins, les paramètres régionaux, ou d'autres sont établies correctement."
   ]
  },
  {
   "cell_type": "code",
   "execution_count": 2,
   "id": "a22abc06",
   "metadata": {
    "execution": {
     "iopub.execute_input": "2025-04-25T11:34:16.852067Z",
     "iopub.status.busy": "2025-04-25T11:34:16.851885Z",
     "iopub.status.idle": "2025-04-25T11:34:17.094856Z",
     "shell.execute_reply": "2025-04-25T11:34:17.094445Z"
    },
    "papermill": {
     "duration": 0.24595,
     "end_time": "2025-04-25T11:34:17.095804",
     "exception": false,
     "start_time": "2025-04-25T11:34:16.849854",
     "status": "completed"
    },
    "tags": []
   },
   "outputs": [],
   "source": [
    "# Import des bibliothèques nécessaires\n",
    "from SPARQLWrapper import SPARQLWrapper, JSON\n",
    "import plotly.express as px\n",
    "import logging\n",
    "\n",
    "# Configuration de la journalisation\n",
    "logging.basicConfig(level=logging.INFO)"
   ]
  },
  {
   "cell_type": "markdown",
   "id": "4f066e84",
   "metadata": {
    "papermill": {
     "duration": 0.001324,
     "end_time": "2025-04-25T11:34:17.098977",
     "exception": false,
     "start_time": "2025-04-25T11:34:17.097653",
     "status": "completed"
    },
    "tags": []
   },
   "source": [
    "## 2. Initialisation\n",
    "\n",
    "Dans cette partie du notebook, nous allons préparer les composants nécessaires à l'exécution de nos requêtes SPARQL et assurer une base de données de travail efficace. Cela inclut l'établissement de la connexion, la création de requêtes SPARQL pertinentes ainsi que l'initialisation des structures de données pour réceptionner et traiter les résultats. Prêtez une attention particulière à la formation correcte des requêtes SPARQL pour une extraction de données réussie."
   ]
  },
  {
   "cell_type": "code",
   "execution_count": 3,
   "id": "33440af5",
   "metadata": {
    "execution": {
     "iopub.execute_input": "2025-04-25T11:34:17.102801Z",
     "iopub.status.busy": "2025-04-25T11:34:17.102551Z",
     "iopub.status.idle": "2025-04-25T11:34:17.105528Z",
     "shell.execute_reply": "2025-04-25T11:34:17.104955Z"
    },
    "papermill": {
     "duration": 0.005812,
     "end_time": "2025-04-25T11:34:17.106316",
     "exception": false,
     "start_time": "2025-04-25T11:34:17.100504",
     "status": "completed"
    },
    "tags": []
   },
   "outputs": [],
   "source": [
    "# Initialisation de la connexion à DBpedia\n",
    "sparql = SPARQLWrapper(\"http://dbpedia.org/sparql\")\n",
    "\n",
    "# Exemple de requête SPARQL\n",
    "sparql.setQuery(\"\"\"\n",
    "    SELECT ?label WHERE {\n",
    "      <http://dbpedia.org/resource/Asteroids_(video_game)> rdfs:label ?label .\n",
    "      FILTER (lang(?label) = 'en')\n",
    "    }\n",
    "\"\"\")\n",
    "sparql.setReturnFormat(JSON)"
   ]
  },
  {
   "cell_type": "markdown",
   "id": "8bca0c51",
   "metadata": {
    "papermill": {
     "duration": 0.0017,
     "end_time": "2025-04-25T11:34:17.109941",
     "exception": false,
     "start_time": "2025-04-25T11:34:17.108241",
     "status": "completed"
    },
    "tags": []
   },
   "source": [
    "## 3. Traitement des Données\n",
    "\n",
    "Avec les données extraites de DBpedia, nous allons maintenant mettre en forme et arranger les informations pour les adapter à nos besoins analytiques et de visualisation. Cela pourrait impliquer des nettoyages de données, des manipulations ou encore la transformation des résultats pour structurer les informations de manière adéquate pour la visualisation future. Assurez-vous que les données sont dans le bon format souhaité avant de passer à l'étape de visualisation."
   ]
  },
  {
   "cell_type": "code",
   "execution_count": 4,
   "id": "bcee28ce",
   "metadata": {
    "execution": {
     "iopub.execute_input": "2025-04-25T11:34:17.114142Z",
     "iopub.status.busy": "2025-04-25T11:34:17.113981Z",
     "iopub.status.idle": "2025-04-25T11:34:26.779532Z",
     "shell.execute_reply": "2025-04-25T11:34:26.778344Z"
    },
    "papermill": {
     "duration": 9.671751,
     "end_time": "2025-04-25T11:34:26.783428",
     "exception": false,
     "start_time": "2025-04-25T11:34:17.111677",
     "status": "completed"
    },
    "tags": []
   },
   "outputs": [
    {
     "name": "stderr",
     "output_type": "stream",
     "text": [
      "INFO:root:Labels obtenus : ['Asteroids (video game)']\n"
     ]
    }
   ],
   "source": [
    "# Exécution de la requête et traitement des résultats\n",
    "results = sparql.query().convert()\n",
    "labels = [result['label']['value'] for result in results['results']['bindings']]\n",
    "\n",
    "# Affichage des résultats\n",
    "logging.info(f\"Labels obtenus : {labels}\")"
   ]
  },
  {
   "cell_type": "markdown",
   "id": "5957b743",
   "metadata": {
    "papermill": {
     "duration": 0.006109,
     "end_time": "2025-04-25T11:34:26.793084",
     "exception": false,
     "start_time": "2025-04-25T11:34:26.786975",
     "status": "completed"
    },
    "tags": []
   },
   "source": [
    "## 4. Visualisation des Données\n",
    "\n",
    "Nous utilisons Plotly pour exploiter la puissance graphique qu'il offre et donner vie aux données que nous avons préalablement préparées. Dans cette section, nous construisons différents types de graphiques pour représenter les données issues de DBpedia de manière visuelle et intuitive. Les graphiques élaborés ici devraient révéler des tendances ou des insights significatifs issus des données SPARQL de DBpedia."
   ]
  },
  {
   "cell_type": "code",
   "execution_count": 5,
   "id": "9dfda7dc",
   "metadata": {
    "execution": {
     "iopub.execute_input": "2025-04-25T11:34:26.804658Z",
     "iopub.status.busy": "2025-04-25T11:34:26.804040Z",
     "iopub.status.idle": "2025-04-25T11:34:28.092160Z",
     "shell.execute_reply": "2025-04-25T11:34:28.088898Z"
    },
    "papermill": {
     "duration": 1.297768,
     "end_time": "2025-04-25T11:34:28.096831",
     "exception": false,
     "start_time": "2025-04-25T11:34:26.799063",
     "status": "completed"
    },
    "tags": []
   },
   "outputs": [
    {
     "data": {
      "application/vnd.plotly.v1+json": {
       "config": {
        "plotlyServerURL": "https://plot.ly"
       },
       "data": [
        {
         "hovertemplate": "Index=%{x}<br>Labels=%{y}<extra></extra>",
         "legendgroup": "",
         "marker": {
          "color": "#636efa",
          "pattern": {
           "shape": ""
          }
         },
         "name": "",
         "orientation": "h",
         "showlegend": false,
         "textposition": "auto",
         "type": "bar",
         "x": {
          "bdata": "AA==",
          "dtype": "i1"
         },
         "xaxis": "x",
         "y": [
          "Asteroids (video game)"
         ],
         "yaxis": "y"
        }
       ],
       "layout": {
        "barmode": "relative",
        "legend": {
         "tracegroupgap": 0
        },
        "margin": {
         "t": 60
        },
        "template": {
         "data": {
          "bar": [
           {
            "error_x": {
             "color": "#2a3f5f"
            },
            "error_y": {
             "color": "#2a3f5f"
            },
            "marker": {
             "line": {
              "color": "#E5ECF6",
              "width": 0.5
             },
             "pattern": {
              "fillmode": "overlay",
              "size": 10,
              "solidity": 0.2
             }
            },
            "type": "bar"
           }
          ],
          "barpolar": [
           {
            "marker": {
             "line": {
              "color": "#E5ECF6",
              "width": 0.5
             },
             "pattern": {
              "fillmode": "overlay",
              "size": 10,
              "solidity": 0.2
             }
            },
            "type": "barpolar"
           }
          ],
          "carpet": [
           {
            "aaxis": {
             "endlinecolor": "#2a3f5f",
             "gridcolor": "white",
             "linecolor": "white",
             "minorgridcolor": "white",
             "startlinecolor": "#2a3f5f"
            },
            "baxis": {
             "endlinecolor": "#2a3f5f",
             "gridcolor": "white",
             "linecolor": "white",
             "minorgridcolor": "white",
             "startlinecolor": "#2a3f5f"
            },
            "type": "carpet"
           }
          ],
          "choropleth": [
           {
            "colorbar": {
             "outlinewidth": 0,
             "ticks": ""
            },
            "type": "choropleth"
           }
          ],
          "contour": [
           {
            "colorbar": {
             "outlinewidth": 0,
             "ticks": ""
            },
            "colorscale": [
             [
              0.0,
              "#0d0887"
             ],
             [
              0.1111111111111111,
              "#46039f"
             ],
             [
              0.2222222222222222,
              "#7201a8"
             ],
             [
              0.3333333333333333,
              "#9c179e"
             ],
             [
              0.4444444444444444,
              "#bd3786"
             ],
             [
              0.5555555555555556,
              "#d8576b"
             ],
             [
              0.6666666666666666,
              "#ed7953"
             ],
             [
              0.7777777777777778,
              "#fb9f3a"
             ],
             [
              0.8888888888888888,
              "#fdca26"
             ],
             [
              1.0,
              "#f0f921"
             ]
            ],
            "type": "contour"
           }
          ],
          "contourcarpet": [
           {
            "colorbar": {
             "outlinewidth": 0,
             "ticks": ""
            },
            "type": "contourcarpet"
           }
          ],
          "heatmap": [
           {
            "colorbar": {
             "outlinewidth": 0,
             "ticks": ""
            },
            "colorscale": [
             [
              0.0,
              "#0d0887"
             ],
             [
              0.1111111111111111,
              "#46039f"
             ],
             [
              0.2222222222222222,
              "#7201a8"
             ],
             [
              0.3333333333333333,
              "#9c179e"
             ],
             [
              0.4444444444444444,
              "#bd3786"
             ],
             [
              0.5555555555555556,
              "#d8576b"
             ],
             [
              0.6666666666666666,
              "#ed7953"
             ],
             [
              0.7777777777777778,
              "#fb9f3a"
             ],
             [
              0.8888888888888888,
              "#fdca26"
             ],
             [
              1.0,
              "#f0f921"
             ]
            ],
            "type": "heatmap"
           }
          ],
          "histogram": [
           {
            "marker": {
             "pattern": {
              "fillmode": "overlay",
              "size": 10,
              "solidity": 0.2
             }
            },
            "type": "histogram"
           }
          ],
          "histogram2d": [
           {
            "colorbar": {
             "outlinewidth": 0,
             "ticks": ""
            },
            "colorscale": [
             [
              0.0,
              "#0d0887"
             ],
             [
              0.1111111111111111,
              "#46039f"
             ],
             [
              0.2222222222222222,
              "#7201a8"
             ],
             [
              0.3333333333333333,
              "#9c179e"
             ],
             [
              0.4444444444444444,
              "#bd3786"
             ],
             [
              0.5555555555555556,
              "#d8576b"
             ],
             [
              0.6666666666666666,
              "#ed7953"
             ],
             [
              0.7777777777777778,
              "#fb9f3a"
             ],
             [
              0.8888888888888888,
              "#fdca26"
             ],
             [
              1.0,
              "#f0f921"
             ]
            ],
            "type": "histogram2d"
           }
          ],
          "histogram2dcontour": [
           {
            "colorbar": {
             "outlinewidth": 0,
             "ticks": ""
            },
            "colorscale": [
             [
              0.0,
              "#0d0887"
             ],
             [
              0.1111111111111111,
              "#46039f"
             ],
             [
              0.2222222222222222,
              "#7201a8"
             ],
             [
              0.3333333333333333,
              "#9c179e"
             ],
             [
              0.4444444444444444,
              "#bd3786"
             ],
             [
              0.5555555555555556,
              "#d8576b"
             ],
             [
              0.6666666666666666,
              "#ed7953"
             ],
             [
              0.7777777777777778,
              "#fb9f3a"
             ],
             [
              0.8888888888888888,
              "#fdca26"
             ],
             [
              1.0,
              "#f0f921"
             ]
            ],
            "type": "histogram2dcontour"
           }
          ],
          "mesh3d": [
           {
            "colorbar": {
             "outlinewidth": 0,
             "ticks": ""
            },
            "type": "mesh3d"
           }
          ],
          "parcoords": [
           {
            "line": {
             "colorbar": {
              "outlinewidth": 0,
              "ticks": ""
             }
            },
            "type": "parcoords"
           }
          ],
          "pie": [
           {
            "automargin": true,
            "type": "pie"
           }
          ],
          "scatter": [
           {
            "fillpattern": {
             "fillmode": "overlay",
             "size": 10,
             "solidity": 0.2
            },
            "type": "scatter"
           }
          ],
          "scatter3d": [
           {
            "line": {
             "colorbar": {
              "outlinewidth": 0,
              "ticks": ""
             }
            },
            "marker": {
             "colorbar": {
              "outlinewidth": 0,
              "ticks": ""
             }
            },
            "type": "scatter3d"
           }
          ],
          "scattercarpet": [
           {
            "marker": {
             "colorbar": {
              "outlinewidth": 0,
              "ticks": ""
             }
            },
            "type": "scattercarpet"
           }
          ],
          "scattergeo": [
           {
            "marker": {
             "colorbar": {
              "outlinewidth": 0,
              "ticks": ""
             }
            },
            "type": "scattergeo"
           }
          ],
          "scattergl": [
           {
            "marker": {
             "colorbar": {
              "outlinewidth": 0,
              "ticks": ""
             }
            },
            "type": "scattergl"
           }
          ],
          "scattermap": [
           {
            "marker": {
             "colorbar": {
              "outlinewidth": 0,
              "ticks": ""
             }
            },
            "type": "scattermap"
           }
          ],
          "scattermapbox": [
           {
            "marker": {
             "colorbar": {
              "outlinewidth": 0,
              "ticks": ""
             }
            },
            "type": "scattermapbox"
           }
          ],
          "scatterpolar": [
           {
            "marker": {
             "colorbar": {
              "outlinewidth": 0,
              "ticks": ""
             }
            },
            "type": "scatterpolar"
           }
          ],
          "scatterpolargl": [
           {
            "marker": {
             "colorbar": {
              "outlinewidth": 0,
              "ticks": ""
             }
            },
            "type": "scatterpolargl"
           }
          ],
          "scatterternary": [
           {
            "marker": {
             "colorbar": {
              "outlinewidth": 0,
              "ticks": ""
             }
            },
            "type": "scatterternary"
           }
          ],
          "surface": [
           {
            "colorbar": {
             "outlinewidth": 0,
             "ticks": ""
            },
            "colorscale": [
             [
              0.0,
              "#0d0887"
             ],
             [
              0.1111111111111111,
              "#46039f"
             ],
             [
              0.2222222222222222,
              "#7201a8"
             ],
             [
              0.3333333333333333,
              "#9c179e"
             ],
             [
              0.4444444444444444,
              "#bd3786"
             ],
             [
              0.5555555555555556,
              "#d8576b"
             ],
             [
              0.6666666666666666,
              "#ed7953"
             ],
             [
              0.7777777777777778,
              "#fb9f3a"
             ],
             [
              0.8888888888888888,
              "#fdca26"
             ],
             [
              1.0,
              "#f0f921"
             ]
            ],
            "type": "surface"
           }
          ],
          "table": [
           {
            "cells": {
             "fill": {
              "color": "#EBF0F8"
             },
             "line": {
              "color": "white"
             }
            },
            "header": {
             "fill": {
              "color": "#C8D4E3"
             },
             "line": {
              "color": "white"
             }
            },
            "type": "table"
           }
          ]
         },
         "layout": {
          "annotationdefaults": {
           "arrowcolor": "#2a3f5f",
           "arrowhead": 0,
           "arrowwidth": 1
          },
          "autotypenumbers": "strict",
          "coloraxis": {
           "colorbar": {
            "outlinewidth": 0,
            "ticks": ""
           }
          },
          "colorscale": {
           "diverging": [
            [
             0,
             "#8e0152"
            ],
            [
             0.1,
             "#c51b7d"
            ],
            [
             0.2,
             "#de77ae"
            ],
            [
             0.3,
             "#f1b6da"
            ],
            [
             0.4,
             "#fde0ef"
            ],
            [
             0.5,
             "#f7f7f7"
            ],
            [
             0.6,
             "#e6f5d0"
            ],
            [
             0.7,
             "#b8e186"
            ],
            [
             0.8,
             "#7fbc41"
            ],
            [
             0.9,
             "#4d9221"
            ],
            [
             1,
             "#276419"
            ]
           ],
           "sequential": [
            [
             0.0,
             "#0d0887"
            ],
            [
             0.1111111111111111,
             "#46039f"
            ],
            [
             0.2222222222222222,
             "#7201a8"
            ],
            [
             0.3333333333333333,
             "#9c179e"
            ],
            [
             0.4444444444444444,
             "#bd3786"
            ],
            [
             0.5555555555555556,
             "#d8576b"
            ],
            [
             0.6666666666666666,
             "#ed7953"
            ],
            [
             0.7777777777777778,
             "#fb9f3a"
            ],
            [
             0.8888888888888888,
             "#fdca26"
            ],
            [
             1.0,
             "#f0f921"
            ]
           ],
           "sequentialminus": [
            [
             0.0,
             "#0d0887"
            ],
            [
             0.1111111111111111,
             "#46039f"
            ],
            [
             0.2222222222222222,
             "#7201a8"
            ],
            [
             0.3333333333333333,
             "#9c179e"
            ],
            [
             0.4444444444444444,
             "#bd3786"
            ],
            [
             0.5555555555555556,
             "#d8576b"
            ],
            [
             0.6666666666666666,
             "#ed7953"
            ],
            [
             0.7777777777777778,
             "#fb9f3a"
            ],
            [
             0.8888888888888888,
             "#fdca26"
            ],
            [
             1.0,
             "#f0f921"
            ]
           ]
          },
          "colorway": [
           "#636efa",
           "#EF553B",
           "#00cc96",
           "#ab63fa",
           "#FFA15A",
           "#19d3f3",
           "#FF6692",
           "#B6E880",
           "#FF97FF",
           "#FECB52"
          ],
          "font": {
           "color": "#2a3f5f"
          },
          "geo": {
           "bgcolor": "white",
           "lakecolor": "white",
           "landcolor": "#E5ECF6",
           "showlakes": true,
           "showland": true,
           "subunitcolor": "white"
          },
          "hoverlabel": {
           "align": "left"
          },
          "hovermode": "closest",
          "mapbox": {
           "style": "light"
          },
          "paper_bgcolor": "white",
          "plot_bgcolor": "#E5ECF6",
          "polar": {
           "angularaxis": {
            "gridcolor": "white",
            "linecolor": "white",
            "ticks": ""
           },
           "bgcolor": "#E5ECF6",
           "radialaxis": {
            "gridcolor": "white",
            "linecolor": "white",
            "ticks": ""
           }
          },
          "scene": {
           "xaxis": {
            "backgroundcolor": "#E5ECF6",
            "gridcolor": "white",
            "gridwidth": 2,
            "linecolor": "white",
            "showbackground": true,
            "ticks": "",
            "zerolinecolor": "white"
           },
           "yaxis": {
            "backgroundcolor": "#E5ECF6",
            "gridcolor": "white",
            "gridwidth": 2,
            "linecolor": "white",
            "showbackground": true,
            "ticks": "",
            "zerolinecolor": "white"
           },
           "zaxis": {
            "backgroundcolor": "#E5ECF6",
            "gridcolor": "white",
            "gridwidth": 2,
            "linecolor": "white",
            "showbackground": true,
            "ticks": "",
            "zerolinecolor": "white"
           }
          },
          "shapedefaults": {
           "line": {
            "color": "#2a3f5f"
           }
          },
          "ternary": {
           "aaxis": {
            "gridcolor": "white",
            "linecolor": "white",
            "ticks": ""
           },
           "baxis": {
            "gridcolor": "white",
            "linecolor": "white",
            "ticks": ""
           },
           "bgcolor": "#E5ECF6",
           "caxis": {
            "gridcolor": "white",
            "linecolor": "white",
            "ticks": ""
           }
          },
          "title": {
           "x": 0.05
          },
          "xaxis": {
           "automargin": true,
           "gridcolor": "white",
           "linecolor": "white",
           "ticks": "",
           "title": {
            "standoff": 15
           },
           "zerolinecolor": "white",
           "zerolinewidth": 2
          },
          "yaxis": {
           "automargin": true,
           "gridcolor": "white",
           "linecolor": "white",
           "ticks": "",
           "title": {
            "standoff": 15
           },
           "zerolinecolor": "white",
           "zerolinewidth": 2
          }
         }
        },
        "xaxis": {
         "anchor": "y",
         "domain": [
          0.0,
          1.0
         ],
         "title": {
          "text": "Index"
         }
        },
        "yaxis": {
         "anchor": "x",
         "domain": [
          0.0,
          1.0
         ],
         "title": {
          "text": "Labels"
         }
        }
       }
      }
     },
     "metadata": {},
     "output_type": "display_data"
    }
   ],
   "source": [
    "# Visualisation des résultats avec Plotly\n",
    "fig = px.bar(x=range(len(labels)), y=labels, labels={'x': 'Index', 'y':'Labels'})\n",
    "fig.show()"
   ]
  },
  {
   "cell_type": "markdown",
   "id": "332d027e",
   "metadata": {
    "papermill": {
     "duration": 0.00764,
     "end_time": "2025-04-25T11:34:28.109615",
     "exception": false,
     "start_time": "2025-04-25T11:34:28.101975",
     "status": "completed"
    },
    "tags": []
   },
   "source": [
    "## 5. Conclusion\n",
    "\n",
    "Pour conclure ce projet, nous récapitulerons les actions effectuées, les résultats obtenus, et évaluerons si l'objectif initial a été pleinement réalisé. Cette section sert de synthèse claire et concise des découvertes. Si nécessaire, notez des recommandations pour des travaux futurs ou des améliorations possibles basées sur l'expérience acquise au cours du développement de ce notebook."
   ]
  },
  {
   "cell_type": "code",
   "execution_count": 6,
   "id": "fc01300b",
   "metadata": {
    "execution": {
     "iopub.execute_input": "2025-04-25T11:34:28.116135Z",
     "iopub.status.busy": "2025-04-25T11:34:28.115909Z",
     "iopub.status.idle": "2025-04-25T11:34:28.118661Z",
     "shell.execute_reply": "2025-04-25T11:34:28.118073Z"
    },
    "papermill": {
     "duration": 0.006741,
     "end_time": "2025-04-25T11:34:28.119705",
     "exception": false,
     "start_time": "2025-04-25T11:34:28.112964",
     "status": "completed"
    },
    "tags": []
   },
   "outputs": [],
   "source": [
    "# Cellule 5"
   ]
  }
 ],
 "metadata": {
  "kernelspec": {
   "display_name": "Python 3",
   "language": "python",
   "name": "python3"
  },
  "language_info": {
   "codemirror_mode": {
    "name": "ipython",
    "version": 3
   },
   "file_extension": ".py",
   "mimetype": "text/x-python",
   "name": "python",
   "nbconvert_exporter": "python",
   "pygments_lexer": "ipython3",
   "version": "3.13.2"
  },
  "papermill": {
   "default_parameters": {},
   "duration": 14.540012,
   "end_time": "2025-04-25T11:34:28.464209",
   "environment_variables": {},
   "exception": null,
   "input_path": "Notebook-Generated.ipynb",
   "output_path": "Notebook-Generated.ipynb",
   "parameters": {},
   "start_time": "2025-04-25T11:34:13.924197",
   "version": "2.6.0"
  },
  "polyglot_notebook": {
   "kernelInfo": {
    "defaultKernelName": "csharp",
    "items": [
     {
      "aliases": [],
      "name": "csharp"
     }
    ]
   }
  }
 },
 "nbformat": 4,
 "nbformat_minor": 5
}
