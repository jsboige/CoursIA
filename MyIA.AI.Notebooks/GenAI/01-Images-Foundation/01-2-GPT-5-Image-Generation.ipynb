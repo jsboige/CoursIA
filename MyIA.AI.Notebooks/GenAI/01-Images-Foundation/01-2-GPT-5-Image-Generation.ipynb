{
  "nbformat": 4,
  "nbformat_minor": 4,
  "metadata": {
    "kernelspec": {
      "display_name": "Python 3 (ipykernel)",
      "language": "python",
      "name": "python3"
    },
    "language_info": {
      "codemirror_mode": {
        "name": "ipython",
        "version": 3
      },
      "file_extension": ".py",
      "mimetype": "text/x-python",
      "name": "python",
      "nbconvert_exporter": "python",
      "pygments_lexer": "ipython3",
      "version": "3.11.0"
    },
    "genai": {
      "enabled": true,
      "level": "foundation", 
      "module": "01-Images-Foundation",
      "dependencies": ["openai", "requests", "pillow"],
      "estimated_duration_minutes": 20,
      "difficulty": "beginner",
      "learning_outcomes": [
        "Utiliser GPT-5 pour génération d'images",
        "Combiner text et image avec IA multimodale"
      ]
    }
  },
  "cells": [
    {
      "cell_type": "markdown",
      "source": "# 🤖 GPT-5 Image Generation\n\n**Module :** 01-Images-Foundation  \n**Niveau :** 🟢 Débutant  \n**Technologies :** GPT-5, Multimodal AI, OpenRouter  \n**Durée estimée :** 20 minutes",
      "metadata": {}
    },
    {
      "cell_type": "code",
      "source": "# Paramètres Papermill - JAMAIS modifier ce commentaire\nnotebook_mode = \"interactive\"\nskip_widgets = False\nmodel_name = \"openai/gpt-5\"\nmax_tokens = 4000\ntemperature = 0.7",
      "metadata": {"tags": ["parameters"]},
      "execution_count": null,
      "outputs": []
    },
    {
      "cell_type": "code",
      "source": "# Setup et génération GPT-5 avec capacités images\nprint(\"🤖 GPT-5 Image Generation Setup\")\nprint(\"Configuration multimodale en cours...\")\n\n# Import et configuration\nimport os\nimport requests\nfrom datetime import datetime\n\napi_key = os.getenv('OPENROUTER_API_KEY')\nheaders = {\n    \"Authorization\": f\"Bearer {api_key}\",\n    \"Content-Type\": \"application/json\"\n}\n\nprint(f\"✅ GPT-5 configuré - {datetime.now().strftime('%H:%M:%S')}\")",
      "metadata": {},
      "execution_count": null,
      "outputs": []
    }
  ]
}
