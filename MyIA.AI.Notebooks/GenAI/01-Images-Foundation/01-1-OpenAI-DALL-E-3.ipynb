{
  "nbformat": 4,
  "nbformat_minor": 4,
  "metadata": {
    "kernelspec": {
      "display_name": "Python 3 (ipykernel)",
      "language": "python",
      "name": "python3"
    },
    "language_info": {
      "codemirror_mode": {
        "name": "ipython",
        "version": 3
      },
      "file_extension": ".py",
      "mimetype": "text/x-python",
      "name": "python",
      "nbconvert_exporter": "python",
      "pygments_lexer": "ipython3",
      "version": "3.11.0"
    },
    "genai": {
      "enabled": true,
      "level": "foundation",
      "module": "01-Images-Foundation",
      "dependencies": [
        "openai",
        "requests",
        "pillow",
        "matplotlib"
      ],
      "estimated_duration_minutes": 25,
      "difficulty": "beginner",
      "learning_outcomes": [
        "Configurer l'accès à DALL-E 3 via OpenRouter",
        "Maîtriser les techniques de prompting pour images",
        "Générer des images de haute qualité",
        "Optimiser les paramètres de génération"
      ]
    }
  },
  "cells": [
    {
      "cell_type": "markdown",
      "source": "# 🎨 OpenAI DALL-E 3 - Génération d'Images\n\n**Module :** 01-Images-Foundation  \n**Niveau :** 🟢 Débutant  \n**Technologies :** OpenAI DALL-E 3, OpenRouter API  \n**Durée estimée :** 25 minutes  \n\n## 🎯 Objectifs d'Apprentissage\n\n- [ ] Configurer l'accès à DALL-E 3 via OpenRouter\n- [ ] Maîtriser les techniques de prompting pour images\n- [ ] Générer des images de haute qualité\n- [ ] Optimiser les paramètres de génération\n- [ ] Analyser et sauvegarder les résultats\n\n## 📚 Prérequis\n\n- Environment Setup (module 00) complété\n- Clé API OpenRouter configurée\n- Connaissances de base en prompting",
      "metadata": {}
    },
    {
      "cell_type": "code",
      "source": "# Paramètres Papermill - JAMAIS modifier ce commentaire\n\n# Configuration génération\nnotebook_mode = \"interactive\"        # \"interactive\" ou \"batch\"\nskip_widgets = False               # True pour mode batch MCP\ndebug_level = \"INFO\"               \n\n# Paramètres DALL-E 3\nmodel_name = \"openai/dall-e-3\"     # Modèle via OpenRouter\nimage_size = \"1024x1024\"           # \"1024x1024\", \"1792x1024\", \"1024x1792\"\nimage_quality = \"standard\"         # \"standard\" ou \"hd\"\nimage_style = \"vivid\"              # \"vivid\" ou \"natural\"\nn_images = 1                       # Nombre d'images (1 pour DALL-E 3)\n\n# Configuration sauvegarde\nsave_images = True                 # Sauvegarder images générées\ngenerate_variations = False        # Créer variations du prompt\nexport_metadata = True             # Exporter métadonnées génération",
      "metadata": {
        "tags": [
          "parameters"
        ]
      },
      "execution_count": null,
      "outputs": []
    },
    {
      "cell_type": "code",
      "source": "# Setup environnement et imports\nimport os\nimport sys\nimport json\nimport requests\nfrom pathlib import Path\nfrom datetime import datetime\nfrom typing import Dict, List, Any, Optional\nimport base64\nfrom io import BytesIO\nfrom PIL import Image\nimport matplotlib.pyplot as plt\nimport logging\n\n# Import helpers GenAI\nGENAI_ROOT = Path.cwd()\nwhile GENAI_ROOT.name != 'GenAI' and len(GENAI_ROOT.parts) > 1:\n    GENAI_ROOT = GENAI_ROOT.parent\n\nHELPERS_PATH = GENAI_ROOT / 'shared' / 'helpers'\nif HELPERS_PATH.exists():\n    sys.path.insert(0, str(HELPERS_PATH.parent))\n    try:\n        from helpers.genai_helpers import setup_genai_logging, load_genai_config, save_generated_image\n        print(\"✅ Helpers GenAI importés\")\n    except ImportError:\n        print(\"⚠️  Helpers GenAI non disponibles - mode autonome\")\n\n# Configuration logging\nlogging.basicConfig(level=getattr(logging, debug_level))\nlogger = logging.getLogger('dalle3_generation')\n\nprint(f\"🎨 OpenAI DALL-E 3 - Génération d'Images\")\nprint(f\"📅 {datetime.now().strftime('%Y-%m-%d %H:%M:%S')}\")\nprint(f\"🔧 Mode: {notebook_mode}, Qualité: {image_quality}, Style: {image_style}\")",
      "metadata": {},
      "execution_count": null,
      "outputs": []
    },
    {
      "cell_type": "code",
      "source": "# Configuration API OpenRouter pour DALL-E 3\nprint(\"\\n🔑 CONFIGURATION API DALL-E 3\")\nprint(\"=\" * 40)\n\n# Vérification clé API\nopenrouter_key = os.getenv('OPENROUTER_API_KEY')\nif not openrouter_key:\n    raise ValueError(\"❌ OPENROUTER_API_KEY manquante dans .env\")\n\nprint(f\"✅ Clé API OpenRouter configurée\")\n\n# Configuration headers et endpoint\napi_base_url = \"https://openrouter.ai/api/v1\"\nheaders = {\n    \"Authorization\": f\"Bearer {openrouter_key}\",\n    \"HTTP-Referer\": \"https://coursia.myia.io\",\n    \"X-Title\": \"CoursIA GenAI Images\",\n    \"Content-Type\": \"application/json\"\n}\n\n# Test connexion API\ntry:\n    response = requests.get(f\"{api_base_url}/models\", headers=headers, timeout=10)\n    if response.status_code == 200:\n        models_data = response.json()\n        dalle_models = [m for m in models_data.get('data', []) if 'dall-e' in m.get('id', '').lower()]\n        print(f\"✅ Connexion réussie - {len(dalle_models)} modèles DALL-E disponibles\")\n        \n        for model in dalle_models[:3]:  # Top 3\n            print(f\"  🎨 {model['id']}\")\n    else:\n        print(f\"⚠️  Connexion API: HTTP {response.status_code}\")\nexcept Exception as e:\n    print(f\"❌ Erreur connexion: {str(e)[:100]}...\")\n    \nprint(f\"\\n🎯 Modèle sélectionné: {model_name}\")\nprint(f\"📐 Résolution: {image_size}\")\nprint(f\"🎭 Style: {image_style}, Qualité: {image_quality}\")",
      "metadata": {},
      "execution_count": null,
      "outputs": []
    },
    {
      "cell_type": "code",
      "source": "# Fonction de génération DALL-E 3\ndef generate_dalle3_image(prompt: str, \n                         size: str = \"1024x1024\",\n                         quality: str = \"standard\", \n                         style: str = \"vivid\") -> Dict[str, Any]:\n    \"\"\"\n    Génère une image avec DALL-E 3 via OpenRouter.\n    \n    Args:\n        prompt: Description textuelle de l'image\n        size: Dimensions de l'image\n        quality: Qualité (standard/hd)\n        style: Style visuel (vivid/natural)\n        \n    Returns:\n        Dict avec URL, métadonnées et statut\n    \"\"\"\n    \n    # Payload de la requête\n    payload = {\n        \"model\": model_name,\n        \"prompt\": prompt,\n        \"n\": 1,  # DALL-E 3 ne supporte qu'une image à la fois\n        \"size\": size,\n        \"quality\": quality,\n        \"style\": style,\n        \"response_format\": \"url\"\n    }\n    \n    try:\n        print(f\"\\n🎨 Génération en cours...\")\n        print(f\"📝 Prompt: {prompt[:100]}{'...' if len(prompt) > 100 else ''}\")\n        \n        # Requête API\n        response = requests.post(\n            f\"{api_base_url}/images/generations\",\n            headers=headers,\n            json=payload,\n            timeout=60\n        )\n        \n        if response.status_code == 200:\n            result = response.json()\n            \n            return {\n                \"success\": True,\n                \"image_url\": result[\"data\"][0][\"url\"],\n                \"revised_prompt\": result[\"data\"][0].get(\"revised_prompt\", prompt),\n                \"metadata\": {\n                    \"model\": model_name,\n                    \"size\": size,\n                    \"quality\": quality,\n                    \"style\": style,\n                    \"timestamp\": datetime.now().isoformat(),\n                    \"original_prompt\": prompt\n                },\n                \"response_time\": response.elapsed.total_seconds()\n            }\n        else:\n            error_msg = response.json().get(\"error\", {}).get(\"message\", \"Erreur inconnue\")\n            return {\n                \"success\": False,\n                \"error\": f\"HTTP {response.status_code}: {error_msg}\",\n                \"prompt\": prompt\n            }\n            \n    except Exception as e:\n        return {\n            \"success\": False,\n            \"error\": str(e),\n            \"prompt\": prompt\n        }\n\nprint(\"✅ Fonction de génération DALL-E 3 prête\")",
      "metadata": {},
      "execution_count": null,
      "outputs": []
    },
    {
      "cell_type": "code",
      "source": "# Exemples de prompts optimisés pour DALL-E 3\nprint(\"\\n🎯 EXEMPLES DE GÉNÉRATION DALL-E 3\")\nprint(\"=\" * 45)\n\n# Prompts de démonstration\nexample_prompts = [\n    {\n        \"title\": \"🏙️ Paysage Urbain Futuriste\",\n        \"prompt\": \"A futuristic cityscape at sunset with flying cars, neon lights reflecting on glass buildings, holographic advertisements, and a diverse crowd of people walking on illuminated sidewalks. Ultra-detailed, cinematic lighting, 8K quality.\",\n        \"category\": \"Architecture/Sci-Fi\"\n    },\n    {\n        \"title\": \"🎨 Portrait Artistique\",\n        \"prompt\": \"An elegant woman with flowing auburn hair, wearing a vintage emerald dress, sitting in a library filled with ancient books. Soft natural lighting, Renaissance painting style, highly detailed facial features.\",\n        \"category\": \"Portrait/Artistique\"\n    },\n    {\n        \"title\": \"🦄 Créature Fantastique\",\n        \"prompt\": \"A majestic unicorn with an iridescent mane standing in an enchanted forest with glowing mushrooms, fairy lights, and morning mist. Fantasy art style, magical atmosphere, vibrant colors.\",\n        \"category\": \"Fantasy/Créature\"\n    },\n    {\n        \"title\": \"🍕 Nourriture Stylisée\",\n        \"prompt\": \"A gourmet pizza with fresh basil, cherry tomatoes, and mozzarella on a wooden board, surrounded by Italian ingredients. Professional food photography, warm lighting, mouth-watering presentation.\",\n        \"category\": \"Food/Lifestyle\"\n    }\n]\n\n# Affichage des exemples\nfor i, example in enumerate(example_prompts, 1):\n    print(f\"\\n{i}. {example['title']}\")\n    print(f\"   📂 Catégorie: {example['category']}\")\n    print(f\"   📝 Prompt: {example['prompt'][:120]}...\")\n\nprint(f\"\\n💡 Conseils pour DALL-E 3:\")\nprint(f\"• Soyez descriptifs et spécifiques\")\nprint(f\"• Mentionnez le style artistique désiré\")\nprint(f\"• Précisez l'éclairage et l'atmosphère\")\nprint(f\"• Utilisez des termes techniques (8K, cinematic, etc.)\")\nprint(f\"• DALL-E 3 révise automatiquement vos prompts\")",
      "metadata": {},
      "execution_count": null,
      "outputs": []
    },
    {
      "cell_type": "code",
      "source": "# Génération d'images avec les exemples\nprint(\"\\n🚀 GÉNÉRATION D'IMAGES - DÉMONSTRATION\")\nprint(\"=\" * 50)\n\n# Sélection d'un prompt pour la démonstration\nselected_example = example_prompts[0]  # Paysage urbain futuriste\nprint(f\"🎯 Génération: {selected_example['title']}\")\n\n# Génération de l'image\nresult = generate_dalle3_image(\n    prompt=selected_example['prompt'],\n    size=image_size,\n    quality=image_quality,\n    style=image_style\n)\n\nif result['success']:\n    print(f\"\\n✅ Image générée avec succès!\")\n    print(f\"⏱️  Temps de génération: {result['response_time']:.2f}s\")\n    print(f\"🔗 URL: {result['image_url'][:100]}...\")\n    \n    # Affichage du prompt révisé par DALL-E 3\n    if result.get('revised_prompt') != selected_example['prompt']:\n        print(f\"\\n📝 Prompt original:\")\n        print(f\"   {selected_example['prompt'][:150]}...\")\n        print(f\"\\n🔄 Prompt révisé par DALL-E 3:\")\n        print(f\"   {result['revised_prompt'][:150]}...\")\n    \n    # Téléchargement et affichage de l'image\n    try:\n        print(f\"\\n⬇️  Téléchargement de l'image...\")\n        img_response = requests.get(result['image_url'], timeout=30)\n        \n        if img_response.status_code == 200:\n            # Conversion en PIL Image\n            image = Image.open(BytesIO(img_response.content))\n            \n            # Affichage avec matplotlib\n            plt.figure(figsize=(12, 8))\n            plt.imshow(image)\n            plt.axis('off')\n            plt.title(f\"{selected_example['title']} - DALL-E 3\", fontsize=16, pad=20)\n            plt.tight_layout()\n            plt.show()\n            \n            print(f\"✅ Image affichée - Dimensions: {image.size}\")\n            \n            # Sauvegarde optionnelle\n            if save_images:\n                output_dir = GENAI_ROOT / 'outputs' / 'dalle3'\n                output_dir.mkdir(parents=True, exist_ok=True)\n                \n                timestamp = datetime.now().strftime('%Y%m%d_%H%M%S')\n                filename = f\"dalle3_{timestamp}.png\"\n                filepath = output_dir / filename\n                \n                image.save(filepath)\n                print(f\"💾 Image sauvegardée: {filepath}\")\n                \n                # Export métadonnées\n                if export_metadata:\n                    metadata_file = output_dir / f\"dalle3_{timestamp}_metadata.json\"\n                    with open(metadata_file, 'w', encoding='utf-8') as f:\n                        json.dump(result['metadata'], f, indent=2, ensure_ascii=False)\n                    print(f\"📊 Métadonnées exportées: {metadata_file}\")\n        else:\n            print(f\"❌ Erreur téléchargement image: HTTP {img_response.status_code}\")\n            \n    except Exception as e:\n        print(f\"❌ Erreur affichage image: {str(e)[:100]}...\")\n        print(f\"🔗 Vous pouvez accéder à l'image via: {result['image_url']}\")\nelse:\n    print(f\"\\n❌ Échec de la génération\")\n    print(f\"🔍 Erreur: {result['error']}\")\n    print(f\"📝 Prompt testé: {result['prompt'][:100]}...\")",
      "metadata": {},
      "execution_count": null,
      "outputs": []
    },
    {
      "cell_type": "code",
      "source": "# Mode interactif - Génération personnalisée\nif notebook_mode == \"interactive\" and not skip_widgets:\n    print(\"\\n🎨 MODE INTERACTIF - GÉNÉRATION PERSONNALISÉE\")\n    print(\"=\" * 55)\n    \n    # Interface simple pour prompt personnalisé\n    print(\"\\n💡 Entrez votre propre prompt pour DALL-E 3:\")\n    print(\"(Laissez vide pour passer à la suite)\")\n    \n    try:\n        # Note: En mode MCP batch, ceci sera ignoré\n        user_prompt = input(\"\\n🎯 Votre prompt: \")\n        \n        if user_prompt.strip():\n            print(f\"\\n🚀 Génération de votre image...\")\n            \n            # Paramètres optionnels\n            print(\"\\n⚙️  Paramètres optionnels (appuyez Entrée pour défaut):\")\n            custom_size = input(f\"📐 Taille [{image_size}]: \").strip() or image_size\n            custom_style = input(f\"🎭 Style [{image_style}]: \").strip() or image_style\n            custom_quality = input(f\"✨ Qualité [{image_quality}]: \").strip() or image_quality\n            \n            # Génération\n            custom_result = generate_dalle3_image(\n                prompt=user_prompt,\n                size=custom_size,\n                quality=custom_quality,\n                style=custom_style\n            )\n            \n            if custom_result['success']:\n                print(f\"\\n🎉 Votre image a été générée!\")\n                print(f\"🔗 URL: {custom_result['image_url']}\")\n                \n                if custom_result.get('revised_prompt') != user_prompt:\n                    print(f\"\\n🔄 DALL-E 3 a optimisé votre prompt:\")\n                    print(f\"   {custom_result['revised_prompt']}\")\n            else:\n                print(f\"\\n❌ Erreur: {custom_result['error']}\")\n        else:\n            print(\"\\n⏭️  Mode interactif ignoré\")\n            \n    except (KeyboardInterrupt, EOFError):\n        print(\"\\n⏭️  Mode interactif interrompu\")\nelse:\n    print(\"\\n🤖 Mode batch - Interface interactive désactivée\")\n    print(\"💡 Pour mode interactif: notebook_mode = 'interactive'\")",
      "metadata": {},
      "execution_count": null,
      "outputs": []
    },
    {
      "cell_type": "code",
      "source": "# Analyse et optimisation des résultats\nprint(\"\\n📊 ANALYSE ET BONNES PRATIQUES DALL-E 3\")\nprint(\"=\" * 50)\n\n# Conseils d'optimisation\noptimization_tips = {\n    \"🎯 Prompting Efficace\": [\n        \"Utilisez des descriptions détaillées et spécifiques\",\n        \"Mentionnez le style artistique (photorealistic, oil painting, etc.)\",\n        \"Précisez l'éclairage (soft light, dramatic lighting, golden hour)\",\n        \"Ajoutez des qualificatifs techniques (4K, ultra-detailed, sharp focus)\"\n    ],\n    \"⚙️ Paramètres Techniques\": [\n        f\"Taille optimale: {image_size} pour usage général\",\n        f\"Style 'vivid' pour images créatives, 'natural' pour réalisme\",\n        f\"Qualité 'hd' pour impression, 'standard' pour web\",\n        \"Une seule image par requête (limitation DALL-E 3)\"\n    ],\n    \"💰 Optimisation Coûts\": [\n        \"DALL-E 3 Standard (1024x1024): ~$0.040 par image\",\n        \"DALL-E 3 HD: ~$0.080 par image\",\n        \"Testez avec 'standard' avant de passer en 'hd'\",\n        \"Utilisez des prompts précis pour éviter les régénérations\"\n    ],\n    \"🚫 Limitations Importantes\": [\n        \"Pas de génération de visages de célébrités réelles\",\n        \"Évitez le contenu explicite ou violent\",\n        \"Pas de reproduction d'œuvres d'art protégées\",\n        \"Respect des politique d'usage d'OpenAI\"\n    ]\n}\n\nfor category, tips in optimization_tips.items():\n    print(f\"\\n{category}\")\n    for tip in tips:\n        print(f\"  • {tip}\")\n\n# Statistiques de cette session\nprint(f\"\\n📈 STATISTIQUES SESSION\")\nprint(f\"📅 Date: {datetime.now().strftime('%Y-%m-%d %H:%M:%S')}\")\nprint(f\"🎯 Modèle utilisé: {model_name}\")\nprint(f\"⚙️  Configuration: {image_size}, {image_style}, {image_quality}\")\nprint(f\"🎨 Nombre d'images générées: 1 (démo)\")\nprint(f\"💾 Sauvegarde automatique: {'✅' if save_images else '❌'}\")\n\nprint(f\"\\n🎓 PROCHAINES ÉTAPES\")\nprint(f\"1. Expérimenter avec différents styles de prompts\")\nprint(f\"2. Tester les paramètres de qualité et style\")\nprint(f\"3. Explorer le notebook 01-2 (GPT-5 Image Generation)\")\nprint(f\"4. Découvrir les opérations d'images (01-3)\")\n\nprint(f\"\\n✅ Notebook DALL-E 3 terminé - {datetime.now().strftime('%H:%M:%S')}\")",
      "metadata": {},
      "execution_count": null,
      "outputs": []
    }
  ]
}
