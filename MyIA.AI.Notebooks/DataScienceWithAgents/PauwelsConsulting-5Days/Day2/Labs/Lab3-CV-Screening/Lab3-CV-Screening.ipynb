{
 "cells": [
  {
   "cell_type": "markdown",
   "metadata": {},
   "source": [
    "# Lab 3 - Pré-qualifier des Candidats avec l'IA"
   ]
  },
  {
   "cell_type": "markdown",
   "metadata": {},
   "source": [
    "Ce notebook démontre comment utiliser un agent d'IA pour automatiser la pré-qualification de CVs. L'objectif est de comparer des CVs à une offre d'emploi, d'extraire les informations pertinentes, de noter l'adéquation et de fournir un résumé pour aider les recruteurs à se concentrer sur les candidats les plus prometteurs."
   ]
  },
  {
   "cell_type": "markdown",
   "metadata": {},
   "source": [
    "## Étape 1 : Charger l'Offre et les CVs"
   ]
  },
  {
   "cell_type": "code",
   "execution_count": null,
   "metadata": {},
   "outputs": [],
   "source": [
    "with open('offre_datascience.txt', 'r', encoding='utf-8') as f:\n",
    "    offre_emploi = f.read()\n",
    "\n",
    "with open('cv_candidat_A.txt', 'r', encoding='utf-8') as f:\n",
    "    cv_candidat_A = f.read()\n",
    "\n",
    "with open('cv_candidat_B.txt', 'r', encoding='utf-8') as f:\n",
    "    cv_candidat_B = f.read()\n",
    "\n",
    "print(\"--- Offre d'emploi ---\")\n",
    "print(offre_emploi)\n",
    "print(\"\\n--- CV Candidat A ---\")\n",
    "print(cv_candidat_A)\n",
    "print(\"\\n--- CV Candidat B ---\")\n",
    "print(cv_candidat_B)"
   ]
  },
  {
   "cell_type": "markdown",
   "metadata": {},
   "source": [
    "## Étape 2 : Définir l'Agent de Recrutement IA"
   ]
  },
  {
   "cell_type": "code",
   "execution_count": null,
   "metadata": {},
   "outputs": [],
   "source": [
    "import os\n",
    "from langchain.prompts import PromptTemplate\n",
    "from langchain_openai import ChatOpenAI\n",
    "from langchain.chains import LLMChain\n",
    "import json\n",
    "\n",
    "# Assurez-vous d'avoir votre clé API OpenAI dans vos variables d'environnement\n",
    "# os.environ['OPENAI_API_KEY'] = 'sk-...' \n",
    "\n",
    "llm = ChatOpenAI(temperature=0, model_name=\"gpt-3.5-turbo\")\n",
    "\n",
    "template = \"\"\"\n",
    "Vous êtes un recruteur senior spécialisé en Data Science.\n",
    "Votre mission est d'analyser le CV suivant par rapport à l'offre d'emploi fournie.\n",
    "Fournissez votre analyse dans un format JSON structuré.\n",
    "\n",
    "Offre d'emploi :\n",
    "{offre}\n",
    "\n",
    "CV du candidat :\n",
    "{cv}\n",
    "\n",
    "Format de sortie attendu (JSON) :\n",
    "{\n",
    "  \"competences_correspondantes\": [\"Liste des compétences du CV qui correspondent à l'offre\"],\n",
    "  \"competences_manquantes\": [\"Liste des compétences requises dans l'offre mais non trouvées dans le CV\"],\n",
    "  \"score_adequation\": \"Note de 1 à 10 sur l'adéquation du profil\",\n",
    "  \"resume_analyse\": \"Un court paragraphe expliquant la note et justifiant votre évaluation.\"\n",
    "}\n",
    "\"\"\"\n",
    "\n",
    "prompt = PromptTemplate(\n",
    "    input_variables=[\"offre\", \"cv\"],\n",
    "    template=template\n",
    ")\n",
    "\n",
    "chain = LLMChain(llm=llm, prompt=prompt)\n",
    "print(\"Agent de recrutement IA prêt.\")"
   ]
  },
  {
   "cell_type": "markdown",
   "metadata": {},
   "source": [
    "## Étape 3 : Évaluer les candidats"
   ]
  },
  {
   "cell_type": "code",
   "execution_count": null,
   "metadata": {},
   "outputs": [],
   "source": [
    "# Évaluation du Candidat A\n",
    "result_A = chain.run(offre=offre_emploi, cv=cv_candidat_A)\n",
    "result_A_json = json.loads(result_A)\n",
    "\n",
    "print(\"--- Analyse du Candidat A (Alice Martin) ---\")\n",
    "print(json.dumps(result_A_json, indent=2, ensure_ascii=False))\n",
    "\n",
    "# Évaluation du Candidat B\n",
    "result_B = chain.run(offre=offre_emploi, cv=cv_candidat_B)\n",
    "result_B_json = json.loads(result_B)\n",
    "\n",
    "print(\"\\n--- Analyse du Candidat B (Bob Durand) ---\")\n",
    "print(json.dumps(result_B_json, indent=2, ensure_ascii=False))"
   ]
  },
  {
   "cell_type": "markdown",
   "metadata": {},
   "source": [
    "## Conclusion"
   ]
  },
  {
   "cell_type": "markdown",
   "metadata": {},
   "source": [
    "Ce laboratoire montre comment l'IA peut transformer le processus de recrutement. En structurant l'information non structurée des CVs, l'agent fournit une analyse objective et rapide.\n",
    "\n",
    "**Bénéfices clés :**\n",
    "- **Gain de temps :** Automatisation du tri initial, permettant aux recruteurs de se concentrer sur les candidats qualifiés.\n",
    "- **Objectivité accrue :** L'analyse est basée sur des critères définis dans l'offre, réduisant les biais inconscients.\n",
    "- **Aide à la décision :** Le scoring et le résumé fournissent une base de données solide pour les décisions de recrutement.\n",
    "\n",
    "Une telle solution peut être directement intégrée dans un Applicant Tracking System (ATS) pour automatiser entièrement le flux de travail."
   ]
  }
 ],
 "metadata": {
  "kernelspec": {
   "display_name": "Python 3",
   "language": "python",
   "name": "python3"
  },
  "language_info": {
   "codemirror_mode": {
    "name": "ipython",
    "version": 3
   },
   "file_extension": ".py",
   "mimetype": "text/x-python",
   "name": "python",
   "nbconvert_exporter": "python",
   "pygments_lexer": "ipython3",
   "version": "3.9.12"
  }
 },
 "nbformat": 4,
 "nbformat_minor": 4
}