{
  "cells": [
    {
      "cell_type": "markdown",
      "metadata": {},
      "source": [
        "# Lab 7 - Votre premier Agent Analyste de Données"
      ]
    },
    {
      "cell_type": "markdown",
      "metadata": {},
      "source": [
        "Nous allons maintenant fusionner les deux mondes : la Data Science (Pandas) et l'IA Agentique (LangChain). L'objectif est de créer un agent qui peut effectuer des analyses de données à notre place."
      ]
    },
    {
      "cell_type": "markdown",
      "metadata": {},
      "source": [
        "### Étape 1 : Préparation de l'Environnement et des Données"
      ]
    },
    {
      "cell_type": "code",
      "execution_count": null,
      "metadata": {},
      "outputs": [],
      "source": [
        "import pandas as pd\n",
        "from langchain_openai import ChatOpenAI\n",
        "from langchain_experimental.agents.agent_toolkits import create_pandas_dataframe_agent\n",
        "import os\n",
        "\n",
        "# Assurez-vous d'avoir votre clé API OpenAI dans vos variables d'environnement\n",
        "# Par exemple:\n",
        "# os.environ[\"OPENAI_API_KEY\"] = \"sk-...\"\n",
        "\n",
        "df = pd.read_csv('../Lab4-DataWrangling/transactions.csv')"
      ]
    },
    {
      "cell_type": "markdown",
      "metadata": {},
      "source": [
        "Un agent, comme un humain, a besoin de données de qualité pour bien travailler. Nous allons donc répéter les mêmes étapes de nettoyage que dans le Lab 4."
      ]
    },
    {
      "cell_type": "code",
      "execution_count": null,
      "metadata": {},
      "outputs": [],
      "source": [
        "# Supprimer les lignes où la quantité est manquante car une transaction sans quantité n'est pas exploitable\n",
        "df.dropna(subset=['quantite'], inplace=True)\n",
        "\n",
        "# Remplir le prix manquant avec la moyenne des prix du même produit (stratégie d'imputation)\n",
        "df['prix_unitaire'] = df.groupby('id_produit')['prix_unitaire'].transform(lambda x: x.fillna(x.mean()))\n",
        "\n",
        "# Convertir la colonne 'date' en datetime. errors='coerce' transformera les dates invalides en NaT (Not a Time)\n",
        "df['date'] = pd.to_datetime(df['date'], errors='coerce')\n",
        "\n",
        "# Créer une colonne 'chiffre_affaires' pour faciliter les calculs\n",
        "df['chiffre_affaires'] = df['quantite'] * df['prix_unitaire']\n",
        "\n",
        "print(\"Données nettoyées et prêtes pour l'agent. Aperçu :\")\n",
        "df.head()"
      ]
    },
    {
      "cell_type": "markdown",
      "metadata": {},
      "source": [
        "### Étape 2 : Le Cerveau et le nouvel \"Outil\""
      ]
    },
    {
      "cell_type": "markdown",
      "metadata": {},
      "source": [
        "Voici la fonction clé : `create_pandas_dataframe_agent`. C'est un \"constructeur d'agent\" spécialisé. Au lieu de lui donner nos propres outils manuellement, cette fonction va analyser le DataFrame et fournir à l'agent une boîte à outils (`PythonREPLTool`) lui permettant d'écrire et d'exécuter du code Python (et donc Pandas) pour répondre à des questions."
      ]
    },
    {
      "cell_type": "code",
      "execution_count": null,
      "metadata": {},
      "outputs": [],
      "source": [
        "llm = ChatOpenAI(temperature=0, model=\"gpt-4o\")\n",
        "\n",
        "# Création de l'agent\n",
        "# Note: agent_type=\"openai-tools\" est une méthode moderne et robuste qui utilise les \"OpenAI Tools\" pour une meilleure fiabilité.\n",
        "agent_executor = create_pandas_dataframe_agent(llm, df, agent_type=\"openai-tools\", verbose=True)"
      ]
    },
    {
      "cell_type": "markdown",
      "metadata": {},
      "source": [
        "### Étape 3 : Dialoguer avec l'Agent Analyste"
      ]
    },
    {
      "cell_type": "code",
      "execution_count": null,
      "metadata": {},
      "outputs": [],
      "source": [
        "agent_executor.invoke({\"input\": \"Combien y a-t-il de lignes dans les données ?\"})"
      ]
    },
    {
      "cell_type": "code",
      "execution_count": null,
      "metadata": {},
      "outputs": [],
      "source": [
        "agent_executor.invoke({\"input\": \"Quel est le chiffre d'affaires total réalisé ?\"})"
      ]
    },
    {
      "cell_type": "code",
      "execution_count": null,
      "metadata": {},
      "outputs": [],
      "source": [
        "agent_executor.invoke({\"input\": \"Liste les catégories de produits uniques.\"})"
      ]
    },
    {
      "cell_type": "code",
      "execution_count": null,
      "metadata": {},
      "outputs": [],
      "source": [
        "agent_executor.invoke({\"input\": \"Quelle est la catégorie qui a généré le plus de chiffre d'affaires ?\"})"
      ]
    },
    {
      "cell_type": "markdown",
      "metadata": {},
      "source": [
        "## Conclusion\n",
        "\n",
        "Félicitations ! Vous avez créé un véritable agent spécialisé, un \"Data Analyst junior\".\n",
        "\n",
        "Le concept clé à retenir est que nous n'avons pas codé les analyses nous-mêmes. Nous avons donné au LLM un **outil** (la capacité d'exécuter du code sur un DataFrame) et un **contexte** (le DataFrame lui-même), et il a **raisonné** pour déterminer comment utiliser cet outil pour atteindre l'objectif.\n",
        "\n",
        "Dans les prochains jours, nous apprendrons à construire des agents encore plus complexes, avec de multiples outils et des capacités de planification plus avancées."
      ]
    }
  ],
  "metadata": {
    "kernelspec": {
      "display_name": "Python 3",
      "language": "python",
      "name": "python3"
    },
    "language_info": {
      "name": "python",
      "version": "3.10.12"
    }
  },
  "nbformat": 4,
  "nbformat_minor": 2
}