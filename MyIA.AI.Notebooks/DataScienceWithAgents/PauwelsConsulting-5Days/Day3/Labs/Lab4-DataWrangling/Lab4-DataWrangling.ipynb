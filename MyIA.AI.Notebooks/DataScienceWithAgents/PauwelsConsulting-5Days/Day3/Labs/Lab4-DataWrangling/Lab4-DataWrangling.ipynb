{
 "cells": [
  {
   "cell_type": "markdown",
   "metadata": {},
   "source": [
    "# Lab 4 - Le Nettoyage de Données avec Pandas"
   ]
  },
  {
   "cell_type": "markdown",
   "metadata": {},
   "source": [
    "## Introduction : La Règle des 80/20 en Data Science\n",
    "\n",
    "En Data Science, on dit souvent que 80% du temps est consacré à la préparation et au nettoyage des données, et seulement 20% à l'analyse et à la modélisation. Cette étape, bien que moins glamour, est absolument cruciale. Des données de mauvaise qualité mènent inévitablement à des modèles et des conclusions de mauvaise qualité ('Garbage In, Garbage Out').\n",
    "\n",
    "Dans ce laboratoire, nous allons aborder de front ce travail de préparation en utilisant un jeu de données volontairement \"sale\"."
   ]
  },
  {
   "cell_type": "markdown",
   "metadata": {},
   "source": [
    "### Étape 1 : Inspection des Données"
   ]
  },
  {
   "cell_type": "code",
   "execution_count": null,
   "metadata": {},
   "outputs": [],
   "source": [
    "import pandas as pd\n",
    "\n",
    "# Charger le jeu de données\n",
    "df = pd.read_csv('transactions.csv')\n",
    "\n",
    "# Afficher les premières lignes\n",
    "df.head()"
   ]
  },
  {
   "cell_type": "code",
   "execution_count": null,
   "metadata": {},
   "outputs": [],
   "source": [
    "# Obtenir un résumé des informations du DataFrame\n",
    "df.info()"
   ]
  },
  {
   "cell_type": "code",
   "execution_count": null,
   "metadata": {},
   "outputs": [],
   "source": [
    "# Compter les valeurs manquantes par colonne\n",
    "df.isnull().sum()"
   ]
  },
  {
   "cell_type": "markdown",
   "metadata": {},
   "source": [
    "**Observations :**\n",
    "- La colonne `date` est de type `object` (chaîne de caractères) alors qu'elle devrait être de type `datetime`.\n",
    "- Il y a une valeur manquante dans `quantite`.\n",
    "- Il y a une valeur manquante dans `prix_unitaire`."
   ]
  },
  {
   "cell_type": "markdown",
   "metadata": {},
   "source": [
    "### Étape 2 : Nettoyage - Gestion des Valeurs Manquantes"
   ]
  },
  {
   "cell_type": "code",
   "execution_count": null,
   "metadata": {},
   "outputs": [],
   "source": [
    "# Supprimer les lignes où la quantité est manquante\n",
    "# Une transaction sans quantité n'est pas exploitable\n",
    "df.dropna(subset=['quantite'], inplace=True)"
   ]
  },
  {
   "cell_type": "code",
   "execution_count": null,
   "metadata": {},
   "outputs": [],
   "source": [
    "# Remplir le prix manquant avec la moyenne des prix du même produit\n",
    "# C'est une stratégie d'imputation plus intelligente que la moyenne globale\n",
    "df['prix_unitaire'] = df.groupby('id_produit')['prix_unitaire'].transform(lambda x: x.fillna(x.mean()))\n",
    "\n",
    "# Vérifions s'il reste des valeurs nulles\n",
    "df.isnull().sum()"
   ]
  },
  {
   "cell_type": "markdown",
   "metadata": {},
   "source": [
    "### Étape 3 : Correction des Types"
   ]
  },
  {
   "cell_type": "code",
   "execution_count": null,
   "metadata": {},
   "outputs": [],
   "source": [
    "# Convertir la colonne 'date' en datetime\n",
    "# errors='coerce' transformera les dates invalides en NaT (Not a Time)\n",
    "df['date'] = pd.to_datetime(df['date'], errors='coerce')"
   ]
  },
  {
   "cell_type": "code",
   "execution_count": null,
   "metadata": {},
   "outputs": [],
   "source": [
    "# Vérifions les types à nouveau\n",
    "df.info()"
   ]
  },
  {
   "cell_type": "markdown",
   "metadata": {},
   "source": [
    "### Étape 4 : Transformation - Création de Colonnes"
   ]
  },
  {
   "cell_type": "code",
   "execution_count": null,
   "metadata": {},
   "outputs": [],
   "source": [
    "# Créer une colonne 'chiffre_affaires'\n",
    "df['chiffre_affaires'] = df['quantite'] * df['prix_unitaire']\n",
    "df.head()"
   ]
  },
  {
   "cell_type": "markdown",
   "metadata": {},
   "source": [
    "### Étape 5 : Agrégation pour l'Analyse"
   ]
  },
  {
   "cell_type": "code",
   "execution_count": null,
   "metadata": {},
   "outputs": [],
   "source": [
    "# Question métier : Quel est le chiffre d'affaires total par catégorie de produit ?\n",
    "ca_par_categorie = df.groupby('categorie')['chiffre_affaires'].sum().reset_index()\n",
    "\n",
    "print(\"Chiffre d'affaires total par catégorie :\")\n",
    "print(ca_par_categorie)"
   ]
  },
  {
   "cell_type": "markdown",
   "metadata": {},
   "source": [
    "## Conclusion\n",
    "\n",
    "Félicitations ! Vous avez nettoyé un jeu de données, corrigé ses types, créé de nouvelles informations et répondu à une question métier grâce à une agrégation.\n",
    "\n",
    "Vous avez appris à :\n",
    "- Identifier les problèmes avec `.info()` et `.isnull()`.\n",
    "- Gérer les valeurs manquantes avec `dropna` et `fillna` (de manière avancée avec `groupby` et `transform`).\n",
    "- Corriger les types de données avec `pd.to_datetime`.\n",
    "- Créer de nouvelles colonnes pour enrichir vos données.\n",
    "- Agréger les données avec `groupby()` pour obtenir des insights.\n",
    "\n",
    "**Lien avec l'après-midi :** Ces étapes de nettoyage et d'analyse sont exactement le type de tâches qu'un agent d'IA pourra bientôt réaliser de manière autonome. En maîtrisant ces techniques, vous comprenez la logique qu'il faudra implémenter dans les \"outils\" que nous fournirons à nos agents pour qu'ils puissent travailler efficacement avec des données du monde réel."
   ]
  }
 ],
 "metadata": {
  "kernelspec": {
   "display_name": "Python 3",
   "language": "python",
   "name": "python3"
  },
  "language_info": {
   "codemirror_mode": {
    "name": "ipython",
    "version": 3
   },
   "file_extension": ".py",
   "mimetype": "text/x-python",
   "name": "python",
   "nbconvert_exporter": "python",
   "pygments_lexer": "ipython3",
   "version": "3.9.7"
  }
 },
 "nbformat": 4,
 "nbformat_minor": 4
}