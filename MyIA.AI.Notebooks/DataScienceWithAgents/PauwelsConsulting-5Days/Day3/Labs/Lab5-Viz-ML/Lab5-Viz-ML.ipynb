{
 "cells": [
  {
   "cell_type": "markdown",
   "metadata": {},
   "source": [
    "# Lab 5 - De la Visualisation au Machine Learning"
   ]
  },
  {
   "cell_type": "markdown",
   "metadata": {},
   "source": [
    "**Contexte :** Le Lab 4 nous a fourni un jeu de données propre sur les transactions. Notre objectif est maintenant de le \"faire parler\" en utilisant la visualisation de données, puis de construire un premier modèle de Machine Learning capable de faire des prédictions."
   ]
  },
  {
   "cell_type": "markdown",
   "metadata": {},
   "source": [
    "## Étape 1 : Préparation des Données"
   ]
  },
  {
   "cell_type": "code",
   "execution_count": null,
   "metadata": {},
   "outputs": [],
   "source": [
    "import pandas as pd\n",
    "\n",
    "# Charger les données depuis le lab précédent\n",
    "df = pd.read_csv('../Lab4-DataWrangling/transactions.csv')\n",
    "\n",
    "# Ré-appliquer les étapes de nettoyage du Lab 4 (révision)\n",
    "\n",
    "# 1. Gestion des valeurs manquantes\n",
    "df['prix_unitaire'].fillna(df['prix_unitaire'].median(), inplace=True)\n",
    "\n",
    "# 2. Correction des types de données\n",
    "df['date'] = pd.to_datetime(df['date'])\n",
    "df['quantite'] = df['quantite'].astype(int)\n",
    "\n",
    "# 3. Création de la colonne 'chiffre_affaires'\n",
    "df['chiffre_affaires'] = df['quantite'] * df['prix_unitaire']\n",
    "\n",
    "df.head()"
   ]
  },
  {
   "cell_type": "markdown",
   "metadata": {},
   "source": [
    "## Étape 2 : Analyse Exploratoire par la Visualisation (EDA)"
   ]
  },
  {
   "cell_type": "code",
   "execution_count": null,
   "metadata": {},
   "outputs": [],
   "source": [
    "import matplotlib.pyplot as plt\n",
    "import seaborn as sns\n",
    "\n",
    "# Style des graphiques\n",
    "sns.set_style(\"whitegrid\")"
   ]
  },
  {
   "cell_type": "markdown",
   "metadata": {},
   "source": [
    "### Visualisation 1 : Chiffre d'affaires total par catégorie"
   ]
  },
  {
   "cell_type": "code",
   "execution_count": null,
   "metadata": {},
   "outputs": [],
   "source": [
    "plt.figure(figsize=(10, 6))\n",
    "sns.barplot(x='categorie', y='chiffre_affaires', data=df, estimator=sum, ci=None)\n",
    "plt.title(\"Chiffre d'Affaires Total par Catégorie de Produit\")\n",
    "plt.xlabel(\"Catégorie\")\n",
    "plt.ylabel(\"Chiffre d'Affaires Total\")\n",
    "plt.xticks(rotation=45)\n",
    "plt.show()"
   ]
  },
  {
   "cell_type": "markdown",
   "metadata": {},
   "source": [
    "**Interprétation :** Ce graphique nous montre quelles catégories de produits génèrent le plus de revenus. On peut rapidement identifier les catégories les plus performantes et celles qui le sont moins."
   ]
  },
  {
   "cell_type": "markdown",
   "metadata": {},
   "source": [
    "### Visualisation 2 : Évolution du chiffre d'affaires journalier"
   ]
  },
  {
   "cell_type": "code",
   "execution_count": null,
   "metadata": {},
   "outputs": [],
   "source": [
    "daily_revenue = df.groupby('date')['chiffre_affaires'].sum().reset_index()\n",
    "\n",
    "plt.figure(figsize=(12, 6))\n",
    "sns.lineplot(x='date', y='chiffre_affaires', data=daily_revenue)\n",
    "plt.title(\"Évolution du Chiffre d'Affaires Journalier\")\n",
    "plt.xlabel(\"Date\")\n",
    "plt.ylabel(\"Chiffre d'Affaires\")\n",
    "plt.show()"
   ]
  },
  {
   "cell_type": "markdown",
   "metadata": {},
   "source": [
    "**Interprétation :** Ce graphique linéaire nous permet de visualiser les tendances des ventes au fil du temps. On peut y repérer des saisonnalités, des pics de vente, ou des périodes de creux."
   ]
  },
  {
   "cell_type": "markdown",
   "metadata": {},
   "source": [
    "## Étape 3 : Introduction au Machine Learning - Classification"
   ]
  },
  {
   "cell_type": "markdown",
   "metadata": {},
   "source": [
    "**Problématique :** Pouvons-nous prédire la `categorie` d'un produit en nous basant uniquement sur son `prix_unitaire` et la `quantite` vendue ?"
   ]
  },
  {
   "cell_type": "code",
   "execution_count": null,
   "metadata": {},
   "outputs": [],
   "source": [
    "from sklearn.model_selection import train_test_split\n",
    "from sklearn.linear_model import LogisticRegression\n",
    "from sklearn.metrics import accuracy_score\n",
    "\n",
    "# Définir les features (X) et la target (y)\n",
    "features = ['prix_unitaire', 'quantite']\n",
    "target = 'categorie'\n",
    "\n",
    "X = df[features]\n",
    "y = df[target]\n",
    "\n",
    "# Diviser les données en ensembles d'entraînement et de test\n",
    "X_train, X_test, y_train, y_test = train_test_split(X, y, test_size=0.3, random_state=42)"
   ]
  },
  {
   "cell_type": "markdown",
   "metadata": {},
   "source": [
    "### Entraînement et Évaluation du modèle"
   ]
  },
  {
   "cell_type": "code",
   "execution_count": null,
   "metadata": {},
   "outputs": [],
   "source": [
    "# Instancier et entraîner le modèle\n",
    "model = LogisticRegression()\n",
    "model.fit(X_train, y_train)\n",
    "\n",
    "# Faire des prédictions\n",
    "y_pred = model.predict(X_test)\n",
    "\n",
    "# Calculer la précision\n",
    "accuracy = accuracy_score(y_test, y_pred)\n",
    "\n",
    "print(f\"Précision du modèle : {accuracy:.2f}\")"
   ]
  },
  {
   "cell_type": "markdown",
   "metadata": {},
   "source": [
    "**Interprétation du score :** Le score de précision (accuracy) nous indique le pourcentage de prédictions correctes que notre modèle a faites sur l'ensemble de test. Un score de 0.80 signifie que le modèle a correctement prédit la catégorie pour 80% des produits de test."
   ]
  },
  {
   "cell_type": "markdown",
   "metadata": {},
   "source": [
    "## Conclusion"
   ]
  },
  {
   "cell_type": "markdown",
   "metadata": {},
   "source": [
    "Félicitations ! Vous avez acquis deux compétences fondamentales en Data Science :\n",
    "1.  **L'analyse exploratoire par la visualisation**, pour comprendre vos données.\n",
    "2.  **La modélisation prédictive**, pour utiliser vos données afin de faire des prédictions.\n",
    "\n",
    "**Lien avec les agents d'IA :**\n",
    "Ce processus que nous avons mené manuellement peut être entièrement automatisé par un agent d'IA. Imaginez pouvoir demander simplement : \"Analyse les ventes du trimestre dernier, identifie les 3 meilleures catégories de produit, et construis un modèle pour prédire la catégorie des nouveaux produits.\"\n",
    "\n",
    "Pour ce faire, l'agent utiliserait des **outils** (tools) qui encapsuleraient la logique que nous venons d'écrire avec `pandas`, `seaborn` et `sklearn`. Le rôle de l'agent est d'orchestrer ces outils pour répondre à la demande de l'utilisateur."
   ]
  }
 ],
 "metadata": {
  "kernelspec": {
   "display_name": "Python 3",
   "language": "python",
   "name": "python3"
  },
  "language_info": {
   "codemirror_mode": {
    "name": "ipython",
    "version": 3
   },
   "file_extension": ".py",
   "mimetype": "text/x-python",
   "name": "python",
   "nbconvert_exporter": "python",
   "pygments_lexer": "ipython3",
   "version": "3.9.7"
  }
 },
 "nbformat": 4,
 "nbformat_minor": 4
}