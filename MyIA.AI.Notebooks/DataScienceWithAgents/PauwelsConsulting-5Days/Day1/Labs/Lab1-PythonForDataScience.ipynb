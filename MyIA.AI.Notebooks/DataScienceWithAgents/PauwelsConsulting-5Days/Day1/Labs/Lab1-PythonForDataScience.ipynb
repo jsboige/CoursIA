{
 "cells": [
  {
   "cell_type": "markdown",
   "metadata": {},
   "source": [
    "# Lab 1 - Les Bases de la Data Science en Python"
   ]
  },
  {
   "cell_type": "markdown",
   "metadata": {},
   "source": [
    "## Introduction à Pandas\n",
    "\n",
    "Pandas est une bibliothèque essentielle pour la manipulation de données en Python. Elle introduit la notion de DataFrame, une structure de données tabulaire puissante."
   ]
  },
  {
   "cell_type": "code",
   "execution_count": null,
   "metadata": {},
   "outputs": [],
   "source": [
    "import pandas as pd\n",
    "\n",
    "# Créer un DataFrame à partir de zéro\n",
    "data = {'col1': [1, 2], 'col2': [3, 4]}\n",
    "df_simple = pd.DataFrame(data)\n",
    "print(\"DataFrame simple :\")\n",
    "print(df_simple)\n",
    "\n",
    "# Lire des données depuis un fichier CSV\n",
    "df = pd.read_csv('sales_data.csv')\n",
    "print(\"\\nContenu du fichier sales_data.csv :\")"
   ]
  },
  {
   "cell_type": "markdown",
   "metadata": {},
   "source": [
    "## Exploration de Données\n",
    "\n",
    "Une fois les données chargées, les premières étapes consistent à les explorer pour comprendre leur structure et leur contenu."
   ]
  },
  {
   "cell_type": "code",
   "execution_count": null,
   "metadata": {},
   "outputs": [],
   "source": [
    "# Afficher les premières lignes\n",
    "print(\"Premières lignes (head) :\")\n",
    "print(df.head())\n",
    "\n",
    "# Obtenir des informations générales sur le DataFrame\n",
    "print(\"\\nInformations (info) :\")\n",
    "df.info()\n",
    "\n",
    "# Obtenir des statistiques descriptives\n",
    "print(\"\\nStatistiques descriptives (describe) :\")\n",
    "print(df.describe())"
   ]
  },
  {
   "cell_type": "markdown",
   "metadata": {},
   "source": [
    "## Sélection et Filtrage\n",
    "\n",
    "Apprenons à sélectionner des colonnes spécifiques et à filtrer les lignes en fonction de conditions."
   ]
  },
  {
   "cell_type": "code",
   "execution_count": null,
   "metadata": {},
   "outputs": [],
   "source": [
    "# Sélectionner une seule colonne\n",
    "produits = df['Produit']\n",
    "print(\"Colonne 'Produit' :\")\n",
    "print(produits)\n",
    "\n",
    "# Filtrer les lignes où les ventes sont supérieures à 150\n",
    "ventes_elevees = df[df['Ventes'] > 150]\n",
    "print(\"\\nVentes supérieures à 150 :\")\n",
    "print(ventes_elevees)"
   ]
  },
  {
   "cell_type": "markdown",
   "metadata": {},
   "source": [
    "## Visualisation de Données\n",
    "\n",
    "La visualisation est cruciale pour comprendre les tendances. Nous utiliserons Matplotlib pour créer un graphique simple."
   ]
  },
  {
   "cell_type": "code",
   "execution_count": null,
   "metadata": {},
   "outputs": [],
   "source": [
    "import matplotlib.pyplot as plt\n",
    "\n",
    "df.plot(kind='bar', x='Date', y='Ventes', title='Ventes par Date')\n",
    "plt.show()"
   ]
  },
  {
   "cell_type": "markdown",
   "metadata": {},
   "source": [
    "## Introduction au Machine Learning\n",
    "\n",
    "Le Machine Learning consiste à entraîner un 'modèle' sur des données pour qu'il puisse faire des 'prédictions' sur de nouvelles données. C'est un concept clé de l'IA. Ici, nous allons simuler une prédiction très simple."
   ]
  },
  {
   "cell_type": "code",
   "execution_count": null,
   "metadata": {},
   "outputs": [],
   "source": [
    "from sklearn.linear_model import LinearRegression\n",
    "import numpy as np\n",
    "\n",
    "# Supposons que nous ayons un modèle très simple où les ventes dépendent du jour\n",
    "# X doit être un array 2D, donc nous le redimensionnons\n",
    "X = np.array([1, 2, 3, 4, 5, 6]).reshape(-1, 1) # Jours 1 à 6\n",
    "y = df['Ventes'].values # Ventes correspondantes\n",
    "\n",
    "# Créer et 'entraîner' le modèle\n",
    "model = LinearRegression()\n",
    "model.fit(X, y)\n",
    "\n",
    "# Prédire les ventes pour le jour 7\n",
    "prediction = model.predict(np.array([[7]]))\n",
    "print(f\"Prédiction des ventes pour le jour 7 : {prediction[0]:.2f}\")"
   ]
  },
  {
   "cell_type": "markdown",
   "metadata": {},
   "source": [
    "## Conclusion : De la Data aux Agents IA\n",
    "\n",
    "Félicitations ! Vous avez exploré les briques fondamentales de la Data Science en Python : charger et manipuler des données avec Pandas, les visualiser, et même faire une prédiction simple avec un modèle de Machine Learning.\n",
    "\n",
    "Ces briques (le **DataFrame** comme source de connaissance, le **Modèle** comme outil de raisonnement) sont exactement ce que nous allons apprendre à fournir à des **Agents d'IA**.\n",
    "\n",
    "Dans la suite de ce cursus, nous verrons comment un agent peut :\n",
    "1.  Recevoir un **Prompt** en langage naturel (ex: \"Donne-moi le total des ventes pour le Widget A\").\n",
    "2.  Utiliser le DataFrame comme un outil via une **API** pour trouver la réponse.\n",
    "3.  Utiliser un Modèle de ML pour répondre à des questions plus complexes (ex: \"Quelle serait la prévision des ventes pour demain ?\").\n",
    "\n",
    "Ce laboratoire constitue la base technique essentielle pour construire des systèmes d'IA plus autonomes et intelligents."
   ]
  }
 ],
 "metadata": {
  "kernelspec": {
   "display_name": "Python 3",
   "language": "python",
   "name": "python3"
  },
  "language_info": {
   "codemirror_mode": {
    "name": "ipython",
    "version": 3
   },
   "file_extension": ".py",
   "mimetype": "text/x-python",
   "name": "python",
   "nbconvert_exporter": "python",
   "pygments_lexer": "ipython3",
   "version": "3.9.12"
  }
 },
 "nbformat": 4,
 "nbformat_minor": 4
}