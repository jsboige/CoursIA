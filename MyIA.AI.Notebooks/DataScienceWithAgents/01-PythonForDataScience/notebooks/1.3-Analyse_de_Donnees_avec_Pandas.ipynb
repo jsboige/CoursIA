{
 "cells": [
  {
   "cell_type": "markdown",
   "metadata": {},
   "source": [
    "# 1.3 - Analyse de Données avec Pandas\n",
    "\n",
    "Ce notebook est une introduction à Pandas, la bibliothèque incontournable pour la manipulation et l'analyse de données en Python."
   ]
  },
  {
   "cell_type": "markdown",
   "metadata": {},
   "source": [
    "## Qu'est-ce que Pandas ?\n",
    "\n",
    "Pandas fournit des structures de données et des outils d'analyse de données de haut niveau et faciles à utiliser. Les deux structures de données principales sont :\n",
    "\n",
    "*   **`Series`** : un tableau unidimensionnel avec des étiquettes (un peu comme une colonne dans une feuille de calcul).\n",
    "*   **`DataFrame`** : une structure de données bidimensionnelle avec des étiquettes, similaire à une table de base de données ou une feuille de calcul Excel."
   ]
  },
  {
   "cell_type": "markdown",
   "metadata": {},
   "source": [
    "## Création d'un DataFrame\n",
    "\n",
    "Un DataFrame peut être créé de plusieurs manières. L'une des plus courantes est de partir d'un dictionnaire Python."
   ]
  },
  {
   "cell_type": "code",
   "execution_count": null,
   "metadata": {},
   "outputs": [],
   "source": [
    "import pandas as pd\n",
    "\n",
    "# Création d'un DataFrame à partir d'un dictionnaire\n",
    "donnees = {'col1': [1, 2, 10], 'col2': [3, 4, 30], 'Nom': ['Alice', 'Bob', 'Charles']}\n",
    "df = pd.DataFrame(donnees)\n",
    "\n",
    "print(df)"
   ]
  },
  {
   "cell_type": "markdown",
   "metadata": {},
   "source": [
    "## Sélection de Données\n",
    "\n",
    "La sélection de colonnes est une opération fondamentale. On peut la réaliser en utilisant les crochets `[]` avec le nom de la colonne.\n",
    "\n",
    "C'est cette opération simple qui est validée par les tests de ce module."
   ]
  },
  {
   "cell_type": "code",
   "execution_count": null,
   "metadata": {},
   "outputs": [],
   "source": [
    "# Créons le DataFrame spécifique du test\n",
    "data_test = {'col1': [1, 2], 'col2': [3, 4]}\n",
    "df_test = pd.DataFrame(data_test)\n",
    "\n",
    "# Sélection de la colonne 'col2'\n",
    "colonne_2 = df_test['col2']\n",
    "\n",
    "print(\"Le DataFrame complet :\")\n",
    "print(df_test)\n",
    "print(\"\\nLa colonne 'col2' (qui est une Series Pandas) :\")\n",
    "print(colonne_2)"
   ]
  },
  {
   "cell_type": "markdown",
   "metadata": {},
   "source": [
    "## Filtrage simple\n",
    "\n",
    "On peut également filtrer les lignes d'un DataFrame en fonction d'une condition."
   ]
  },
  {
   "cell_type": "code",
   "execution_count": null,
   "metadata": {},
   "outputs": [],
   "source": [
    "# Afficher uniquement les lignes où col1 est supérieur à 1\n",
    "filtre = df['col1'] > 1\n",
    "df_filtre = df[filtre]\n",
    "\n",
    "print(df_filtre)"
   ]
  }
 ],
 "metadata": {
  "kernelspec": {
   "display_name": "Python 3",
   "language": "python",
   "name": "python3"
  },
  "language_info": {
   "codemirror_mode": {
    "name": "ipython",
    "version": 3
   },
   "file_extension": ".py",
   "mimetype": "text/x-python",
   "name": "python",
   "nbconvert_exporter": "python",
   "pygments_lexer": "ipython3",
   "version": "3.9.7"
  }
 },
 "nbformat": 4,
 "nbformat_minor": 4
}