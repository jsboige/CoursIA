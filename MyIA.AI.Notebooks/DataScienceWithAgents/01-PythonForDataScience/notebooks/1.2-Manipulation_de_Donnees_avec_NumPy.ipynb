{
 "cells": [
  {
   "cell_type": "markdown",
   "metadata": {},
   "source": [
    "# 1.2 - Manipulation de Données avec NumPy\n",
    "\n",
    "Bienvenue dans ce notebook dédié à NumPy, la bibliothèque fondamentale pour le calcul scientifique en Python."
   ]
  },
  {
   "cell_type": "markdown",
   "metadata": {},
   "source": [
    "## Qu'est-ce que NumPy ?\n",
    "\n",
    "NumPy (Numerical Python) est une bibliothèque qui fournit un objet de tableau multi-dimensionnel puissant, des routines pour des opérations rapides sur les tableaux, et des outils pour l'algèbre linéaire, les transformées de Fourier, et les nombres aléatoires.\n",
    "\n",
    "C'est le socle sur lequel de nombreuses autres bibliothèques de data science (comme Pandas) sont construites."
   ]
  },
  {
   "cell_type": "markdown",
   "metadata": {},
   "source": [
    "## Création d'un tableau (Array)\n",
    "\n",
    "L'objet principal de NumPy est le `ndarray` (n-dimensional array). Créons-en un à partir d'une simple liste Python."
   ]
  },
  {
   "cell_type": "code",
   "execution_count": null,
   "metadata": {},
   "outputs": [],
   "source": [
    "import numpy as np\n",
    "\n",
    "# Création d'un array à partir d'une liste\n",
    "ma_liste = [1, 2, 3, 4, 5]\n",
    "mon_array = np.array(ma_liste)\n",
    "\n",
    "print(mon_array)\n",
    "print(type(mon_array))"
   ]
  },
  {
   "cell_type": "markdown",
   "metadata": {},
   "source": [
    "## Opérations de base et Vectorisation\n",
    "\n",
    "L'un des plus grands avantages de NumPy est sa capacité à effectuer des opérations \"vectorisées\". Cela signifie que vous pouvez appliquer une opération à un tableau entier sans avoir besoin d'écrire une boucle `for`.\n",
    "\n",
    "Par exemple, pour additionner tous les éléments d'un tableau, nous pouvons utiliser `np.sum()`. C'est cette fonction qui est validée par nos tests."
   ]
  },
  {
   "cell_type": "code",
   "execution_count": null,
   "metadata": {},
   "outputs": [],
   "source": [
    "# Créons un tableau simple pour le test\n",
    "array_test = np.array([1, 2, 3])\n",
    "\n",
    "# Utilisons np.sum() pour calculer la somme\n",
    "somme_totale = np.sum(array_test)\n",
    "\n",
    "print(f\"Le tableau : {array_test}\")\n",
    "print(f\"La somme des éléments : {somme_totale}\")"
   ]
  },
  {
   "cell_type": "markdown",
   "metadata": {},
   "source": [
    "Essayez de multiplier le tableau par 2 ci-dessous pour voir la vectorisation en action."
   ]
  },
  {
   "cell_type": "code",
   "execution_count": null,
   "metadata": {},
   "outputs": [],
   "source": [
    "# Votre code ici"
   ]
  }
 ],
 "metadata": {
  "kernelspec": {
   "display_name": "Python 3",
   "language": "python",
   "name": "python3"
  },
  "language_info": {
   "codemirror_mode": {
    "name": "ipython",
    "version": 3
   },
   "file_extension": ".py",
   "mimetype": "text/x-python",
   "name": "python",
   "nbconvert_exporter": "python",
   "pygments_lexer": "ipython3",
   "version": "3.9.7"
  }
 },
 "nbformat": 4,
 "nbformat_minor": 4
}