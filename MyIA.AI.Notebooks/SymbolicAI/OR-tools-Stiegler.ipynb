{
 "cells": [
  {
   "cell_type": "markdown",
   "metadata": {},
   "source": [
    "# Résolution du Problème du Régime de Stigler avec OR-Tools\n",
    "\n",
    "## Introduction\n",
    "\n",
    "**Le Problème du Régime de Stigler** :\n",
    "Dans cette section, nous montrons comment résoudre un problème classique appelé le régime de Stigler, nommé d'après le lauréat du prix Nobel d'économie George Stigler, qui a calculé un moyen économique de répondre aux besoins nutritionnels de base en fonction d'un ensemble d'aliments. Il a posé cela comme un exercice mathématique, et non comme des recommandations alimentaires, bien que l'idée de calculer une nutrition optimale soit devenue à la mode récemment.\n",
    "\n",
    "\n",
    "## Google OR-Tools \n",
    "Google OR-Tools est une suite de logiciels d'optimisation développée par Google. Elle permet de résoudre des problèmes complexes d'optimisation combinatoire tels que la satisfaction de contraintes (CSP), la programmation linéaire (LP), la programmation linéaire mixte (MIP), et bien plus. Dans ce projet, nous nous concentrerons sur la résolution du problème du régime de Stigler en utilisant la technique dîte Solution Linéraire fournie par OR-Tools.\n",
    "\n",
    "\n",
    "**Solveur de Programmation Linéaire Mixte (MIP)** :\n",
    "   Ce solveur combine la programmation linéaire avec des variables entières pour résoudre des problèmes d'optimisation. MIP est utilisé pour des problèmes où certaines variables doivent être entières, ce qui est utile dans des scénarios de prise de décision où les solutions doivent être discrètes. La programmation linéaire (LP) est une méthode pour obtenir le meilleur résultat (tel que le profit maximum ou le coût minimum) dans un modèle mathématique dont les exigences sont représentées par des relations linéaires.\n",
    "\n",
    "\n",
    "\n",
    "Nous allons explorer ce solveur pour résoudre ce problème.\n",
    "\n",
    "## Importation des Bibliothèques Nécessaires\n",
    "\n",
    "Nous commençons par importer les bibliothèques nécessaires.\n",
    "\n",
    "\n",
    "\n"
   ]
  },
  {
   "cell_type": "code",
   "execution_count": 1,
   "metadata": {
    "dotnet_interactive": {
     "language": "csharp"
    },
    "polyglot_notebook": {
     "kernelName": "csharp"
    }
   },
   "outputs": [],
   "source": [
    "using System;\n",
    "using System.Collections.Generic;\n",
    "using System.Collections.ObjectModel;\n",
    "using System.IO;\n",
    "using System.Linq;\n",
    "using System.Text;\n",
    "\n",
    "#r \"nuget: XPlot.Plotly.Interactive\""
   ]
  },
  {
   "cell_type": "markdown",
   "metadata": {},
   "source": [
    "\n",
    "## Installation de OR-Tools\n",
    "\n",
    "Pour utiliser OR-Tools avec C#, nous devons d'abord installer la bibliothèque. Vous pouvez suivre les instructions sur le site officiel de [Google OR-Tools](https://developers.google.com/optimization).\n",
    "\n",
    "### Installation de OR-Tools\n",
    "\n",
    "On appelle le package Nuget correspondant. "
   ]
  },
  {
   "cell_type": "code",
   "execution_count": 2,
   "metadata": {
    "dotnet_interactive": {
     "language": "csharp"
    },
    "polyglot_notebook": {
     "kernelName": "csharp"
    }
   },
   "outputs": [],
   "source": [
    "#r \"nuget: Google.OrTools\""
   ]
  },
  {
   "cell_type": "markdown",
   "metadata": {},
   "source": [
    "\n",
    "### Liste des nutriments\n",
    "\n",
    "\n",
    "| Nutriments                       | Apport quotidien recommandé         |\n",
    "|----------------------------------|-------------------------------------|\n",
    "| Calories                         | 3 000 calories                      |\n",
    "| Protéines                        | 70 g                                |\n",
    "| Calcium                          | 0,8 g                               |\n",
    "| Fer                              | 12 milligrammes                     |\n",
    "| Vitamine A                       | 5 000 UI                            |\n",
    "| Thiamine (vitamine B1)           | 1,8 milligramme                     |\n",
    "| Riboflavine (vitamine B2)        | 2,7 milligrammes                    |\n",
    "| Niacine                          | 18 milligrammes                     |\n",
    "| Acide ascorbique (vitamine C)    | 75 milligrammes                     |\n",
    "\n",
    "### Liste\n",
    "\n",
    "| Marchandises                 | Unité           | Prix 1939 (cents) | Calories (kcal) | Protéines (g) | Calcium (g) | Fer (mg) | Vitamine A (KIU) | Thiamine (mg) | Riboflavine (mg) | Niacine (mg) | Acide ascorbique (mg) |\n",
    "|------------------------------|-----------------|-------------------|------------------|---------------|-------------|----------|------------------|---------------|------------------|--------------|----------------------|\n",
    "| Farine de blé (enrichi)      | 4,5 kg          | 36                | 44,7             | 1411          | 2           | 365      | 0                | 55.4          | 33.3             | 441          | 0                    |\n",
    "| Moutarde                     | 1 kg            | 14.1              | 11.6             | 418           | 0.7         | 54       | 0                | 3.2           | 1.9              | 68           | 0                    |\n",
    "| Céréales de blé (enrichies)  | 800 g           | 24.2              | 11.8             | 377           | 14.4        | 175      | 0                | 14.4          | 8.8              | 114          | 0                    |\n",
    "| Flocons de maïs              | 225 g           | 7.1               | 11.4             | 252           | 0.1         | 56       | 0                | 13.5          | 2.3              | 68           | 0                    |\n",
    "| Farine de maïs               | 1 kg            | 4.6               | 36.0             | 897           | 1.7         | 99       | 30.9             | 17.4          | 7.9              | 106          | 0                    |\n",
    "| Hominy Grits                 | 24 oz           | 8.5               | 28.6             | 680           | 0,8         | 80       | 0                | 10.6          | 1.6              | 110          | 0                    |\n",
    "| Riz                          | 1 kg            | 7.5               | 21.2             | 460           | 0.6         | 41       | 0                | 2             | 4.8              | 60           | 0                    |\n",
    "| Avoine roulée                | 1 kg            | 7.1               | 25,3             | 907           | 5.1         | 341      | 0                | 37.1          | 8.9              | 64           | 0                    |\n",
    "| Pain blanc (enrichi)         | 1 kg            | 7.9               | 15.0             | 488           | 2.5         | 115      | 0                | 13.8          | 8.5              | 126          | 0                    |\n",
    "| Pain au blé complet          | 1 kg            | 9.1               | 12.2             | 484           | 2.7         | 125      | 0                | 13.9          | 6.4              | 160          | 0                    |\n",
    "| Pain de seigle               | 1 kg            | 9.1               | 12.4             | 439           | 1.1         | 82       | 0                | 9.9           | 3                | 66           | 0                    |\n",
    "| Cake                         | 1 kg            | 24.8              | 8.0              | 130           | 0.4         | 31       | 18,9             | 2.8           | 3                | 17           | 0                    |\n",
    "| Crackers à soda              | 1 kg            | 15.1              | 12.5             | 288           | 0.5         | 50       | 0                | 0             | 0                | 0            | 0                    |\n",
    "| Lait                         | 1 qt            | 11                | 6.1              | 310           | 10.5        | 18       | 16,8             | 4             | 16               | 7            | 177                  |\n",
    "| Lait évaporé (boîte)         | 14,5 oz         | 6.7               | 8.4              | 422           | 15.1        | 9        | 26               | 3             | 23.5             | 11           | 60                   |\n",
    "| Beurre                       | 1 kg            | 30.8              | 10.8             | 9             | 0,2         | 3        | 44.2             | 0             | 0,2              | 2            | 0                    |\n",
    "| Oléomargarine                | 1 kg            | 16.1              | 20,6             | 17            | 0.6         | 6        | 55.8             | 0,2           | 0                | 0            | 0                    |\n",
    "| Œufs                         | 1 douz.         | 32.6              | 2.9              | 238           | 1           | 52       | 18,6             | 2.8           | 6.5              | 1            | 0                    |\n",
    "| Fromage (Cheddar)            | 1 kg            | 24.2              | 7.4              | 448           | 16.4        | 19       | 28,1             | 0,8           | 10.3             | 4            | 0                    |\n",
    "| Crème                        | 1/2 pt          | 14.1              | 3.5              | 49            | 1.7         | 3        | 16,9             | 0,6           | 2.5              | 0            | 17                   |\n",
    "| Beurre de cacahuète          | 1 kg            | 17.9              | 15.7             | 661           | 1           | 48       | 0                | 9.6           | 8.1              | 471          | 0                    |\n",
    "| Mayonnaise                   | 1/2 pt          | 16.7              | 8.6              | 18            | 0,2         | 8        | 2,7              | 0,4           | 0.5              | 0            | 0                    |\n",
    "| Crisco                       | 1 kg            | 20.3              | 20.1             | 0             | 0           | 0        | 0                | 0             | 0                | 0            | 0                    |\n",
    "| Lard                          | 1 kg            | 9.8               | 41.7             | 0             | 0           | 0,2      | 0                | 0             | 0.5              | 5            | 0                    |\n",
    "| Faux-filet                   | 1 kg            | 39.6              | 2.9              | 166           | 0,1         | 34       | 0,2              | 2.1           | 2.9              | 69           | 0                    |\n",
    "| Viande ronde                 | 1 kg            | 36.4              | 2.2              | 214           | 0,1         | 32       | 0,4              | 2.5           | 2.4              | 87           | 0                    |\n",
    "| Rôti de côtelette            | 1 kg            | 29.2              | 3.4              | 213           | 0,1         | 33       | 0                | 0             | 2                | 0            | 0                    |\n",
    "| Chuck roast                  | 1 kg            | 22.6              | 3.6              | 309           | 0,2         | 46       | 0,4              | 1             | 4                | 120          | 0                    |\n",
    "| Assiette                     | 1 kg            | 14.6              | 8.5              | 404           | 0,2         | 62       | 0                | 0.9           | 0                | 0            | 0                    |\n",
    "| Foie (bœuf)                  | 1 kg            | 26.8              | 2.2              | 333           | 0,2         | 139      | 169,2            | 6.4           | 50,8             | 316          | 525                  |\n",
    "| Cuisse d'agneau              | 1 kg            | 27.6              | 3.1              | 245           | 0,1         | 20       | 0                | 2.8           | 3.9              | 86           | 0                    |\n",
    "| Côtes d'agneau                | 1 kg           | 36.6              | 3.3              | 140           | 0,1         | 15       | 0                | 1.7           | 2.7              | 54           | 0                    |\n",
    "| Côtes de porc                | 1 kg            | 30.7              | 3.5              | 196           | 0,2         | 30       | 0                | 17.4          | 2.7              | 60           | 0                    |\n",
    "| Filet de porc rôti           | 1 kg            | 24.2              | 4.4              | 249           | 0.3         | 37       | 0                | 18.2          | 3.6              | 79           | 0                    |\n",
    "| Bacon                        | 1 kg            | 25.6              | 10.4             | 152           | 0,2         | 23       | 0                | 1.8           | 1.8              | 71           | 0                    |\n",
    "| Jambon fumé                  | 1 kg            | 27.4              | 6.7              | 212           | 0,2         | 31       | 0                | 9.9           | 3.3              | 50           | 0                    |\n",
    "| Porc salé                    | 1 kg            | 16                | 18,8             | 164           | 0,1         | 26       | 0                | 1.4           | 1.8              | 0            | 0                    |\n",
    "| Poulet rôti                  | 1 kg            | 30.3              | 1.8              | 184           | 0,1         | 30       | 0,1              | 0.9           | 1.8              | 68           | 46                   |\n",
    "| Escalopes de veau            | 1 kg            | 42.3              | 1.7              | 156           | 0,1         | 24       | 0                | 1.4           | 2.4              | 57           | 0                    |\n",
    "| Saumon, rose (boîte)         | 500 g           | 13                | 5.8              | 705           | 6.8         | 45       | 3.5              | 1             | 4.9              | 209          | 0                    |\n",
    "| Pommes                       | 1 kg            | 4.4               | 5.8              | 27            | 0.5         | 36       | 7.3              | 3.6           | 2.7              | 5            | 544                  |\n",
    "| Bananes                      | 1 kg            | 6.1               | 4.9              | 60            | 0.4         | 30       | 17.4             | 2.5           | 3.5              | 28           | 498                  |\n",
    "| Citrons                      | 1 douz.         | 26                | 1                | 21            | 0.5         | 14       | 0                | 0.5           | 0                | 4            | 952                  |\n",
    "| Oranges                      | 1 douz.         | 30.9              | 2.2              | 40            | 1.1         | 18       | 11.1             | 3.6           | 1.3              | 10           | 1998                 |\n",
    "| Haricots verts               | 1 kg            | 7.1               | 2.4              | 138           | 3.7         | 80       | 69               | 4.3           | 5.8              | 37           | 862                  |\n",
    "| Chou                         | 1 kg            | 3.7               | 2.6              | 125           | 4.0         | 36       | 7.2              | 9             | 4.5              | 26           | 5369                 |\n",
    "| Carottes                     | 1 groupe        | 4.7               | 2.7              | 73            | 2.8         | 43       | 188.5            | 6.1           | 4.3              | 89           | 608                  |\n",
    "| Le céleri                    | 1 tige          | 7.3               | 0.9              | 51            | 3.0         | 23       | 0.9              | 1.4           | 1.4              | 9            | 313                  |\n",
    "| Laitue                       | 1 tête          | 8.2               | 0.4              | 27            | 1.1         | 22       | 112.4            | 1.8           | 3.4              | 11           | 449                  |\n",
    "| Oignons                      | 1 kg            | 3.6               | 5.8              | 166           | 3.8         | 59       | 16.6             | 4.7           | 5.9              | 21           | 1184                 |\n",
    "| Des pommes de terre          | 6 kg            | 34                | 14.3             | 336           | 1.8         | 118      | 6.7              | 29.4          | 7.1              | 198          | 2522                 |\n",
    "| Épinards                     | 1 kg            | 8.1               | 1.1              | 106           | 0           | 138      | 918.4            | 5.7           | 13.8             | 33           | 2755                 |\n",
    "| Patates douces               | 1 kg            | 5.1               | 9.6              | 138           | 2.7         | 54       | 290.7            | 8.4           | 5.4              | 83           | 1912                 |\n",
    "| Pêches (boîte de conserve)  | N° 2 1/2        | 16.8              | 3.7              | 20            | 0.4         | 10       | 21.5             | 0.5           | 1                | 31           | 196                  |\n",
    "| Poires (boîte)               | N° 2 1/2        | 20.4              | 3.0              | 8             | 0.3         | 8        | 0,8              | 0,8           | 0,8              | 5            | 81                   |\n",
    "| Ananas (boîte)               | N° 2 1/2        | 21.3              | 2.4              | 16            | 0.4         | 8        | 2                | 2.8           | 0,8              | 7            | 399                  |\n",
    "| Asperges (boîte)             | N° 2            | 27,7              | 0.4              | 33            | 0.3         | 12       | 16.3             | 1.4           | 2.1              | 17           | 272                  |\n",
    "| Haricots verts (boîte)       | N° 2            | 10                | 1                | 54            | 2           | 65       | 53.9             | 1.6           | 4.3              | 32           | 431                  |\n",
    "| Porc et haricots (boîte)     | 500 g           | 7.1               | 7.5              | 364           | 4           | 134      | 3.5              | 8.3           | 7.7              | 56           | 0                    |\n",
    "| Maïs (boîte)                | N° 2            | 10.4              | 5.2              | 136           | 0,2         | 16       | 12                | 1.6           | 2.7              | 42           | 218                  |\n",
    "| Pois (boîte)                | N° 2            | 13.8              | 2.3              | 136           | 0.6         | 45       | 34.9             | 4.9           | 2.5              | 37           | 370                  |\n",
    "| Tomates (boîte)             | N° 2            | 8.6               | 1.3              | 63            | 0.7         | 38       | 53.2             | 3.4           | 2.5              | 36           | 1253                 |\n",
    "| Tomates (boîte)                         | N° 2   | 8.6               | 1.3              | 63            | 0.7         | 38       | 53.2            | 3.4           | 2.5              | 36           | 1253                 |\n",
    "| Soupe à la tomate (boîte de conserve)   | 300 g  | 7.6               | 1.6              | 71            | 0.6         | 43       | 57.9            | 3.5           | 2.4              | 67           | 862                  |\n",
    "| Pêches, séchées                        | 1 kg   | 15.7              | 8.5              | 87            | 1.7         | 173      | 86.8            | 1.2           | 4.3              | 55           | 57                   |\n",
    "| Pruneaux séchés                        | 1 kg   | 9                 | 12.8             | 99            | 2.5         | 154      | 85.7            | 3.9           | 4.3              | 65           | 257                  |\n",
    "| Raisins secs et séchés                 | 500 g  | 9.4               | 13.5             | 104           | 2.5         | 136      | 4.5             | 6.3           | 1.4              | 24           | 136                  |\n",
    "| Pois séchés                            | 1 kg   | 7.9               | 20.0             | 1 367         | 4.2         | 345      | 2.9             | 28.7          | 18.4             | 162          | 0                    |\n",
    "| Haricots Lima secs                     | 1 kg   | 8.9               | 17.4             | 1055          | 3.7         | 459      | 5.1             | 26.9          | 38.2             | 93           | 0                    |\n",
    "| Haricots de marine secs                | 1 kg   | 5.9               | 26.9             | 1691          | 11.4        | 792      | 0               | 38.4          | 24.6             | 217          | 0                    |\n",
    "| Café                                   | 1 kg   | 22.4              | 0                | 0             | 0           | 0        | 0               | 4             | 5.1              | 50           | 0                    |\n",
    "| Thé                                    | 1/4 lb | 17.4              | 0                | 0             | 0           | 0        | 0               | 0             | 2.3              | 42           | 0                    |\n",
    "| Cacao                                  | 225 g  | 8.6               | 8.7              | 237           | 3           | 72       | 0               | 2             | 11.9             | 40           | 0                    |\n",
    "| Chocolat                               | 225 g  | 16.2              | 8.0              | 77            | 1.3         | 39       | 0               | 0.9           | 3.4              | 14           | 0                    |\n",
    "| Sucre                                  | 4,5 kg | 51.7              | 34.9             | 0             | 0           | 0        | 0               | 0             | 0                | 0            | 0                    |\n",
    "| Sirop de maïs                          | 24 oz  | 13.7              | 14.7             | 0             | 0.5         | 74       | 0               | 0             | 0                | 5            | 0                    |\n",
    "| Mélasse                                | 500 g  | 13.6              | 9.0              | 0             | 10.3        | 244      | 0               | 1.9           | 7.5              | 146          | 0                    |\n",
    "| Conserves de fraises                   | 1 kg   | 20.5              | 6.4              | 11            | 0.4         | 7        | 0.2             | 0.2           | 0.4              | 3            | 0                    |"
   ]
  },
  {
   "cell_type": "markdown",
   "metadata": {},
   "source": [
    "### Importer le wrapper de solution linéaire"
   ]
  },
  {
   "cell_type": "code",
   "execution_count": 3,
   "metadata": {
    "dotnet_interactive": {
     "language": "csharp"
    },
    "polyglot_notebook": {
     "kernelName": "csharp"
    }
   },
   "outputs": [],
   "source": [
    "using System;\n",
    "using System.Collections.Generic;\n",
    "using Google.OrTools.LinearSolver;"
   ]
  },
  {
   "cell_type": "markdown",
   "metadata": {},
   "source": [
    "### Données concernant le problème"
   ]
  },
  {
   "cell_type": "code",
   "execution_count": 4,
   "metadata": {
    "dotnet_interactive": {
     "language": "csharp"
    },
    "polyglot_notebook": {
     "kernelName": "csharp"
    }
   },
   "outputs": [],
   "source": [
    "// Nutrient minimums.\n",
    "(String Name, double Value)[] nutrients =\n",
    "  new[] { (\"Calories (kcal)\", 3.0), (\"Protéines (g)\", 70.0),    (\"Calcium (g)\", 0.8),\n",
    "            (\"Fer (mg)\", 12.0),         (\"Vitamine A (kIU)\", 5.0), (\"Vitamine B1 (mg)\", 1.8),\n",
    "            (\"Vitamine B2 (mg)\", 2.7),  (\"Niacine (mg)\", 18.0),       (\"Vitamine C (mg)\", 75.0) };\n",
    "\n",
    "(String Name, String Unit, double Price, double[] Nutrients)[] data = new[] {\n",
    "    (\"Wheat Flour (Enriched)\", \"10 lb.\", 36, new double[] { 44.7, 1411, 2, 365, 0, 55.4, 33.3, 441, 0 }),\n",
    "    (\"Macaroni\", \"1 lb.\", 14.1, new double[] { 11.6, 418, 0.7, 54, 0, 3.2, 1.9, 68, 0 }),\n",
    "    (\"Wheat Cereal (Enriched)\", \"28 oz.\", 24.2, new double[] { 11.8, 377, 14.4, 175, 0, 14.4, 8.8, 114, 0 }),\n",
    "    (\"Corn Flakes\", \"8 oz.\", 7.1, new double[] { 11.4, 252, 0.1, 56, 0, 13.5, 2.3, 68, 0 }),\n",
    "    (\"Corn Meal\", \"1 lb.\", 4.6, new double[] { 36.0, 897, 1.7, 99, 30.9, 17.4, 7.9, 106, 0 }),\n",
    "    (\"Hominy Grits\", \"24 oz.\", 8.5, new double[] { 28.6, 680, 0.8, 80, 0, 10.6, 1.6, 110, 0 }),\n",
    "    (\"Rice\", \"1 lb.\", 7.5, new double[] { 21.2, 460, 0.6, 41, 0, 2, 4.8, 60, 0 }),\n",
    "    (\"Rolled Oats\", \"1 lb.\", 7.1, new double[] { 25.3, 907, 5.1, 341, 0, 37.1, 8.9, 64, 0 }),\n",
    "    (\"White Bread (Enriched)\", \"1 lb.\", 7.9, new double[] { 15.0, 488, 2.5, 115, 0, 13.8, 8.5, 126, 0 }),\n",
    "    (\"Whole Wheat Bread\", \"1 lb.\", 9.1, new double[] { 12.2, 484, 2.7, 125, 0, 13.9, 6.4, 160, 0 }),\n",
    "    (\"Rye Bread\", \"1 lb.\", 9.1, new double[] { 12.4, 439, 1.1, 82, 0, 9.9, 3, 66, 0 }),\n",
    "    (\"Pound Cake\", \"1 lb.\", 24.8, new double[] { 8.0, 130, 0.4, 31, 18.9, 2.8, 3, 17, 0 }),\n",
    "    (\"Soda Crackers\", \"1 lb.\", 15.1, new double[] { 12.5, 288, 0.5, 50, 0, 0, 0, 0, 0 }),\n",
    "    (\"Milk\", \"1 qt.\", 11, new double[] { 6.1, 310, 10.5, 18, 16.8, 4, 16, 7, 177 }),\n",
    "    (\"Evaporated Milk (can)\", \"14.5 oz.\", 6.7, new double[] { 8.4, 422, 15.1, 9, 26, 3, 23.5, 11, 60 }),\n",
    "    (\"Butter\", \"1 lb.\", 30.8, new double[] { 10.8, 9, 0.2, 3, 44.2, 0, 0.2, 2, 0 }),\n",
    "    (\"Oleomargarine\", \"1 lb.\", 16.1, new double[] { 20.6, 17, 0.6, 6, 55.8, 0.2, 0, 0, 0 }),\n",
    "    (\"Eggs\", \"1 doz.\", 32.6, new double[] { 2.9, 238, 1.0, 52, 18.6, 2.8, 6.5, 1, 0 }),\n",
    "    (\"Cheese (Cheddar)\", \"1 lb.\", 24.2, new double[] { 7.4, 448, 16.4, 19, 28.1, 0.8, 10.3, 4, 0 }),\n",
    "    (\"Cream\", \"1/2 pt.\", 14.1, new double[] { 3.5, 49, 1.7, 3, 16.9, 0.6, 2.5, 0, 17 }),\n",
    "    (\"Peanut Butter\", \"1 lb.\", 17.9, new double[] { 15.7, 661, 1.0, 48, 0, 9.6, 8.1, 471, 0 }),\n",
    "    (\"Mayonnaise\", \"1/2 pt.\", 16.7, new double[] { 8.6, 18, 0.2, 8, 2.7, 0.4, 0.5, 0, 0 }),\n",
    "    (\"Crisco\", \"1 lb.\", 20.3, new double[] { 20.1, 0, 0, 0, 0, 0, 0, 0, 0 }),\n",
    "    (\"Lard\", \"1 lb.\", 9.8, new double[] { 41.7, 0, 0, 0, 0.2, 0, 0.5, 5, 0 }),\n",
    "    (\"Sirloin Steak\", \"1 lb.\", 39.6, new double[] { 2.9, 166, 0.1, 34, 0.2, 2.1, 2.9, 69, 0 }),\n",
    "    (\"Round Steak\", \"1 lb.\", 36.4, new double[] { 2.2, 214, 0.1, 32, 0.4, 2.5, 2.4, 87, 0 }),\n",
    "    (\"Rib Roast\", \"1 lb.\", 29.2, new double[] { 3.4, 213, 0.1, 33, 0, 0, 2, 0, 0 }),\n",
    "    (\"Chuck Roast\", \"1 lb.\", 22.6, new double[] { 3.6, 309, 0.2, 46, 0.4, 1, 4, 120, 0 }),\n",
    "    (\"Plate\", \"1 lb.\", 14.6, new double[] { 8.5, 404, 0.2, 62, 0, 0.9, 0, 0, 0 }),\n",
    "    (\"Liver (Beef)\", \"1 lb.\", 26.8, new double[] { 2.2, 333, 0.2, 139, 169.2, 6.4, 50.8, 316, 525 }),\n",
    "    (\"Leg of Lamb\", \"1 lb.\", 27.6, new double[] { 3.1, 245, 0.1, 20, 0, 2.8, 3.9, 86, 0 }),\n",
    "    (\"Lamb Chops (Rib)\", \"1 lb.\", 36.6, new double[] { 3.3, 140, 0.1, 15, 0, 1.7, 2.7, 54, 0 }),\n",
    "    (\"Pork Chops\", \"1 lb.\", 30.7, new double[] { 3.5, 196, 0.2, 30, 0, 17.4, 2.7, 60, 0 }),\n",
    "    (\"Pork Loin Roast\", \"1 lb.\", 24.2, new double[] { 4.4, 249, 0.3, 37, 0, 18.2, 3.6, 79, 0 }),\n",
    "    (\"Bacon\", \"1 lb.\", 25.6, new double[] { 10.4, 152, 0.2, 23, 0, 1.8, 1.8, 71, 0 }),\n",
    "    (\"Ham, smoked\", \"1 lb.\", 27.4, new double[] { 6.7, 212, 0.2, 31, 0, 9.9, 3.3, 50, 0 }),\n",
    "    (\"Salt Pork\", \"1 lb.\", 16, new double[] { 18.8, 164, 0.1, 26, 0, 1.4, 1.8, 0, 0 }),\n",
    "    (\"Roasting Chicken\", \"1 lb.\", 30.3, new double[] { 1.8, 184, 0.1, 30, 0.1, 0.9, 1.8, 68, 46 }),\n",
    "    (\"Veal Cutlets\", \"1 lb.\", 42.3, new double[] { 1.7, 156, 0.1, 24, 0, 1.4, 2.4, 57, 0 }),\n",
    "    (\"Salmon, Pink (can)\", \"16 oz.\", 13, new double[] { 5.8, 705, 6.8, 45, 3.5, 1, 4.9, 209, 0 }),\n",
    "    (\"Apples\", \"1 lb.\", 4.4, new double[] { 5.8, 27, 0.5, 36, 7.3, 3.6, 2.7, 5, 544 }),\n",
    "    (\"Bananas\", \"1 lb.\", 6.1, new double[] { 4.9, 60, 0.4, 30, 17.4, 2.5, 3.5, 28, 498 }),\n",
    "    (\"Lemons\", \"1 doz.\", 26, new double[] { 1.0, 21, 0.5, 14, 0, 0.5, 0, 4, 952 }),\n",
    "    (\"Oranges\", \"1 doz.\", 30.9, new double[] { 2.2, 40, 1.1, 18, 11.1, 3.6, 1.3, 10, 1998 }),\n",
    "    (\"Green Beans\", \"1 lb.\", 7.1, new double[] { 2.4, 138, 3.7, 80, 69, 4.3, 5.8, 37, 862 }),\n",
    "    (\"Cabbage\", \"1 lb.\", 3.7, new double[] { 2.6, 125, 4.0, 36, 7.2, 9, 4.5, 26, 5369 }),\n",
    "    (\"Carrots\", \"1 bunch\", 4.7, new double[] { 2.7, 73, 2.8, 43, 188.5, 6.1, 4.3, 89, 608 }),\n",
    "    (\"Celery\", \"1 stalk\", 7.3, new double[] { 0.9, 51, 3.0, 23, 0.9, 1.4, 1.4, 9, 313 }),\n",
    "    (\"Lettuce\", \"1 head\", 8.2, new double[] { 0.4, 27, 1.1, 22, 112.4, 1.8, 3.4, 11, 449 }),\n",
    "    (\"Onions\", \"1 lb.\", 3.6, new double[] { 5.8, 166, 3.8, 59, 16.6, 4.7, 5.9, 21, 1184 }),\n",
    "    (\"Potatoes\", \"15 lb.\", 34, new double[] { 14.3, 336, 1.8, 118, 6.7, 29.4, 7.1, 198, 2522 }),\n",
    "    (\"Spinach\", \"1 lb.\", 8.1, new double[] { 1.1, 106, 0, 138, 918.4, 5.7, 13.8, 33, 2755 }),\n",
    "    (\"Sweet Potatoes\", \"1 lb.\", 5.1, new double[] { 9.6, 138, 2.7, 54, 290.7, 8.4, 5.4, 83, 1912 }),\n",
    "    (\"Peaches (can)\", \"No. 2 1/2\", 16.8, new double[] { 3.7, 20, 0.4, 10, 21.5, 0.5, 1, 31, 196 }),\n",
    "    (\"Pears (can)\", \"No. 2 1/2\", 20.4, new double[] { 3.0, 8, 0.3, 8, 0.8, 0.8, 0.8, 5, 81 }),\n",
    "    (\"Pineapple (can)\", \"No. 2 1/2\", 21.3, new double[] { 2.4, 16, 0.4, 8, 2, 2.8, 0.8, 7, 399 }),\n",
    "    (\"Asparagus (can)\", \"No. 2\", 27.7, new double[] { 0.4, 33, 0.3, 12, 16.3, 1.4, 2.1, 17, 272 }),\n",
    "    (\"Green Beans (can)\", \"No. 2\", 10, new double[] { 1.0, 54, 2, 65, 53.9, 1.6, 4.3, 32, 431 }),\n",
    "    (\"Pork and Beans (can)\", \"16 oz.\", 7.1, new double[] { 7.5, 364, 4, 134, 3.5, 8.3, 7.7, 56, 0 }),\n",
    "    (\"Corn (can)\", \"No. 2\", 10.4, new double[] { 5.2, 136, 0.2, 16, 12, 1.6, 2.7, 42, 218 }),\n",
    "    (\"Peas (can)\", \"No. 2\", 13.8, new double[] { 2.3, 136, 0.6, 45, 34.9, 4.9, 2.5, 37, 370 }),\n",
    "    (\"Tomatoes (can)\", \"No. 2\", 8.6, new double[] { 1.3, 63, 0.7, 38, 53.2, 3.4, 2.5, 36, 1253 }),\n",
    "    (\"Tomato Soup (can)\", \"10 1/2 oz.\", 7.6, new double[] { 1.6, 71, 0.6, 43, 57.9, 3.5, 2.4, 67, 862 }),\n",
    "    (\"Peaches, Dried\", \"1 lb.\", 15.7, new double[] { 8.5, 87, 1.7, 173, 86.8, 1.2, 4.3, 55, 57 }),\n",
    "    (\"Prunes, Dried\", \"1 lb.\", 9, new double[] { 12.8, 99, 2.5, 154, 85.7, 3.9, 4.3, 65, 257 }),\n",
    "    (\"Raisins, Dried\", \"15 oz.\", 9.4, new double[] { 13.5, 104, 2.5, 136, 4.5, 6.3, 1.4, 24, 136 }),\n",
    "    (\"Peas, Dried\", \"1 lb.\", 7.9, new double[] { 20.0, 1367, 4.2, 345, 2.9, 28.7, 18.4, 162, 0 }),\n",
    "    (\"Lima Beans, Dried\", \"1 lb.\", 8.9, new double[] { 17.4, 1055, 3.7, 459, 5.1, 26.9, 38.2, 93, 0 }),\n",
    "    (\"Navy Beans, Dried\", \"1 lb.\", 5.9, new double[] { 26.9, 1691, 11.4, 792, 0, 38.4, 24.6, 217, 0 }),\n",
    "    (\"Coffee\", \"1 lb.\", 22.4, new double[] { 0, 0, 0, 0, 0, 4, 5.1, 50, 0 }),\n",
    "    (\"Tea\", \"1/4 lb.\", 17.4, new double[] { 0, 0, 0, 0, 0, 0, 2.3, 42, 0 }),\n",
    "    (\"Cocoa\", \"8 oz.\", 8.6, new double[] { 8.7, 237, 3, 72, 0, 2, 11.9, 40, 0 }),\n",
    "    (\"Chocolate\", \"8 oz.\", 16.2, new double[] { 8.0, 77, 1.3, 39, 0, 0.9, 3.4, 14, 0 }),\n",
    "    (\"Sugar\", \"10 lb.\", 51.7, new double[] { 34.9, 0, 0, 0, 0, 0, 0, 0, 0 }),\n",
    "    (\"Corn Syrup\", \"24 oz.\", 13.7, new double[] { 14.7, 0, 0.5, 74, 0, 0, 0, 5, 0 }),\n",
    "    (\"Molasses\", \"18 oz.\", 13.6, new double[] { 9.0, 0, 10.3, 244, 0, 1.9, 7.5, 146, 0 }),\n",
    "    (\"Strawberry Preserves\", \"1 lb.\", 20.5, new double[] { 6.4, 11, 0.4, 7, 0.2, 0.2, 0.4, 3, 0 })\n",
    "};"
   ]
  },
  {
   "cell_type": "markdown",
   "metadata": {},
   "source": [
    "### Déclarer le résolveur LP"
   ]
  },
  {
   "cell_type": "code",
   "execution_count": 5,
   "metadata": {
    "dotnet_interactive": {
     "language": "csharp"
    },
    "polyglot_notebook": {
     "kernelName": "csharp"
    }
   },
   "outputs": [],
   "source": [
    "// Créer le solveur linéaire avec le backend GLOP.\n",
    "Solver solver = Solver.CreateSolver(\"GLOP\");\n",
    "if (solver is null)\n",
    "{\n",
    "    return;\n",
    "}"
   ]
  },
  {
   "cell_type": "markdown",
   "metadata": {},
   "source": [
    "### Créer les variables"
   ]
  },
  {
   "cell_type": "code",
   "execution_count": 6,
   "metadata": {
    "dotnet_interactive": {
     "language": "csharp"
    },
    "polyglot_notebook": {
     "kernelName": "csharp"
    }
   },
   "outputs": [],
   "source": [
    "// Créer les variables \n",
    "\n",
    "List<Variable> foods = new List<Variable>();\n",
    "for (int i = 0; i < data.Length; ++i)\n",
    "{\n",
    "    foods.Add(solver.MakeNumVar(0.0, double.PositiveInfinity, data[i].Name));\n",
    "}\n",
    "Console.WriteLine($\"Nombre de variables = {solver.NumVariables()}\");"
   ]
  },
  {
   "cell_type": "markdown",
   "metadata": {},
   "source": [
    "### Définir les contraintes & Créer l'objectif"
   ]
  },
  {
   "cell_type": "code",
   "execution_count": 7,
   "metadata": {
    "dotnet_interactive": {
     "language": "csharp"
    },
    "polyglot_notebook": {
     "kernelName": "csharp"
    }
   },
   "outputs": [],
   "source": [
    "// définir les contraintes\n",
    "List<Constraint> constraints = new List<Constraint>();\n",
    "for (int i = 0; i < nutrients.Length; ++i)\n",
    "{\n",
    "    Constraint constraint =\n",
    "        solver.MakeConstraint(nutrients[i].Value, double.PositiveInfinity, nutrients[i].Name);\n",
    "    for (int j = 0; j < data.Length; ++j)\n",
    "    {\n",
    "        constraint.SetCoefficient(foods[j], data[j].Nutrients[i]);\n",
    "    }\n",
    "    constraints.Add(constraint);\n",
    "}\n",
    "Console.WriteLine($\"Nombre de contraintes = {solver.NumConstraints()}\");\n",
    "\n",
    "\n",
    "// déclaration des objectifs \n",
    "Objective objective = solver.Objective();\n",
    "for (int i = 0; i < data.Length; ++i)\n",
    "{\n",
    "    objective.SetCoefficient(foods[i], 1);\n",
    "}\n",
    "objective.SetMinimization();"
   ]
  },
  {
   "cell_type": "markdown",
   "metadata": {},
   "source": [
    "### Appeler le résolveur & Afficher la solution"
   ]
  },
  {
   "cell_type": "code",
   "execution_count": 8,
   "metadata": {
    "dotnet_interactive": {
     "language": "csharp"
    },
    "polyglot_notebook": {
     "kernelName": "csharp"
    }
   },
   "outputs": [],
   "source": [
    "Solver.ResultStatus resultStatus = solver.Solve();\n",
    "\n",
    "// Vérifie que le problème possède une solution optimale.\n",
    "if (resultStatus != Solver.ResultStatus.OPTIMAL)\n",
    "{\n",
    "    Console.WriteLine(\"Le problème n'a pas de solution optimale !\");\n",
    "    if (resultStatus == Solver.ResultStatus.FEASIBLE)\n",
    "    {\n",
    "        Console.WriteLine(\"Une solution potentiellement sous-optimale a été trouvée.\");\n",
    "    }\n",
    "    else\n",
    "    {\n",
    "        Console.WriteLine(\"Le solveur n'a pas pu résoudre le problème.\");\n",
    "        return;\n",
    "    }\n",
    "}\n",
    "\n",
    "// Affiche les montants (en dollars) à acheter de chaque aliment.\n",
    "double[] nutrientsResult = new double[nutrients.Length];\n",
    "Console.WriteLine(\"\\nAliments annuels:\");\n",
    "for (int i = 0; i < foods.Count; ++i)\n",
    "{\n",
    "    if (foods[i].SolutionValue() > 0.0)\n",
    "    {\n",
    "        Console.WriteLine($\"{data[i].Name}: ${365 * foods[i].SolutionValue():N2}\");\n",
    "        for (int j = 0; j < nutrients.Length; ++j)\n",
    "        {\n",
    "            nutrientsResult[j] += data[i].Nutrients[j] * foods[i].SolutionValue();\n",
    "        }\n",
    "    }\n",
    "}\n",
    "Console.WriteLine($\"\\nPrix annuel optimal : ${365 * objective.Value():N2}\");\n",
    "\n",
    "Console.WriteLine(\"\\nNutriments par jour :\");\n",
    "for (int i = 0; i < nutrients.Length; ++i)\n",
    "{\n",
    "    Console.WriteLine($\"{nutrients[i].Name}: {nutrientsResult[i]:N2} (min {nutrients[i].Value})\");\n",
    "}"
   ]
  }
 ],
 "metadata": {
  "kernelspec": {
   "display_name": ".NET (C#)",
   "language": "C#",
   "name": ".net-csharp"
  },
  "polyglot_notebook": {
   "kernelInfo": {
    "defaultKernelName": "csharp",
    "items": [
     {
      "aliases": [],
      "languageName": "csharp",
      "name": "csharp"
     }
    ]
   }
  }
 },
 "nbformat": 4,
 "nbformat_minor": 2
}
