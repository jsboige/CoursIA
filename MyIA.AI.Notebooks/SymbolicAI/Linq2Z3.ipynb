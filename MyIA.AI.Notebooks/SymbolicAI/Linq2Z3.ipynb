{
 "cells": [
  {
   "cell_type": "markdown",
   "metadata": {},
   "source": [
    "## Utilisation de LINQ et Z3 pour la résolution de problèmes\n",
    "\n",
    "### Installation de Z3.Linq\n",
    "\n",
    "On appelle le package Nuget correspondant. \n",
    "\n",
    "\n"
   ]
  },
  {
   "cell_type": "code",
   "execution_count": 1,
   "metadata": {
    "dotnet_interactive": {
     "language": "csharp"
    },
    "polyglot_notebook": {
     "kernelName": "csharp"
    }
   },
   "outputs": [],
   "source": [
    "#r \"nuget: Z3.Linq\""
   ]
  },
  {
   "cell_type": "markdown",
   "metadata": {},
   "source": [
    "### Exemple court"
   ]
  },
  {
   "cell_type": "code",
   "execution_count": 2,
   "metadata": {
    "dotnet_interactive": {
     "language": "csharp"
    },
    "polyglot_notebook": {
     "kernelName": "csharp"
    }
   },
   "outputs": [],
   "source": [
    "using Z3.Linq; \n",
    "\n",
    "using (var ctx = new Z3Context())\n",
    "      {\n",
    "        var theorem = from t in ctx.NewTheorem<Symbols<int, int, int, int, int>>()\n",
    "              where t.X1 - t.X2 >= 1\n",
    "              where t.X1 - t.X2 <= 3\n",
    "              where t.X1 == (2 * t.X3) + t.X5\n",
    "              where t.X3 == t.X5\n",
    "              where t.X2 == 6 * t.X4\n",
    "              select t;\n",
    "var solution = theorem.Solve();\n",
    "Console.WriteLine(\"X1 = {0}, X2 = {1}, X3 = {2}, X4 = {3}, X5 = {4}\", solution.X1, solution.X2, solution.X3, solution.X4, solution.X5);\n",
    "\n",
    "}"
   ]
  },
  {
   "cell_type": "markdown",
   "metadata": {},
   "source": [
    "### Classe de missionnaires et cannibales"
   ]
  },
  {
   "cell_type": "markdown",
   "metadata": {},
   "source": [
    "###\tAffirmer les contraintes\n",
    "\n",
    "L’affirmation des contraintes des arbres d’expression LINQ sur la classe d’état et l’étape suivante. On se base pour ça sur la classe Theorem de LINQ To Z3 :\n"
   ]
  },
  {
   "cell_type": "code",
   "execution_count": 3,
   "metadata": {
    "dotnet_interactive": {
     "language": "csharp"
    },
    "polyglot_notebook": {
     "kernelName": "csharp"
    }
   },
   "outputs": [],
   "source": [
    "public class CanibalsAndMissionaries\n",
    "{\n",
    "    \n",
    "    // Le nombre de canibales et missionaires (3 dans le problème original)\n",
    "    public int NbMissionaries { get; set; } = 3;\n",
    "    // La taille de la barque (2 dans le projet original)\n",
    "    public int SizeBoat { get; set; } = 2;\n",
    "\n",
    "    // La longueur du chemin calculé\n",
    "    private int _length;\n",
    "\n",
    "    //La propriété qui permet d'accéder à la taille du chemin dans Z3\n",
    "    public int Length\n",
    "    {\n",
    "      get => _length;\n",
    "      set\n",
    "      {\n",
    "        _length = value;\n",
    "        // Quand la longueur est déterminée par Z3, on initialise les tableaux pour pouvoir récupérer les valeurs\n",
    "        Canibals = new int[value];\n",
    "        Missionaries = new int[value];\n",
    "      }\n",
    "    }\n",
    "\n",
    "    // Un tableau contenant à chaque étape le nombre de canibales sur la berge de départ\n",
    "    public int[] Canibals { get; set; }\n",
    "    // Un tableau contenant à chaque étape le nombre de missionaires sur la berge de départ\n",
    "    public int[] Missionaries { get; set; }\n",
    "\n",
    "    /// <summary>\n",
    "    /// Une représentation lisible de la solution proposée\n",
    "    /// </summary>\n",
    "    /// <returns>une chaine de caractère ou chaque ligne est une étape du chemin</returns>\n",
    "    public override string ToString()\n",
    "    {\n",
    "      var sb = new StringBuilder();\n",
    "      for (int i = 0; i < Canibals.Length; i++)\n",
    "      {\n",
    "        sb.AppendLine($\"{i + 1} - (({Missionaries[i]}M, {Canibals[i]}C, {1 - i % 2}), ({(i % 2)}, {NbMissionaries - Missionaries[i]}M, {NbMissionaries - Canibals[i]}C))\");\n",
    "      }\n",
    "\n",
    "      return sb.ToString();\n",
    "\n",
    "    }\n",
    "    \n",
    "    /// <summary>\n",
    "    /// La méthode qui permet la création du théorème associé au problème\n",
    "    /// </summary>\n",
    "    /// <param name=\"context\">Le contexte Z3 qui devra interpréter les contraintes</param>\n",
    "    /// <param name=\"entity\">Une valeur du problème servant de modèle pour définir les paramètres principaux</param>\n",
    "    /// <returns>Un théorème de notre environnement qui peut être filtré et résolu</returns>\n",
    "    public static Theorem<CanibalsAndMissionaries> Create(Z3Context context, CanibalsAndMissionaries entity)\n",
    "    {\n",
    "      // On créée une instance du théorème, sans contraintes, puis on va rajouter les contraintes une à une\n",
    "      var theorem = context.NewTheorem<CanibalsAndMissionaries>();\n",
    "      \n",
    "    // Contraintes globales\n",
    "      // On récupère les contraintes globales qui seront injectées sous forme de constante dans la lambda expression\n",
    "      var sizeBoat = entity.SizeBoat;\n",
    "      int nbMissionaries = entity.NbMissionaries;\n",
    "      int maxlength = entity.Length;\n",
    "\n",
    "      theorem = theorem.Where(caM => caM.NbMissionaries == nbMissionaries);\n",
    "      theorem = theorem.Where(caM => caM.SizeBoat == sizeBoat);\n",
    "      // Etat initial\n",
    "        theorem = theorem.Where(caM => caM.Missionaries[0] == caM.NbMissionaries && caM.Canibals[0] == caM.NbMissionaries);\n",
    "\n",
    "      //Modèle de transition\n",
    "      // On filtre à chaque étape selon les actions possible\n",
    "      for (int iclosure = 0; iclosure < maxlength; iclosure++)\n",
    "      {\n",
    "        var i = iclosure;\n",
    "        //Les deux rives contiennent entre 0 et 3 personnes\n",
    "        theorem = theorem.Where(caM => caM.Canibals[i] >= 0\n",
    "                                       && caM.Canibals[i] <= caM.NbMissionaries\n",
    "                                       && caM.Missionaries[i] >= 0\n",
    "                                       && caM.Missionaries[i] <= caM.NbMissionaries);\n",
    "        if (i % 2 == 0)\n",
    "        {\n",
    "          // Aux itérations paires, la rive de départ perd entre 1 et SizeBoat personnes \n",
    "          theorem = theorem.Where(caM => caM.Canibals[i + 1] <= caM.Canibals[i]\n",
    "                                         && caM.Missionaries[i + 1] <= caM.Missionaries[i]\n",
    "                                         && caM.Canibals[i + 1] + caM.Missionaries[i + 1] - caM.Canibals[i] - caM.Missionaries[i] < 0\n",
    "                                         && caM.Canibals[i + 1] + caM.Missionaries[i + 1] - caM.Canibals[i] - caM.Missionaries[i] >= -caM.SizeBoat);\n",
    "        }\n",
    "        else\n",
    "        {\n",
    "          // Aux itérations impaires, la rive de départ gagne entre 1 et SizeBoat personnes \n",
    "          theorem = theorem.Where(caM =>\n",
    "                                    caM.Canibals[i + 1] >= caM.Canibals[i]\n",
    "                                    && caM.Missionaries[i + 1] >= caM.Missionaries[i]\n",
    "                                    && caM.Canibals[i + 1] + caM.Missionaries[i + 1] - caM.Canibals[i] - caM.Missionaries[i] > 0\n",
    "                                    && caM.Canibals[i + 1] + caM.Missionaries[i + 1] - caM.Canibals[i] - caM.Missionaries[i] <= caM.SizeBoat);\n",
    "\n",
    "        }\n",
    "\n",
    "        //Jamais moins de missionnaire que de cannibal sur chacune des rives\n",
    "        theorem = theorem.Where(caM => (caM.Missionaries[i] == 0 || (caM.Missionaries[i] >= caM.Canibals[i]))\n",
    "                                 && (caM.Missionaries[i] == caM.NbMissionaries || ((caM.NbMissionaries - caM.Missionaries[i]) >= (caM.NbMissionaries - caM.Canibals[i]))));\n",
    "\n",
    "      }\n",
    "\n",
    "\n",
    "        // Test de but\n",
    "      // A l'arrivée, plus personne sur la rive de départ\n",
    "      theorem = theorem.Where(\n",
    "        caM => caM.Length > 0\n",
    "               && caM.Length < maxlength\n",
    "               && caM.Missionaries[caM.Length - 1] == 0\n",
    "               && caM.Canibals[caM.Length - 1] == 0\n",
    "      );\n",
    "\n",
    "\n",
    "      return theorem;\n",
    "    }\n",
    "    \n",
    "}"
   ]
  },
  {
   "cell_type": "markdown",
   "metadata": {},
   "source": [
    "###\tObtenir la solution \n",
    "LINQ To Z3 nous donne la solution sous forme d’ un objet POCO (Plain Old CLR Object) du type de paramètre générique T du théorème. \n"
   ]
  },
  {
   "cell_type": "code",
   "execution_count": 4,
   "metadata": {
    "dotnet_interactive": {
     "language": "csharp"
    },
    "polyglot_notebook": {
     "kernelName": "csharp"
    }
   },
   "outputs": [],
   "source": [
    "using System.Diagnostics;\n",
    "var stopWatch = new Stopwatch();\n",
    "      stopWatch.Start();\n",
    "      TimeSpan debutChrono;\n",
    "    // Solving Canibals & Missionaires\n",
    "      var can = new CanibalsAndMissionaries(){NbMissionaries = 3, SizeBoat = 2, Length = 30};\n",
    "\n",
    "      using (var ctx = new Z3Context())\n",
    "      {\n",
    "        var theorem = CanibalsAndMissionaries.Create(ctx, can);\n",
    "\n",
    "        debutChrono = stopWatch.Elapsed;\n",
    "\n",
    "        //Print(theorem);\n",
    "        var result = theorem.Solve();\n",
    "\n",
    "        // affichage du résultat\n",
    "        display($\"Durée Cannibales et Missionaires {stopWatch.Elapsed - debutChrono}\");\n",
    "        display(result);\n",
    "\n",
    "      }\n"
   ]
  },
  {
   "cell_type": "markdown",
   "metadata": {},
   "source": [
    "### Recherche de la solution la plus courte"
   ]
  },
  {
   "cell_type": "code",
   "execution_count": 5,
   "metadata": {
    "dotnet_interactive": {
     "language": "csharp"
    },
    "polyglot_notebook": {
     "kernelName": "csharp"
    }
   },
   "outputs": [],
   "source": [
    "using System.Diagnostics;\n",
    "var stopWatch = new Stopwatch();\n",
    "      stopWatch.Start();\n",
    "      TimeSpan debutChrono;\n",
    "    // Solving Canibals & Missionaires\n",
    "      var can = new CanibalsAndMissionaries(){NbMissionaries = 3, SizeBoat = 2, Length = 30};\n",
    "\n",
    "      using (var ctx = new Z3Context())\n",
    "      {\n",
    "        var theorem = CanibalsAndMissionaries.Create(ctx, can);\n",
    "\n",
    "        debutChrono = stopWatch.Elapsed;\n",
    "\n",
    "        //Print(theorem);\n",
    "        var result = theorem.Optimize(Optimization.Minimize, objMnC => objMnC.Length);\n",
    "\n",
    "        // affichage du résultat\n",
    "        display($\"Durée Cannibales et Missionaires {stopWatch.Elapsed - debutChrono}\");\n",
    "        display(result);\n",
    "\n",
    "      }\n",
    "\n",
    "\n"
   ]
  },
  {
   "cell_type": "code",
   "execution_count": 6,
   "metadata": {
    "dotnet_interactive": {
     "language": "csharp"
    },
    "polyglot_notebook": {
     "kernelName": "csharp"
    }
   },
   "outputs": [],
   "source": [
    "using System.Diagnostics;\n",
    "var stopWatch = new Stopwatch();\n",
    "      stopWatch.Start();\n",
    "      TimeSpan debutChrono;\n",
    "    // Solving Canibals & Missionaires\n",
    "      var can = new CanibalsAndMissionaries(){NbMissionaries = 30, SizeBoat = 7, Length = 100};\n",
    "\n",
    "      using (var ctx = new Z3Context())\n",
    "      {\n",
    "        var theorem = CanibalsAndMissionaries.Create(ctx, can);\n",
    "\n",
    "        debutChrono = stopWatch.Elapsed;\n",
    "\n",
    "        //Print(theorem);\n",
    "        var result = theorem.Optimize(Optimization.Minimize, objMnC => objMnC.Length);\n",
    "\n",
    "        // affichage du résultat\n",
    "        display($\"Durée Cannibales et Missionaires {stopWatch.Elapsed - debutChrono}\");\n",
    "        display(result);\n",
    "\n",
    "      }\n",
    "\n",
    "\n"
   ]
  }
 ],
 "metadata": {
  "kernelspec": {
   "display_name": ".NET (C#)",
   "language": "C#",
   "name": ".net-csharp"
  },
  "polyglot_notebook": {
   "kernelInfo": {
    "defaultKernelName": "csharp",
    "items": [
     {
      "aliases": [],
      "languageName": "csharp",
      "name": "csharp"
     }
    ]
   }
  }
 },
 "nbformat": 4,
 "nbformat_minor": 2
}
