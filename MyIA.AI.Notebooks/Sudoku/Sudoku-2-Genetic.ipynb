{
 "cells": [
  {
   "cell_type": "markdown",
   "metadata": {},
   "source": [
    "# Résolution de Sudoku par Algorithme Génétique\n",
    "\n",
    "## Introduction Théorique\n",
    "\n",
    "Les algorithmes génétiques (GA) sont des techniques de recherche heuristiques inspirées par le processus de sélection naturelle. Ils sont couramment utilisés pour résoudre des problèmes d'optimisation et de recherche. Un algorithme génétique utilise des opérations telles que la mutation, le croisement et la sélection pour évoluer vers une solution optimale.\n",
    "\n",
    "Dans le contexte du Sudoku, un algorithme génétique peut être utilisé pour trouver une solution en représentant une grille de Sudoku comme un chromosome, où chaque gène représente une cellule de la grille. Les opérations génétiques sont appliquées pour optimiser la grille en respectant les contraintes du Sudoku.\n",
    "\n",
    "## Installation de GeneticSharp\n",
    "\n",
    "Nous devons commencer par installer le package GeneticSharp.\n",
    "Afin de concevoir un solver de Sudoku en algorithme génétique, il nous faudra concevoir un chromosome de Sudoku représentant l'individu d'une population de solution potentielles, et une fonction d'évaluation (fitness) évaluant la qualité d'un individu/chromosme.\n",
    "GeneticSharp fournira tout le reste des composants nécessaires à la mise en oeuvre de l'algorithme.\n"
   ]
  },
  {
   "cell_type": "code",
   "execution_count": null,
   "metadata": {
    "dotnet_interactive": {
     "language": "csharp"
    },
    "polyglot_notebook": {
     "kernelName": "csharp"
    }
   },
   "outputs": [],
   "source": [
    "#r \"nuget: GeneticSharp\""
   ]
  },
  {
   "cell_type": "markdown",
   "metadata": {},
   "source": [
    "## Importation des Classes de Base\n",
    "\n",
    "Nous allons importer les classes de base définies dans le notebook précédent, fournissant notamment la représentation, le chargement et l'affichage de Sudokus, et l'infrastructure de résolution.\n"
   ]
  },
  {
   "cell_type": "code",
   "execution_count": null,
   "metadata": {
    "dotnet_interactive": {
     "language": "csharp"
    },
    "polyglot_notebook": {
     "kernelName": "csharp"
    }
   },
   "outputs": [],
   "source": [
    "#!import Sudoku-0-Environment.ipynb"
   ]
  },
  {
   "cell_type": "markdown",
   "metadata": {},
   "source": [
    "## Implémentation du Solveur de Sudoku par Algorithme Génétique\n",
    "\n",
    "Nous allons maintenant implémenter ce solveur en C#. Comme indiqué précédemment il nous faut code la notion de chromosome et de fonction d'évaluation.\n",
    "\n",
    "Afin de nous donner la possibilité de tester plusieurs types de chromosome, on introduit une interface dédiée:\n",
    "\n",
    "### Interface `ISudokuChromosome`\n"
   ]
  },
  {
   "cell_type": "code",
   "execution_count": null,
   "metadata": {
    "dotnet_interactive": {
     "language": "csharp"
    },
    "polyglot_notebook": {
     "kernelName": "csharp"
    }
   },
   "outputs": [],
   "source": [
    "using GeneticSharp;\n",
    "\n",
    "public interface ISudokuChromosome: IChromosome\n",
    "{\n",
    "\tSudokuGrid TargetSudoku { get; set; }\n",
    "    SudokuGrid GetSolution();\n",
    "    \n",
    "}"
   ]
  },
  {
   "cell_type": "markdown",
   "metadata": {},
   "source": [
    "### Classe `SudokuFitness`\n",
    "\n",
    "On peut maintenant proposer une fonction d'évaluation basée sur cette interface.\n",
    "Cette classe évalue un chromosome en fonction du nombre d'erreurs dans la grille de Sudoku générée.\n"
   ]
  },
  {
   "cell_type": "code",
   "execution_count": null,
   "metadata": {
    "dotnet_interactive": {
     "language": "csharp"
    },
    "polyglot_notebook": {
     "kernelName": "csharp"
    }
   },
   "outputs": [],
   "source": [
    "using GeneticSharp;\n",
    "\n",
    "public class SudokuFitness : IFitness\n",
    "{\n",
    "    private SudokuGrid _targetSudokuGrid;\n",
    "\n",
    "    public SudokuFitness(SudokuGrid targetSudokuGrid)\n",
    "    {\n",
    "        _targetSudokuGrid = targetSudokuGrid;\n",
    "    }\n",
    "\n",
    "    public double Evaluate(IChromosome chromosome)\n",
    "    {\n",
    "        var sudokuChromosome = (ISudokuChromosome)chromosome;\n",
    "        var sudoku = sudokuChromosome.GetSolution();\n",
    "        var nbErrors = sudoku.NbErrors(_targetSudokuGrid);\n",
    "        return -nbErrors;\n",
    "    }\n",
    "}\n"
   ]
  },
  {
   "cell_type": "markdown",
   "metadata": {},
   "source": [
    "### Classe `SudokuSolver`\n",
    "\n",
    "Cette classe contient les méthodes pour résoudre le Sudoku en utilisant l'algorithme génétique.\n",
    "\n",
    "Nous concevons dores et déjà une méthode de résolution qui supportera plusieurs types de chromosomes de Sudoku sur les bases de notre interface commune, et présentant des fonctionnalités avancées suivantes:\n",
    "\n",
    "- Possibilité de fournir l'opérateur de croisement et de mutation (opérateurs uniformes par défaut)\n",
    "\n",
    "- Utilisation du parallélisme. L'application des opérateurs génétiques à une population ainsi que l'évaluation de la population résultantes sont par nature parallélisables. GeneticSharp propose l'utilisation du parallélisme de tâche natif .Net pour l'utilisation optimale des coeurs de processeurs disponibles.\n",
    "\n",
    "- Multi-Objectifs et ajustement de la taille de la population. L'algorithme se termine à l'issue d'une génération si le meilleur chromosome ne contient plus d'erreur, ou si sa fitness n'a pas évolué depuis un certain nombre de génération, signalant un possible effondrement de la diversité génétique sur un maximum local. Dans ce cas, l'algorithme est redémarré en doublant la taille de la population.   \n"
   ]
  },
  {
   "cell_type": "code",
   "execution_count": null,
   "metadata": {
    "dotnet_interactive": {
     "language": "csharp"
    },
    "polyglot_notebook": {
     "kernelName": "csharp"
    }
   },
   "outputs": [],
   "source": [
    "using GeneticSharp;\n",
    "using Microsoft.DotNet.Interactive;\n",
    "using System;\n",
    "using System.Diagnostics;\n",
    "\n",
    "public class SudokuGeneticSolver: ISudokuSolver\n",
    "{\n",
    "    \n",
    "    public ISudokuChromosome Chromosome { get; set; }\n",
    "    public IMutation Mutation { get; set; } = new UniformMutation(true);\n",
    "    public ICrossover Crossover { get; set; } = new UniformCrossover(0.5f);\n",
    "\n",
    "\n",
    "    public SudokuGeneticSolver(ISudokuChromosome chromosome)\n",
    "    {\n",
    "        Chromosome = chromosome;\n",
    "    }\n",
    "\n",
    "    \n",
    "\n",
    "    public SudokuGrid Solve(SudokuGrid s)\n",
    "    {\n",
    "        var maxDuration = 30;\n",
    "        var maxPopulation = 100000;\n",
    "        var fitness = new SudokuFitness(s);\n",
    "        \n",
    "        var populationSize = 400;\n",
    "        //Opérateur de sélection (Elite rapide mais un peu sélectif)\n",
    "        var selection = new EliteSelection ();\n",
    "\n",
    "        // Critères de terminaison\n",
    "        var fitnessThreshold = 0;\n",
    "        int stableGenerationNb = 30;\n",
    "        var termination = new OrTermination(new ITermination[]\n",
    "        {\n",
    "            new FitnessThresholdTermination(fitnessThreshold),\n",
    "            new FitnessStagnationTermination(stableGenerationNb),\n",
    "        });\n",
    "        \n",
    "        var stopWatch = Stopwatch.StartNew();\n",
    "        var lastTime = stopWatch.Elapsed;\n",
    "        var displayPlaceholder = display(\"Initialisation...\");\n",
    "        var sudokuPlaceHloder = display(s.ToString());\n",
    "\n",
    "        SudokuGrid bestSudoku = null;\n",
    "        do\n",
    "        {\n",
    "            Population population = new Population(populationSize, populationSize, Chromosome);\n",
    "\n",
    "            GeneticAlgorithm ga = new GeneticAlgorithm(population, fitness, selection, Crossover, Mutation)\n",
    "            {\n",
    "                Termination = termination,\n",
    "                // Opérateurs de parallélisation\n",
    "                OperatorsStrategy = new TplOperatorsStrategy(),\n",
    "                TaskExecutor = new TplTaskExecutor(),\n",
    "                //MutationProbability = 0.1f,\n",
    "                // CrossoverProbability = 0.75f\n",
    "            };\n",
    "            \n",
    "            ga.GenerationRan += (sender, args) =>\n",
    "            {\n",
    "                var bestIndividual = (ISudokuChromosome)ga.Population.BestChromosome;\n",
    "                bestSudoku = bestIndividual.GetSolution();\n",
    "                var nbErrors = bestSudoku.NbErrors(s);\n",
    "                var message = $\"Generation {ga.GenerationsNumber}, Population {ga.Population.CurrentGeneration.Chromosomes.Count}, NbErrors {bestSudoku.NbErrors(s)}, Elapsed {stopWatch.Elapsed - lastTime}\";\n",
    "                displayPlaceholder.Update(message);\n",
    "                sudokuPlaceHloder.Update(bestSudoku.ToString());\n",
    "            \n",
    "            };\n",
    "            lastTime = stopWatch.Elapsed;\n",
    "            ga.Start();\n",
    "            populationSize = Math.Min(maxPopulation, populationSize *= 2);\n",
    "        } while (bestSudoku.NbErrors(s) > 0 && stopWatch.Elapsed.TotalSeconds < maxDuration);\n",
    "\n",
    "        return bestSudoku;\n",
    "\n",
    "    }\n",
    "    \n",
    "}"
   ]
  },
  {
   "cell_type": "markdown",
   "metadata": {},
   "source": [
    "### Premier chromosome simple\n",
    "\n",
    "Pour ce premier essai, nous représentont chaque cellule par un gène à valeur de 1 à 9. L'initialisation tient compte du masque à résoudre, mais pas les opérateurs qui agissent au hasard."
   ]
  },
  {
   "cell_type": "code",
   "execution_count": null,
   "metadata": {
    "dotnet_interactive": {
     "language": "csharp"
    },
    "polyglot_notebook": {
     "kernelName": "csharp"
    }
   },
   "outputs": [],
   "source": [
    "using System;\n",
    "\n",
    "public class SudokuCellsChromosome : ChromosomeBase, ISudokuChromosome\n",
    "{\n",
    "    public SudokuGrid TargetSudoku { get; set; }\n",
    "\n",
    "    \n",
    "    public SudokuCellsChromosome() : base(81) {}\n",
    "\n",
    "    public override Gene GenerateGene(int geneIndex)\n",
    "    {\n",
    "        var row = geneIndex / 9;\n",
    "        var col = geneIndex % 9;\n",
    "\n",
    "        if (TargetSudoku.Cells[row, col] != 0)\n",
    "        {\n",
    "            return new Gene(TargetSudoku.Cells[row, col]);\n",
    "        }\n",
    "\n",
    "        var rnd = RandomizationProvider.Current;\n",
    "        return new Gene(rnd.GetInt(1, 10));\n",
    "    }\n",
    "\n",
    "    public override IChromosome CreateNew()\n",
    "    {\n",
    "        var toReturn = new SudokuCellsChromosome(){TargetSudoku = TargetSudoku};\n",
    "        toReturn.CreateGenes();\n",
    "        return toReturn;\n",
    "    }\n",
    "\n",
    "    public SudokuGrid GetSolution()\n",
    "    {\n",
    "        var genes = GetGenes();\n",
    "        var cells = new int[9, 9];\n",
    "        for (int i = 0; i < 81; i++)\n",
    "        {\n",
    "            cells[i / 9, i % 9] = (int)genes[i].Value;\n",
    "        }\n",
    "        var sudoku = new SudokuGrid() { Cells = cells };\n",
    "        return sudoku;\n",
    "    }\n",
    "}\n"
   ]
  },
  {
   "cell_type": "markdown",
   "metadata": {},
   "source": [
    "## Test du Solveur\n",
    "\n",
    "Nous allons maintenant tester notre solveur de Sudoku par algorithme génétique en utilisant des grilles de Sudoku de différentes difficultés : facile, moyen et difficile.\n"
   ]
  },
  {
   "cell_type": "code",
   "execution_count": null,
   "metadata": {
    "dotnet_interactive": {
     "language": "csharp"
    },
    "polyglot_notebook": {
     "kernelName": "csharp"
    }
   },
   "outputs": [],
   "source": [
    "display(\"Test du solver genetique simple:\");\n",
    "\n",
    "\n",
    "display(\"Puzzle Sudoku Facile Initial:\");\n",
    "\n",
    "// Charger et tester un puzzle facile\n",
    "var easySudokus = SudokuHelper.GetSudokus(SudokuDifficulty.Easy);\n",
    "var easySudoku = easySudokus.FirstOrDefault();\n",
    "\n",
    "//Création du chromosome:\n",
    "var chromosome = new SudokuCellsChromosome(){TargetSudoku = easySudoku};\n",
    "\n",
    "// Instanciation de Solver avec notre chromosmome SudokuCellsChromosome\n",
    "var solver = new SudokuGeneticSolver(chromosome);\n",
    "\n",
    "SudokuHelper.SolveSudoku(easySudoku, solver);"
   ]
  },
  {
   "cell_type": "markdown",
   "metadata": {},
   "source": [
    "## Conclusion Intermédiaire\n",
    "\n",
    "Le solveur génétique a réussi à résoudre le Sudoku de difficulté facile en plusieurs redémarrages, prenant plusieurs secondes. Cela montre que notre approche fonctionne, mais elle n'est pas encore assez efficace pour résoudre des puzzles de difficulté plus difficile en un temps raisonnable.\n",
    "\n",
    "\n",
    "### Chromosome : SudokuPermutationsChromosome\n",
    "\n",
    "Le SudokuPermutationsChromosome est un chromosome simple de 9 gènes qui manipule les permutations de lignes du Sudoku. Chaque gène représente une permutation d'une ligne entière, permettant ainsi une exploration plus efficace des solutions potentielles.\n"
   ]
  },
  {
   "cell_type": "code",
   "execution_count": null,
   "metadata": {
    "dotnet_interactive": {
     "language": "csharp"
    },
    "polyglot_notebook": {
     "kernelName": "csharp"
    }
   },
   "outputs": [],
   "source": [
    "public class SudokuPermutationsChromosome  : ChromosomeBase, ISudokuChromosome\n",
    "{\n",
    "\n",
    "     public SudokuGrid TargetSudoku { get; set; }\n",
    "    protected static IList<IList<int>> allPermutations = GetPermutations(Enumerable.Range(1, 9), 9).ToList();\n",
    "\n",
    "    private readonly IList<IList<int>>[] _rowPermutationsCache;\n",
    "\n",
    "    public SudokuPermutationsChromosome(SudokuGrid targetSudoku) \n",
    "        : base(9)\n",
    "    {\n",
    "        TargetSudoku = targetSudoku;\n",
    "        _rowPermutationsCache = new IList<IList<int>>[9];\n",
    "        CreateGenes();\n",
    "    }\n",
    "\n",
    "    private SudokuPermutationsChromosome(SudokuGrid targetSudoku, IList<IList<int>>[] rowPermutationsCache)\n",
    "        : base( 9)\n",
    "    {\n",
    "         TargetSudoku = targetSudoku;\n",
    "        _rowPermutationsCache = rowPermutationsCache;\n",
    "        CreateGenes();\n",
    "    }\n",
    "\n",
    "    public override Gene GenerateGene(int geneIndex)\n",
    "    {\n",
    "        var rowPermutations = GetRowPermutations(geneIndex);\n",
    "        var rnd = RandomizationProvider.Current;\n",
    "        var chosenPermutation = rowPermutations[rnd.GetInt(0, rowPermutations.Count)];\n",
    "        return new Gene(chosenPermutation);\n",
    "    }\n",
    "\n",
    "    private IList<IList<int>> GetRowPermutations(int row)\n",
    "    {\n",
    "        if (_rowPermutationsCache[row] == null)\n",
    "        {\n",
    "            _rowPermutationsCache[row] = allPermutations\n",
    "                .Where(perm => IsValidPermutation(perm, row)).ToList();\n",
    "        }\n",
    "        return _rowPermutationsCache[row];\n",
    "    }\n",
    "\n",
    "    private static IList<IList<int>> GetPermutations(IEnumerable<int> list, int length)\n",
    "    {\n",
    "        if (length == 1) return list.Select(t => (IList<int>)(new List<int> { t })).ToList();\n",
    "        return GetPermutations(list, length - 1)\n",
    "            .SelectMany(t => list.Where(e => !t.Contains(e)),\n",
    "                (t1, t2) => (IList<int>)t1.Concat(new List<int> { t2 }).ToList()).ToList();\n",
    "    }\n",
    "\n",
    "    private bool IsValidPermutation(IList<int> permutation, int row)\n",
    "    {\n",
    "        for (int col = 0; col < 9; col++)\n",
    "        {\n",
    "            if (TargetSudoku.Cells[row, col] != 0 && TargetSudoku.Cells[row, col] != permutation[col])\n",
    "            {\n",
    "                return false;\n",
    "            }\n",
    "        }\n",
    "        return true;\n",
    "    }\n",
    "\n",
    "    public override IChromosome CreateNew()\n",
    "    {\n",
    "        return new SudokuPermutationsChromosome(TargetSudoku, _rowPermutationsCache);\n",
    "    }\n",
    "\n",
    "    public SudokuGrid GetSolution()\n",
    "    {\n",
    "        var newGrid = (SudokuGrid)TargetSudoku.Clone();\n",
    "        var genes = GetGenes();\n",
    "        for (int row = 0; row < 9; row++)\n",
    "        {\n",
    "            var permutation = (IList<int>)genes[row].Value;\n",
    "            for (int col = 0; col < 9; col++)\n",
    "            {\n",
    "                newGrid.Cells[row, col] = permutation[col];\n",
    "            }\n",
    "        }\n",
    "        return newGrid;\n",
    "    }\n",
    "}\n"
   ]
  },
  {
   "cell_type": "markdown",
   "metadata": {},
   "source": [
    "### Test du SudokuPermutationsChromosome\n",
    "\n",
    "Nous allons maintenant tester le SudokuPermutationsChromosome en utilisant notre algorithme génétique. Nous allons voir comment il se comporte sur un Sudoku de difficulté facile et moyenne."
   ]
  },
  {
   "cell_type": "code",
   "execution_count": null,
   "metadata": {
    "dotnet_interactive": {
     "language": "csharp"
    },
    "polyglot_notebook": {
     "kernelName": "csharp"
    }
   },
   "outputs": [],
   "source": [
    "display(\"Test du solver genetique de permutations de lignes:\");\n",
    "\n",
    "\n",
    "display(\"Puzzle Sudoku Facile Initial:\");\n",
    "\n",
    "// Charger et tester un puzzle facile\n",
    "var easySudokus = SudokuHelper.GetSudokus(SudokuDifficulty.Easy);\n",
    "var easySudoku = easySudokus.FirstOrDefault();\n",
    "\n",
    "//Création du chromosome:\n",
    "var chromosome = new SudokuPermutationsChromosome(easySudoku);\n",
    "\n",
    "// Instanciation de Solver avec notre chromosmome SudokuCellsChromosome\n",
    "var solver = new SudokuGeneticSolver(chromosome);\n",
    "\n",
    "SudokuHelper.SolveSudoku(easySudoku, solver);\n",
    "\n",
    "display(\"Puzzle Sudoku Medium Initial:\");\n",
    "\n",
    "// Charger et tester un puzzle moyen\n",
    "var mediumSudoku = SudokuHelper.GetSudokus(SudokuDifficulty.Medium).First();\n",
    "\n",
    "chromosome = new SudokuPermutationsChromosome(mediumSudoku);\n",
    "solver = new SudokuGeneticSolver(chromosome);\n",
    "\n",
    "SudokuHelper.SolveSudoku(mediumSudoku, solver);"
   ]
  },
  {
   "cell_type": "markdown",
   "metadata": {},
   "source": [
    "## Conclusion Finale\n",
    "\n",
    "Bien que notre approche avec le SudokuPermutationsChromosome montre une amélioration par rapport au chromosome simple, il reste des défis importants pour résoudre des puzzles de difficulté moyenne et élevée. \n",
    "\n",
    "Le principal problème rencontré semble être un effondrement de la diversité génétique, même avec l'utilisation des permutations. Le problème du Sudoku est difficile d'accès aux algorithmes génétiques du fait notamment que l'espace de solution présente de nombreux extrema locaux sur lesquels ils restent coincés, et une très faible densité de solution.\n",
    "\n",
    "Dans les notebooks suivants, nous explorerons d'autres méthodes et approches pour résoudre les puzzles de Sudoku, en espérant trouver des solutions plus efficaces et rapides.\n",
    "\n",
    "### Pour aller plus loin\n",
    "\n",
    "Pour améliorer l'efficacité des algorithmes génétiques dans la résolution de Sudoku, il serait essentiel d'explorer des opérateurs plus performants que les croisements et mutations uniformes actuellement utilisés. \n",
    "\n",
    "Des opérateurs dits \"ordered\" issus de la littérature génétique, pourraient offrir des gains significatifs. Ces opérateurs, basés sur des découpages et recollages inspirés de la génétique, permettent des transformations de type permutations sur des gènes présentés comme une liste réordonnable. Utilisés dans le problème du voyageur de commerce (TSP), ils améliorent sensiblement les qualités de la convergence.\n",
    "\n",
    " Appliqués au Sudoku, ils pourraient permettre la recombinaison de \"bouts de bonnes solutions\" pour converger plus efficacement vers la solution optimale. Mais cela impliquerait tout d'abord de géométriser le chromosome du Sudoku pour permettre leur bon fonctionnement."
   ]
  }
 ],
 "metadata": {
  "kernelspec": {
   "display_name": ".NET (C#)",
   "language": "C#",
   "name": ".net-csharp"
  },
  "polyglot_notebook": {
   "kernelInfo": {
    "defaultKernelName": "csharp",
    "items": [
     {
      "aliases": [],
      "languageName": "csharp",
      "name": "csharp"
     }
    ]
   }
  }
 },
 "nbformat": 4,
 "nbformat_minor": 2
}
