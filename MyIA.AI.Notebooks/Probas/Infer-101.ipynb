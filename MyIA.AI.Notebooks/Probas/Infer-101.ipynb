{
 "cells": [
  {
   "cell_type": "markdown",
   "metadata": {},
   "source": [
    "# Introduction à la programmation probabiliste avec Infer.Net\n",
    "\n",
    "## Introduction à la Programmation Probabiliste\n",
    "\n",
    "### Avant-propos\n",
    "\n",
    "Les ordinateurs sont rigoureusement logiques, mais le monde réel ne l'est pas. Par exemple, supposons que vous deviez représenter ce qu'un utilisateur griffonne sur un écran tactile sous forme de mot. Les gens ne sont généralement pas très appliqués dans leur écriture, donc ce gribouillis peut correspondre à plusieurs mots possibles comme \"hill\", \"bull\" ou \"hello\". L'utilisateur sait ce qu'il a écrit, mais pour l'application, la valeur correcte est incertaine. Cependant, certaines valeurs sont plus probables que d'autres.\n",
    "\n",
    "Comment représentez-vous une telle incertitude dans un programme ? Des variables conventionnelles telles que `bool` ou `int` doivent avoir des valeurs bien définies. Une solution est d'utiliser des variables aléatoires.\n",
    "\n",
    "### Variables aléatoires\n",
    "\n",
    "La programmation probabiliste est conçue pour gérer une telle incertitude en utilisant des variables aléatoires. Une variable aléatoire représente un ensemble ou une plage de valeurs possibles, chacune associée à une probabilité.\n",
    "\n",
    "```csharp\n",
    "// Exemple de création d'une variable aléatoire\n",
    "Variable<bool> isHeads = Variable.Bernoulli(0.5);\n",
    "```\n",
    "\n",
    "### Modèles probabilistes\n",
    "\n",
    "Un modèle probabiliste définit comment les utilisateurs transforment les mots en gribouillis. Ce modèle reconnaît que le même mot peut conduire à différents gribouillis et que des mots différents peuvent conduire à des gribouillis similaires.\n",
    "\n",
    "### Inférence probabiliste\n",
    "\n",
    "L'inférence probabiliste utilise une méthodologie statistique connue sous le nom d'inférence bayésienne pour raisonner rétrospectivement d'une observation jusqu'à son origine.\n",
    "\n",
    "\n",
    "### Apprentissage probabiliste\n",
    "\n",
    "Un modèle a généralement un ensemble de paramètres ajustables qui régissent son comportement. Pour adapter les paramètres au style d’écriture d’un utilisateur, un programme probabiliste peut traiter les paramètres du modèle eux-mêmes comme des variables aléatoires et apprendre les valeurs réelles des paramètres en fonction des entrées de l’utilisateur.\n",
    "\n",
    "## Présentation d'Infer.Net\n",
    "\n",
    "### Qu’est-ce que Infer.Net\n",
    "\n",
    "Infer.NET est un framework permettant d'exécuter l'inférence bayésienne dans des modèles graphiques. Il fournit les algorithmes de passe-messages et les routines statistiques nécessaires à la réalisation d'inférences pour une grande variété d'applications. \n",
    "\n",
    "Les principales caractéristiques d'Infer.NET sont :\n",
    "\n",
    "- **Langage de modélisation** : Supporte les variables univariées et multivariées, continues et discrètes.\n",
    "- **Algorithmes d'inférence** : Inclut la propagation d’espérance (EP), la propagation des convictions, le passage de messages variationnels et l'échantillonnage de Gibbs.\n",
    "- **Conçu pour l'inférence à grande échelle** : Compile les modèles dans du code source dédié.\n",
    "- **Extensible par l'utilisateur** : Permet d'ajouter des distributions de probabilité, des facteurs, des opérations de message et des algorithmes d'inférence.\n",
    "\n",
    "### Comment fonctionne Infer.NET\n",
    "\n",
    "Infer.NET fonctionne en compilant une définition de modèle dans le code source nécessaire pour calculer un ensemble de requêtes d'inférence sur le modèle.\n",
    "\n",
    "1. **Création de la définition de modèle** : Utilisation de l'API de modélisation.\n",
    "2. **Compilation du modèle** : Le compilateur crée le code source nécessaire à l'exécution des requêtes d'inférence.\n",
    "3. **Compilation du code source** : Pour créer un algorithme compilé.\n",
    "4. **Exécution de l'inférence** : Utilisation du moteur d'inférence pour produire les distributions marginales demandées.\n",
    "\n",
    "### Installation des Packages Nuget et Usings\n",
    "\n",
    "Pour utiliser Infer.NET dans votre projet .NET Interactive, vous devez installer le package Nuget `Microsoft.ML.Probabilistic` et inclure les usings nécessaires."
   ]
  },
  {
   "cell_type": "code",
   "execution_count": 1,
   "metadata": {
    "dotnet_interactive": {
     "language": "csharp"
    },
    "polyglot_notebook": {
     "kernelName": "csharp"
    }
   },
   "outputs": [],
   "source": [
    "// Pour installer Infer.NET\n",
    "#r \"nuget: Microsoft.ML.Probabilistic\"\n",
    "#r \"nuget: Microsoft.ML.Probabilistic.Compiler\""
   ]
  },
  {
   "cell_type": "markdown",
   "metadata": {},
   "source": [
    "(Infer fait désormais parti de la bibliothèque ML.Net)"
   ]
  },
  {
   "cell_type": "markdown",
   "metadata": {},
   "source": [
    "### Import des espaces de noms essentiels"
   ]
  },
  {
   "cell_type": "code",
   "execution_count": 2,
   "metadata": {
    "dotnet_interactive": {
     "language": "csharp"
    },
    "polyglot_notebook": {
     "kernelName": "csharp"
    }
   },
   "outputs": [],
   "source": [
    "using Microsoft.ML.Probabilistic;\n",
    "using Microsoft.ML.Probabilistic.Distributions;\n",
    "using Microsoft.ML.Probabilistic.Utilities;\n",
    "using Microsoft.ML.Probabilistic.Math;\n",
    "using Microsoft.ML.Probabilistic.Models;\n",
    "using Microsoft.ML.Probabilistic.Algorithms;\n",
    "using Microsoft.ML.Probabilistic.Compiler;"
   ]
  },
  {
   "cell_type": "markdown",
   "metadata": {},
   "source": [
    "\n",
    "### Un exemple simple\n",
    "\n",
    "Voici un exemple d'utilisation d'Infer.NET pour déterminer la probabilité d'obtenir deux faces lors du lancement de deux pièces non biaisées.\n",
    "\n",
    "\n"
   ]
  },
  {
   "cell_type": "code",
   "execution_count": 3,
   "metadata": {
    "dotnet_interactive": {
     "language": "csharp"
    },
    "polyglot_notebook": {
     "kernelName": "csharp"
    }
   },
   "outputs": [],
   "source": [
    "Variable<bool> premierePiece = Variable.Bernoulli(0.5);\n",
    "Variable<bool> deuxiemePiece = Variable.Bernoulli(0.5);\n",
    "Variable<bool> deuxFaces = premierePiece & deuxiemePiece;\n",
    "\n",
    "InferenceEngine engine = new InferenceEngine();\n",
    "engine.Compiler.CompilerChoice = CompilerChoice.Roslyn;\n",
    "Console.WriteLine(\"Probabilité d’avoir deux faces: \" + engine.Infer(deuxFaces));"
   ]
  },
  {
   "cell_type": "markdown",
   "metadata": {},
   "source": [
    "Ce court exemple contient les trois éléments clés de tout programme Infer.NET :\n",
    "\n",
    "1. **Définition d'un modèle probabiliste** : Les variables aléatoires `premierePiece` et `deuxiemePiece` et la variable dépendante `deuxFaces`.\n",
    "2. **Création d'un moteur d'inférence** : Le moteur d'inférence est créé et configuré.\n",
    "3. **Exécution d'une requête d'inférence** : Le moteur est utilisé pour déduire la distribution marginale de `deuxFaces`.\n"
   ]
  },
  {
   "cell_type": "markdown",
   "metadata": {},
   "source": [
    "## Mise en œuvre d’Infer.Net dans un exemple détaillé\n",
    "\n",
    "### Contexte\n",
    "\n",
    "#### Scenario\n",
    "\n",
    "Les programmes présentés ici sont basés sur le scénario suivant :\n",
    "\n",
    "- Plusieurs de vos collègues et vous-même rendez-vous à vélo chaque jour au travail.\n",
    "- Le temps de trajet d’un cycliste varie de jour en jour et sa valeur est donc aléatoire.\n",
    "- L’incertitude du temps de trajet est représentée par une distribution de probabilité qui définit le temps de trajet moyen et combien il varie.\n",
    "- L’application apprendra cette distribution à partir de plusieurs temps de trajet observés et utilisera ces connaissances pour faire des prévisions sur les temps de déplacement futurs.\n",
    "\n",
    "### Création du modèle\n",
    "\n",
    "La première étape consiste à créer les variables aléatoires `dureeMoyenne` et `bruitTrafic` avec des distributions initiales."
   ]
  },
  {
   "cell_type": "code",
   "execution_count": 4,
   "metadata": {
    "dotnet_interactive": {
     "language": "csharp"
    },
    "polyglot_notebook": {
     "kernelName": "csharp"
    }
   },
   "outputs": [],
   "source": [
    "// Définir le modèle\n",
    "Variable<double> dureeMoyenne = Variable.GaussianFromMeanAndPrecision(15, 0.01);\n",
    "Variable<double> bruitTrafic = Variable.GammaFromShapeAndScale(2, 0.5);"
   ]
  },
  {
   "cell_type": "markdown",
   "metadata": {},
   "source": [
    "Ensuite, nous définissons les variables pour les temps de trajet observés (`dureeLundi`, `dureeMardi`, `dureeMercredi`)."
   ]
  },
  {
   "cell_type": "code",
   "execution_count": 5,
   "metadata": {
    "dotnet_interactive": {
     "language": "csharp"
    },
    "polyglot_notebook": {
     "kernelName": "csharp"
    }
   },
   "outputs": [],
   "source": [
    "// Définir les temps de trajet\n",
    "Variable<double> dureeLundi = Variable.GaussianFromMeanAndPrecision(dureeMoyenne, bruitTrafic);\n",
    "Variable<double> dureeMardi = Variable.GaussianFromMeanAndPrecision(dureeMoyenne, bruitTrafic);\n",
    "Variable<double> dureeMercredi = Variable.GaussianFromMeanAndPrecision(dureeMoyenne, bruitTrafic);"
   ]
  },
  {
   "cell_type": "markdown",
   "metadata": {},
   "source": [
    "### Entraînement du modèle\n",
    "\n",
    "Nous allons maintenant observer les temps de trajet pour trois jours et entraîner le modèle."
   ]
  },
  {
   "cell_type": "code",
   "execution_count": 6,
   "metadata": {
    "dotnet_interactive": {
     "language": "csharp"
    },
    "polyglot_notebook": {
     "kernelName": "csharp"
    }
   },
   "outputs": [],
   "source": [
    "// Observations des temps de trajet\n",
    "dureeLundi.ObservedValue = 13;\n",
    "dureeMardi.ObservedValue = 17;\n",
    "dureeMercredi.ObservedValue = 16;"
   ]
  },
  {
   "cell_type": "markdown",
   "metadata": {},
   "source": [
    "Pour calculer les distributions postérieures pour `dureeMoyenne` et `bruitTrafic`, nous utilisons le moteur d'inférence.\n"
   ]
  },
  {
   "cell_type": "code",
   "execution_count": 7,
   "metadata": {
    "dotnet_interactive": {
     "language": "csharp"
    },
    "polyglot_notebook": {
     "kernelName": "csharp"
    }
   },
   "outputs": [],
   "source": [
    "// Entraînement du modèle et calcul des postérieurs\n",
    "InferenceEngine engine = new InferenceEngine();\n",
    "engine.Compiler.CompilerChoice = CompilerChoice.Roslyn;\n",
    "Gaussian moyennePosterieure = engine.Infer<Gaussian>(dureeMoyenne);\n",
    "Gamma bruitPosterieur = engine.Infer<Gamma>(bruitTrafic);\n",
    "\n",
    "Console.WriteLine($\"Moyenne a posteriori: {moyennePosterieure}\");\n",
    "Console.WriteLine($\"Bruit traffic a posteriori: {bruitPosterieur}\");"
   ]
  },
  {
   "cell_type": "markdown",
   "metadata": {},
   "source": [
    "### Prédiction du temps de trajet\n",
    "\n",
    "Nous allons maintenant utiliser le modèle entraîné pour prédire le temps de trajet de demain (`dureeDemain`)."
   ]
  },
  {
   "cell_type": "code",
   "execution_count": 8,
   "metadata": {
    "dotnet_interactive": {
     "language": "csharp"
    },
    "polyglot_notebook": {
     "kernelName": "csharp"
    }
   },
   "outputs": [],
   "source": [
    "// Prédiction du temps de trajet de demain\n",
    "Variable<double> dureeDemain = Variable.GaussianFromMeanAndPrecision(dureeMoyenne, bruitTrafic);\n",
    "Gaussian distribDemain = engine.Infer<Gaussian>(dureeDemain);\n",
    "\n",
    "Console.WriteLine($\"Prédiction demain: {distribDemain}, écart type: {Math.Sqrt(distribDemain.GetVariance())}\");"
   ]
  },
  {
   "cell_type": "markdown",
   "metadata": {},
   "source": [
    "### Calculer des probabilités basées sur les prédictions\n",
    "\n",
    "Nous pouvons également calculer la probabilité que le trajet de demain prenne moins de 18 minutes."
   ]
  },
  {
   "cell_type": "code",
   "execution_count": 9,
   "metadata": {
    "dotnet_interactive": {
     "language": "csharp"
    },
    "polyglot_notebook": {
     "kernelName": "csharp"
    }
   },
   "outputs": [],
   "source": [
    "// Calcul de la probabilité\n",
    "double probMoinsDe18Mn = engine.Infer<Bernoulli>(dureeDemain < 18.0).GetProbTrue();\n",
    "Console.WriteLine($\"Probabilité que le trajet prenne moins de 18mn: {probMoinsDe18Mn:F2}\");"
   ]
  },
  {
   "cell_type": "markdown",
   "metadata": {},
   "source": [
    "### Résumé \n",
    "\n",
    "En résumé, nous avons défini un modèle probabiliste pour les temps de trajet d'un cycliste, observé les données pour entraîner le modèle, et utilisé ce modèle pour faire des prédictions sur les temps de trajet futurs. Le code est structuré de manière à tirer parti des capacités interactives du notebook .NET Interactive, permettant ainsi une approche progressive et claire."
   ]
  },
  {
   "cell_type": "markdown",
   "metadata": {},
   "source": [
    "## Restructuration de notre application\n",
    "\n",
    "### Introduction\n",
    "\n",
    "L'application `DureeCycliste1` a présenté les bases de l’apprentissage des paramètres, mais elle n'est pas facilement extensible pour des scénarios plus sophistiqués. Nous allons restructurer l'application pour encapsuler le code de modélisation dans des classes séparées et introduire l'utilisation de tableaux de variables aléatoires pour les variables observées.\n",
    "\n",
    "### Encapsulation dans des classes séparées\n",
    "\n",
    "Nous allons créer une base commune pour les modèles d'entraînement et de prédiction en utilisant une classe de base `CyclisteBase`, puis créer des classes spécifiques pour l'entraînement (`EntrainementCycliste`) et la prédiction (`PredictionCycliste`).\n",
    "\n",
    "#### Classe de base\n",
    "\n",
    "La classe `CyclisteBase` contient les éléments communs aux modèles d'entraînement et de prédiction."
   ]
  },
  {
   "cell_type": "code",
   "execution_count": 11,
   "metadata": {
    "dotnet_interactive": {
     "language": "csharp"
    },
    "polyglot_notebook": {
     "kernelName": "csharp"
    }
   },
   "outputs": [],
   "source": [
    "using Microsoft.ML.Probabilistic.Algorithms;\n",
    "\n",
    "public struct DonneesCycliste\n",
    "{\n",
    "    public Gaussian DistribMoyenne;\n",
    "    public Gamma DistribBruitTraffic;\n",
    "    public DonneesCycliste(Gaussian moyenne, Gamma precision)\n",
    "    {\n",
    "        DistribMoyenne = moyenne;\n",
    "        DistribBruitTraffic = precision;\n",
    "    }\n",
    "}\n",
    "\n",
    "public class CyclisteBase\n",
    "{\n",
    "    public InferenceEngine MoteurInference;\n",
    "    protected Variable<double> Moyenne;\n",
    "    protected Variable<double> Bruit;\n",
    "    protected Variable<Gaussian> MoyenneAPriori;\n",
    "    protected Variable<Gamma> BruitAPriori;\n",
    "\n",
    "    public virtual void CreationModeleBayesien()\n",
    "    {\n",
    "        MoyenneAPriori = Variable.New<Gaussian>();\n",
    "        BruitAPriori = Variable.New<Gamma>();\n",
    "        Moyenne = Variable.Random<double, Gaussian>(MoyenneAPriori);\n",
    "        Bruit = Variable.Random<double, Gamma>(BruitAPriori);\n",
    "\n",
    "        if (MoteurInference == null)\n",
    "        {\n",
    "            MoteurInference = new InferenceEngine(new ExpectationPropagation());\n",
    "            MoteurInference.Compiler.CompilerChoice = CompilerChoice.Roslyn;\n",
    "        }\n",
    "    }\n",
    "\n",
    "    public virtual void DefinirDistributions(DonneesCycliste distribsApriori)\n",
    "    {\n",
    "        MoyenneAPriori.ObservedValue = distribsApriori.DistribMoyenne;\n",
    "        BruitAPriori.ObservedValue = distribsApriori.DistribBruitTraffic;\n",
    "    }\n",
    "    \n",
    "}"
   ]
  },
  {
   "cell_type": "markdown",
   "metadata": {},
   "source": [
    "#### Classe d'entraînement\n",
    "\n",
    "La classe `EntrainementCycliste` hérite de `CyclisteBase` et implémente le modèle d'entraînement."
   ]
  },
  {
   "cell_type": "code",
   "execution_count": 12,
   "metadata": {
    "dotnet_interactive": {
     "language": "csharp"
    },
    "polyglot_notebook": {
     "kernelName": "csharp"
    }
   },
   "outputs": [],
   "source": [
    "public class EntrainementCycliste : CyclisteBase\n",
    "{\n",
    "    protected VariableArray<double> TempsDeTrajet;\n",
    "    protected Variable<int> NombreDeTrajets;\n",
    "\n",
    "    public override void CreationModeleBayesien()\n",
    "    {\n",
    "        base.CreationModeleBayesien();\n",
    "        NombreDeTrajets = Variable.New<int>();\n",
    "        Range indiceTrajet = new Range(NombreDeTrajets);\n",
    "        TempsDeTrajet = Variable.Array<double>(indiceTrajet);\n",
    "        using (Variable.ForEach(indiceTrajet))\n",
    "        {\n",
    "            TempsDeTrajet[indiceTrajet] = Variable.GaussianFromMeanAndPrecision(Moyenne, Bruit);\n",
    "        }\n",
    "    }\n",
    "\n",
    "    public DonneesCycliste CalculePosterieurs(double[] donneesObservees)\n",
    "    {\n",
    "        DonneesCycliste posterieurs;\n",
    "        NombreDeTrajets.ObservedValue = donneesObservees.Length;\n",
    "        TempsDeTrajet.ObservedValue = donneesObservees;\n",
    "        posterieurs.DistribMoyenne = MoteurInference.Infer<Gaussian>(Moyenne);\n",
    "        posterieurs.DistribBruitTraffic = MoteurInference.Infer<Gamma>(Bruit);\n",
    "        return posterieurs;\n",
    "    }\n",
    "}"
   ]
  },
  {
   "cell_type": "markdown",
   "metadata": {},
   "source": [
    "#### Classe de prédiction\n",
    "\n",
    "La classe `PredictionCycliste` implémente le modèle de prédiction."
   ]
  },
  {
   "cell_type": "code",
   "execution_count": 13,
   "metadata": {
    "dotnet_interactive": {
     "language": "csharp"
    },
    "polyglot_notebook": {
     "kernelName": "csharp"
    }
   },
   "outputs": [],
   "source": [
    "public class PredictionCycliste : CyclisteBase\n",
    "{\n",
    "    private Gaussian demainDistrib;\n",
    "    public Variable<double> demainTemps;\n",
    "\n",
    "    public override void CreationModeleBayesien()\n",
    "    {\n",
    "        base.CreationModeleBayesien();\n",
    "        demainTemps = Variable.GaussianFromMeanAndPrecision(Moyenne, Bruit);\n",
    "    }\n",
    "\n",
    "    public Gaussian EstimerTempsDemain()\n",
    "    {\n",
    "        demainDistrib = MoteurInference.Infer<Gaussian>(demainTemps);\n",
    "        return demainDistrib;\n",
    "    }\n",
    "\n",
    "    public Bernoulli EstimerTempsDemainInferieurA(double duree)\n",
    "    {\n",
    "        return MoteurInference.Infer<Bernoulli>(demainTemps < duree);\n",
    "    }\n",
    "}"
   ]
  },
  {
   "cell_type": "markdown",
   "metadata": {},
   "source": [
    "### Utilisation du modèle\n",
    "\n",
    "Nous allons utiliser ces classes pour entraîner le modèle et prédire le temps de déplacement de demain.\n",
    "\n",
    "#### Entraînement"
   ]
  },
  {
   "cell_type": "code",
   "execution_count": 14,
   "metadata": {
    "dotnet_interactive": {
     "language": "csharp"
    },
    "polyglot_notebook": {
     "kernelName": "csharp"
    }
   },
   "outputs": [],
   "source": [
    "double[] donneesTrajets = new[] { 13, 17, 20, 25, 16, 11, 16, 14, 12.5 };\n",
    "DonneesCycliste mesDistributions = new DonneesCycliste(\n",
    "    Gaussian.FromMeanAndPrecision(1, 0.01),\n",
    "    Gamma.FromShapeAndScale(2, 0.5));\n",
    "\n",
    "EntrainementCycliste monEntrainement = new EntrainementCycliste();\n",
    "monEntrainement.CreationModeleBayesien();\n",
    "monEntrainement.DefinirDistributions(mesDistributions);\n",
    "DonneesCycliste monPosterieur = monEntrainement.CalculePosterieurs(donneesTrajets);\n",
    "\n",
    "Console.WriteLine($\"Moyenne a posteriori: {monPosterieur.DistribMoyenne}\");\n",
    "Console.WriteLine($\"Bruit traffic a posteriori: {monPosterieur.DistribBruitTraffic}\");"
   ]
  },
  {
   "cell_type": "markdown",
   "metadata": {},
   "source": [
    "#### Prédiction"
   ]
  },
  {
   "cell_type": "code",
   "execution_count": 15,
   "metadata": {
    "dotnet_interactive": {
     "language": "csharp"
    },
    "polyglot_notebook": {
     "kernelName": "csharp"
    }
   },
   "outputs": [],
   "source": [
    "PredictionCycliste maPrediction = new PredictionCycliste();\n",
    "maPrediction.CreationModeleBayesien();\n",
    "maPrediction.DefinirDistributions(monPosterieur);\n",
    "Gaussian distribDemain = maPrediction.EstimerTempsDemain();\n",
    "\n",
    "Console.WriteLine($\"Prédiction demain: {distribDemain}, écart type: {Math.Sqrt(distribDemain.GetVariance())}\");\n",
    "double probMoinsDe18Mn = maPrediction.EstimerTempsDemainInferieurA(13).GetProbTrue();\n",
    "Console.WriteLine($\"Probabilité que le trajet prenne moins de 18mn: {probMoinsDe18Mn:F2}\");"
   ]
  },
  {
   "cell_type": "markdown",
   "metadata": {},
   "source": [
    "Avec cette approche, nous avons encapsulé les modèles d'entraînement et de prédiction dans des classes séparées tout en mutualisant les parties communes dans une classe de base. Cela permet de gérer efficacement plusieurs ensembles d'observations et améliore les performances en évitant la recompilation du modèle."
   ]
  },
  {
   "cell_type": "markdown",
   "metadata": {},
   "source": [
    "### Apprentissage en ligne avec Infer.NET\n",
    "\n",
    "L'application `DureeCycliste3` implémente l'apprentissage en ligne et la gestion des événements extraordinaires en utilisant un modèle de mélange de Gaussiennes. Cette méthode permet d'apprendre progressivement les paramètres du modèle en fonction des nouvelles données, améliorant ainsi les prévisions.\n",
    "\n",
    "### 1. Mise à jour des postérieurs\n",
    "\n",
    "Dans l'apprentissage en ligne, nous commençons par des a priori initiaux larges, puis nous les mettons à jour avec les postérieurs calculés à partir des nouvelles données. Voici comment implémenter ce processus :\n",
    "\n",
    "#### Code d'apprentissage en ligne"
   ]
  },
  {
   "cell_type": "code",
   "execution_count": 16,
   "metadata": {
    "dotnet_interactive": {
     "language": "csharp"
    },
    "polyglot_notebook": {
     "kernelName": "csharp"
    }
   },
   "outputs": [],
   "source": [
    "double[] semaineSuivante = new double[] { 18, 25, 30, 14, 11 };\n",
    "maPrediction.DefinirDistributions(monPosterieur);\n",
    "DonneesCycliste posterieurSemaineSuivante = monEntrainement.CalculePosterieurs(semaineSuivante);\n",
    "Console.WriteLine($\"moyenne postérieure semaine suivante: {posterieurSemaineSuivante.DistribMoyenne}\");\n",
    "Console.WriteLine($\"bruit postérieur semaine suivante: {posterieurSemaineSuivante.DistribBruitTraffic}\");"
   ]
  },
  {
   "cell_type": "markdown",
   "metadata": {},
   "source": [
    "### 2. Nouvelles prédictions\n",
    "\n",
    "Après avoir mis à jour les postérieurs avec les nouvelles données, nous utilisons ces postérieurs pour faire de nouvelles prédictions.\n",
    "\n",
    "#### Code de prédiction\n"
   ]
  },
  {
   "cell_type": "code",
   "execution_count": 17,
   "metadata": {
    "dotnet_interactive": {
     "language": "csharp"
    },
    "polyglot_notebook": {
     "kernelName": "csharp"
    }
   },
   "outputs": [],
   "source": [
    "maPrediction.DefinirDistributions(posterieurSemaineSuivante);\n",
    "Gaussian distribDemain = maPrediction.EstimerTempsDemain();\n",
    "Console.WriteLine($\"Prédiction demain: {distribDemain}\");\n",
    "Console.WriteLine($\"Ecart type: {Math.Sqrt(distribDemain.GetVariance())}\");\n",
    "double probMoinsDe18Mn = maPrediction.EstimerTempsDemainInferieurA(13).GetProbTrue();\n",
    "Console.WriteLine($\"Probabilité que le trajet prenne moins de 18mn: {probMoinsDe18Mn:F2}\");"
   ]
  },
  {
   "cell_type": "markdown",
   "metadata": {},
   "source": [
    "### Modèle mixte\n",
    "\n",
    "Pour gérer des événements extraordinaires, nous utilisons un modèle de mélange de deux Gaussiennes. Ce modèle permet de mieux capturer la variabilité des temps de trajet.\n",
    "\n",
    "#### Classe de base pour le modèle mixte"
   ]
  },
  {
   "cell_type": "code",
   "execution_count": 18,
   "metadata": {
    "dotnet_interactive": {
     "language": "csharp"
    },
    "polyglot_notebook": {
     "kernelName": "csharp"
    }
   },
   "outputs": [],
   "source": [
    "public struct DonneesCyclisteMixte\n",
    "    {\n",
    "        public Gaussian[] DistribMoyenne;\n",
    "        public Gamma[] DistribBruitTraffic;\n",
    "        public Dirichlet DistribMixe;\n",
    "    }\n",
    "\n",
    "public class CyclisteBaseMixte\n",
    "{\n",
    "    public InferenceEngine MoteurInference;\n",
    "    protected int NombreComposantes = 2;\n",
    "    protected VariableArray<Gaussian> MoyennesAPriori;\n",
    "    protected VariableArray<Gamma> BruitsAPriori;\n",
    "    protected Variable<Dirichlet> MixeAPriori;\n",
    "    protected VariableArray<double> Moyennes;\n",
    "    protected VariableArray<double> Bruits;\n",
    "    protected Variable<Vector> Mixe;\n",
    "\n",
    "    public virtual void CreationModeleBayesien()\n",
    "    {\n",
    "        Range indiceComposants = new Range(NombreComposantes);\n",
    "        MoteurInference = new InferenceEngine(new VariationalMessagePassing());\n",
    "        MoteurInference.Compiler.CompilerChoice = CompilerChoice.Roslyn;\n",
    "        MoyennesAPriori = Variable.Array<Gaussian>(indiceComposants);\n",
    "        BruitsAPriori = Variable.Array<Gamma>(indiceComposants);\n",
    "        Moyennes = Variable.Array<double>(indiceComposants);\n",
    "        Bruits = Variable.Array<double>(indiceComposants);\n",
    "        using (Variable.ForEach(indiceComposants))\n",
    "        {\n",
    "            Moyennes[indiceComposants] = Variable<double>.Random(MoyennesAPriori[indiceComposants]);\n",
    "            Bruits[indiceComposants] = Variable<double>.Random(BruitsAPriori[indiceComposants]);\n",
    "        }\n",
    "        MixeAPriori = Variable.New<Dirichlet>();\n",
    "        Mixe = Variable<Vector>.Random(MixeAPriori);\n",
    "        Mixe.SetValueRange(indiceComposants);\n",
    "    }\n",
    "\n",
    "    public virtual void DefinirDistributions(DonneesCyclisteMixte distribsApriori)\n",
    "    {\n",
    "        MoyennesAPriori.ObservedValue = distribsApriori.DistribMoyenne;\n",
    "        BruitsAPriori.ObservedValue = distribsApriori.DistribBruitTraffic;\n",
    "        MixeAPriori.ObservedValue = distribsApriori.DistribMixe;\n",
    "    }\n",
    "\n",
    "    \n",
    "}"
   ]
  },
  {
   "cell_type": "markdown",
   "metadata": {},
   "source": [
    "#### Classe d'entraînement pour le modèle mixte"
   ]
  },
  {
   "cell_type": "code",
   "execution_count": 19,
   "metadata": {
    "dotnet_interactive": {
     "language": "csharp"
    },
    "polyglot_notebook": {
     "kernelName": "csharp"
    }
   },
   "outputs": [],
   "source": [
    "public class EntrainementCyclisteMixte : CyclisteBaseMixte\n",
    "{\n",
    "    protected Variable<int> NombreDeTrajets;\n",
    "    protected VariableArray<double> TempsDeTrajet;\n",
    "    protected VariableArray<int> ComposantesTrajets;\n",
    "\n",
    "    public override void CreationModeleBayesien()\n",
    "    {\n",
    "        base.CreationModeleBayesien();\n",
    "        NombreDeTrajets = Variable.New<int>();\n",
    "        Range indiceTrajet = new Range(NombreDeTrajets);\n",
    "        TempsDeTrajet = Variable.Array<double>(indiceTrajet);\n",
    "        ComposantesTrajets = Variable.Array<int>(indiceTrajet);\n",
    "        using (Variable.ForEach(indiceTrajet))\n",
    "        {\n",
    "            ComposantesTrajets[indiceTrajet] = Variable.Discrete(Mixe);\n",
    "            using (Variable.Switch(ComposantesTrajets[indiceTrajet]))\n",
    "            {\n",
    "                TempsDeTrajet[indiceTrajet].SetTo(Variable.GaussianFromMeanAndPrecision(Moyennes[ComposantesTrajets[indiceTrajet]], Bruits[ComposantesTrajets[indiceTrajet]]));\n",
    "            }\n",
    "        }\n",
    "    }\n",
    "\n",
    "    public DonneesCyclisteMixte CalculePosterieurs(double[] donneesObservees)\n",
    "    {\n",
    "        DonneesCyclisteMixte posterieurs;\n",
    "        NombreDeTrajets.ObservedValue = donneesObservees.Length;\n",
    "        TempsDeTrajet.ObservedValue = donneesObservees;\n",
    "        posterieurs.DistribMoyenne = MoteurInference.Infer<Gaussian[]>(Moyennes);\n",
    "        posterieurs.DistribBruitTraffic = MoteurInference.Infer<Gamma[]>(Bruits);\n",
    "        posterieurs.DistribMixe = MoteurInference.Infer<Dirichlet>(Mixe);\n",
    "        return posterieurs;\n",
    "    }\n",
    "}"
   ]
  },
  {
   "cell_type": "markdown",
   "metadata": {},
   "source": [
    "#### Classe de prédiction pour le modèle mixte"
   ]
  },
  {
   "cell_type": "code",
   "execution_count": 20,
   "metadata": {
    "dotnet_interactive": {
     "language": "csharp"
    },
    "polyglot_notebook": {
     "kernelName": "csharp"
    }
   },
   "outputs": [],
   "source": [
    "public class PredictionCyclisteMixte : CyclisteBaseMixte\n",
    "{\n",
    "    private Gaussian demainDistrib;\n",
    "    public Variable<double> demainTemps;\n",
    "\n",
    "    public override void CreationModeleBayesien()\n",
    "    {\n",
    "        base.CreationModeleBayesien();\n",
    "        Variable<int> indiceComposant = Variable.Discrete(Mixe);\n",
    "        demainTemps = Variable.New<double>();\n",
    "        using (Variable.Switch(indiceComposant))\n",
    "        {\n",
    "            demainTemps.SetTo(Variable.GaussianFromMeanAndPrecision(Moyennes[indiceComposant], Bruits[indiceComposant]));\n",
    "        }\n",
    "    }\n",
    "\n",
    "    public Gaussian EstimerTempsDemain()\n",
    "    {\n",
    "        demainDistrib = MoteurInference.Infer<Gaussian>(demainTemps);\n",
    "        return demainDistrib;\n",
    "    }\n",
    "}"
   ]
  },
  {
   "cell_type": "markdown",
   "metadata": {},
   "source": [
    "### Utilisation du modèle mixte\n",
    "\n",
    "#### Entraînement\n"
   ]
  },
  {
   "cell_type": "code",
   "execution_count": 21,
   "metadata": {
    "dotnet_interactive": {
     "language": "csharp"
    },
    "polyglot_notebook": {
     "kernelName": "csharp"
    }
   },
   "outputs": [],
   "source": [
    "double[] donneesTrajets = new[] { 13, 17, 20, 25, 16, 11, 16, 25, 12.5, 30 };\n",
    "DonneesCyclisteMixte mesDistribsAPriori = new DonneesCyclisteMixte\n",
    "{\n",
    "    DistribMoyenne = new Gaussian[]\n",
    "    {\n",
    "        new Gaussian(15, 100), // Ordinaire\n",
    "        new Gaussian(30, 100) // Extraordinaire\n",
    "    },\n",
    "    DistribBruitTraffic = new Gamma[]\n",
    "    {\n",
    "        new Gamma(2, 0.5), // O\n",
    "        new Gamma(2, 0.5) // E\n",
    "    },\n",
    "    DistribMixe = new Dirichlet(1, 1)\n",
    "};\n",
    "EntrainementCyclisteMixte monEntrainement = new EntrainementCyclisteMixte();\n",
    "monEntrainement.CreationModeleBayesien();\n",
    "monEntrainement.DefinirDistributions(mesDistribsAPriori);\n",
    "DonneesCyclisteMixte posterieur = monEntrainement.CalculePosterieurs(donneesTrajets);\n",
    "Console.WriteLine($\"moyenne postérieure 1: {posterieur.DistribMoyenne[0]}\");\n",
    "Console.WriteLine($\"bruit postérieur 1: {posterieur.DistribBruitTraffic[0]}\");\n",
    "Console.WriteLine($\"moyenne postérieure 2: {posterieur.DistribMoyenne[1]}\");\n",
    "Console.WriteLine($\"bruit postérieur 2: {posterieur.DistribBruitTraffic[1]}\");\n",
    "Console.WriteLine($\"Coefficients du mélange: {posterieur.DistribMixe}\");"
   ]
  },
  {
   "cell_type": "markdown",
   "metadata": {},
   "source": [
    "#### Prédiction"
   ]
  },
  {
   "cell_type": "code",
   "execution_count": 22,
   "metadata": {
    "dotnet_interactive": {
     "language": "csharp"
    },
    "polyglot_notebook": {
     "kernelName": "csharp"
    }
   },
   "outputs": [],
   "source": [
    "// 2 - Prédiction\n",
    "PredictionCyclisteMixte maPrediction = new PredictionCyclisteMixte();\n",
    "maPrediction.CreationModeleBayesien();\n",
    "maPrediction.DefinirDistributions(posterieur);\n",
    "Gaussian distribDemain = maPrediction.EstimerTempsDemain();\n",
    "Console.WriteLine($\"Prédiction demain: {distribDemain}\");\n",
    "Console.WriteLine($\"Ecart type: {Math.Sqrt(distribDemain.GetVariance())}\");"
   ]
  },
  {
   "cell_type": "markdown",
   "metadata": {},
   "source": [
    "### Résultats\n",
    "\n",
    "Les résultats montrent que le modèle prédit une durée de trajet moyen plus élevée et un écart type plus important en tenant compte des événements extraordinaires, ce qui rend le modèle plus réaliste et adapté aux variations réelles des trajets."
   ]
  },
  {
   "cell_type": "markdown",
   "metadata": {},
   "source": [
    "### Comparaison de Modèles\n",
    "\n",
    "Nous disposons maintenant de deux modèles pour représenter le temps de trajet des cyclistes : l'un basé sur une seule gaussienne et l'autre sur un mélange de deux gaussiennes. Pourquoi ne pas envisager un modèle basé sur un mélange de trois gaussiennes, ou vingt ou trente gaussiennes ? Ou bien est-ce qu'une seule gaussienne suffit ? Comment choisir le meilleur modèle ?\n",
    "\n",
    "En général, un modèle complexe avec plus de paramètres ajustables représente un ensemble de données particulier plus précisément qu'un modèle plus simple avec moins de paramètres. La question plus intéressante est de savoir si le modèle plus complexe offre une meilleure représentation qu'un modèle plus simple. Les modèles trop adaptés à un ensemble de données particulier ne seront pas utiles en pratique car ils ne s'ajusteront pas nécessairement bien aux nouvelles données.\n",
    "\n",
    "Par exemple, lorsque vous ajustez un polynôme à un ensemble de points de données, vous pouvez toujours obtenir un ajustement exact en ajoutant suffisamment d'éléments au polynôme. Cependant, un modèle qui correspond exactement à chaque point de données fluctue généralement de manière erratique entre les points et ne correspondra donc pas bien aux nouvelles données. Ce phénomène est connu sous le nom de surapprentissage (overfitting).\n",
    "\n",
    "La meilleure approche consiste à trouver un modèle qui ajuste raisonnablement bien les données sans être trop complexe. Comparer visuellement les modèles avec les données est subjectif et peu pratique pour des scénarios plus complexes. Ce qu'il vous faut est un critère objectif, comme le rasoir d'Occam, qui évalue quantitativement la qualité du modèle et détermine le compromis optimal entre précision et complexité. En inférence bayésienne, il existe un mécanisme robuste pour évaluer la qualité du modèle appelé preuve du modèle (evidence).\n",
    "\n",
    "### Calculer la preuve du modèle avec Infer.NET\n",
    "\n",
    "Avec Infer.NET, la preuve est représentée par une variable aléatoire booléenne. La procédure de base est illustrée dans l'exemple suivant."
   ]
  },
  {
   "cell_type": "code",
   "execution_count": 84,
   "metadata": {
    "dotnet_interactive": {
     "language": "csharp"
    },
    "polyglot_notebook": {
     "kernelName": "csharp"
    }
   },
   "outputs": [],
   "source": [
    "Variable<bool> Evidence = Variable.Bernoulli(0.5);\n",
    "using (Variable.If(Evidence))\n",
    "{\n",
    "    // Implémenter le modèle d'entraînement à évaluer\n",
    "}\n",
    "// Observer les données d'entraînement\n",
    "// Interroger le moteur d'inférence pour les postérieurs du modèle\n",
    "// Interroger le moteur d'inférence pour la distribution de la preuve"
   ]
  },
  {
   "cell_type": "markdown",
   "metadata": {},
   "source": [
    "Infer.NET définit des modèles à deux branches en utilisant `Variable.If` et `Variable.IfNot`, qui sont l'équivalent de `if-else` en C#. La condition est une variable aléatoire booléenne. La probabilité que la condition soit vraie détermine la proportion de la branche `If` dans le mélange, et le reste du mélange est la branche `IfNot`.\n",
    "\n",
    "Pour évaluer la preuve d'un modèle, utilisez `If/IfNot` comme illustré dans l'exemple, ce qui crée un mélange de deux modèles :\n",
    "\n",
    "- Le modèle que vous souhaitez évaluer, représenté par la branche `If`.\n",
    "- Un modèle \"vide\", représenté par la branche `IfNot` manquante.\n",
    "\n",
    "La variable `Preuve` est la condition qui contrôle les proportions dans le mélange. Son a priori initial est généralement défini sur `Bernoulli(0.5)`. Pour déterminer la distribution réelle de la preuve, observez les données et calculez le postérieur de la variable `Preuve`.\n",
    "\n",
    "### Implémentation de \n",
    "\n",
    "La nouvelle application utilise la preuve pour évaluer si le modèle `EntrainementCycliste` ou `EntrainementCyclisteMixte` représente le mieux les données d'entraînement de `EntrainementCyclisteMixte`.\n",
    "\n",
    "#### Classe CyclisteAvecPreuve\n",
    "\n",
    "La classe `CyclisteAvecPreuve` évalue la preuve pour le modèle `EntrainementCycliste`."
   ]
  },
  {
   "cell_type": "code",
   "execution_count": 24,
   "metadata": {
    "dotnet_interactive": {
     "language": "csharp"
    },
    "polyglot_notebook": {
     "kernelName": "csharp"
    }
   },
   "outputs": [],
   "source": [
    "public class CyclisteAvecPreuve : EntrainementCycliste\n",
    "{\n",
    "    protected Variable<bool> Preuve;\n",
    "\n",
    "    public override void CreationModeleBayesien()\n",
    "    {\n",
    "        Preuve = Variable.Bernoulli(0.5);\n",
    "        using (Variable.If(Preuve))\n",
    "        {\n",
    "            base.CreationModeleBayesien();\n",
    "        }\n",
    "    }\n",
    "\n",
    "    public double CalculPreuve(double[] trainingData)\n",
    "    {\n",
    "        double logEvidence;\n",
    "        DonneesCycliste posteriors = base.CalculePosterieurs(trainingData);\n",
    "        logEvidence = MoteurInference.Infer<Bernoulli>(Preuve).LogOdds;\n",
    "        return logEvidence;\n",
    "    }\n",
    "}"
   ]
  },
  {
   "cell_type": "markdown",
   "metadata": {},
   "source": [
    "#### Classe CyclisteMixedAvecPreuve\n",
    "\n",
    "La classe `CyclisteMixedAvecPreuve` évalue la preuve pour le modèle `EntrainementCyclisteMixte`."
   ]
  },
  {
   "cell_type": "code",
   "execution_count": 25,
   "metadata": {
    "dotnet_interactive": {
     "language": "csharp"
    },
    "polyglot_notebook": {
     "kernelName": "csharp"
    }
   },
   "outputs": [],
   "source": [
    "public class CyclisteMixedAvecPreuve : EntrainementCyclisteMixte\n",
    "{\n",
    "    protected Variable<bool> Preuve;\n",
    "\n",
    "    public override void CreationModeleBayesien()\n",
    "    {\n",
    "        Preuve = Variable.Bernoulli(0.5);\n",
    "        using (Variable.If(Preuve))\n",
    "        {\n",
    "            base.CreationModeleBayesien();\n",
    "        }\n",
    "    }\n",
    "\n",
    "    public double CalculPreuve(double[] trainingData)\n",
    "    {\n",
    "        double logEvidence;\n",
    "        DonneesCyclisteMixte posteriors = base.CalculePosterieurs(trainingData);\n",
    "        logEvidence = MoteurInference.Infer<Bernoulli>(Preuve).LogOdds;\n",
    "        return logEvidence;\n",
    "    }\n",
    "}"
   ]
  },
  {
   "cell_type": "markdown",
   "metadata": {},
   "source": [
    "#### Calcul de la preuve\n",
    "\n",
    "On calcule la preuve pour les deux modèles et on affiche les résultats."
   ]
  },
  {
   "cell_type": "code",
   "execution_count": 26,
   "metadata": {
    "dotnet_interactive": {
     "language": "csharp"
    },
    "polyglot_notebook": {
     "kernelName": "csharp"
    }
   },
   "outputs": [],
   "source": [
    "double[] trainingData = new double[] { 13, 17, 16, 12, 13, 12, 14, 18, 16, 16, 27, 32 };\n",
    "\n",
    "DonneesCycliste initPriors = new DonneesCycliste(\n",
    "    Gaussian.FromMeanAndPrecision(15.0, 0.01),\n",
    "    Gamma.FromShapeAndScale(2.0, 0.5));\n",
    "\n",
    "CyclisteAvecPreuve cyclistWithEvidence = new CyclisteAvecPreuve();\n",
    "cyclistWithEvidence.CreationModeleBayesien();\n",
    "cyclistWithEvidence.DefinirDistributions(initPriors);\n",
    "double logEvidence = cyclistWithEvidence.CalculPreuve(trainingData);\n",
    "// Preuves pour le modèle CyclistMixedWithEvidence (CyclingTime3)\n",
    "DonneesCyclisteMixte initPriorsMixed = new DonneesCyclisteMixte\n",
    "{\n",
    "    DistribMoyenne = new Gaussian[] { new Gaussian(15.0, 100), new Gaussian(30.0, 100) },\n",
    "    DistribBruitTraffic = new Gamma[] { new Gamma(2.0, 0.5), new Gamma(2.0, 0.5) },\n",
    "    DistribMixe = new Dirichlet(1, 1)\n",
    "};\n",
    "CyclisteMixedAvecPreuve cyclistMixedWithEvidence = new CyclisteMixedAvecPreuve();\n",
    "cyclistMixedWithEvidence.CreationModeleBayesien();\n",
    "cyclistMixedWithEvidence.DefinirDistributions(initPriorsMixed);\n",
    "double logEvidenceMixed = cyclistMixedWithEvidence.CalculPreuve(trainingData);\n",
    "// Affichage des résultats\n",
    "Console.WriteLine($\"Preuve logarithmique pour une gaussienne simple : {logEvidence}\");\n",
    "Console.WriteLine($\"Preuve logarithmique pour un mélange de deux gaussiennes : {logEvidenceMixed}\");"
   ]
  },
  {
   "cell_type": "markdown",
   "metadata": {},
   "source": [
    "Ces valeurs de preuve montrent que le modèle de mélange de deux gaussiennes est supérieur au modèle basé sur une seule gaussienne pour les données d'entraînement fournies."
   ]
  }
 ],
 "metadata": {
  "kernelspec": {
   "display_name": ".NET (C#)",
   "language": "C#",
   "name": ".net-csharp"
  },
  "polyglot_notebook": {
   "kernelInfo": {
    "defaultKernelName": "csharp",
    "items": [
     {
      "aliases": [],
      "languageName": "csharp",
      "name": "csharp"
     }
    ]
   }
  }
 },
 "nbformat": 4,
 "nbformat_minor": 2
}
