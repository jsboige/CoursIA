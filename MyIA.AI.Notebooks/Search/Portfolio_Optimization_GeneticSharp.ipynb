{
 "cells": [
  {
   "cell_type": "markdown",
   "metadata": {},
   "source": [
    "## Installation de GeneticSharp\n"
   ]
  },
  {
   "cell_type": "code",
   "execution_count": 2,
   "metadata": {
    "dotnet_interactive": {
     "language": "csharp"
    },
    "polyglot_notebook": {
     "kernelName": "csharp"
    }
   },
   "outputs": [
    {
     "data": {
      "text/html": [
       "<div><div></div><div></div><div><strong>Installed Packages</strong><ul><li><span>GeneticSharp, 3.1.4</span></li></ul></div></div>"
      ]
     },
     "metadata": {},
     "output_type": "display_data"
    }
   ],
   "source": [
    "#r \"nuget: GeneticSharp\""
   ]
  },
  {
   "cell_type": "markdown",
   "metadata": {},
   "source": [
    "## Définition et création du modèle de portefeuille\n",
    "\n",
    "Nous modélisons ici un portefeuille d'actifs. Chaque actif est muni d'un prix, d'un rendement attendu, et participe à une matrice de covariance globale prise en compte dans la fonction de risque.  "
   ]
  },
  {
   "cell_type": "code",
   "execution_count": 3,
   "metadata": {
    "dotnet_interactive": {
     "language": "csharp"
    },
    "polyglot_notebook": {
     "kernelName": "csharp"
    }
   },
   "outputs": [],
   "source": [
    "using System;\n",
    "using System.Collections.Generic;\n",
    "using System.Linq;\n",
    "\n",
    "// Classe Portfolio pour représenter un portefeuille d'actifs financiers\n",
    "public class Portfolio\n",
    "{\n",
    "    // Liste des noms d'actifs\n",
    "    public List<string> Assets { get; set; }\n",
    "\n",
    "    // Dictionnaire avec les prix des actifs\n",
    "    public Dictionary<string, double> Prices { get; set; }\n",
    "\n",
    "    // Dictionnaire contenant les rendements attendus des actifs\n",
    "    public Dictionary<string, double> ExpectedReturns { get; set; }\n",
    "\n",
    "    // Matrice de covariance (taille NxN pour N actifs). \n",
    "    // CovarianceMatrix[i,j] représente la covariance entre l'actif i et j.\n",
    "    public double[,] CovarianceMatrix { get; set; }\n",
    "\n",
    "    // Constructeur pour initialiser le portefeuille\n",
    "    public Portfolio(List<string> assets,\n",
    "                     Dictionary<string, double> prices,\n",
    "                     Dictionary<string, double> expectedReturns,\n",
    "                     double[,] covarianceMatrix)\n",
    "    {\n",
    "        Assets = assets;\n",
    "        Prices = prices;\n",
    "        ExpectedReturns = expectedReturns;\n",
    "        CovarianceMatrix = covarianceMatrix;\n",
    "    }\n",
    "\n",
    "    // Calcul du retour total du portefeuille\n",
    "    public double CalculateReturn(Dictionary<string, double> weights)\n",
    "    {\n",
    "        double portfolioReturn = 0;\n",
    "        foreach (var asset in Assets)\n",
    "        {\n",
    "            portfolioReturn += weights[asset] * ExpectedReturns[asset];\n",
    "        }\n",
    "        return portfolioReturn;\n",
    "    }\n",
    "\n",
    "    // Calcul du risque (écart-type) du portefeuille en utilisant la matrice de covariance\n",
    "    public double CalculateRisk(Dictionary<string, double> weights)\n",
    "    {\n",
    "        // On convertit le dictionnaire de poids en un vecteur aligné sur l'ordre de la liste Assets\n",
    "        var weightVector = new double[Assets.Count];\n",
    "        for(int i = 0; i < Assets.Count; i++)\n",
    "        {\n",
    "            weightVector[i] = weights[Assets[i]];\n",
    "        }\n",
    "\n",
    "        // Calcul de la variance via wᵀΣw\n",
    "        double variance = 0.0;\n",
    "        int n = Assets.Count;\n",
    "        for(int i = 0; i < n; i++)\n",
    "        {\n",
    "            for(int j = 0; j < n; j++)\n",
    "            {\n",
    "                variance += weightVector[i] * weightVector[j] * CovarianceMatrix[i, j];\n",
    "            }\n",
    "        }\n",
    "\n",
    "        // Le risque est la racine carrée de la variance\n",
    "        return Math.Sqrt(variance);\n",
    "    }\n",
    "}"
   ]
  },
  {
   "cell_type": "markdown",
   "metadata": {},
   "source": [
    "## Définition du chromosome pour l'algorithme génétique\n",
    "\n",
    "Chaque chromosome représente une allocation de portefeuille. Chaque gène correspond au poids d'un actif, et la somme des poids est toujours normalisée à 1."
   ]
  },
  {
   "cell_type": "code",
   "execution_count": 4,
   "metadata": {
    "dotnet_interactive": {
     "language": "csharp"
    },
    "polyglot_notebook": {
     "kernelName": "csharp"
    }
   },
   "outputs": [],
   "source": [
    "using GeneticSharp;\n",
    "using System.Linq;\n",
    "\n",
    "// Classe pour représenter un chromosome de portefeuille\n",
    "public class PortfolioChromosome : ChromosomeBase\n",
    "{\n",
    "    private List<string> _assets;\n",
    "\n",
    "    // Constructeur : on crée un chromosome avec un gène par actif\n",
    "    public PortfolioChromosome(List<string> assets) : base(assets.Count)\n",
    "    {\n",
    "        _assets = assets;\n",
    "        for (int i = 0; i < assets.Count; i++)\n",
    "        {\n",
    "            ReplaceGene(i, new Gene(RandomizationProvider.Current.GetDouble(0, 1)));\n",
    "        }\n",
    "    }\n",
    "\n",
    "    // Génère un gène avec une valeur aléatoire entre 0 et 1\n",
    "    public override Gene GenerateGene(int geneIndex)\n",
    "    {\n",
    "        return new Gene(RandomizationProvider.Current.GetDouble(0, 1));\n",
    "    }\n",
    "\n",
    "    // Crée un nouveau chromosome\n",
    "    public override IChromosome CreateNew()\n",
    "    {\n",
    "        return new PortfolioChromosome(_assets);\n",
    "    }\n",
    "\n",
    "    // Récupère la distribution des poids, normalisés pour que la somme = 1\n",
    "    public Dictionary<string, double> GetWeights()\n",
    "    {\n",
    "        var weights = new Dictionary<string, double>();\n",
    "        for (int i = 0; i < Length; i++)\n",
    "        {\n",
    "            weights.Add(_assets[i], (double)GetGene(i).Value);\n",
    "        }\n",
    "        NormalizeWeights(weights);\n",
    "        return weights;\n",
    "    }\n",
    "\n",
    "    // Normalise les poids pour que leur somme soit égale à 1\n",
    "    private void NormalizeWeights(Dictionary<string, double> weights)\n",
    "    {\n",
    "        double sum = weights.Values.Sum();\n",
    "        var keys = weights.Keys.ToList();\n",
    "        foreach (var key in keys)\n",
    "        {\n",
    "            weights[key] /= sum;\n",
    "        }\n",
    "    }\n",
    "}"
   ]
  },
  {
   "cell_type": "markdown",
   "metadata": {},
   "source": [
    "## Implémentation du Solveur par Algorithme Génétique\n",
    "\n",
    "L'implémentation du solveur par algorithme génétique se fait en plusieurs étapes, incluant la définition des classes nécessaires, la configuration de l'algorithme génétique et l'exécution de l'algorithme pour trouver la meilleure solution possible."
   ]
  },
  {
   "cell_type": "code",
   "execution_count": 5,
   "metadata": {
    "dotnet_interactive": {
     "language": "csharp"
    },
    "polyglot_notebook": {
     "kernelName": "csharp"
    }
   },
   "outputs": [],
   "source": [
    "// Classe pour évaluer la fitness d'un portefeuille\n",
    "public class PortfolioFitness : IFitness\n",
    "{\n",
    "    private readonly Portfolio _portfolio;\n",
    "    private readonly double _alpha;\n",
    "\n",
    "    // Constructeur: le paramètre alpha permet de moduler l'aversion au risque\n",
    "    public PortfolioFitness(Portfolio portfolio, double alpha = 1.0)\n",
    "    {\n",
    "        _portfolio = portfolio;\n",
    "        _alpha = alpha;\n",
    "    }\n",
    "\n",
    "    // Fonction d'évaluation de la fitness\n",
    "    public double Evaluate(IChromosome chromosome)\n",
    "    {\n",
    "        var portfolioChromosome = chromosome as PortfolioChromosome;\n",
    "        var weights = portfolioChromosome.GetWeights();\n",
    "\n",
    "        double portfolioReturn = _portfolio.CalculateReturn(weights);\n",
    "        double risk = _portfolio.CalculateRisk(weights);\n",
    "\n",
    "        // Objectif : maximiser le retour, minimiser le risque.\n",
    "        // Fitness = retour - alpha*risk\n",
    "        double fitness = portfolioReturn - _alpha * risk;\n",
    "        return fitness;\n",
    "    }\n",
    "}"
   ]
  },
  {
   "cell_type": "markdown",
   "metadata": {},
   "source": [
    "## Exemple d'utilisation et exécution de l'algorithme génétique\n",
    "\n",
    "Dans cet exemple, nous générons cinq actifs différents avec des rendements attendus croissants.  \n",
    "Une matrice de covariance simple leur est associée.  \n",
    "Nous configurerons ensuite l'algorithme génétique avec une sélection par roulette, un crossover uniforme et une légère mutation.  \n",
    "On ajoutera également un peu d'élitisme et un nombre de générations supérieur afin de réellement progresser dans la recherche d'une solution optimale.  "
   ]
  },
  {
   "cell_type": "code",
   "execution_count": 8,
   "metadata": {
    "dotnet_interactive": {
     "language": "csharp"
    },
    "polyglot_notebook": {
     "kernelName": "csharp"
    }
   },
   "outputs": [
    {
     "name": "stdout",
     "output_type": "stream",
     "text": [
      "=== Meilleure allocation d'actifs trouvée ===\n",
      "Asset0    : 0,17 %\n",
      "Asset1    : 2,68 %\n",
      "Asset2    : 28,39 %\n",
      "Asset3    : 32,41 %\n",
      "Asset4    : 36,36 %\n",
      "\n",
      "Rendement attendu : 20,11 %\n",
      "Risque (écart-type): 12,51 %\n",
      "Fitness (return - alpha*risk): 0,0760\n"
     ]
    }
   ],
   "source": [
    "using GeneticSharp;\n",
    "\n",
    "// Liste d'actifs\n",
    "var assets = new List<string> { \"Asset0\", \"Asset1\", \"Asset2\", \"Asset3\", \"Asset4\" };\n",
    "\n",
    "// Prix (exemple de dummy data)\n",
    "var prices = new Dictionary<string, double>\n",
    "{\n",
    "    { \"Asset0\", 100 },\n",
    "    { \"Asset1\", 200 },\n",
    "    { \"Asset2\", 300 },\n",
    "    { \"Asset3\", 400 },\n",
    "    { \"Asset4\", 500 }\n",
    "};\n",
    "\n",
    "// Rendements attendus\n",
    "var expectedReturns = new Dictionary<string, double>\n",
    "{\n",
    "    { \"Asset0\", 0.05 },\n",
    "    { \"Asset1\", 0.10 },\n",
    "    { \"Asset2\", 0.15 },\n",
    "    { \"Asset3\", 0.20 },\n",
    "    { \"Asset4\", 0.25 }\n",
    "};\n",
    "\n",
    "// Matrice de covariance (5x5) hypothétique\n",
    "double[,] covarianceMatrix = new double[,]\n",
    "{\n",
    "    { 0.0100, 0.0012, 0.0018, 0.0021, 0.0025 },\n",
    "    { 0.0012, 0.0200, 0.0022, 0.0026, 0.0028 },\n",
    "    { 0.0018, 0.0022, 0.0300, 0.0031, 0.0033 },\n",
    "    { 0.0021, 0.0026, 0.0031, 0.0400, 0.0043 },\n",
    "    { 0.0025, 0.0028, 0.0033, 0.0043, 0.0500 }\n",
    "};\n",
    "\n",
    "// Instanciation du portefeuille\n",
    "var portfolio = new Portfolio(assets, prices, expectedReturns, covarianceMatrix);\n",
    "\n",
    "// Paramètre alpha = 1.0 (vous pouvez l'ajuster selon votre tolérance au risque)\n",
    "var fitness = new PortfolioFitness(portfolio, alpha: 1.0);\n",
    "\n",
    "// On crée un chromosome représentatif\n",
    "var chromosome = new PortfolioChromosome(assets);\n",
    "\n",
    "// Population initiale de 50 solutions, jusqu'à 100 solutions, sur la base du chromosome ci-dessus\n",
    "var population = new Population(50, 100, chromosome);\n",
    "\n",
    "// Configuration de l'algorithme génétique\n",
    "var ga = new GeneticAlgorithm(\n",
    "    population,\n",
    "    fitness,\n",
    "    new RouletteWheelSelection(),\n",
    "    new UniformCrossover(),\n",
    "    new UniformMutation()\n",
    ");\n",
    "\n",
    "// Nombre maximum de générations\n",
    "ga.Termination = new GenerationNumberTermination(150);\n",
    "\n",
    "// On peut configurer un peu d'élitisme et ajuster les probabilités\n",
    "ga.Selection = new EliteSelection();\n",
    "ga.MutationProbability = 0.05f;\n",
    "ga.CrossoverProbability = 0.8f;\n",
    "\n",
    "// Démarrage de l'algorithme\n",
    "ga.Start();\n",
    "\n",
    "// Récupération du meilleur chromosome\n",
    "var bestChromosome = ga.BestChromosome as PortfolioChromosome;\n",
    "var bestWeights = bestChromosome.GetWeights();\n",
    "\n",
    "// Affichage des allocations\n",
    "Console.WriteLine(\"=== Meilleure allocation d'actifs trouvée ===\");\n",
    "foreach (var asset in bestWeights.Keys)\n",
    "{\n",
    "    Console.WriteLine($\"{asset,-10}: {bestWeights[asset]:P2}\");\n",
    "}\n",
    "\n",
    "// Affichage du rendement et du risque\n",
    "double bestReturn = portfolio.CalculateReturn(bestWeights);\n",
    "double bestRisk = portfolio.CalculateRisk(bestWeights);\n",
    "Console.WriteLine($\"\\nRendement attendu : {bestReturn:P2}\");\n",
    "Console.WriteLine($\"Risque (écart-type): {bestRisk:P2}\");\n",
    "Console.WriteLine($\"Fitness (return - alpha*risk): {bestReturn - bestRisk:0.0000}\");"
   ]
  },
  {
   "cell_type": "markdown",
   "metadata": {},
   "source": [
    "## Conclusion\n",
    "\n",
    "Avec cet exemple plus élaboré, nous prenons mieux en compte la structure de corrélation/risque entre actifs grâce à la matrice de covariance, tout en modulant l’aversion au risque avec un paramètre alpha.  \n",
    "L’algorithme génétique est configuré pour un plus grand nombre de générations, de l’élitisme, et des probabilités de croisement et de mutation afin d’accroître ses chances de trouver une allocation de portefeuille optimale.  \n",
    "\n",
    "Pour aller encore plus loin, vous pourriez :  \n",
    "• Expérimenter avec différentes méthodes de sélection (RouletteWheel, Tournament, Elite, etc.).  \n",
    "• Ajuster la valeur de alpha pour augmenter ou diminuer la pénalisation du risque.  \n",
    "• Introduire des contraintes supplémentaires (ex. poids minimum/maximum par actif).  \n",
    "• Logger l’évolution de la fitness dans le temps pour observer la convergence de l’algorithme.  "
   ]
  }
 ],
 "metadata": {
  "kernelspec": {
   "display_name": ".NET (C#)",
   "language": "C#",
   "name": ".net-csharp"
  },
  "polyglot_notebook": {
   "kernelInfo": {
    "defaultKernelName": "csharp",
    "items": [
     {
      "aliases": [],
      "languageName": "csharp",
      "name": "csharp"
     }
    ]
   }
  }
 },
 "nbformat": 4,
 "nbformat_minor": 2
}
