{
 "cells": [
  {
   "cell_type": "markdown",
   "metadata": {},
   "source": [
    "# Évaluation du modèle\n",
    "\n",
    "Dans ce notebook, vous apprendrez :\n",
    "\n",
    "- Qu'est-ce que l'évaluation d'un modèle ?\n",
    "- Comment évaluer un modèle dans ML.NET\n",
    "- Entraîner et évaluer des modèles avec la validation croisée\n",
    "- Explicabilité du modèle\n",
    "- Comment améliorer votre modèle\n",
    "\n",
    "## Qu'est-ce que l'évaluation d'un modèle ?\n",
    "\n",
    "L'entraînement est le processus d'application d'algorithmes à des données historiques afin de créer un modèle qui représente fidèlement ces données. Ce modèle est ensuite utilisé sur de nouvelles données pour faire des prédictions.\n",
    "\n",
    "L'évaluation du modèle est le processus d'utilisation de métriques pour quantifier l'efficacité avec laquelle votre modèle a appris les motifs dans vos données et applique ces apprentissages à des données nouvelles et inconnues.\n",
    "\n",
    "## Comment évaluer un modèle dans ML.NET\n",
    "\n",
    "### Importation du package Nuget ML.NET\n",
    "\n"
   ]
  },
  {
   "cell_type": "code",
   "execution_count": 1,
   "metadata": {
    "dotnet_interactive": {
     "language": "csharp"
    },
    "polyglot_notebook": {
     "kernelName": "csharp"
    }
   },
   "outputs": [],
   "source": [
    "#i \"nuget:https://pkgs.dev.azure.com/dnceng/public/_packaging/MachineLearning/nuget/v3/index.json\"\n",
    "\n",
    "#r \"nuget: Microsoft.ML.AutoML\"\n",
    "#r \"nuget: Microsoft.Data.Analysis\"\n",
    "\n"
   ]
  },
  {
   "cell_type": "markdown",
   "metadata": {},
   "source": [
    "### Référencer les packages avec des instructions `using`\n"
   ]
  },
  {
   "cell_type": "code",
   "execution_count": 2,
   "metadata": {
    "dotnet_interactive": {
     "language": "csharp"
    },
    "polyglot_notebook": {
     "kernelName": "csharp"
    }
   },
   "outputs": [],
   "source": [
    "using System.Text.Json;\n",
    "using Microsoft.Data.Analysis;\n",
    "using Microsoft.ML;\n",
    "using Microsoft.ML.AutoML;\n",
    "using Microsoft.ML.Data;\n",
    "using Microsoft.ML.Trainers.FastTree;\n",
    "using static Microsoft.ML.Transforms.OneHotEncodingEstimator;\n"
   ]
  },
  {
   "cell_type": "markdown",
   "metadata": {},
   "source": [
    "### Télécharger ou localiser les données\n",
    "\n",
    "Le code suivant essaie de localiser le fichier de données à quelques emplacements connus ou le télécharge à partir de l'emplacement GitHub connu.\n"
   ]
  },
  {
   "cell_type": "code",
   "execution_count": 3,
   "metadata": {
    "dotnet_interactive": {
     "language": "csharp"
    },
    "polyglot_notebook": {
     "kernelName": "csharp"
    }
   },
   "outputs": [],
   "source": [
    "using System;\n",
    "using System.IO;\n",
    "using System.Net;\n",
    "\n",
    "// Passage en culture anglaise pour les nombres à virgule\n",
    "System.Threading.Thread.CurrentThread.CurrentCulture = new System.Globalization.CultureInfo(\"en-US\");\n",
    "\n",
    "string EnsureDataSetDownloaded(string fileName)\n",
    "{\n",
    "    var filePath = Path.Combine(Directory.GetCurrentDirectory(), \"data\", fileName);\n",
    "\n",
    "    if (!File.Exists(filePath))\n",
    "    {\n",
    "        filePath = Path.Combine(Directory.GetCurrentDirectory(), fileName);\n",
    "    }\n",
    "\n",
    "    if (!File.Exists(filePath))\n",
    "    {\n",
    "        using (var client = new WebClient())\n",
    "        {\n",
    "            client.DownloadFile($\"https://raw.githubusercontent.com/dotnet/csharp-notebooks/main/machine-learning/data/{fileName}\", filePath);\n",
    "        }\n",
    "        Console.WriteLine($\"Downloaded {fileName} to : {filePath}\");\n",
    "    }\n",
    "    else\n",
    "    {\n",
    "        Console.WriteLine($\"{fileName} found here: {filePath}\");\n",
    "    }\n",
    "\n",
    "    return filePath;\n",
    "}\n",
    "\n",
    "var trainDataPath = EnsureDataSetDownloaded(\"taxi-fare.csv\");\n",
    "var df = DataFrame.LoadCsv(trainDataPath);\n",
    "\n"
   ]
  },
  {
   "cell_type": "markdown",
   "metadata": {},
   "source": [
    "Une fois les données chargées, utilisez la méthode `Head` pour prévisualiser les cinq premières lignes.\n"
   ]
  },
  {
   "cell_type": "code",
   "execution_count": 4,
   "metadata": {
    "dotnet_interactive": {
     "language": "csharp"
    },
    "polyglot_notebook": {
     "kernelName": "csharp"
    }
   },
   "outputs": [],
   "source": [
    "df.Head(5)\n"
   ]
  },
  {
   "cell_type": "markdown",
   "metadata": {},
   "source": [
    "### Initialiser MLContext\n",
    "\n",
    "Toutes les opérations ML.NET commencent par la classe [MLContext](https://docs.microsoft.com/dotnet/api/microsoft.ml.mlcontext). Initialiser `mlContext` crée un nouvel environnement ML.NET qui peut être partagé entre les objets du workflow de création de modèles. C'est similaire, conceptuellement, à `DBContext` dans Entity Framework.\n"
   ]
  },
  {
   "cell_type": "code",
   "execution_count": 5,
   "metadata": {
    "dotnet_interactive": {
     "language": "csharp"
    },
    "polyglot_notebook": {
     "kernelName": "csharp"
    }
   },
   "outputs": [],
   "source": [
    "var mlContext = new MLContext();\n"
   ]
  },
  {
   "cell_type": "markdown",
   "metadata": {},
   "source": [
    "### Diviser les données en ensembles d'entraînement, de validation et de test\n",
    "\n",
    "L'ensemble de données original est divisé en trois sous-ensembles : entraînement, validation et test. L'ensemble **d'entraînement** est utilisé pour apprendre les motifs de vos données. L'ensemble **de validation** est utilisé pour optimiser les hyperparamètres du modèle. L'ensemble **de test** est utilisé pour évaluer les performances de votre modèle à l'aide de métriques d'évaluation pour la tâche de régression.\n",
    "\n",
    "#### Pourquoi ne pas utiliser l'ensemble de données complet ?\n",
    "\n",
    "Bien que fournir plus d'exemples à votre entraîneur soit généralement recommandé, vous ne voulez pas d'un modèle qui ne performe bien que sur des données historiques. Au lieu de cela, vous cherchez un modèle qui peut apprendre de ces données historiques et généraliser ou faire des prédictions précises sur de nouvelles données inconnues.\n",
    "\n",
    "Certains problèmes courants rencontrés pendant l'entraînement sont le surapprentissage et le sous-apprentissage. Le sous-apprentissage signifie que l'entraîneur sélectionné n'est pas assez puissant pour ajuster l'ensemble de données d'entraînement et se traduit généralement par une perte élevée pendant l'entraînement et une faible métrique sur l'ensemble de test. Pour résoudre cela, vous devez soit sélectionner un modèle plus puissant, soit effectuer plus d'ingénierie des caractéristiques. Le surapprentissage est l'opposé, et se produit lorsque le modèle apprend trop bien les données d'entraînement. Cela se traduit généralement par une faible perte métrique pendant l'entraînement, mais une perte élevée sur l'ensemble de test.\n",
    "\n",
    "Une bonne analogie pour ces concepts est de réviser pour un examen. Disons que vous connaissez les questions et réponses à l'avance. Après avoir révisé, vous passez l'examen et obtenez un score parfait. Bonne nouvelle ! Cependant, lorsque vous repassez l'examen avec les questions réorganisées et légèrement reformulées, vous obtenez un score plus bas. Cela suggère que vous avez mémorisé les réponses et n'avez pas vraiment appris les concepts testés. C'est un exemple de surapprentissage. Le sous-apprentissage est le contraire, où les matériaux d'étude que vous avez reçus ne représentent pas fidèlement ce sur quoi vous êtes évalué lors de l'examen. En conséquence, vous devez deviner les réponses car vous n'avez pas assez de connaissances pour répondre correctement.\n"
   ]
  },
  {
   "cell_type": "code",
   "execution_count": 8,
   "metadata": {
    "dotnet_interactive": {
     "language": "csharp"
    },
    "polyglot_notebook": {
     "kernelName": "csharp"
    }
   },
   "outputs": [],
   "source": [
    "var trainTestData = mlContext.Data.TrainTestSplit(df, testFraction: 0.2);\n",
    "var validationTestData = mlContext.Data.TrainTestSplit(trainTestData.TestSet, testFraction: 0.5);\n",
    "\n",
    "var trainSet = trainTestData.TrainSet;\n",
    "var validationSet = validationTestData.TrainSet;\n",
    "var testSet = validationTestData.TestSet;\n"
   ]
  },
  {
   "cell_type": "markdown",
   "metadata": {},
   "source": [
    "### Créer le pipeline d'entraînement\n",
    "\n",
    "Pour cet ensemble de données, les transformations suivantes sont appliquées :\n",
    "\n",
    "- `OneHotEncoding` pour convertir les valeurs catégorielles en valeurs numériques\n",
    "- `ReplaceMissingValues` pour remplacer les valeurs manquantes\n",
    "- `Concatenate` prend toutes les caractéristiques et crée un vecteur de caractéristiques\n",
    "\n",
    "AutoML est utilisé pour définir une expérience de régression en utilisant la colonne `fare_amount` comme colonne à prédire ou colonne d'étiquette.\n"
   ]
  },
  {
   "cell_type": "code",
   "execution_count": 9,
   "metadata": {
    "dotnet_interactive": {
     "language": "csharp"
    },
    "polyglot_notebook": {
     "kernelName": "csharp"
    }
   },
   "outputs": [],
   "source": [
    "var pipeline = \n",
    "    mlContext.Transforms.Categorical.OneHotEncoding(new[] { new InputOutputColumnPair(\"vendor_id\", \"vendor_id\"), new InputOutputColumnPair(\"payment_type\", \"payment_type\") }, outputKind: OutputKind.Binary)\n",
    "        .Append(mlContext.Transforms.ReplaceMissingValues(new[] { new InputOutputColumnPair(\"rate_code\", \"rate_code\"), new InputOutputColumnPair(\"passenger_count\", \"passenger_count\"), new InputOutputColumnPair(\"trip_time_in_secs\", \"trip_time_in_secs\"), new InputOutputColumnPair(\"trip_distance\", \"trip_distance\") }))\n",
    "        .Append(mlContext.Transforms.Concatenate(\"Features\", new[] { \"vendor_id\", \"payment_type\", \"rate_code\", \"passenger_count\", \"trip_time_in_secs\", \"trip_distance\" }))\n",
    "        .Append(mlContext.Auto().Regression(labelColumnName: \"fare_amount\"));\n"
   ]
  },
  {
   "cell_type": "markdown",
   "metadata": {},
   "source": [
    "### Configurer l'expérience\n",
    "\n",
    "Utilisez AutoML pour configurer notre expérience pour entraîner pendant 60 secondes en utilisant le pipeline que vous venez de définir.\n",
    "\n",
    "Par défaut, AutoML évalue les modèles qu'il entraîne en utilisant la métrique d'évaluation que vous souhaitez optimiser. Dans ce cas, il s'agit du R-carré, qui est calculé en comparant la valeur réelle `fare_amount` avec la valeur prédite `Score`.\n",
    "\n",
    "Les métriques d'évaluation dépendent fortement de la tâche. Pour la régression, certaines métriques courantes incluent :\n",
    "\n",
    "- Erreur absolue moyenne (MAE)\n",
    "- Erreur quadratique moyenne (MSE)\n",
    "- Racine de l'erreur quadratique moyenne (RMSE)\n",
    "- R-carré\n",
    "\n",
    "Votre ensemble de données et ce que vous essayez d'atteindre influencent fortement votre sélection de métrique. Si vous avez des valeurs aberrantes dans votre ensemble de données, elles peuvent fausser vos prédictions. MAE, MSE et RMSE calculent la distance entre les points de données prédits et réels. Toutes ces mesures sont sensibles aux valeurs aberrantes, donc si vous avez des valeurs aberrantes dans votre ensemble de données, elles apparaîtront dans vos métriques. Le R-carré calcule la corrélation entre les valeurs réelles et préd\n",
    "ites. Cependant, à mesure que vous ajoutez plus de points de données, votre R-carré peut continuer à augmenter, donnant l'impression erronée qu'un modèle avec une valeur de R-carré élevée a de bonnes capacités prédictives. Le résultat d'une valeur élevée de R-carré peut parfois indiquer un surapprentissage.\n"
   ]
  },
  {
   "cell_type": "code",
   "execution_count": 10,
   "metadata": {
    "dotnet_interactive": {
     "language": "csharp"
    },
    "polyglot_notebook": {
     "kernelName": "csharp"
    }
   },
   "outputs": [],
   "source": [
    "var experiment = \n",
    "    mlContext.Auto().CreateExperiment()\n",
    "        .SetPipeline(pipeline)\n",
    "        .SetTrainingTimeInSeconds(60)\n",
    "        .SetDataset(trainSet, validationSet)\n",
    "        .SetRegressionMetric(RegressionMetric.RSquared, \"fare_amount\", \"Score\");\n"
   ]
  },
  {
   "cell_type": "markdown",
   "metadata": {},
   "source": [
    "### Exécuter l'expérience\n"
   ]
  },
  {
   "cell_type": "code",
   "execution_count": 11,
   "metadata": {
    "dotnet_interactive": {
     "language": "csharp"
    },
    "polyglot_notebook": {
     "kernelName": "csharp"
    }
   },
   "outputs": [],
   "source": [
    "var result = await experiment.RunAsync();\n"
   ]
  },
  {
   "cell_type": "markdown",
   "metadata": {},
   "source": [
    "### Voir les métriques d'évaluation du meilleur modèle\n"
   ]
  },
  {
   "cell_type": "code",
   "execution_count": 12,
   "metadata": {
    "dotnet_interactive": {
     "language": "csharp"
    },
    "polyglot_notebook": {
     "kernelName": "csharp"
    }
   },
   "outputs": [],
   "source": [
    "$\"R-Squared: {result.Metric}\"\n"
   ]
  },
  {
   "cell_type": "markdown",
   "metadata": {},
   "source": [
    "Notez que pendant l'entraînement, les métriques d'évaluation ont été calculées en utilisant l'ensemble de validation. Pour voir comment votre modèle performe sur de nouvelles données, évaluez ses performances par rapport à l'ensemble de test.\n",
    "\n",
    "Commencez par obtenir le meilleur modèle en utilisant la propriété `Model` des résultats d'entraînement. Ensuite, utilisez la méthode `Transform` pour utiliser le modèle afin de faire des prédictions sur l'ensemble de test.\n"
   ]
  },
  {
   "cell_type": "code",
   "execution_count": 13,
   "metadata": {
    "dotnet_interactive": {
     "language": "csharp"
    },
    "polyglot_notebook": {
     "kernelName": "csharp"
    }
   },
   "outputs": [],
   "source": [
    "ITransformer bestModel = result.Model;\n",
    "var predictions = bestModel.Transform(testSet);\n"
   ]
  },
  {
   "cell_type": "markdown",
   "metadata": {},
   "source": [
    "Inspectez les premières prédictions (colonne `Score`) et comparez-les avec la valeur réelle (colonne `fare_amount`). Ensuite, calculez la différence entre elles.\n"
   ]
  },
  {
   "cell_type": "code",
   "execution_count": 14,
   "metadata": {
    "dotnet_interactive": {
     "language": "csharp"
    },
    "polyglot_notebook": {
     "kernelName": "csharp"
    }
   },
   "outputs": [],
   "source": [
    "var actual = predictions.GetColumn<float>(\"fare_amount\");\n",
    "var predicted = predictions.GetColumn<float>(\"Score\");\n",
    "\n",
    "var compare = \n",
    "    actual\n",
    "        .Zip(predicted, (actual, pred) => new { Actual = actual, Predicted = pred, Difference = actual - pred })\n",
    "        .Take(5);\n",
    "\n",
    "compare\n"
   ]
  },
  {
   "cell_type": "markdown",
   "metadata": {},
   "source": [
    "Rien qu'en comparant rapidement les premières valeurs, vous pouvez voir que les prédictions sont généralement à quelques centimes près de la valeur réelle.\n",
    "\n",
    "Avec ML.NET, vous n'avez pas besoin de calculer manuellement les métriques d'évaluation pour vos modèles. ML.NET fournit une méthode intégrée `Evaluate` pour chacune des tâches de machine learning qu'il prend en charge. Utilisez la méthode `Evaluate` pour la tâche de régression afin de calculer les métriques d'évaluation pour l'ensemble de test où la colonne `fare_amount` est la valeur réelle et la colonne `Score` est la valeur prédite.\n"
   ]
  },
  {
   "cell_type": "code",
   "execution_count": 15,
   "metadata": {
    "dotnet_interactive": {
     "language": "csharp"
    },
    "polyglot_notebook": {
     "kernelName": "csharp"
    }
   },
   "outputs": [],
   "source": [
    "var evaluationMetrics = mlContext.Regression.Evaluate(predictions, \"fare_amount\", \"Score\");\n"
   ]
  },
  {
   "cell_type": "markdown",
   "metadata": {},
   "source": [
    "L'utilisation de la méthode `Evaluate` permet non seulement de calculer la métrique que vous avez optimisée pendant l'entraînement (R-carré), mais aussi toutes les métriques pour la tâche de régression.\n"
   ]
  },
  {
   "cell_type": "code",
   "execution_count": 16,
   "metadata": {
    "dotnet_interactive": {
     "language": "csharp"
    },
    "polyglot_notebook": {
     "kernelName": "csharp"
    }
   },
   "outputs": [],
   "source": [
    "evaluationMetrics\n"
   ]
  },
  {
   "cell_type": "markdown",
   "metadata": {},
   "source": [
    "### Utiliser le R-carré pour évaluer le modèle\n",
    "\n",
    "Bien que vous ayez plusieurs métriques à choisir, lorsque vous avez entraîné le modèle, vous avez optimisé pour le R-carré. Le R-carré (R2), ou coefficient de détermination, représente la puissance prédictive du modèle avec une valeur comprise entre -inf et 1,00. 1,00 signifie qu'il y a un ajustement parfait, et l'ajustement peut être arbitrairement mauvais, donc les scores peuvent être négatifs. Un score de 0,00 signifie que le modèle devine la valeur attendue pour l'étiquette. Une valeur négative de R2 indique que l'ajustement ne suit pas la tendance des données et que le modèle performe moins bien que le hasard. Cela n'est possible qu'avec des modèles de régression non linéaire ou des régressions linéaires contraintes. Le R2 mesure à quel point les valeurs réelles des données de test sont proches des valeurs prédites.\n",
    "\n",
    "Pour plus d'informations sur les autres métriques d'évaluation, consultez le guide sur [comment évaluer votre modèle ML.NET avec des métriques](https://docs.microsoft.com/dotnet/machine-learning/resources/metrics).\n",
    "\n",
    "## Entraîner et évaluer des modèles en utilisant la validation croisée\n",
    "\n",
    "### Qu'est-ce que la validation croisée ?\n",
    "\n",
    "La validation croisée est une technique d'entraînement et d'évaluation de modèle qui divise les données en plusieurs partitions et entraîne plusieurs modèles sur ces partitions. Cette technique améliore la robustesse du modèle en réservant des données du processus d'entraînement. En plus d'améliorer les performances sur des observations non vues, dans des environnements de données limitées, elle peut être un outil efficace pour entraîner des modèles avec un plus petit ensemble de données.\n",
    "\n",
    "### Entraîner un modèle en utilisant la validation croisée\n",
    "\n",
    "Commencez par initialiser le `MLContext`.\n"
   ]
  },
  {
   "cell_type": "code",
   "execution_count": 17,
   "metadata": {
    "dotnet_interactive": {
     "language": "csharp"
    },
    "polyglot_notebook": {
     "kernelName": "csharp"
    }
   },
   "outputs": [],
   "source": [
    "var cvMLContext = new MLContext();\n"
   ]
  },
  {
   "cell_type": "markdown",
   "metadata": {},
   "source": [
    "Ensuite, définissez votre pipeline. Dans ce cas, l'entraîneur réel est utilisé au lieu de `SweepableEstimator` d'AutoML.\n"
   ]
  },
  {
   "cell_type": "code",
   "execution_count": 18,
   "metadata": {
    "dotnet_interactive": {
     "language": "csharp"
    },
    "polyglot_notebook": {
     "kernelName": "csharp"
    }
   },
   "outputs": [],
   "source": [
    "var cvMLPipeline = \n",
    "    cvMLContext.Transforms.Categorical.OneHotEncoding(new[] { new InputOutputColumnPair(\"vendor_id\", \"vendor_id\"), new InputOutputColumnPair(\"payment_type\", \"payment_type\") }, outputKind: OutputKind.Binary)\n",
    "        .Append(cvMLContext.Transforms.ReplaceMissingValues(new[] { new InputOutputColumnPair(\"rate_code\", \"rate_code\"), new InputOutputColumnPair(\"passenger_count\", \"passenger_count\"), new InputOutputColumnPair(\"trip_time_in_secs\", \"trip_time_in_secs\"), new InputOutputColumnPair(\"trip_distance\", \"trip_distance\") }))\n",
    "        .Append(cvMLContext.Transforms.Concatenate(\"Features\", new[] { \"vendor_id\", \"payment_type\", \"rate_code\", \"passenger_count\", \"trip_time_in_secs\", \"trip_distance\" }))\n",
    "        .Append(cvMLContext.Regression.Trainers.FastForest(labelColumnName: \"fare_amount\"));\n"
   ]
  },
  {
   "cell_type": "markdown",
   "metadata": {},
   "source": [
    "Utilisez la méthode `CrossValidate` pour démarrer l'entraînement et l'évaluation sur vos données en utilisant le pipeline défini. Par défaut, les données sont divisées en cinq sous-ensembles, mais vous pouvez définir cette valeur à n'importe quelle valeur de votre choix en utilisant le paramètre `numberOfFolds`.\n"
   ]
  },
  {
   "cell_type": "code",
   "execution_count": 19,
   "metadata": {
    "dotnet_interactive": {
     "language": "csharp"
    },
    "polyglot_notebook": {
     "kernelName": "csharp"
    }
   },
   "outputs": [],
   "source": [
    "var cvResults = cvMLContext.Regression.CrossValidate(trainSet, cvMLPipeline, labelColumnName: \"fare_amount\");\n",
    "\n",
    "cvResults.Select(x => x.Metrics)\n"
   ]
  },
  {
   "cell_type": "markdown",
   "metadata": {},
   "source": [
    "### Calculer les métriques d'évaluation de l'ensemble de test\n",
    "\n",
    "Comme dans l'exemple précédent, utilisez la méthode `Evaluate` sur l'ensemble complet de test pour évaluer les performances des modèles entraînés en utilisant la validation croisée.\n"
   ]
  },
  {
   "cell_type": "code",
   "execution_count": 20,
   "metadata": {
    "dotnet_interactive": {
     "language": "csharp"
    },
    "polyglot_notebook": {
     "kernelName": "csharp"
    }
   },
   "outputs": [],
   "source": [
    "var cvTestEvalMetrics = \n",
    "    cvResults\n",
    "        .Select(fold => fold.Model.Transform(trainTestData.TestSet))\n",
    "        .Select(predictions => cvMLContext.Regression.Evaluate(predictions, \"fare_amount\", \"Score\"));\n",
    "        \n",
    "cvTestEvalMetrics\n"
   ]
  },
  {
   "cell_type": "markdown",
   "metadata": {},
   "source": [
    "## Explicabilité du modèle\n",
    "\n",
    "Les métriques d'évaluation sont un bon moyen de quantifier la précision avec laquelle votre modèle fait des prédictions sur de nouvelles données. Cependant, une bonne métrique d'évaluation ne doit pas être le seul facteur à considérer lors de l'évaluation de votre modèle. Pour renforcer la confiance autour de votre modèle et des décisions qu'il prend, il est important de comprendre comment et pourquoi il prend ces décisions.\n",
    "\n",
    "Les modèles deviennent de plus en plus courants dans la société et affectent la vie des individus. Par exemple, imaginons qu'un modèle de machine learning soit utilisé pour établir un diagnostic médical. Il est probable que le modèle ait raison dans son diagnostic, mais les enjeux d'un mauvais diagnostic sont élevés en raison des effets sur la santé d'un individu. Il est donc important pour tous les intervenants (patients, médecins, régulateurs) de comprendre ce qui a poussé un modèle à établir ce diagnostic afin de se sentir confiants dans sa décision.\n",
    "\n",
    "### Explications globales et locales\n",
    "\n",
    "Lors de l'explication des modèles de machine learning, vous pouvez le faire au niveau global et local.\n",
    "\n",
    "Les explications globales sont des généralisations au niveau agrégé. Par exemple, disons que vous construisez un modèle pour prédire les tarifs de taxi. En expliquant pourquoi certains tarifs sont plus chers que d'autres, vous trouverez probablement que les trajets qui parcourent une distance plus longue ou qui durent plus longtemps sont probablement plus chers. Bien que cela ne vous dise pas exactement pourquoi un trajet particulier était plus cher qu'un autre, à un niveau agrégé, vous pouvez voir quelles caractéristiques sont importantes pour le modèle lorsqu'il prend ses décisions.\n",
    "\n",
    "Si vous avez besoin de plus de granularité pour expliquer les décisions de votre modèle, c'est là que les explications locales entrent en jeu. Les explications locales vous permettent de voir pour une prédiction donnée quelles caractéristiques ont contribué à la décision du modèle. Par exemple, disons qu'un modèle est utilisé pour déterminer le risque de crédit pour des prêts personnels. Étant donné deux clients avec des montants de dette, des revenus et des historiques de paiement différents, le modèle détermine lequel des clients est le plus susceptible de rembourser le prêt. En utilisant des techniques d'explicabilité locale, vous pouvez inspecter au niveau individuel quelles caractéristiques ont contribué à la décision de refuser un prêt.\n",
    "\n",
    "### Techniques d'explicabilité dans ML.NET\n",
    "\n",
    "ML.NET fournit deux techniques pour expliquer les modèles :\n",
    "\n",
    "- Importance des caractéristiques par permutation (PFI)\n",
    "- Calcul de la contribution des caractéristiques (FCC)\n",
    "\n",
    "#### Importance des caractéristiques par permutation (PFI)\n",
    "\n",
    "L'importance des caractéristiques par permutation est une technique d'explicabilité **globale**. À un haut niveau, elle mélange aléatoirement les données une caractéristique à la fois pour l'ensemble de données complet et calcule dans quelle mesure la métrique de performance d'intérêt diminue. Plus le changement est important, plus la caractéristique est importante. Pour plus d'informations, consultez [Interpréter les prédictions de modèle en utilisant l'importance des caractéristiques par permutation](https://docs.microsoft.com/dotnet/machine-learning/how-to-guides/explain-machine-learning-model-permutation-feature-importance-ml-net).\n",
    "\n",
    "#### Calcul de la contribution des caractéristiques (FCC)\n",
    "\n",
    "Le calcul de la contribution des caractéristiques est une technique d'explicabilité **locale**. Cette technique calcule une liste spécifique au modèle des contributions par caractéristique à chacune des prédictions. Ces contributions peuvent être positives (elles augmentent la métrique d'évaluation) ou négatives (elles diminuent la métrique d'évaluation).\n",
    "\n",
    "### Expliquer les modèles avec l'importance des caractéristiques par permutation (PFI)\n",
    "\n",
    "#### Initialiser MLContext\n",
    "\n"
   ]
  },
  {
   "cell_type": "code",
   "execution_count": 21,
   "metadata": {
    "dotnet_interactive": {
     "language": "csharp"
    },
    "polyglot_notebook": {
     "kernelName": "csharp"
    }
   },
   "outputs": [],
   "source": [
    "var pfiMLContext = new MLContext();\n"
   ]
  },
  {
   "cell_type": "markdown",
   "metadata": {},
   "source": [
    "#### Définir le pipeline de préparation des données\n"
   ]
  },
  {
   "cell_type": "code",
   "execution_count": 22,
   "metadata": {
    "dotnet_interactive": {
     "language": "csharp"
    },
    "polyglot_notebook": {
     "kernelName": "csharp"
    }
   },
   "outputs": [],
   "source": [
    "var pfiDataPipeline = \n",
    "    pfiMLContext.Transforms.Categorical.OneHotEncoding(new[] { new InputOutputColumnPair(\"vendor_id\", \"vendor_id\"), new InputOutputColumnPair(\"payment_type\", \"payment_type\") }, outputKind: OutputKind.Binary)\n",
    "        .Append(pfiMLContext.Transforms.ReplaceMissingValues(new[] { new InputOutputColumnPair(\"rate_code\", \"rate_code\"), new InputOutputColumnPair(\"passenger_count\", \"passenger_count\"), new InputOutputColumnPair(\"trip_time_in_secs\", \"trip_time_in_secs\"), new InputOutputColumnPair(\"trip_distance\", \"trip_distance\") }))\n",
    "        .Append(pfiMLContext.Transforms.Concatenate(\"Features\", new[] { \"vendor_id\", \"payment_type\", \"rate_code\", \"passenger_count\", \"trip_time_in_secs\", \"trip_distance\" }));\n"
   ]
  },
  {
   "cell_type": "markdown",
   "metadata": {},
   "source": [
    "#### Appliquer les transformations de données aux données d'entraînement\n"
   ]
  },
  {
   "cell_type": "code",
   "execution_count": 23,
   "metadata": {
    "dotnet_interactive": {
     "language": "csharp"
    },
    "polyglot_notebook": {
     "kernelName": "csharp"
    }
   },
   "outputs": [],
   "source": [
    "var pfiPreprocessedData = \n",
    "    pfiDataPipeline\n",
    "        .Fit(trainSet)\n",
    "        .Transform(trainSet);\n"
   ]
  },
  {
   "cell_type": "markdown",
   "metadata": {},
   "source": [
    "#### Définir votre entraîneur\n"
   ]
  },
  {
   "cell_type": "code",
   "execution_count": 24,
   "metadata": {
    "dotnet_interactive": {
     "language": "csharp"
    },
    "polyglot_notebook": {
     "kernelName": "csharp"
    }
   },
   "outputs": [],
   "source": [
    "var pfiTrainer = pfiMLContext.Regression.Trainers.FastForest(labelColumnName: \"fare_amount\");\n"
   ]
  },
  {
   "cell_type": "markdown",
   "metadata": {},
   "source": [
    "#### Ajuster l'entraîneur à vos données prétraitées\n"
   ]
  },
  {
   "cell_type": "code",
   "execution_count": 25,
   "metadata": {
    "dotnet_interactive": {
     "language": "csharp"
    },
    "polyglot_notebook": {
     "kernelName": "csharp"
    }
   },
   "outputs": [],
   "source": [
    "var pfiModel = pfiTrainer.Fit(pfiPreprocessedData);\n"
   ]
  },
  {
   "cell_type": "markdown",
   "metadata": {},
   "source": [
    "#### Calculer l'importance des caractéristiques par permutation (PFI)\n"
   ]
  },
  {
   "cell_type": "code",
   "execution_count": 26,
   "metadata": {
    "dotnet_interactive": {
     "language": "csharp"
    },
    "polyglot_notebook": {
     "kernelName": "csharp"
    }
   },
   "outputs": [],
   "source": [
    "var permutationFeatureImportance =\n",
    "    mlContext\n",
    "        .Regression\n",
    "        .PermutationFeatureImportance(pfiModel, pfiPreprocessedData, permutationCount: 3, labelColumnName: \"fare_amount\");\n"
   ]
  },
  {
   "cell_type": "markdown",
   "metadata": {},
   "source": [
    "#### Extraire la métrique du R-carré\n"
   ]
  },
  {
   "cell_type": "code",
   "execution_count": 27,
   "metadata": {
    "dotnet_interactive": {
     "language": "csharp"
    },
    "polyglot_notebook": {
     "kernelName": "csharp"
    }
   },
   "outputs": [],
   "source": [
    "var pfiMetrics = \n",
    "    permutationFeatureImportance\n",
    "        .Select((metric, idx) => new { idx, metric.RSquared })\n",
    "        .OrderByDescending(x => Math.Abs(x.RSquared.Mean));\n"
   ]
  },
  {
   "cell_type": "markdown",
   "metadata": {},
   "source": [
    "#### Obtenir la liste des noms de caractéristiques\n"
   ]
  },
  {
   "cell_type": "code",
   "execution_count": 28,
   "metadata": {
    "dotnet_interactive": {
     "language": "csharp"
    },
    "polyglot_notebook": {
     "kernelName": "csharp"
    }
   },
   "outputs": [],
   "source": [
    "var featureContributionColumn = pfiPreprocessedData.Schema.GetColumnOrNull(\"Features\");\n",
    "var slotNames = new VBuffer<ReadOnlyMemory<char>>();\n",
    "featureContributionColumn.Value.GetSlotNames(ref slotNames);\n",
    "var slotNameValues = slotNames.DenseValues();\n"
   ]
  },
  {
   "cell_type": "markdown",
   "metadata": {},
   "source": [
    "#### Mapper les métriques PFI aux noms des caractéristiques\n"
   ]
  },
  {
   "cell_type": "code",
   "execution_count": 29,
   "metadata": {
    "dotnet_interactive": {
     "language": "csharp"
    },
    "polyglot_notebook": {
     "kernelName": "csharp"
    }
   },
   "outputs": [],
   "source": [
    "var featureImportance = \n",
    "    pfiMetrics\n",
    "        .Zip(slotNameValues, (a, b) => new KeyValuePair<string, double>(b.ToString(), a.RSquared.Mean));\n",
    "\n",
    "featureImportance\n"
   ]
  },
  {
   "cell_type": "markdown",
   "metadata": {},
   "source": [
    "### Expliquer les modèles avec le calcul de la contribution des caractéristiques (FCC)\n",
    "\n",
    "#### Initialiser MLContext\n"
   ]
  },
  {
   "cell_type": "code",
   "execution_count": 30,
   "metadata": {
    "dotnet_interactive": {
     "language": "csharp"
    },
    "polyglot_notebook": {
     "kernelName": "csharp"
    }
   },
   "outputs": [],
   "source": [
    "var fccMLContext = new MLContext();\n"
   ]
  },
  {
   "cell_type": "markdown",
   "metadata": {},
   "source": [
    "#### Définir le pipeline de préparation des données\n"
   ]
  },
  {
   "cell_type": "code",
   "execution_count": 31,
   "metadata": {
    "dotnet_interactive": {
     "language": "csharp"
    },
    "polyglot_notebook": {
     "kernelName": "csharp"
    }
   },
   "outputs": [],
   "source": [
    "var fccDataPipeline = \n",
    "    fccMLContext.Transforms.Categorical.OneHotEncoding(new[] { new InputOutputColumnPair(\"vendor_id\", \"vendor_id\"), new InputOutputColumnPair(\"payment_type\", \"payment_type\") }, outputKind: OutputKind.Binary)\n",
    "        .Append(fccMLContext.Transforms.ReplaceMissingValues(new[] { new InputOutputColumnPair(\"rate_code\", \"rate_code\"), new InputOutputColumnPair(\"passenger_count\", \"passenger_count\"), new InputOutputColumnPair(\"trip_time_in_secs\", \"trip_time_in_secs\"), new InputOutputColumnPair(\"trip_distance\", \"trip_distance\") }))\n",
    "        .Append(fccMLContext.Transforms.Concatenate(\"Features\", new[] { \"vendor_id\", \"payment_type\", \"rate_code\", \"passenger_count\", \"trip_time_in_secs\", \"trip_distance\" }));\n"
   ]
  },
  {
   "cell_type": "markdown",
   "metadata": {},
   "source": [
    "#### Appliquer les transformations de données aux données d'entraînement\n"
   ]
  },
  {
   "cell_type": "code",
   "execution_count": 32,
   "metadata": {
    "dotnet_interactive": {
     "language": "csharp"
    },
    "polyglot_notebook": {
     "kernelName": "csharp"
    }
   },
   "outputs": [],
   "source": [
    "var fccPreprocessedData = \n",
    "    fccDataPipeline\n",
    "        .Fit(trainSet)\n",
    "        .Transform(trainSet);\n"
   ]
  },
  {
   "cell_type": "markdown",
   "metadata": {},
   "source": [
    "#### Définir votre entraîneur\n"
   ]
  },
  {
   "cell_type": "code",
   "execution_count": 33,
   "metadata": {
    "dotnet_interactive": {
     "language": "csharp"
    },
    "polyglot_notebook": {
     "kernelName": "csharp"
    }
   },
   "outputs": [],
   "source": [
    "var fccTrainer = fccMLContext.Regression.Trainers.FastForest(labelColumnName: \"fare_amount\");\n"
   ]
  },
  {
   "cell_type": "markdown",
   "metadata": {},
   "source": [
    "#### Ajuster l'entraîneur à vos données prétraitées\n"
   ]
  },
  {
   "cell_type": "code",
   "execution_count": 34,
   "metadata": {
    "dotnet_interactive": {
     "language": "csharp"
    },
    "polyglot_notebook": {
     "kernelName": "csharp"
    }
   },
   "outputs": [],
   "source": [
    "var fccModel = fccTrainer.Fit(fccPreprocessedData);\n"
   ]
  },
  {
   "cell_type": "markdown",
   "metadata": {},
   "source": [
    "#### Calculer les contributions des caractéristiques\n"
   ]
  },
  {
   "cell_type": "code",
   "execution_count": null,
   "metadata": {
    "dotnet_interactive": {
     "language": "csharp"
    },
    "polyglot_notebook": {
     "kernelName": "csharp"
    }
   },
   "outputs": [],
   "source": [
    "var featureContributionCalc = \n",
    "    fccMLContext.Transforms.CalculateFeatureContribution(fccModel, normalize: false)\n",
    "        .Fit(fccPreprocessedData)\n",
    "        .Transform(fccPreprocessedData);\n"
   ]
  },
  {
   "cell_type": "markdown",
   "metadata": {},
   "source": [
    "#### Obtenir la liste des noms de caractéristiques\n"
   ]
  },
  {
   "cell_type": "code",
   "execution_count": 35,
   "metadata": {
    "dotnet_interactive": {
     "language": "csharp"
    },
    "polyglot_notebook": {
     "kernelName": "csharp"
    }
   },
   "outputs": [],
   "source": [
    "var featureContributionColumn = featureContributionCalc.Schema.GetColumnOrNull(\"FeatureContributions\");\n",
    "var slotNames = new VBuffer<ReadOnlyMemory<char>>();\n",
    "featureContributionColumn.Value.GetSlotNames(ref slotNames);\n",
    "var slotNameValues = slotNames.DenseValues();\n"
   ]
  },
  {
   "cell_type": "markdown",
   "metadata": {},
   "source": [
    "#### Obtenir les valeurs de contribution des caractéristiques\n"
   ]
  },
  {
   "cell_type": "code",
   "execution_count": null,
   "metadata": {
    "dotnet_interactive": {
     "language": "csharp"
    },
    "polyglot_notebook": {
     "kernelName": "csharp"
    }
   },
   "outputs": [],
   "source": [
    "var featureContributionValues = featureContributionCalc.GetColumn<float[]>(\"FeatureContributions\");\n"
   ]
  },
  {
   "cell_type": "markdown",
   "metadata": {},
   "source": [
    "#### Mapper les valeurs de contribution des caractéristiques aux noms des caractéristiques\n"
   ]
  },
  {
   "cell_type": "code",
   "execution_count": null,
   "metadata": {
    "dotnet_interactive": {
     "language": "csharp"
    },
    "polyglot_notebook": {
     "kernelName": "csharp"
    }
   },
   "outputs": [],
   "source": [
    "var featureContributions = \n",
    "    featureContributionValues\n",
    "        .Select(x => x.Zip(slotNameValues, (a, b) => new KeyValuePair<string, float>(b.ToString(), a)));\n"
   ]
  },
  {
   "cell_type": "markdown",
   "metadata": {},
   "source": [
    "#### Afficher les contributions des caractéristiques pour la première prédiction\n"
   ]
  },
  {
   "cell_type": "code",
   "execution_count": null,
   "metadata": {
    "dotnet_interactive": {
     "language": "csharp"
    },
    "polyglot_notebook": {
     "kernelName": "csharp"
    }
   },
   "outputs": [],
   "source": [
    "featureContributions.First()\n"
   ]
  },
  {
   "cell_type": "markdown",
   "metadata": {},
   "source": [
    "## Comment puis-je améliorer mon modèle ?\n",
    "\n",
    "L'évaluation du modèle est une étape importante dans le workflow de machine learning pour déterminer si un modèle est prêt à être déployé en production. Si votre modèle ne répond pas à vos critères pour être prêt pour la production, il y a plusieurs choses que vous pouvez essayer pour améliorer votre modèle. Celles-ci incluent :\n",
    "\n",
    "- **Reformuler le problème** - Essayez-vous de résoudre le bon problème ? Envisagez d'examiner le problème sous différents points de vue.\n",
    "- **Fournir plus d'échantillons de données** - L'expérience est le meilleur enseignant. Fournir plus d'exemples qui représentent votre espace de problème aide les entraîneurs à identifier plus de cas particuliers.\n",
    "- **Ajouter des caractéristiques (plus de contexte)** - Construire un contexte autour des points de données aide les algorithmes ainsi que les experts en la matière à mieux prendre des décisions. Par exemple, le fait qu'une maison ait trois chambres ne donne pas à lui seul une bonne indication de son prix. Cependant, si vous ajoutez du contexte et que vous savez maintenant qu'elle se trouve dans un quartier suburbain en dehors d'une grande métropole où l'âge moyen est de 38 ans, le revenu moyen des ménages est de 80 000 $ et les écoles sont dans le 20e percentile supérieur, alors l'algorithme a plus d'informations pour baser ses décisions.\n",
    "- **Utiliser des données et des caractéristiques significatives** - Plus de données et de caractéristiques (contexte) peuvent aider à améliorer la précision, mais aussi introduire du bruit. Envisagez d'utiliser l'importance des caractéristiques par permutation (PFI) et le calcul de la contribution des caractéristiques (FCC) pour déterminer les caractéristiques impactant vos prédictions et supprimer celles qui ne contribuent pas à votre modèle.\n",
    "- **Utiliser la validation croisée** - La validation croisée peut être un outil efficace pour entraîner des modèles avec des ensembles de données plus petits.\n",
    "- **Ajustement des hyperparamètres** - Les hyperparamètres sont tout aussi importants que les paramètres appris pendant l'entraînement. Trouver les bons est un processus d'essais et d'erreurs. Utilisez les espaces de recherche AutoML et les estimateurs à balayer pour vous aider à trouver les bons hyperparamètres pour votre algorithme.\n",
    "- **Choisir un algorithme différent** - Tout comme l'ajustement des hyperparamètres, trouver le bon algorithme pour entraîner votre modèle est un processus d'essais et d'erreurs. Utilisez AutoML pour vous aider à itérer à travers les différents algorithmes disponibles dans ML.NET pour vous aider à choisir l'algorithme optimal pour résoudre votre problème.\n",
    "\n",
    "Pour plus d'informations, consultez le guide sur [comment améliorer votre modèle ML.NET](https://docs.microsoft.com/dotnet/machine-learning/resources/improve-machine-learning-model-ml-net).\n",
    "\n",
    "## Continuer à apprendre\n",
    "\n",
    "> [⏩ Module suivant - API AutoML Sweepable](https://github.com/dotnet/csharp-notebooks/blob/main/machine-learning/05%20-%20AutoML%20Sweepable%20API.ipynb)  \n",
    "> [⏪ Module précédent - Entraînement et AutoML](https://github.com/dotnet/csharp-notebooks/blob/main/machine-learning/03-Training%20and%20AutoML.ipynb)\n",
    "\n",
    "### Plus d'exemples de bout en bout\n",
    "\n",
    "- [Classification binaire avec le jeu de données Titanic](./REF-Kaggle%20with%20Titanic%20Dataset.ipynb)  \n",
    "- [Prédiction de valeurs/Régression avec le jeu de données Taxi](./E2E-Regression%20with%20Taxi%20Dataset.ipynb)\n"
   ]
  }
 ],
 "metadata": {
  "kernelspec": {
   "display_name": ".NET (C#)",
   "language": "C#",
   "name": ".net-csharp"
  },
  "polyglot_notebook": {
   "kernelInfo": {
    "defaultKernelName": "csharp",
    "items": [
     {
      "aliases": [],
      "languageName": "csharp",
      "name": "csharp"
     }
    ]
   }
  }
 },
 "nbformat": 4,
 "nbformat_minor": 2
}
