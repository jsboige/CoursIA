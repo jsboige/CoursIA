{
 "cells": [
  {
   "cell_type": "markdown",
   "metadata": {},
   "source": []
  },
  {
   "cell_type": "markdown",
   "metadata": {},
   "source": [
    "# Préparation des Données et Ingénierie des Caractéristiques\n",
    "\n",
    "Les données sont cruciales pour entraîner et préparer un modèle. Dans ce notebook, nous allons couvrir comment charger des données dans ML.NET et s'assurer qu'elles sont dans le bon format pour que ML.NET puisse les utiliser.\n",
    "\n",
    "## Chargement des données dans ML.NET\n",
    "\n",
    "### Qu'est-ce qu'un IDataView?\n",
    "\n",
    "Le [IDataView](https://docs.microsoft.com/dotnet/api/microsoft.ml.idataview?view=ml-dotnet) est le format de données que ML.NET charge pour l'entraînement. Il s'agit d'un ensemble d'interfaces et de composants qui fournissent un traitement efficace et compositionnel des données schématisées pour les applications de machine learning et d'analytique avancée. Il est conçu pour gérer de manière efficace les données de haute dimension et les grands ensembles de données.\n",
    "\n",
    "### Comment créer un IDataView\n",
    "\n",
    "Vous pouvez créer un IDataView en utilisant l'une des méthodes de chargement des données suivantes :\n",
    "\n",
    "- TextLoader\n",
    "- LoadFromEnumerable\n",
    "- DatabaseLoader\n",
    "- LoadFromTextFile\n",
    "\n",
    "Pour plus de documentation et d'exemples, consultez [Charger les données à partir de fichiers et d'autres sources](https://docs.microsoft.com/dotnet/machine-learning/how-to-guides/load-data-ml-net).\n",
    "\n"
   ]
  },
  {
   "cell_type": "code",
   "execution_count": null,
   "metadata": {
    "dotnet_interactive": {
     "language": "csharp"
    },
    "polyglot_notebook": {
     "kernelName": "csharp"
    }
   },
   "outputs": [],
   "source": [
    "#r \"nuget: Microsoft.ML\"\n",
    "\n",
    "using Microsoft.ML;\n",
    "using Microsoft.ML.Data;\n",
    "using Microsoft.ML.Transforms;\n",
    "\n",
    "MLContext mlContext = new MLContext();"
   ]
  },
  {
   "cell_type": "markdown",
   "metadata": {},
   "source": [
    "### Télécharger ou localiser les données\n",
    "\n",
    "Le code suivant essaie de localiser le fichier de données dans quelques emplacements connus ou le téléchargera à partir de l'emplacement GitHub connu."
   ]
  },
  {
   "cell_type": "code",
   "execution_count": null,
   "metadata": {
    "dotnet_interactive": {
     "language": "csharp"
    },
    "polyglot_notebook": {
     "kernelName": "csharp"
    }
   },
   "outputs": [],
   "source": [
    "using System;\n",
    "using System.IO;\n",
    "using System.Net;\n",
    "\n",
    "string EnsureDataSetDownloaded(string fileName)\n",
    "{\n",
    "    // Ce chemin est utilisé si le dépôt a été cloné.\n",
    "    var filePath = Path.Combine(Directory.GetCurrentDirectory(),\"data\", fileName);\n",
    "\n",
    "    if (!File.Exists(filePath))\n",
    "    {\n",
    "        // Ce chemin est utilisé si le fichier a déjà été téléchargé.\n",
    "        filePath = Path.Combine(Directory.GetCurrentDirectory(), fileName);\n",
    "    }\n",
    "\n",
    "    if (!File.Exists(filePath))\n",
    "    {\n",
    "        using (var client = new WebClient())\n",
    "        {\n",
    "            client.DownloadFile($\"https://raw.githubusercontent.com/dotnet/csharp-notebooks/main/machine-learning/data/{fileName}\", filePath);\n",
    "        }\n",
    "        Console.WriteLine($\"Téléchargé {fileName} à : {filePath}\");\n",
    "    }\n",
    "    else\n",
    "    {\n",
    "        Console.WriteLine($\"{fileName} trouvé ici : {filePath}\");\n",
    "    }\n",
    "\n",
    "    return filePath;\n",
    "}"
   ]
  },
  {
   "cell_type": "markdown",
   "metadata": {},
   "source": [
    "### Chargement depuis un fichier\n",
    "\n",
    "Un [TextLoader](https://docs.microsoft.com/dotnet/api/microsoft.ml.data.textloader?view=ml-dotnet) peut charger un fichier structuré dans un IDataView. Les informations structurées sont représentées comme des colonnes et des lignes de données.\n"
   ]
  },
  {
   "cell_type": "code",
   "execution_count": null,
   "metadata": {
    "dotnet_interactive": {
     "language": "csharp"
    },
    "polyglot_notebook": {
     "kernelName": "csharp"
    }
   },
   "outputs": [],
   "source": [
    "public class ModelInput\n",
    "{\n",
    "    [LoadColumn(0)]\n",
    "    [ColumnName(@\"vendor_id\")]\n",
    "    public string Vendor_id { get; set; }\n",
    "\n",
    "    [LoadColumn(1)]\n",
    "    [ColumnName(@\"rate_code\")]\n",
    "    public float Rate_code { get; set; }\n",
    "\n",
    "    [LoadColumn(2)]\n",
    "    [ColumnName(@\"passenger_count\")]\n",
    "    public float Passenger_count { get; set; }\n",
    "\n",
    "    [LoadColumn(3)]\n",
    "    [ColumnName(@\"trip_time_in_secs\")]\n",
    "    public float Trip_time_in_secs { get; set; }\n",
    "\n",
    "    [LoadColumn(4)]\n",
    "    [ColumnName(@\"trip_distance\")]\n",
    "    public float Trip_distance { get; set; }\n",
    "\n",
    "    [LoadColumn(5)]\n",
    "    [ColumnName(@\"payment_type\")]\n",
    "    public string Payment_type { get; set; }\n",
    "\n",
    "    [LoadColumn(6)]\n",
    "    [ColumnName(@\"fare_amount\")]\n",
    "    public float Fare_amount { get; set; }\n",
    "}\n",
    "\n",
    "MLContext mlContext = new MLContext();\n",
    "\n",
    "var trainDataPath = EnsureDataSetDownloaded(\"taxi-fare.csv\");\n",
    "\n",
    "// Créer un TextLoader basé sur le type ModelInput.\n",
    "TextLoader textLoader = mlContext.Data.CreateTextLoader<ModelInput>(separatorChar: ',', hasHeader: true);\n",
    "\n",
    "// Charger les données dans un IDataView. La méthode Load() peut prendre en charge plusieurs fichiers.\n",
    "// Les fichiers doivent avoir le même caractère séparateur, en-tête, noms de colonnes, etc.\n",
    "IDataView data = textLoader.Load(trainDataPath);\n",
    "\n",
    "data.Preview(1)"
   ]
  },
  {
   "cell_type": "markdown",
   "metadata": {},
   "source": [
    "## Chargement d'une collection en mémoire\n",
    "\n",
    "ML.NET prend en charge le chargement des données à partir d'une collection en mémoire. Cela facilite le chargement à partir d'un fichier JSON ou XML en utilisant C#. Apprenez comment [désérialiser JSON avec C#](https://docs.microsoft.com/dotnet/standard/serialization/system-text-json-how-to?pivots=dotnet-6-0#how-to-read-json-as-net-objects-deserialize) ou utilisez [XML serializer](https://docs.microsoft.com/dotnet/api/system.xml.serialization?view=net-6.0) pour obtenir ces fichiers en mémoire.\n",
    "\n",
    "Une fois que vous avez la collection de données en mémoire, vous pouvez la charger dans ML.NET avec la méthode [LoadFromEnumerable](https://docs.microsoft.com/dotnet/api/microsoft.ml.dataoperationscatalog.loadfromenumerable?view=ml-dotnet).\n"
   ]
  },
  {
   "cell_type": "code",
   "execution_count": null,
   "metadata": {
    "dotnet_interactive": {
     "language": "csharp"
    },
    "polyglot_notebook": {
     "kernelName": "csharp"
    }
   },
   "outputs": [],
   "source": [
    "ModelInput[] inMemoryCollection = new ModelInput[]\n",
    "{\n",
    "    new ModelInput\n",
    "    {\n",
    "        Vendor_id = \"CMT\",\n",
    "        Rate_code = 1,\n",
    "        Passenger_count = 1,\n",
    "        Trip_time_in_secs = 1271,\n",
    "        Trip_distance = 3.8f,\n",
    "        Payment_type = \"CRD\",\n",
    "        Fare_amount = 17.5f,\n",
    "    },\n",
    "    new ModelInput\n",
    "    {\n",
    "        Vendor_id = \"VST\",\n",
    "        // Rate_code manquant\n",
    "        Passenger_count = 1,\n",
    "        Trip_time_in_secs = 474,\n",
    "        Trip_distance = 1.5f,\n",
    "        Payment_type = \"CSH\",\n",
    "        Fare_amount = 8,\n",
    "    }\n",
    "};\n",
    "\n",
    "// Créer un MLContext\n",
    "MLContext mlContext = new MLContext();\n",
    "\n",
    "// Charger les données\n",
    "IDataView data = mlContext.Data.LoadFromEnumerable<ModelInput>(inMemoryCollection);\n",
    "\n",
    "// Afficher les données chargées\n",
    "var preview = data.Preview();\n",
    "display(preview);"
   ]
  },
  {
   "cell_type": "markdown",
   "metadata": {},
   "source": [
    "### Différence entre DataFrame et IDataView\n",
    "\n",
    "Vous avez peut-être entendu parler du type [DataFrame](https://docs.microsoft.com/dotnet/api/microsoft.data.analysis.dataframe?view=ml-dotnet-preview). C'est un autre outil pour charger, visualiser et manipuler des données, courant dans les notebooks. Il implémente un IDataView, il peut donc être facilement passé à ML.NET.\n",
    "\n",
    "DataFrame et IDataView sont très similaires en ce sens qu'ils sont tous deux des moyens de représenter des données sous forme tabulaire et d'appliquer des transformations. Voici quelques différences clés :\n",
    "\n",
    "- DataFrame ne prend en charge que le chargement de fichiers délimités.\n",
    "- DataFrame fonctionne en mémoire, vous êtes donc limité par la quantité de mémoire de votre PC.\n",
    "\n",
    "Le DataFrame est recommandé pour effectuer des tâches telles que l'analyse exploratoire des données sur un échantillon de vos données. Consultez le notebook de référence [REF-Data Processing](https://github.com/dotnet/csharp-notebooks/blob/main/machine-learning/REF-Data%20Processing.ipynb) pour un exemple d'utilisation des DataFrames pour manipuler un fichier de données pour l'entraînement.\n",
    "\n",
    "IDataView est recommandé pour l'entraînement sur des ensembles de données plus grands, et ce qui est utilisé pour les exemples dans ce notebook. Les ensembles de données plus grands dans ce cas sont définis comme des ensembles de données qui ne peuvent pas tenir en mémoire.\n",
    "\n",
    "## Transformations des données\n",
    "\n",
    "ML.NET prend en charge une variété de transformations de données qui convertiront les données dans le format requis et vous aideront à apporter des corrections à vos données. Parmi les opérations courantes, citons la manipulation des colonnes, la normalisation des valeurs, le remplacement des valeurs manquantes, la conversion des valeurs, etc.\n",
    "\n",
    "Pour plus d'informations, consultez [Transformations des données](https://docs.microsoft.com/dotnet/machine-learning/resources/transforms).\n",
    "\n",
    "### Données catégorielles\n",
    "\n",
    "L'encodage one-hot est une transformation importante pour les données contenant des catégories. Les algorithmes ML nécessitent des données numériques, ils ne savent pas comment traiter les chaînes représentant des catégories. Les colonnes vendor_id et payment_type sont catégoriques, le fournisseur peut être \"CMD\" ou \"VST\" et le paiement peut être \"CReDit\" ou \"CaSH\". L'encodage one-hot prend les valeurs de chaîne passées et les convertit en données numériques."
   ]
  },
  {
   "cell_type": "code",
   "execution_count": null,
   "metadata": {
    "dotnet_interactive": {
     "language": "csharp"
    },
    "polyglot_notebook": {
     "kernelName": "csharp"
    }
   },
   "outputs": [],
   "source": [
    "var pipeline = mlContext.Transforms.Categorical.OneHotEncoding(\n",
    "    new[] \n",
    "    { new InputOutputColumnPair(@\"vendor_id\"), \n",
    "    new InputOutputColumnPair(@\"payment_type\")},\n",
    "    OneHotEncodingEstimator.OutputKind.Binary);"
   ]
  },
  {
   "cell_type": "markdown",
   "metadata": {},
   "source": [
    "Testons la transformation ci-dessus sur les colonnes vendor_id et payment_type. Le résultat devrait être une valeur vectorielle pour chaque catégorie. Dans le cas de Vendor_Id, CMT devient `000` et VST devient `001`. Nous allons créer une nouvelle classe ModelInputTransformed pour les nouveaux types convertis."
   ]
  },
  {
   "cell_type": "code",
   "execution_count": null,
   "metadata": {
    "dotnet_interactive": {
     "language": "csharp"
    },
    "polyglot_notebook": {
     "kernelName": "csharp"
    }
   },
   "outputs": [],
   "source": [
    "using System.Numerics;\n",
    "\n",
    "public class ModelInputTransformed\n",
    "{\n",
    "    [LoadColumn(0)]\n",
    "    [ColumnName(@\"vendor_id\")]\n",
    "    public VBuffer<Single> Vendor_id { get; set; }\n",
    "\n",
    "    [LoadColumn(1)]\n",
    "    [ColumnName(@\"rate_code\")]\n",
    "    public float Rate_code { get; set\n",
    "\n",
    "; }\n",
    "\n",
    "    [LoadColumn(2)]\n",
    "    [ColumnName(@\"passenger_count\")]\n",
    "    public float Passenger_count { get; set; }\n",
    "\n",
    "    [LoadColumn(3)]\n",
    "    [ColumnName(@\"trip_time_in_secs\")]\n",
    "    public float Trip_time_in_secs { get; set; }\n",
    "\n",
    "    [LoadColumn(4)]\n",
    "    [ColumnName(@\"trip_distance\")]\n",
    "    public float Trip_distance { get; set; }\n",
    "\n",
    "    [LoadColumn(5)]\n",
    "    [ColumnName(@\"payment_type\")]\n",
    "    public VBuffer<Single> Payment_type { get; set; }\n",
    "\n",
    "    [LoadColumn(6)]\n",
    "    [ColumnName(@\"fare_amount\")]\n",
    "    public float Fare_amount { get; set; }\n",
    "}\n",
    "\n",
    "// Exécuter la transformation\n",
    "IDataView transformedData = pipeline.Fit(data).Transform(data);\n",
    "var convertedData = mlContext.Data.CreateEnumerable<ModelInputTransformed>(transformedData, true);\n",
    "\n",
    "// Encodage one-hot de deux colonnes 'vendor_id' et 'payment_type'.\n",
    "Console.WriteLine(\"Vendor_Id\" +\"\\t\" + \"Payment_Type\"); \n",
    "foreach (ModelInputTransformed item in convertedData.Take(10))\n",
    "{    \n",
    "    Console.WriteLine(\"{0}\\t\\t{1}\", string.Join(\" \", item.Vendor_id.DenseValues()),\n",
    "                    string.Join(\" \", item.Payment_type.DenseValues()));\n",
    "}"
   ]
  },
  {
   "cell_type": "markdown",
   "metadata": {},
   "source": [
    "### Remplacer les valeurs manquantes\n",
    "\n",
    "Une autre opération courante est de remplacer les valeurs manquantes. Ici, nous utilisons le mode de remplacement par défaut, qui remplace la valeur par la valeur par défaut de son type.\n"
   ]
  },
  {
   "cell_type": "code",
   "execution_count": null,
   "metadata": {
    "dotnet_interactive": {
     "language": "csharp"
    },
    "polyglot_notebook": {
     "kernelName": "csharp"
    }
   },
   "outputs": [],
   "source": [
    "pipeline.Append(mlContext.Transforms.ReplaceMissingValues(\n",
    "    new[] { new InputOutputColumnPair(@\"rate_code\", @\"rate_code\"), \n",
    "    new InputOutputColumnPair(@\"passenger_count\", @\"passenger_count\"), \n",
    "    new InputOutputColumnPair(@\"trip_time_in_secs\", @\"trip_time_in_secs\"), \n",
    "    new InputOutputColumnPair(@\"trip_distance\", @\"trip_distance\") }));\n"
   ]
  },
  {
   "cell_type": "markdown",
   "metadata": {},
   "source": [
    "Encore une fois, exécutons la transformation et jetons un coup d'œil à la valeur remplie. Il nous manquait le rate_code pour le deuxième objet factice."
   ]
  },
  {
   "cell_type": "code",
   "execution_count": null,
   "metadata": {
    "dotnet_interactive": {
     "language": "csharp"
    },
    "polyglot_notebook": {
     "kernelName": "csharp"
    }
   },
   "outputs": [],
   "source": [
    "IDataView  transformedData = pipeline.Fit(data).Transform(data);\n",
    "var convertedData = mlContext.Data.CreateEnumerable<ModelInputTransformed>(transformedData, true);\n",
    "\n",
    "\"Rate_code: \" + convertedData.ElementAt(1).Rate_code"
   ]
  },
  {
   "cell_type": "markdown",
   "metadata": {},
   "source": [
    "### Concaténer les colonnes de caractéristiques\n",
    "\n",
    "Concaténons maintenant toutes nos colonnes de caractéristiques en une seule colonne vectorielle. De nombreux formateurs ML s'attendent à ce que les caractéristiques soient de type vecteur, car l'application d'opérations sur un vecteur est plus efficace."
   ]
  },
  {
   "cell_type": "code",
   "execution_count": null,
   "metadata": {
    "dotnet_interactive": {
     "language": "csharp"
    },
    "polyglot_notebook": {
     "kernelName": "csharp"
    }
   },
   "outputs": [],
   "source": [
    "pipeline.Append(mlContext.Transforms.Concatenate(\n",
    "    @\"Features\", new[] { @\"vendor_id\", @\"payment_type\", @\"rate_code\", @\"passenger_count\", @\"trip_time_in_secs\", @\"trip_distance\" }));"
   ]
  },
  {
   "cell_type": "markdown",
   "metadata": {},
   "source": [
    "Nous avons maintenant un IDataView chargé et un pipeline prêt pour l'entraînement."
   ]
  }
 ],
 "metadata": {
  "kernelspec": {
   "display_name": ".NET (C#)",
   "language": "C#",
   "name": ".net-csharp"
  },
  "polyglot_notebook": {
   "kernelInfo": {
    "defaultKernelName": "csharp",
    "items": [
     {
      "aliases": [],
      "languageName": "csharp",
      "name": "csharp"
     }
    ]
   }
  }
 },
 "nbformat": 4,
 "nbformat_minor": 2
}
