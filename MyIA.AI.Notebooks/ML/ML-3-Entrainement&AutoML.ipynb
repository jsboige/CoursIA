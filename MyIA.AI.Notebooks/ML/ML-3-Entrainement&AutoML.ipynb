{
 "cells": [
  {
   "cell_type": "markdown",
   "metadata": {},
   "source": []
  },
  {
   "cell_type": "markdown",
   "metadata": {},
   "source": [
    "# Entraînement et AutoML\n",
    "\n",
    "## Dans ce Notebook, vous allez apprendre\n",
    "- Qu'est-ce que l'**entraînement** ?\n",
    "- Introduction aux entraîneurs, quelques-unes de leurs différences, et comment choisir lequel utiliser.\n",
    "- Comment les hyperparamètres impactent les performances de l'entraînement.\n",
    "- Comment utiliser AutoML pour simplifier votre processus d'entraînement.\n",
    "\n",
    "## Qu'est-ce que l'**entraînement** ?\n",
    "Avant de plonger dans le code, parlons d'abord de ce que signifie \"entraîner un modèle\".\n",
    "\n",
    "Dans ML.Net, \"entraîner un modèle\" signifie généralement appeler `model.Fit(X)` dans ML.Net, où `X` est un `IDataView` qui inclut à la fois les caractéristiques et les étiquettes. Alors, que se passe-t-il lorsque vous appelez `Fit` ? En général, `Fit` met à jour les paramètres dans l'entraîneur afin qu'il puisse prédire une étiquette qui soit **proche** de l'étiquette réelle dans `X`, ou en d'autres termes, réduire la distance entre l'étiquette prédite et l'étiquette réelle.\n",
    "\n",
    "En apprentissage automatique, la différence ou la distance entre l'étiquette prédite et l'étiquette réelle est généralement appelée **perte** et vous utilisez différentes mesures de perte en fonction de la tâche. Pour la classification, softmax est une mesure de perte courante. Pour la régression, l'erreur quadratique moyenne (RMSE) est une mesure de perte courante. En général, elles sont toutes des métriques pour quantifier la distance entre l'étiquette prédite et l'étiquette réelle. Dans la plupart des cas, une **perte plus faible signifie un meilleur modèle**. Pour plus d'informations, consultez le [guide des métriques d'évaluation ML.NET](https://docs.microsoft.com/dotnet/machine-learning/resources/metrics).\n",
    "\n",
    "Ainsi, ce que fait `Fit` est d'appliquer un algorithme à vos données pour identifier des motifs et ajuster les paramètres dans cet algorithme pour réduire la perte. Lorsque vous entraînez un modèle, vous voulez réduire sa perte pour rendre la prédiction de ce modèle plus proche de l'étiquette réelle.\n"
   ]
  },
  {
   "cell_type": "code",
   "execution_count": null,
   "metadata": {
    "dotnet_interactive": {
     "language": "csharp"
    },
    "polyglot_notebook": {
     "kernelName": "csharp"
    }
   },
   "outputs": [],
   "source": [
    "#i \"nuget:https://pkgs.dev.azure.com/dnceng/public/_packaging/MachineLearning/nuget/v3/index.json\"\n",
    "#r \"nuget: Plotly.NET.Interactive, 3.0.2\"\n",
    "#r \"nuget: Plotly.NET.CSharp, 0.0.1\"\n",
    "#r \"nuget: Microsoft.ML.AutoML\"\n",
    "#r \"nuget: Microsoft.Data.Analysis\"\n",
    "\n",
    "// Import usings.\n",
    "using Microsoft.Data.Analysis;\n",
    "using System;\n",
    "using System.IO;\n",
    "using Microsoft.ML;\n",
    "using Microsoft.ML.AutoML;\n",
    "using Microsoft.ML.Data;\n"
   ]
  },
  {
   "cell_type": "markdown",
   "metadata": {},
   "source": [
    "## Les entraîneurs dans ML.Net\n",
    "ML.NET fournit une variété d'entraîneurs. Vous pouvez en trouver la plupart sous le [StandardTrainersCatalog](https://docs.microsoft.com/dotnet/api/microsoft.ml.standardtrainerscatalog?view=ml-dotnet). Exemples d'entraîneurs : des entraîneurs linéaires comme `SDCA`, `Lbfgs`, `LinearSvm` et des entraîneurs non linéaires basés sur les arbres comme `FastTree`, `RandomForest` et `LightGbm`. En général, les capacités de chaque entraîneur sont différentes. Les modèles non linéaires ont parfois de meilleures performances d'entraînement (perte plus faible) que les modèles linéaires, mais cela ne signifie pas toujours qu'ils sont toujours le meilleur choix. Choisir le bon entraîneur pour construire le meilleur modèle pour vos données nécessite de nombreux essais et erreurs.\n",
    "\n",
    "### Surapprentissage et sous-apprentissage\n",
    "Le surapprentissage et le sous-apprentissage sont les deux problèmes les plus courants que vous rencontrez lors de l'entraînement d'un modèle. Le sous-apprentissage signifie que l'entraîneur sélectionné n'est pas assez performant pour ajuster le jeu de données d'entraînement et résulte généralement en une perte élevée pendant l'entraînement et un score/métrique faible sur le jeu de test. Pour résoudre ce problème, vous devez soit sélectionner un modèle plus puissant, soit effectuer davantage d'ingénierie des fonctionnalités. Le surapprentissage est l'inverse, ce qui se produit lorsque le modèle apprend trop bien les données d'entraînement. Cela résulte généralement en une perte faible pendant l'entraînement mais une perte élevée sur le jeu de test.\n",
    "\n",
    "Une bonne analogie pour ces concepts est l'étude pour un examen. Disons que vous connaissiez à l'avance les questions et les réponses. Après avoir étudié, vous passez l'examen et obtenez un score parfait. Bonne nouvelle ! Cependant, lorsqu'on vous donne à nouveau l'examen avec les questions réarrangées et légèrement reformulées, vous obtenez un score plus bas. Cela suggère que vous avez mémorisé les réponses sans vraiment apprendre les concepts sur lesquels vous étiez évalué. C'est un exemple de surapprentissage. Le sous-apprentissage est l'inverse, où les matériaux d'étude que vous avez reçus ne représentent pas précisément ce sur quoi vous êtes évalué pour l'examen. En conséquence, vous devez deviner les réponses car vous n'avez pas suffisamment de connaissances pour répondre correctement.\n",
    "\n",
    "### Différence entre paramètre et hyper-paramètre\n",
    "En résumé, les paramètres sont internes à un entraîneur et sont mis à jour en fonction du jeu de données d'entraînement pendant le processus d'entraînement (`Fit`). Les hyper-paramètres sont externes à un entraîneur et contrôlent le processus d'entraînement. Par exemple, dans `LightGbm`, le `LearningRate` est un hyper-paramètre que vous pouvez désigner lors de la création et il contrôle les étapes de mise à jour pour le poids des nœuds de l'arbre pendant l'entraînement. Et le poids des nœuds de l'arbre est un paramètre qui est ajusté pendant le processus `Fit`.\n",
    "\n",
    "### Optimisation des hyper-paramètres\n",
    "Choisir le bon entraîneur impacte vos performances finales d'entraînement. Choisir les bons hyper-paramètres a également un impact énorme sur les performances finales de l'entraînement, en particulier pour les entraîneurs basés sur les arbres. Les hyper-paramètres sont importants car ils contrôlent comment les paramètres sont mis à jour. Par exemple, un plus grand `numberOfLeaves` dans `LightGbm` produit un modèle plus grand et permet généralement de s'adapter à un jeu de données plus complexe, mais cela peut avoir un effet contraire sur un petit jeu de données et provoquer un **surapprentissage**. À l'inverse, si le jeu de données est complexe mais que vous définissez un petit `numberOfLeaves`, cela peut nuire à la capacité de `LightGbm` à s'adapter à ce jeu de données et provoquer un **sous-apprentissage**.\n",
    "\n",
    "Le processus de recherche de la meilleure configuration pour votre entraîneur est connu sous le nom d'optimisation des hyper-paramètres (HPO). Comme le processus de choix de votre entraîneur, il implique beaucoup d'essais et d'erreurs. Les capacités intégrées de ML automatisé (AutoML) dans ML.NET simplifient le processus de HPO.\n"
   ]
  },
  {
   "cell_type": "code",
   "execution_count": null,
   "metadata": {
    "dotnet_interactive": {
     "language": "csharp"
    },
    "polyglot_notebook": {
     "kernelName": "csharp"
    }
   },
   "outputs": [],
   "source": [
    "var rand = new Random(0);\n",
    "var context =new MLContext(seed: 1);\n",
    "var x = Enumerable.Range(-10000, 10000).Select(_x => _x * 0.1f).ToArray();\n",
    "var y = x.Select(_x => 100 * _x + (rand.NextSingle() - 0.5f) * 10).ToArray();\n",
    "var df = new DataFrame();\n",
    "df[\"X\"] = DataFrameColumn.Create(\"X\", x);\n",
    "df[\"y\"] = DataFrameColumn.Create(\"y\", y);\n",
    "var trainTestSplit = context.Data.TrainTestSplit(df);\n",
    "df.Head(10)\n"
   ]
  },
  {
   "cell_type": "markdown",
   "metadata": {},
   "source": [
    "## Exemple 1 : Régression linéaire\n",
    "Dans la section ci-dessous, nous allons montrer la différence entre les entraîneurs via une tâche de régression linéaire. Tout d'abord, nous ajustons le jeu de données linéaire avec l'entraîneur linéaire `SDCA`. Ensuite, nous ajustons le jeu de données linéaire avec `LightGbm`, un entraîneur non linéaire basé sur les arbres. Leurs performances sont évaluées par rapport à un jeu de test. Le code ci-dessous :\n",
    "- Crée un jeu de données linéaire et le divise en ensembles d'entraînement et de test\n",
    "- Crée des pipelines d'entraînement utilisant `SDCA` et `LightGbm`\n",
    "- Entraîne `SDCA` et `LightGbm` sur le jeu d'entraînement linéaire, et les évalue sur le jeu de test.\n"
   ]
  },
  {
   "cell_type": "code",
   "execution_count": null,
   "metadata": {
    "dotnet_interactive": {
     "language": "csharp"
    },
    "polyglot_notebook": {
     "kernelName": "csharp"
    }
   },
   "outputs": [],
   "source": [
    "var sdcaPipeline = context.Transforms.Concatenate(\"Features\", \"X\")\n",
    "                            .Append(context.Regression.Trainers.Sdca(\"y\"));\n",
    "\n",
    "var lgbmPipeline = context.Transforms.Concatenate(\"Features\", \"X\")\n",
    "                            .Append(context.Regression.Trainers.LightGbm(\"y\"));\n",
    "\n",
    "var sdcaModel = sdcaPipeline.Fit(trainTestSplit.TrainSet);\n",
    "var lgbmModel = lgbmPipeline.Fit(trainTestSplit.TrainSet);\n",
    "\n",
    "// évaluation sur le jeu d'entraînement\n",
    "var sdcaTrainEval = sdcaModel.Transform(trainTestSplit.TrainSet);\n",
    "var sdcaTrainMetric = context.Regression.Evaluate(sdcaTrainEval, \"y\");\n",
    "\n",
    "var lgbmTrainEval = lgbmModel.Transform(trainTestSplit.TrainSet);\n",
    "var lgbmTrainMetric = context.Regression.Evaluate(lgbmTrainEval, \"y\");\n",
    "\n",
    "Console.WriteLine($\"sdca rmse sur trainset: {sdcaTrainMetric.RootMeanSquaredError}, lgbm rmse sur trainset: {lgbmTrainMetric.RootMeanSquaredError}\");\n",
    "\n",
    "// évaluation sur le jeu de test\n",
    "var sdcaTestEval = sdcaModel.Transform(trainTestSplit.TestSet);\n",
    "var sdcaTestMetric = context.Regression.Evaluate(sdcaTestEval, \"y\");\n",
    "\n",
    "var lgbmTestEval = lgbmModel.Transform(trainTestSplit.TestSet);\n",
    "var lgbmTestMetric = context.Regression.Evaluate(lgbmTestEval, \"y\");\n",
    "Console.WriteLine($\"sdca rmse sur testset: {sdcaTestMetric.RootMeanSquaredError}, lgbm rmse sur testset: {lgbmTestMetric.RootMeanSquaredError}\");\n"
   ]
  },
  {
   "cell_type": "markdown",
   "metadata": {},
   "source": [
    "## Exemple 2 : Régression non linéaire sur LightGbm\n",
    "Cet exemple montre l'importance de l'optimisation des hyper-paramètres. Tout d'abord, nous créons un jeu de données non linéaire et deux pipelines. Un pipeline a `LightGbm` avec `numberOfLeaves` défini à `10`, l'autre est défini à `1000`. Les deux pipelines sont entraînés avec le même jeu de données d'entraînement et leurs performances sont évaluées sur le même jeu de test.\n",
    "\n",
    "## Créer un jeu de données non linéaire\n",
    "Le code ci-dessous crée un jeu de données non linéaire avec un résidu aléatoire. Le jeu de données est chargé dans un ensemble d'entraînement et un ensemble de test.\n"
   ]
  },
  {
   "cell_type": "code",
   "execution_count": null,
   "metadata": {
    "dotnet_interactive": {
     "language": "csharp"
    },
    "polyglot_notebook": {
     "kernelName": "csharp"
    }
   },
   "outputs": [],
   "source": [
    "var rand = new Random(0);\n",
    "var context = new MLContext(seed: 1);\n",
    "var x = Enumerable.Range(-10000, 10000).Select(_x => _x * 0.1f).ToArray();\n",
    "var y = x.Select(_x => 100 * _x * _x + (rand.NextSingle() - 0.5f) * 10).ToArray();\n",
    "var df = new DataFrame();\n",
    "df[\"X\"] = DataFrameColumn.Create(\"X\", x);\n",
    "df[\"y\"] = DataFrameColumn.Create(\"y\", y);\n",
    "var trainTestSplit = context.Data.TrainTestSplit(df);\n",
    "df.Head(10);\n",
    "\n",
    "var smallLgbmPipeline = context.Transforms.Concatenate(\"Features\", \"X\")\n",
    "                            .Append(context.Regression.Trainers.LightGbm(\"y\", numberOfLeaves: 10));\n",
    "\n",
    "var largeLgbmPipeline = context.Transforms.Concatenate(\"Features\", \"X\")\n",
    "                            .Append(context.Regression.Trainers.LightGbm(\"y\", numberOfLeaves: 1000));\n",
    "\n",
    "var smallLgbmModel = smallLgbmPipeline.Fit(trainTestSplit.TrainSet);\n",
    "var largeLgbmModel = largeLgbmPipeline.Fit(trainTestSplit.TrainSet);\n",
    "\n",
    "// évaluation sur le jeu de test\n",
    "var smallTestEval = smallLgbmModel.Transform(trainTestSplit.TrainSet);\n",
    "var smallLgbmMetric = context.Regression.Evaluate(smallTestEval, \"y\");\n",
    "\n",
    "var largeLgbmEval = largeLgbmModel.Transform(trainTestSplit.TrainSet);\n",
    "var largeLgbmMetric = context.Regression.Evaluate(largeLgbmEval, \"y\");\n",
    "\n",
    "Console.WriteLine($\"small lgbm rmse sur testset: {smallLgbmMetric.RootMeanSquaredError}, large lgbm rmse sur testset: {largeLgbmMetric.RootMeanSquaredError}\");\n"
   ]
  },
  {
   "cell_type": "markdown",
   "metadata": {},
   "source": [
    "## Utiliser AutoML pour simplifier la sélection des entraîneurs et l'optimisation des hyper-paramètres\n",
    "La sélection des entraîneurs et l'optimisation des hyper-paramètres est un processus important avec beaucoup d'essais et d'erreurs. Ce processus peut être automatisé et simplifié en utilisant les capacités intégrées de `AutoMLExperiment`. `AutoMLExperiment` applique les dernières recherches de Microsoft Research pour effectuer une optimisation des hyper-paramètres rapide, précise et complète avec un budget de temps limité.\n",
    "\n",
    "Le code ci-dessous montre comment utiliser `AutoMLExperiment` pour trouver le meilleur entraîneur ainsi que ses meilleurs hyper-paramètres sur le jeu de données non linéaire utilisé dans l'Exemple 2. Tout d'abord, un `SweepableEstimatorPipeline` est créé via `context.Auto().Regression(\"y\")`, qui renvoie les régressions les plus populaires avec leur espace de recherche par défaut dans ML.Net. Ensuite, un `AutoMLExperiment` est créé. Il utilise `RootMeanSquaredError` comme métrique d'optimisation et la validation train-test pour évaluer le score des essais, et utilise `NotebookMonitor` pour présenter le processus d'entraînement. Une fois l'entraînement terminé, il renvoie le meilleur essai comme résultat.\n"
   ]
  },
  {
   "cell_type": "code",
   "execution_count": null,
   "metadata": {
    "dotnet_interactive": {
     "language": "csharp"
    },
    "polyglot_notebook": {
     "kernelName": "csharp"
    }
   },
   "outputs": [],
   "source": [
    "using Microsoft.Data.Analysis;\n",
    "using System;\n",
    "using System.Linq;\n",
    "using Microsoft.ML;\n",
    "using Microsoft.ML.AutoML;\n",
    "using Microsoft.ML.Data;\n",
    "using Plotly.NET;\n",
    "using Plotly.NET.CSharp;\n",
    "\n",
    "// Définir le contexte ML\n",
    "var context = new MLContext(seed: 1);\n",
    "\n",
    "// Générer les données\n",
    "var x = Enumerable.Range(-10000, 10000).Select(_x => _x * 0.1f).ToArray();\n",
    "var y = x.Select(_x => 100 * _x * _x + (new Random(0).NextDouble() - 0.5) * 10).ToArray();\n",
    "\n",
    "// Convertir 'y' en Single (float)\n",
    "var y_single = y.Select(_y => (float)_y).ToArray();\n",
    "\n",
    "// Créer un DataFrame\n",
    "var df = new DataFrame();\n",
    "df[\"X\"] = DataFrameColumn.Create(\"X\", x);\n",
    "df[\"Label\"] = DataFrameColumn.Create(\"Label\", y_single); // Renommer en 'Label'\n",
    "\n",
    "// Diviser le DataFrame en ensembles d'entraînement et de test\n",
    "var trainTestSplit = context.Data.TrainTestSplit(df);\n",
    "\n",
    "// Définir le pipeline de régression\n",
    "var pipeline = context.Transforms.Concatenate(\"Features\", \"X\")\n",
    "    .Append(context.Auto().Regression(\"Label\"));\n",
    "\n",
    "// Configurer le moniteur de Notebook\n",
    "var monitor = new NotebookMonitor(pipeline);\n",
    "var experiment = context.Auto().CreateExperiment();\n",
    "experiment.SetPipeline(pipeline)\n",
    "        .SetRegressionMetric(RegressionMetric.RootMeanSquaredError)\n",
    "        .SetTrainingTimeInSeconds(30)\n",
    "        .SetDataset(trainTestSplit.TrainSet, trainTestSplit.TestSet)\n",
    "        .SetMonitor(monitor);\n",
    "\n",
    "// Configurer le visualiseur\n",
    "monitor.SetUpdate(monitor.Display());\n",
    "\n",
    "// Exécuter l'expérience\n",
    "var res = await experiment.RunAsync();\n",
    "\n",
    "// Obtenir le modèle\n",
    "var model = res.Model;\n",
    "var eval = model.Transform(trainTestSplit.TestSet);\n",
    "var metric = context.Regression.Evaluate(eval, \"Label\");\n",
    "\n",
    "// Afficher le résultat\n",
    "metric.RootMeanSquaredError\n"
   ]
  },
  {
   "cell_type": "markdown",
   "metadata": {},
   "source": [
    "# Continuez à apprendre\n",
    "\n",
    "> [⏩ Module suivant - Évaluation du modèle](./04-Model%20Evaluation.ipynb)  \n",
    "> [⏪ Module précédent - Préparation des données et ingénierie des fonctionnalités](./02-Data%20Preparation%20and%20Feature%20Engineering.ipynb)\n"
   ]
  }
 ],
 "metadata": {
  "kernelspec": {
   "display_name": ".NET (C#)",
   "language": "C#",
   "name": ".net-csharp"
  },
  "polyglot_notebook": {
   "kernelInfo": {
    "defaultKernelName": "csharp",
    "items": [
     {
      "aliases": [],
      "languageName": "csharp",
      "name": "csharp"
     }
    ]
   }
  }
 },
 "nbformat": 4,
 "nbformat_minor": 2
}
