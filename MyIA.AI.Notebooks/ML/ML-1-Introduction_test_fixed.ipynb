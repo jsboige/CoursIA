{
 "cells": [
  {
   "cell_type": "markdown",
   "id": "b80ce97a",
   "metadata": {
    "tags": [
     "papermill-error-cell-tag"
    ]
   },
   "source": [
    "<span style=\"color:red; font-family:Helvetica Neue, Helvetica, Arial, sans-serif; font-size:2em;\">An Exception was encountered at '<a href=\"#papermill-error-cell\">In [1]</a>'.</span>"
   ]
  },
  {
   "cell_type": "markdown",
   "id": "c497e6f0",
   "metadata": {
    "papermill": {
     "duration": 0.005914,
     "end_time": "2025-09-14T01:16:55.658862",
     "exception": false,
     "start_time": "2025-09-14T01:16:55.652948",
     "status": "completed"
    },
    "tags": []
   },
   "source": [
    "# Introduction au Machine Learning avec ML.NET\n",
    "\n",
    "## Qu'est-ce que le Machine Learning ?\n",
    "\n",
    "Le Machine Learning (ML) est une méthode de création de modèles prédictifs en utilisant des algorithmes pour apprendre à partir de données. Contrairement à la programmation traditionnelle, où les développeurs définissent les étapes de l'algorithme, le ML permet à la machine d'apprendre ces étapes à partir des données.\n"
   ]
  },
  {
   "cell_type": "markdown",
   "id": "96a03d46",
   "metadata": {
    "papermill": {
     "duration": 0.003746,
     "end_time": "2025-09-14T01:16:55.666385",
     "exception": false,
     "start_time": "2025-09-14T01:16:55.662639",
     "status": "completed"
    },
    "tags": []
   },
   "source": [
    "## Quelles sont les étapes à suivre ?\n",
    "\n",
    "1. **Source et Préparation des Données d'Entraînement**  \n",
    "   Pour entraîner le modèle, nous avons besoin de données étiquetées. Les données étiquetées signifient simplement un ensemble de données qui contient la colonne à prédire déjà présente afin que l'algorithme d'entraînement puisse apprendre à prédire les valeurs.\n",
    "\n",
    "2. **Choisir l'Algorithme d'Entraînement et Entraîner**  \n",
    "    >**Spoiler Alert**  \n",
    "    >Dans la plupart de nos exemples, nous utiliserons AutoML pour simplifier ce processus. AutoML essaie stratégiquement divers algorithmes et paramètres pour une tâche donnée afin de trouver celui qui fonctionne le mieux pour vos données !  \n",
    "    >  \n",
    "    >Vous pouvez penser à cela comme une boucle qui essaie toutes les options. Notre AutoML est un peu plus intelligent que cela ... mais c'est essentiellement ce qu'il fait !  \n",
    "    >\n",
    "    > Pour l'exemple ci-dessous, nous entraînerons un algorithme spécifique - pour que vous puissiez voir comment cela fonctionne !  \n",
    "    1. Choisir une Tâche - [Tâches ML.NET](https://docs.microsoft.com/dotnet/machine-learning/resources/tasks)\n",
    "    2. Choisir un Algorithme - [Algorithmes ML.NET](https://docs.microsoft.com/dotnet/machine-learning/how-to-choose-an-ml-net-algorithm)\n",
    "    3. Définir les Paramètres de l'Algorithme [Glossaire - Hyperparamètres](https://docs.microsoft.com/dotnet/machine-learning/resources/glossary#hyperparameter)\n",
    "    4. Entraîner - C'est ici que les données sont réellement alimentées dans l'algorithme pour entraîner le modèle. Cela peut prendre du temps en fonction de la quantité de données, de l'algorithme et des paramètres de cet algorithme.\n",
    "\n",
    "3. **Évaluer**  \n",
    "   Une fois que vous avez entraîné un modèle - comment savez-vous qu'il fonctionne ? Il existe de nombreuses techniques pour évaluer les performances de vos modèles. Si vous souhaitez approfondir - consultez [Les Métriques d'Évaluation](https://docs.microsoft.com/dotnet/machine-learning/resources/metrics). Sinon, nous donnerons des exemples tout au long de ces tutoriels.\n",
    "\n",
    "4. **Déployer**  \n",
    "   Après avoir entraîné un modèle ... c'est juste du code .NET ! Déployez-le comme vous le feriez pour toute autre application.\n",
    "\n",
    "## Comment commencer ?\n",
    "\n",
    "Ci-dessous, nous avons une introduction rapide à ML.NET - \"Hello ML.NET World!\" et les trois prochains notebooks de la série plongent en profondeur dans la [Préparation des Données et l'Ingénierie des Caractéristiques](https://ntbk.io/ml-02-data), [L'Entraînement et AutoML](https://ntbk.io/ml-03-training), et [L'Évaluation des Modèles](https://ntbk.io/ml-04-evaluation).\n",
    "\n",
    "# Hello ML.NET World!\n",
    "\n",
    "Le code dans l'extrait suivant démontre l'application ML.NET la plus simple. Cet exemple construit un modèle de régression linéaire pour prédire les prix des maisons en utilisant les données de taille et de prix des maisons. \n",
    "\n",
    "Première étape, référencer le package [Microsoft.ML](https://www.nuget.org/packages/Microsoft.ML/)."
   ]
  },
  {
   "cell_type": "markdown",
   "id": "242a4ed4",
   "metadata": {
    "tags": [
     "papermill-error-cell-tag"
    ]
   },
   "source": [
    "<span id=\"papermill-error-cell\" style=\"color:red; font-family:Helvetica Neue, Helvetica, Arial, sans-serif; font-size:2em;\">Execution using papermill encountered an exception here and stopped:</span>"
   ]
  },
  {
   "cell_type": "code",
   "execution_count": 1,
   "id": "b6bb0964",
   "metadata": {
    "dotnet_interactive": {
     "language": "csharp"
    },
    "execution": {
     "iopub.execute_input": "2025-09-14T01:16:55.684725Z",
     "iopub.status.busy": "2025-09-14T01:16:55.678899Z",
     "iopub.status.idle": "2025-09-14T01:16:57.183924Z",
     "shell.execute_reply": "2025-09-14T01:16:57.177444Z"
    },
    "papermill": {
     "duration": 1.511632,
     "end_time": "2025-09-14T01:16:57.183924",
     "exception": true,
     "start_time": "2025-09-14T01:16:55.672292",
     "status": "failed"
    },
    "polyglot_notebook": {
     "kernelName": "csharp"
    },
    "tags": []
   },
   "outputs": [
    {
     "data": {
      "text/html": [
       "\r\n",
       "<div>\r\n",
       "    <div id='dotnet-interactive-this-cell-$CACHE_BUSTER$' style='display: none'>\r\n",
       "        The below script needs to be able to find the current output cell; this is an easy method to get it.\r\n",
       "    </div>\r\n",
       "    <script type='text/javascript'>\r\n",
       "async function probeAddresses(probingAddresses) {\r\n",
       "    function timeout(ms, promise) {\r\n",
       "        return new Promise(function (resolve, reject) {\r\n",
       "            setTimeout(function () {\r\n",
       "                reject(new Error('timeout'))\r\n",
       "            }, ms)\r\n",
       "            promise.then(resolve, reject)\r\n",
       "        })\r\n",
       "    }\r\n",
       "\r\n",
       "    if (Array.isArray(probingAddresses)) {\r\n",
       "        for (let i = 0; i < probingAddresses.length; i++) {\r\n",
       "\r\n",
       "            let rootUrl = probingAddresses[i];\r\n",
       "\r\n",
       "            if (!rootUrl.endsWith('/')) {\r\n",
       "                rootUrl = `${rootUrl}/`;\r\n",
       "            }\r\n",
       "\r\n",
       "            try {\r\n",
       "                let response = await timeout(1000, fetch(`${rootUrl}discovery`, {\r\n",
       "                    method: 'POST',\r\n",
       "                    cache: 'no-cache',\r\n",
       "                    mode: 'cors',\r\n",
       "                    timeout: 1000,\r\n",
       "                    headers: {\r\n",
       "                        'Content-Type': 'text/plain'\r\n",
       "                    },\r\n",
       "                    body: probingAddresses[i]\r\n",
       "                }));\r\n",
       "\r\n",
       "                if (response.status == 200) {\r\n",
       "                    return rootUrl;\r\n",
       "                }\r\n",
       "            }\r\n",
       "            catch (e) { }\r\n",
       "        }\r\n",
       "    }\r\n",
       "}\r\n",
       "\r\n",
       "function loadDotnetInteractiveApi() {\r\n",
       "    probeAddresses([\"http://2a01:cb09:d064:4c9d:c10a:52d9:1934:9df5:2048/\",\"http://2a01:cb09:d064:4c9d:5160:de55:afb4:b7c8:2048/\",\"http://fe80::a193:c145:4ac6:ff63%2:2048/\",\"http://10.61.44.85:2048/\",\"http://::1:2048/\",\"http://127.0.0.1:2048/\",\"http://fe80::5b:57b4:454a:da24%35:2048/\",\"http://172.28.128.1:2048/\",\"http://fe80::320f:5fba:3716:8de3%52:2048/\",\"http://172.28.160.1:2048/\"])\r\n",
       "        .then((root) => {\r\n",
       "        // use probing to find host url and api resources\r\n",
       "        // load interactive helpers and language services\r\n",
       "        let dotnetInteractiveRequire = require.config({\r\n",
       "        context: '25580.Microsoft.DotNet.Interactive.Http.HttpPort',\r\n",
       "                paths:\r\n",
       "            {\r\n",
       "                'dotnet-interactive': `${root}resources`\r\n",
       "                }\r\n",
       "        }) || require;\r\n",
       "\r\n",
       "            window.dotnetInteractiveRequire = dotnetInteractiveRequire;\r\n",
       "\r\n",
       "            window.configureRequireFromExtension = function(extensionName, extensionCacheBuster) {\r\n",
       "                let paths = {};\r\n",
       "                paths[extensionName] = `${root}extensions/${extensionName}/resources/`;\r\n",
       "                \r\n",
       "                let internalRequire = require.config({\r\n",
       "                    context: extensionCacheBuster,\r\n",
       "                    paths: paths,\r\n",
       "                    urlArgs: `cacheBuster=${extensionCacheBuster}`\r\n",
       "                    }) || require;\r\n",
       "\r\n",
       "                return internalRequire\r\n",
       "            };\r\n",
       "        \r\n",
       "            dotnetInteractiveRequire([\r\n",
       "                    'dotnet-interactive/dotnet-interactive'\r\n",
       "                ],\r\n",
       "                function (dotnet) {\r\n",
       "                    dotnet.init(window);\r\n",
       "                },\r\n",
       "                function (error) {\r\n",
       "                    console.log(error);\r\n",
       "                }\r\n",
       "            );\r\n",
       "        })\r\n",
       "        .catch(error => {console.log(error);});\r\n",
       "    }\r\n",
       "\r\n",
       "// ensure `require` is available globally\r\n",
       "if ((typeof(require) !==  typeof(Function)) || (typeof(require.config) !== typeof(Function))) {\r\n",
       "    let require_script = document.createElement('script');\r\n",
       "    require_script.setAttribute('src', 'https://cdnjs.cloudflare.com/ajax/libs/require.js/2.3.6/require.min.js');\r\n",
       "    require_script.setAttribute('type', 'text/javascript');\r\n",
       "    \r\n",
       "    \r\n",
       "    require_script.onload = function() {\r\n",
       "        loadDotnetInteractiveApi();\r\n",
       "    };\r\n",
       "\r\n",
       "    document.getElementsByTagName('head')[0].appendChild(require_script);\r\n",
       "}\r\n",
       "else {\r\n",
       "    loadDotnetInteractiveApi();\r\n",
       "}\r\n",
       "\r\n",
       "    </script>\r\n",
       "</div>"
      ]
     },
     "metadata": {},
     "output_type": "display_data"
    },
    {
     "data": {
      "text/html": [
       "<div><div></div><div></div><div></div></div>"
      ]
     },
     "metadata": {},
     "output_type": "display_data"
    },
    {
     "ename": "Error",
     "evalue": "C:\\Program Files\\dotnet\\sdk\\9.0.305\\NuGet.targets(789,5): error : Value cannot be null. (Parameter 'path1') [C:\\Users\\jsboi\\.packagemanagement\\nuget\\Projects\\25580--8d446e6d-221e-4f79-807d-16a40533a496\\Project.fsproj]",
     "output_type": "error",
     "traceback": [
      "C:\\Program Files\\dotnet\\sdk\\9.0.305\\NuGet.targets(789,5): error : Value cannot be null. (Parameter 'path1') [C:\\Users\\jsboi\\.packagemanagement\\nuget\\Projects\\25580--8d446e6d-221e-4f79-807d-16a40533a496\\Project.fsproj]"
     ]
    }
   ],
   "source": [
    "#r \"nuget: Microsoft.ML\""
   ]
  },
  {
   "cell_type": "markdown",
   "id": "4ecf90f2",
   "metadata": {
    "papermill": {
     "duration": null,
     "end_time": null,
     "exception": null,
     "start_time": null,
     "status": "pending"
    },
    "tags": []
   },
   "source": [
    "La deuxième étape est de référencer les espaces de noms ML.NET."
   ]
  },
  {
   "cell_type": "code",
   "execution_count": null,
   "id": "ac1a40a7",
   "metadata": {
    "dotnet_interactive": {
     "language": "csharp"
    },
    "papermill": {
     "duration": null,
     "end_time": null,
     "exception": null,
     "start_time": null,
     "status": "pending"
    },
    "polyglot_notebook": {
     "kernelName": "csharp"
    },
    "tags": []
   },
   "outputs": [],
   "source": [
    "using Microsoft.ML;\n",
    "using Microsoft.ML.Data;"
   ]
  },
  {
   "cell_type": "markdown",
   "id": "750f2c71",
   "metadata": {
    "papermill": {
     "duration": null,
     "end_time": null,
     "exception": null,
     "start_time": null,
     "status": "pending"
    },
    "tags": []
   },
   "source": [
    "Maintenant, nous sommes prêts à écrire le code pour accomplir la tâche de machine learning dont nous avons besoin. Toujours commencer par créer le [MLContext](https://docs.microsoft.com/dotnet/api/microsoft.ml.mlcontext?view=ml-dotnet) qui est le contexte commun pour toutes les opérations ML.NET."
   ]
  },
  {
   "cell_type": "code",
   "execution_count": null,
   "id": "12a7dddb",
   "metadata": {
    "dotnet_interactive": {
     "language": "csharp"
    },
    "papermill": {
     "duration": null,
     "end_time": null,
     "exception": null,
     "start_time": null,
     "status": "pending"
    },
    "polyglot_notebook": {
     "kernelName": "csharp"
    },
    "tags": []
   },
   "outputs": [],
   "source": [
    "MLContext mlContext = new MLContext();"
   ]
  },
  {
   "cell_type": "markdown",
   "id": "1db13672",
   "metadata": {
    "papermill": {
     "duration": null,
     "end_time": null,
     "exception": null,
     "start_time": null,
     "status": "pending"
    },
    "tags": []
   },
   "source": [
    "Ensuite, définissez les structures de données pour les données que nous allons utiliser. Cet exemple concerne la prédiction des prix des maisons. Commencez par définir la structure de données suivante qui contient la taille et le prix des maisons :"
   ]
  },
  {
   "cell_type": "code",
   "execution_count": null,
   "id": "9fa240fa",
   "metadata": {
    "dotnet_interactive": {
     "language": "csharp"
    },
    "papermill": {
     "duration": null,
     "end_time": null,
     "exception": null,
     "start_time": null,
     "status": "pending"
    },
    "polyglot_notebook": {
     "kernelName": "csharp"
    },
    "tags": []
   },
   "outputs": [],
   "source": [
    "public class HouseData\n",
    "{\n",
    "    public float Size { get; set; }\n",
    "    public float Price { get; set; }\n",
    "}"
   ]
  },
  {
   "cell_type": "markdown",
   "id": "b16ea692",
   "metadata": {
    "papermill": {
     "duration": null,
     "end_time": null,
     "exception": null,
     "start_time": null,
     "status": "pending"
    },
    "tags": []
   },
   "source": [
    "Définissez ensuite la structure de données pour les prédictions de prix des maisons :"
   ]
  },
  {
   "cell_type": "code",
   "execution_count": null,
   "id": "c8dc66c6",
   "metadata": {
    "dotnet_interactive": {
     "language": "csharp"
    },
    "papermill": {
     "duration": null,
     "end_time": null,
     "exception": null,
     "start_time": null,
     "status": "pending"
    },
    "polyglot_notebook": {
     "kernelName": "csharp"
    },
    "tags": []
   },
   "outputs": [],
   "source": [
    "public class Prediction\n",
    "{\n",
    "    [ColumnName(\"Score\")]\n",
    "    public float Price { get; set; }\n",
    "}"
   ]
  },
  {
   "cell_type": "markdown",
   "id": "5fb4fc3d",
   "metadata": {
    "papermill": {
     "duration": null,
     "end_time": null,
     "exception": null,
     "start_time": null,
     "status": "pending"
    },
    "tags": []
   },
   "source": [
    "Maintenant, nous sommes prêts à entraîner les données pré-collectées que nous utiliserons pour le scénario de prédiction des prix des maisons :"
   ]
  },
  {
   "cell_type": "code",
   "execution_count": null,
   "id": "ba1892d1",
   "metadata": {
    "dotnet_interactive": {
     "language": "csharp"
    },
    "papermill": {
     "duration": null,
     "end_time": null,
     "exception": null,
     "start_time": null,
     "status": "pending"
    },
    "polyglot_notebook": {
     "kernelName": "csharp"
    },
    "tags": []
   },
   "outputs": [],
   "source": [
    "HouseData[] houseData = {\n",
    "    new HouseData() { Size = 1.1F, Price = 1.2F },\n",
    "    new HouseData() { Size = 1.9F, Price = 2.3F },\n",
    "    new HouseData() { Size = 2.8F, Price = 3.0F },\n",
    "    new HouseData() { Size = 3.4F, Price = 3.7F }\n",
    "};\n",
    "\n",
    "IDataView trainingData = mlContext.Data.LoadFromEnumerable(houseData);"
   ]
  },
  {
   "cell_type": "markdown",
   "id": "7bdc4108",
   "metadata": {
    "papermill": {
     "duration": null,
     "end_time": null,
     "exception": null,
     "start_time": null,
     "status": "pending"
    },
    "tags": []
   },
   "source": [
    "En utilisant le `MLContext` que nous avons précédemment créé, chargez les données d'entraînement dans le [IDataView](https://docs.microsoft.com/dotnet/api/microsoft.ml.idataview?view=ml-dotnet) ML.NET, qui est le type de données fondamental de ML.NET."
   ]
  },
  {
   "cell_type": "code",
   "execution_count": null,
   "id": "081f1951",
   "metadata": {
    "dotnet_interactive": {
     "language": "csharp"
    },
    "papermill": {
     "duration": null,
     "end_time": null,
     "exception": null,
     "start_time": null,
     "status": "pending"
    },
    "polyglot_notebook": {
     "kernelName": "csharp"
    },
    "tags": []
   },
   "outputs": [],
   "source": [
    "IDataView trainingData = mlContext.Data.LoadFromEnumerable(houseData);"
   ]
  },
  {
   "cell_type": "markdown",
   "id": "cb31586a",
   "metadata": {
    "papermill": {
     "duration": null,
     "end_time": null,
     "exception": null,
     "start_time": null,
     "status": "pending"
    },
    "tags": []
   },
   "source": [
    "Maintenant que nous avons les données prêtes, nous allons créer le pipeline ML.NET en spécifiant le formateur que nous allons utiliser pour construire notre modèle de machine learning. Pour la prédiction des prix des maisons, nous allons utiliser le formateur de régression. ML.NET prend en charge d'autres formateurs de machine learning qui peuvent être utilisés pour d'autres scénarios selon les besoins. Le pipeline créera ce que l'on appelle un [Estimator](https://docs.microsoft.com/dotnet/api/microsoft.ml.iestimator-1?view=ml-dotnet), utilisé pour définir les opérations appliquées aux données."
   ]
  },
  {
   "cell_type": "code",
   "execution_count": null,
   "id": "ce3f317d",
   "metadata": {
    "dotnet_interactive": {
     "language": "csharp"
    },
    "papermill": {
     "duration": null,
     "end_time": null,
     "exception": null,
     "start_time": null,
     "status": "pending"
    },
    "polyglot_notebook": {
     "kernelName": "csharp"
    },
    "tags": []
   },
   "outputs": [],
   "source": [
    "var pipeline = mlContext.Transforms.Concatenate(\"Features\", new[] { \"Size\" })\n",
    "               .Append(mlContext.Regression.Trainers.Sdca(labelColumnName: \"Price\", maximumNumberOfIterations: 100));"
   ]
  },
  {
   "cell_type": "markdown",
   "id": "6006e2c2",
   "metadata": {
    "papermill": {
     "duration": null,
     "end_time": null,
     "exception": null,
     "start_time": null,
     "status": "pending"
    },
    "tags": []
   },
   "source": [
    "Après avoir créé l'estimateur, nous sommes prêts à appliquer les transformations et le formateur définis dans le pipeline aux données. Pour ce faire, appelez la méthode [Fit](https://docs.microsoft.com/dotnet/api/microsoft.ml.iestimator-1.fit?view=ml-dotnet).\n"
   ]
  },
  {
   "cell_type": "code",
   "execution_count": null,
   "id": "e361c672",
   "metadata": {
    "dotnet_interactive": {
     "language": "csharp"
    },
    "papermill": {
     "duration": null,
     "end_time": null,
     "exception": null,
     "start_time": null,
     "status": "pending"
    },
    "polyglot_notebook": {
     "kernelName": "csharp"
    },
    "tags": []
   },
   "outputs": [],
   "source": [
    "var model = pipeline.Fit(trainingData);"
   ]
  },
  {
   "cell_type": "markdown",
   "id": "458d9861",
   "metadata": {
    "papermill": {
     "duration": null,
     "end_time": null,
     "exception": null,
     "start_time": null,
     "status": "pending"
    },
    "tags": []
   },
   "source": [
    "Maintenant, nous pouvons évaluer le modèle entraîné. Pour ce faire, nous chargerons des données de test préparées et ensuite nous appellerons la méthode [Evaluate](https://docs.microsoft.com/dotnet/api/microsoft.ml.regression\n",
    "\n",
    "catalog.evaluate?view=ml-dotnet), puis nous afficherons le [Coefficient de Détermination](https://en.wikipedia.org/wiki/Coefficient_of_determination) pour savoir comment le modèle s'ajuste aux données de test. Plus le coefficient de détermination est proche de 1, mieux le modèle est ajusté. Répétez les étapes d'entraînement et d'évaluation jusqu'à obtenir un résultat satisfaisant du modèle entraîné."
   ]
  },
  {
   "cell_type": "code",
   "execution_count": null,
   "id": "b01ce1c9",
   "metadata": {
    "dotnet_interactive": {
     "language": "csharp"
    },
    "papermill": {
     "duration": null,
     "end_time": null,
     "exception": null,
     "start_time": null,
     "status": "pending"
    },
    "polyglot_notebook": {
     "kernelName": "csharp"
    },
    "tags": []
   },
   "outputs": [],
   "source": [
    "HouseData[] testData = {\n",
    "    new HouseData() { Size = 1.1F, Price = 1.2F },\n",
    "    new HouseData() { Size = 1.2F, Price = 1.5F },\n",
    "    new HouseData() { Size = 1.4F, Price = 1.7F },\n",
    "    new HouseData() { Size = 1.6F, Price = 1.9F },\n",
    "    new HouseData() { Size = 1.9F, Price = 2.3F },\n",
    "    new HouseData() { Size = 2.8F, Price = 3.0F },\n",
    "    new HouseData() { Size = 3.2F, Price = 3.5F },\n",
    "    new HouseData() { Size = 3.3F, Price = 3.6F },\n",
    "    new HouseData() { Size = 3.5F, Price = 3.9F },\n",
    "    new HouseData() { Size = 3.7F, Price = 4.3F },\n",
    "    new HouseData() { Size = 4.0F, Price = 6.1F },\n",
    "    new HouseData() { Size = 5.0F, Price = 7.2F },\n",
    "    new HouseData() { Size = 6.0F, Price = 8.5F },\n",
    "    new HouseData() { Size = 7.0F, Price = 9.8F },\n",
    "    new HouseData() { Size = 8.0F, Price = 10.3F }\n",
    "    };\n",
    "\n",
    "IDataView trainingTestData = mlContext.Data.LoadFromEnumerable(testData);\n",
    "IDataView transformedTestData = model.Transform(trainingTestData);\n",
    "RegressionMetrics trainedModelMetrics = mlContext.Regression.Evaluate(transformedTestData, labelColumnName: \"Size\");\n",
    "Console.WriteLine($\"Coefficient de détermination pour le modèle entraîné : {trainedModelMetrics.RSquared:0.00}\");"
   ]
  },
  {
   "cell_type": "markdown",
   "id": "ff3f3d34",
   "metadata": {
    "papermill": {
     "duration": null,
     "end_time": null,
     "exception": null,
     "start_time": null,
     "status": "pending"
    },
    "tags": []
   },
   "source": [
    "Maintenant, nous avons le modèle entraîné prêt pour la prédiction. Utilisons ce modèle pour prédire le prix d'une maison. Pour ce faire, créez l'objet [PredictionEngine<TSrc,TDst>](https://docs.microsoft.com/dotnet/api/microsoft.ml.predictionengine-2?view=ml-dotnet). Le moteur de prédiction est la classe utilisée pour faire des prédictions uniques sur un modèle précédemment entraîné (et le pipeline de transformation précédent). La création du moteur de prédiction à partir du modèle entraîné peut se faire avec le code suivant :\n"
   ]
  },
  {
   "cell_type": "code",
   "execution_count": null,
   "id": "c76fed1c",
   "metadata": {
    "dotnet_interactive": {
     "language": "csharp"
    },
    "papermill": {
     "duration": null,
     "end_time": null,
     "exception": null,
     "start_time": null,
     "status": "pending"
    },
    "polyglot_notebook": {
     "kernelName": "csharp"
    },
    "tags": []
   },
   "outputs": [],
   "source": [
    "var predictionEngine = mlContext.Model.CreatePredictionEngine<HouseData, Prediction>(model);"
   ]
  },
  {
   "cell_type": "markdown",
   "id": "5c38c2e2",
   "metadata": {
    "papermill": {
     "duration": null,
     "end_time": null,
     "exception": null,
     "start_time": null,
     "status": "pending"
    },
    "tags": []
   },
   "source": [
    "Ensuite, en utilisant le moteur de prédiction créé, nous pouvons prédire le prix de la maison comme suit :"
   ]
  },
  {
   "cell_type": "code",
   "execution_count": null,
   "id": "00d2c1d9",
   "metadata": {
    "dotnet_interactive": {
     "language": "csharp"
    },
    "papermill": {
     "duration": null,
     "end_time": null,
     "exception": null,
     "start_time": null,
     "status": "pending"
    },
    "polyglot_notebook": {
     "kernelName": "csharp"
    },
    "tags": []
   },
   "outputs": [],
   "source": [
    "var size = new HouseData() { Size = 2.5F };\n",
    "var price = predictionEngine.Predict(size);\n",
    "Console.WriteLine($\"Prix prédit pour une taille de {size.Size * 1000} pieds carrés : {price.Price * 100:C}k\");"
   ]
  },
  {
   "cell_type": "markdown",
   "id": "cd9f777d",
   "metadata": {
    "papermill": {
     "duration": null,
     "end_time": null,
     "exception": null,
     "start_time": null,
     "status": "pending"
    },
    "tags": []
   },
   "source": [
    "Félicitations ! Vous avez entraîné avec succès un modèle de régression ML.NET en utilisant vos propres données, puis utilisé ce modèle pour prédire les prix des maisons. Voici un diagramme résumant l'opération de bout en bout de création et d'entraînement d'un modèle ML.NET, puis de l'utiliser pour prédire les prix des maisons.\n",
    "\n",
    "![ML.NET Workflow](https://docs.microsoft.com/dotnet/machine-learning/media/mldotnet-annotated-workflow.png)\n",
    "\n",
    "# Continuez à apprendre\n",
    "\n",
    "> [⏩ Module Suivant - Préparation des Données et Ingénierie des Caractéristiques](./02-Data%20Preparation%20and%20Feature%20Engineering.ipynb)"
   ]
  }
 ],
 "metadata": {
  "kernelspec": {
   "display_name": ".NET (C#)",
   "language": "C#",
   "name": ".net-csharp"
  },
  "language_info": {
   "file_extension": ".cs",
   "mimetype": "text/x-csharp",
   "name": "C#",
   "pygments_lexer": "csharp",
   "version": "13.0"
  },
  "papermill": {
   "default_parameters": {},
   "duration": 3.486428,
   "end_time": "2025-09-14T01:16:57.321555",
   "environment_variables": {},
   "exception": true,
   "input_path": "MyIA.AI.Notebooks/ML/ML-1-Introduction.ipynb",
   "output_path": "MyIA.AI.Notebooks/ML/ML-1-Introduction_test_fixed.ipynb",
   "parameters": {},
   "start_time": "2025-09-14T01:16:53.835127",
   "version": "2.6.0"
  },
  "polyglot_notebook": {
   "kernelInfo": {
    "defaultKernelName": "csharp",
    "items": [
     {
      "aliases": [],
      "languageName": "csharp",
      "name": "csharp"
     }
    ]
   }
  }
 },
 "nbformat": 4,
 "nbformat_minor": 5
}