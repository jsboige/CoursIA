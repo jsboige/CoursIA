{
 "cells": [
  {
   "cell_type": "markdown",
   "metadata": {},
   "source": [
    "# Test: Packages pré-installés dans .NET Interactive"
   ]
  },
  {
   "cell_type": "code",
   "execution_count": null,
   "metadata": {
    "dotnet_interactive": {
     "language": "csharp"
    }
   },
   "outputs": [],
   "source": [
    "// Test si Microsoft.ML est déjà disponible sans #r nuget\n",
    "try {\n",
    "    using Microsoft.ML;\n",
    "    Console.WriteLine(\"Microsoft.ML est déjà disponible sans #r nuget!\");\n",
    "} catch (Exception e) {\n",
    "    Console.WriteLine($\"Microsoft.ML n'est PAS pré-installé: {e.Message}\");\n",
    "}"
   ]
  },
  {
   "cell_type": "code",
   "execution_count": null,
   "metadata": {
    "dotnet_interactive": {
     "language": "csharp"
    }
   },
   "outputs": [],
   "source": [
    "// Test Newtonsoft.Json sans #r nuget\n",
    "try {\n",
    "    using Newtonsoft.Json;\n",
    "    Console.WriteLine(\"Newtonsoft.Json est déjà disponible sans #r nuget!\");\n",
    "} catch (Exception e) {\n",
    "    Console.WriteLine($\"Newtonsoft.Json n'est PAS pré-installé: {e.Message}\");\n",
    "}"
   ]
  }
 ],
 "metadata": {
  "kernelspec": {
   "display_name": ".NET (C#)",
   "language": "C#",
   "name": ".net-csharp"
  },
  "language_info": {
   "file_extension": ".cs",
   "mimetype": "text/x-csharp",
   "name": "C#",
   "pygments_lexer": "csharp",
   "version": "12.0"
  }
 },
 "nbformat": 4,
 "nbformat_minor": 2
}