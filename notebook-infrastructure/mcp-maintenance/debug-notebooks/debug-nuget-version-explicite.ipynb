{
  "cells": [
    {
      "cell_type": "markdown",
      "metadata": {},
      "source": [
        "# Debug NuGet - Version Explicite Simple\n",
        "\n",
        "**Test minimal :** Package NuGet avec version explicite, sans code complexe"
      ]
    },
    {
      "cell_type": "code",
      "execution_count": null,
      "metadata": {
        "dotnet_interactive": {
          "language": "csharp"
        }
      },
      "outputs": [],
      "source": [
        "// Test direct avec version explicite\n",
        "#r \"nuget: System.Text.Json, 9.0.9\""
      ]
    },
    {
      "cell_type": "code",
      "execution_count": null,
      "metadata": {
        "dotnet_interactive": {
          "language": "csharp"
        }
      },
      "outputs": [],
      "source": [
        "// Test utilisation si réussi\n",
        "using System.Text.Json;\n",
        "Console.WriteLine(\"Version explicite - succès!\");"
      ]
    }
  ],
  "metadata": {
    "kernelspec": {
      "display_name": ".NET (C#)",
      "language": "C#",
      "name": ".net-csharp"
    },
    "language_info": {
      "name": "C#"
    }
  },
  "nbformat": 4,
  "nbformat_minor": 2
}