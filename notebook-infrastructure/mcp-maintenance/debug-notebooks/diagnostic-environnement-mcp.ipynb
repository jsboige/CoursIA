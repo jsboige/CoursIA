{
  "cells": [
    {
      "cell_type": "markdown",
      "metadata": {},
      "source": [
        "# Diagnostic Environnement MCP\n",
        "\n",
        "Ce notebook capture l'environnement d'exécution complet tel que vu par le processus MCP."
      ]
    },
    {
      "cell_type": "code",
      "execution_count": null,
      "metadata": {
        "dotnet_interactive": {
          "language": "csharp"
        }
      },
      "outputs": [],
      "source": [
        "using System;\n",
        "using System.Collections;\n",
        "\n",
        "Console.WriteLine(\"=== VARIABLES D'ENVIRONNEMENT CRITIQUES ===\");\n",
        "\n",
        "string[] criticalVars = {\n",
        "    \"DOTNET_ROOT\", \"NUGET_PACKAGES\", \"PACKAGEMANAGEMENT_HOME\",\n",
        "    \"MSBuildExtensionsPath\", \"MSBuildSDKsPath\", \"MSBuildToolsPath\", \n",
        "    \"MSBuildUserExtensionsPath\", \"CONDA_PREFIX\", \"CONDA_DEFAULT_ENV\",\n",
        "    \"PATH\"\n",
        "};\n",
        "\n",
        "foreach (var varName in criticalVars)\n",
        "{\n",
        "    string value = Environment.GetEnvironmentVariable(varName) ?? \"[NOT SET]\";\n",
        "    Console.WriteLine($\"{varName}={value}\");\n",
        "}\n",
        "\n",
        "Console.WriteLine(\"\\n=== TOUTES LES VARIABLES DOTNET/MSBUILD ===\");\n",
        "foreach (DictionaryEntry env in Environment.GetEnvironmentVariables())\n",
        "{\n",
        "    string key = env.Key.ToString();\n",
        "    if (key.Contains(\"DOTNET\", StringComparison.OrdinalIgnoreCase) || \n",
        "        key.Contains(\"MSBUILD\", StringComparison.OrdinalIgnoreCase) ||\n",
        "        key.Contains(\"NUGET\", StringComparison.OrdinalIgnoreCase))\n",
        "    {\n",
        "        Console.WriteLine($\"{key}={env.Value}\");\n",
        "    }\n",
        "}"
      ]
    }
  ],
  "metadata": {
    "kernelspec": {
      "display_name": ".NET (C#)",
      "language": "C#",
      "name": ".net-csharp"
    },
    "language_info": {
      "name": "C#"
    }
  },
  "nbformat": 4,
  "nbformat_minor": 2
}