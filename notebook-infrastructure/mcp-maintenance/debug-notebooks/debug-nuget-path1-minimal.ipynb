{
  "cells": [
    {
      "cell_type": "markdown",
      "metadata": {},
      "source": [
        "# Debug NuGet Path1 Minimal - Investigation Technique\n",
        "\n",
        "**Objectif :** Reproduire contrôlée l'erreur `Value cannot be null. (Parameter 'path1')` ligne 789 de NuGet.targets\n",
        "\n",
        "**Test minimal :** Un seul package NuGet simple"
      ]
    },
    {
      "cell_type": "code",
      "execution_count": null,
      "metadata": {
        "dotnet_interactive": {
          "language": "csharp"
        }
      },
      "outputs": [],
      "source": [
        "// Test 1: Package le plus simple possible\n",
        "#r \"nuget: System.Text.Json\""
      ]
    },
    {
      "cell_type": "code",
      "execution_count": null,
      "metadata": {
        "dotnet_interactive": {
          "language": "csharp"
        }
      },
      "outputs": [],
      "source": [
        "// Test 2: Utilisation du package si Test 1 réussit\n",
        "using System.Text.Json;\n",
        "\n",
        "var data = new { message = \"NuGet fonctionne!\", timestamp = DateTime.Now };\n",
        "var json = JsonSerializer.Serialize(data);\n",
        "Console.WriteLine($\"JSON: {json}\");"
      ]
    },
    {
      "cell_type": "code",
      "execution_count": null,
      "metadata": {
        "dotnet_interactive": {
          "language": "csharp"
        }
      },
      "outputs": [],
      "source": [
        "// Test 3: Diagnostic de l'environnement MSBuild\n",
        "using System.IO;\n",
        "\n",
        "Console.WriteLine($\"MSBuildProjectFullPath: {Environment.GetEnvironmentVariable(\"MSBuildProjectFullPath\")}\");\n",
        "Console.WriteLine($\"MSBuildStartupDirectory: {Environment.GetEnvironmentVariable(\"MSBuildStartupDirectory\")}\");\n",
        "Console.WriteLine($\"DOTNET_ROOT: {Environment.GetEnvironmentVariable(\"DOTNET_ROOT\")}\");\n",
        "Console.WriteLine($\"NUGET_PACKAGES: {Environment.GetEnvironmentVariable(\"NUGET_PACKAGES\")}\");\n",
        "Console.WriteLine($\"Working Directory: {Directory.GetCurrentDirectory()}\");"
      ]
    }
  ],
  "metadata": {
    "kernelspec": {
      "display_name": ".NET (C#)",
      "language": "C#",
      "name": ".net-csharp"
    },
    "language_info": {
      "name": "C#"
    }
  },
  "nbformat": 4,
  "nbformat_minor": 2
}