{
  "cells": [
    {
      "cell_type": "markdown",
      "metadata": {},
      "source": [
        "# Debug NuGet - Test Chemins Absolus\n",
        "\n",
        "**Hypothèse :** Le problème pourrait venir de la résolution des chemins relatifs dans l'environnement MCP\n",
        "\n",
        "**Test :** Forcer des chemins absolus explicites"
      ]
    },
    {
      "cell_type": "code",
      "execution_count": null,
      "metadata": {
        "dotnet_interactive": {
          "language": "csharp"
        }
      },
      "outputs": [],
      "source": [
        "// Test 1: Forcer dotnet restore avec chemin absolu avant NuGet\n",
        "using System.Diagnostics;\n",
        "\n",
        "// Créer un répertoire de test explicite\n",
        "var testDir = @\"D:\\dev\\CoursIA\\temp-nuget-test\";\n",
        "if (!Directory.Exists(testDir))\n",
        "    Directory.CreateDirectory(testDir);\n",
        "\n",
        "Console.WriteLine($\"Test directory: {testDir}\");"
      ]
    },
    {
      "cell_type": "code",
      "execution_count": null,
      "metadata": {
        "dotnet_interactive": {
          "language": "csharp"
        }
      },
      "outputs": [],
      "source": [
        "// Test 2: Package NuGet avec version explicite\n",
        "#r \"nuget: System.Text.Json, 9.0.9\""
      ]
    },
    {
      "cell_type": "code",
      "execution_count": null,
      "metadata": {
        "dotnet_interactive": {
          "language": "csharp"
        }
      },
      "outputs": [],
      "source": [
        "// Test 3: Utiliser le package si succès\n",
        "using System.Text.Json;\n",
        "\n",
        "var data = new { status = \"Succès avec chemins absolus!\", timestamp = DateTime.Now };\n",
        "var json = JsonSerializer.Serialize(data);\n",
        "Console.WriteLine($\"Résultat: {json}\");"
      ]
    }
  ],
  "metadata": {
    "kernelspec": {
      "display_name": ".NET (C#)",
      "language": "C#",
      "name": ".net-csharp"
    },
    "language_info": {
      "name": "C#"
    }
  },
  "nbformat": 4,
  "nbformat_minor": 2
}