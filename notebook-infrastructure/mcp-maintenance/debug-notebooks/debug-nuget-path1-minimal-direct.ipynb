{
 "cells": [
  {
   "cell_type": "markdown",
   "metadata": {},
   "source": [
    "# Debug NuGet Path1 Minimal - Investigation Technique\n",
    "\n",
    "**Objectif :** Reproduire contrôlée l'erreur `Value cannot be null. (Parameter 'path1')` ligne 789 de NuGet.targets\n",
    "\n",
    "**Test minimal :** Un seul package NuGet simple"
   ]
  },
  {
   "cell_type": "code",
   "execution_count": 1,
   "metadata": {
    "dotnet_interactive": {
     "language": "csharp"
    },
    "execution": {
     "iopub.execute_input": "2025-09-17T15:06:33.853687Z",
     "iopub.status.busy": "2025-09-17T15:06:33.842934Z",
     "iopub.status.idle": "2025-09-17T15:06:36.518256Z",
     "shell.execute_reply": "2025-09-17T15:06:36.515548Z"
    }
   },
   "outputs": [
    {
     "data": {
      "text/html": [
       "\r\n",
       "<div>\r\n",
       "    <div id='dotnet-interactive-this-cell-$CACHE_BUSTER$' style='display: none'>\r\n",
       "        The below script needs to be able to find the current output cell; this is an easy method to get it.\r\n",
       "    </div>\r\n",
       "    <script type='text/javascript'>\r\n",
       "async function probeAddresses(probingAddresses) {\r\n",
       "    function timeout(ms, promise) {\r\n",
       "        return new Promise(function (resolve, reject) {\r\n",
       "            setTimeout(function () {\r\n",
       "                reject(new Error('timeout'))\r\n",
       "            }, ms)\r\n",
       "            promise.then(resolve, reject)\r\n",
       "        })\r\n",
       "    }\r\n",
       "\r\n",
       "    if (Array.isArray(probingAddresses)) {\r\n",
       "        for (let i = 0; i < probingAddresses.length; i++) {\r\n",
       "\r\n",
       "            let rootUrl = probingAddresses[i];\r\n",
       "\r\n",
       "            if (!rootUrl.endsWith('/')) {\r\n",
       "                rootUrl = `${rootUrl}/`;\r\n",
       "            }\r\n",
       "\r\n",
       "            try {\r\n",
       "                let response = await timeout(1000, fetch(`${rootUrl}discovery`, {\r\n",
       "                    method: 'POST',\r\n",
       "                    cache: 'no-cache',\r\n",
       "                    mode: 'cors',\r\n",
       "                    timeout: 1000,\r\n",
       "                    headers: {\r\n",
       "                        'Content-Type': 'text/plain'\r\n",
       "                    },\r\n",
       "                    body: probingAddresses[i]\r\n",
       "                }));\r\n",
       "\r\n",
       "                if (response.status == 200) {\r\n",
       "                    return rootUrl;\r\n",
       "                }\r\n",
       "            }\r\n",
       "            catch (e) { }\r\n",
       "        }\r\n",
       "    }\r\n",
       "}\r\n",
       "\r\n",
       "function loadDotnetInteractiveApi() {\r\n",
       "    probeAddresses([\"http://2a01:cb09:d062:5fe:ae61:f1d5:8918:d1be:2048/\",\"http://2a01:cb09:d062:5fe:f4b4:52bf:98ec:981:2048/\",\"http://fe80::a193:c145:4ac6:ff63%2:2048/\",\"http://10.71.207.85:2048/\",\"http://::1:2048/\",\"http://127.0.0.1:2048/\",\"http://fe80::5b:57b4:454a:da24%35:2048/\",\"http://172.28.128.1:2048/\",\"http://fe80::320f:5fba:3716:8de3%52:2048/\",\"http://172.28.160.1:2048/\"])\r\n",
       "        .then((root) => {\r\n",
       "        // use probing to find host url and api resources\r\n",
       "        // load interactive helpers and language services\r\n",
       "        let dotnetInteractiveRequire = require.config({\r\n",
       "        context: '68256.Microsoft.DotNet.Interactive.Http.HttpPort',\r\n",
       "                paths:\r\n",
       "            {\r\n",
       "                'dotnet-interactive': `${root}resources`\r\n",
       "                }\r\n",
       "        }) || require;\r\n",
       "\r\n",
       "            window.dotnetInteractiveRequire = dotnetInteractiveRequire;\r\n",
       "\r\n",
       "            window.configureRequireFromExtension = function(extensionName, extensionCacheBuster) {\r\n",
       "                let paths = {};\r\n",
       "                paths[extensionName] = `${root}extensions/${extensionName}/resources/`;\r\n",
       "                \r\n",
       "                let internalRequire = require.config({\r\n",
       "                    context: extensionCacheBuster,\r\n",
       "                    paths: paths,\r\n",
       "                    urlArgs: `cacheBuster=${extensionCacheBuster}`\r\n",
       "                    }) || require;\r\n",
       "\r\n",
       "                return internalRequire\r\n",
       "            };\r\n",
       "        \r\n",
       "            dotnetInteractiveRequire([\r\n",
       "                    'dotnet-interactive/dotnet-interactive'\r\n",
       "                ],\r\n",
       "                function (dotnet) {\r\n",
       "                    dotnet.init(window);\r\n",
       "                },\r\n",
       "                function (error) {\r\n",
       "                    console.log(error);\r\n",
       "                }\r\n",
       "            );\r\n",
       "        })\r\n",
       "        .catch(error => {console.log(error);});\r\n",
       "    }\r\n",
       "\r\n",
       "// ensure `require` is available globally\r\n",
       "if ((typeof(require) !==  typeof(Function)) || (typeof(require.config) !== typeof(Function))) {\r\n",
       "    let require_script = document.createElement('script');\r\n",
       "    require_script.setAttribute('src', 'https://cdnjs.cloudflare.com/ajax/libs/require.js/2.3.6/require.min.js');\r\n",
       "    require_script.setAttribute('type', 'text/javascript');\r\n",
       "    \r\n",
       "    \r\n",
       "    require_script.onload = function() {\r\n",
       "        loadDotnetInteractiveApi();\r\n",
       "    };\r\n",
       "\r\n",
       "    document.getElementsByTagName('head')[0].appendChild(require_script);\r\n",
       "}\r\n",
       "else {\r\n",
       "    loadDotnetInteractiveApi();\r\n",
       "}\r\n",
       "\r\n",
       "    </script>\r\n",
       "</div>"
      ]
     },
     "metadata": {},
     "output_type": "display_data"
    },
    {
     "data": {
      "text/html": [
       "<div><div></div><div></div><div><strong>Installed Packages</strong><ul><li><span>System.Text.Json, 9.0.9</span></li></ul></div></div>"
      ]
     },
     "metadata": {},
     "output_type": "display_data"
    }
   ],
   "source": [
    "// Test 1: Package le plus simple possible\n",
    "#r \"nuget: System.Text.Json\""
   ]
  },
  {
   "cell_type": "code",
   "execution_count": 2,
   "metadata": {
    "dotnet_interactive": {
     "language": "csharp"
    },
    "execution": {
     "iopub.execute_input": "2025-09-17T15:06:36.520507Z",
     "iopub.status.busy": "2025-09-17T15:06:36.519966Z",
     "iopub.status.idle": "2025-09-17T15:06:37.045200Z",
     "shell.execute_reply": "2025-09-17T15:06:37.044693Z"
    }
   },
   "outputs": [
    {
     "name": "stdout",
     "output_type": "stream",
     "text": [
      "JSON: {\"message\":\"NuGet fonctionne!\",\"timestamp\":\"2025-09-17T17:06:37.0370294+02:00\"}\r\n"
     ]
    }
   ],
   "source": [
    "// Test 2: Utilisation du package si Test 1 réussit\n",
    "using System.Text.Json;\n",
    "\n",
    "var data = new { message = \"NuGet fonctionne!\", timestamp = DateTime.Now };\n",
    "var json = JsonSerializer.Serialize(data);\n",
    "Console.WriteLine($\"JSON: {json}\");"
   ]
  },
  {
   "cell_type": "code",
   "execution_count": 3,
   "metadata": {
    "dotnet_interactive": {
     "language": "csharp"
    },
    "execution": {
     "iopub.execute_input": "2025-09-17T15:06:37.047014Z",
     "iopub.status.busy": "2025-09-17T15:06:37.046342Z",
     "iopub.status.idle": "2025-09-17T15:06:37.106638Z",
     "shell.execute_reply": "2025-09-17T15:06:37.106638Z"
    }
   },
   "outputs": [
    {
     "name": "stdout",
     "output_type": "stream",
     "text": [
      "MSBuildProjectFullPath: \r\n"
     ]
    },
    {
     "name": "stdout",
     "output_type": "stream",
     "text": [
      "MSBuildStartupDirectory: \r\n"
     ]
    },
    {
     "name": "stdout",
     "output_type": "stream",
     "text": [
      "DOTNET_ROOT: C:\\Program Files\\dotnet\r\n"
     ]
    },
    {
     "name": "stdout",
     "output_type": "stream",
     "text": [
      "NUGET_PACKAGES: C:\\Users\\jsboi\\.nuget\\packages\r\n"
     ]
    },
    {
     "name": "stdout",
     "output_type": "stream",
     "text": [
      "Working Directory: D:\\dev\\CoursIA\r\n"
     ]
    }
   ],
   "source": [
    "// Test 3: Diagnostic de l'environnement MSBuild\n",
    "using System.IO;\n",
    "\n",
    "Console.WriteLine($\"MSBuildProjectFullPath: {Environment.GetEnvironmentVariable(\"MSBuildProjectFullPath\")}\");\n",
    "Console.WriteLine($\"MSBuildStartupDirectory: {Environment.GetEnvironmentVariable(\"MSBuildStartupDirectory\")}\");\n",
    "Console.WriteLine($\"DOTNET_ROOT: {Environment.GetEnvironmentVariable(\"DOTNET_ROOT\")}\");\n",
    "Console.WriteLine($\"NUGET_PACKAGES: {Environment.GetEnvironmentVariable(\"NUGET_PACKAGES\")}\");\n",
    "Console.WriteLine($\"Working Directory: {Directory.GetCurrentDirectory()}\");"
   ]
  }
 ],
 "metadata": {
  "kernelspec": {
   "display_name": ".NET (C#)",
   "language": "C#",
   "name": ".net-csharp"
  },
  "language_info": {
   "file_extension": ".cs",
   "mimetype": "text/x-csharp",
   "name": "C#",
   "pygments_lexer": "csharp",
   "version": "13.0"
  }
 },
 "nbformat": 4,
 "nbformat_minor": 2
}
