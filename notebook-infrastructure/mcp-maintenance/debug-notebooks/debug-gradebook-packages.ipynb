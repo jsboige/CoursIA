{
 "cells": [
  {
   "cell_type": "markdown",
   "metadata": {},
   "source": [
    "# Debug: Test packages GradeBook individuellement\n",
    "Identifier quel package cause l'erreur path1 null"
   ]
  },
  {
   "cell_type": "code",
   "execution_count": null,
   "metadata": {
    "dotnet_interactive": {
     "language": "csharp"
    }
   },
   "outputs": [],
   "source": [
    "// Test 1: CsvHelper seul\n",
    "#r \"nuget: CsvHelper, 27.1.1\"\n",
    "Console.WriteLine(\"CsvHelper chargé avec succès!\");"
   ]
  },
  {
   "cell_type": "code",
   "execution_count": null,
   "metadata": {
    "dotnet_interactive": {
     "language": "csharp"
    }
   },
   "outputs": [],
   "source": [
    "// Test 2: ClosedXML seul\n",
    "#r \"nuget: ClosedXML, 0.95.4\"\n",
    "Console.WriteLine(\"ClosedXML chargé avec succès!\");"
   ]
  },
  {
   "cell_type": "code",
   "execution_count": null,
   "metadata": {
    "dotnet_interactive": {
     "language": "csharp"
    }
   },
   "outputs": [],
   "source": [
    "// Test 3: Plotly.NET.Interactive seul\n",
    "#r \"nuget: Plotly.NET.Interactive, 5.0.0\"\n",
    "Console.WriteLine(\"Plotly.NET.Interactive chargé avec succès!\");"
   ]
  },
  {
   "cell_type": "code",
   "execution_count": null,
   "metadata": {
    "dotnet_interactive": {
     "language": "csharp"
    }
   },
   "outputs": [],
   "source": [
    "// Test 4: Lucene.Net.Analysis.Common seul\n",
    "#r \"nuget: Lucene.Net.Analysis.Common, 4.8.0-beta00013\"\n",
    "Console.WriteLine(\"Lucene.Net.Analysis.Common chargé avec succès!\");"
   ]
  }
 ],
 "metadata": {
  "kernelspec": {
   "display_name": ".NET (C#)",
   "language": "C#",
   "name": ".net-csharp"
  },
  "language_info": {
   "file_extension": ".cs",
   "mimetype": "text/x-csharp",
   "name": "C#",
   "pygments_lexer": "csharp",
   "version": "12.0"
  }
 },
 "nbformat": 4,
 "nbformat_minor": 2
}